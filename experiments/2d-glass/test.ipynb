{
 "cells": [
  {
   "cell_type": "code",
   "execution_count": null,
   "metadata": {},
   "outputs": [],
   "source": [
    "import numpy as np\n",
    "\n",
    "import matplotlib.pyplot as plt\n",
    "import glob\n",
    "\n",
    "from numba import njit, vectorize, float32\n",
    "\n",
    "from typing import Callable, Optional\n",
    "\n",
    "import hoomd\n",
    "import hoomd.forward_flux.forward_flux as ffs\n",
    "import gsd.hoomd\n",
    "\n",
    "from matplotlib import cm, colors\n",
    "\n",
    "import sys"
   ]
  },
  {
   "cell_type": "code",
   "execution_count": null,
   "metadata": {},
   "outputs": [],
   "source": [
    "sys.path.insert(0, \"/home/ian/Projects/work/monk/src\")\n",
    "sys.path"
   ]
  },
  {
   "cell_type": "code",
   "execution_count": null,
   "metadata": {},
   "outputs": [],
   "source": [
    "from monk import nb\n",
    "from monk import prep\n",
    "from monk import pair\n",
    "import freud\n",
    "import ex_render"
   ]
  },
  {
   "cell_type": "code",
   "execution_count": null,
   "metadata": {},
   "outputs": [],
   "source": [
    "def render_sim(sim):\n",
    "    return ex_render.render_disk_frame(frame=sim.state.get_snapshot())\n",
    "\n",
    "def render_movie(gsd_file):\n",
    "    ex_render.display_movie(frame_gen=ex_render.render_disk_frame, gsd_file=gsd_file)"
   ]
  },
  {
   "cell_type": "code",
   "execution_count": null,
   "metadata": {},
   "outputs": [],
   "source": [
    "def gen_highT_state():\n",
    "    seed = 1000\n",
    "    cpu = hoomd.device.auto_select()\n",
    "    print(cpu)\n",
    "    sim = hoomd.Simulation(cpu, seed=seed)\n",
    "    N = 64\n",
    "    rng = prep.init_rng(seed + 1)\n",
    "    L = prep.len_from_phi(N, 1.15, dim=2)\n",
    "    snap = prep.approx_euclidean_snapshot(N, L, rng, dim=2, ratios=[60,40], diams=[1.0, 0.88])\n",
    "\n",
    "    sim.create_state_from_snapshot(snap)\n",
    "\n",
    "    integrator = hoomd.md.Integrator(dt=0.0025)\n",
    "    tree = hoomd.md.nlist.Tree(0.3)\n",
    "    lj = pair.KA_LJ(tree)\n",
    "    nvt = hoomd.md.methods.NVT(hoomd.filter.All(), 1.0, 1.0)\n",
    "    integrator.forces = [lj]\n",
    "    integrator.methods = [nvt]\n",
    "\n",
    "    sim.always_compute_pressure = True\n",
    "    thermodynamic_properties = hoomd.md.compute.ThermodynamicQuantities(\n",
    "        filter=hoomd.filter.All())\n",
    "    sim.operations.computes.append(thermodynamic_properties)\n",
    "\n",
    "    sim.operations.integrator = integrator\n",
    "\n",
    "    sim.run(0)\n",
    "\n",
    "    print(thermodynamic_properties.pressure)\n",
    "\n",
    "    for i in range(5):\n",
    "\n",
    "        sim.run(400_001, True)\n",
    "\n",
    "        print(i, thermodynamic_properties.pressure)\n",
    "\n",
    "    hoomd.write.GSD.write(sim.state, \"init-state.gsd\")\n",
    "\n",
    "    return render_sim(sim)\n",
    "    "
   ]
  },
  {
   "cell_type": "code",
   "execution_count": null,
   "metadata": {},
   "outputs": [],
   "source": [
    "def dynamic_gsd(temp, seed):\n",
    "    cpu = hoomd.device.GPU()\n",
    "    print(cpu)\n",
    "    sim = hoomd.Simulation(cpu, seed=seed)\n",
    "\n",
    "    sim.create_state_from_gsd(\"init-state.gsd\")\n",
    "    sim.always_compute_pressure = True\n",
    "    thermodynamic_properties = hoomd.md.compute.ThermodynamicQuantities(\n",
    "        filter=hoomd.filter.All())\n",
    "    sim.operations.computes.append(thermodynamic_properties)\n",
    "    \n",
    "    integrator = hoomd.md.Integrator(dt=0.0025)\n",
    "    tree = hoomd.md.nlist.Tree(0.3)\n",
    "    lj = pair.KA_LJ(tree)\n",
    "    nvt = hoomd.md.methods.NVT(hoomd.filter.All(), temp, 1.0)\n",
    "    integrator.forces = [lj]\n",
    "    integrator.methods = [nvt]\n",
    "\n",
    "    sim.run(400_000)\n",
    "\n",
    "    writer = hoomd.write.GSD(trigger=hoomd.trigger.Periodic(400), filename=\"dynamic-image.gsd\", mode=\"wb\", filter=hoomd.filter.All(), dynamic=[\"property\", \"momentum\"])\n",
    "    writer_std = hoomd.write.GSD(trigger=hoomd.trigger.Periodic(400), filename=\"static-image.gsd\", mode=\"wb\", filter=hoomd.filter.All())\n",
    "    sim.operations.writers.clear()\n",
    "    sim.operations.writers.append(writer)\n",
    "    sim.operations.writers.append(writer_std)\n",
    "\n",
    "    sim.operations.integrator = integrator\n",
    "\n",
    "    sim.run(400_001, True)"
   ]
  },
  {
   "cell_type": "code",
   "execution_count": null,
   "metadata": {},
   "outputs": [],
   "source": [
    "def simulation_run_msd(temps, seed):\n",
    "    cpu = hoomd.device.CPU()\n",
    "    sim = hoomd.Simulation(cpu, seed=seed)\n",
    "\n",
    "    sim.create_state_from_gsd(\"init-state.gsd\")\n",
    "    sim.always_compute_pressure = True\n",
    "    thermodynamic_properties = hoomd.md.compute.ThermodynamicQuantities(\n",
    "        filter=hoomd.filter.All())\n",
    "    sim.operations.computes.append(thermodynamic_properties)\n",
    "    \n",
    "    integrator = hoomd.md.Integrator(dt=0.0025)\n",
    "    tree = hoomd.md.nlist.Tree(0.3)\n",
    "    lj = pair.KA_LJ(tree)\n",
    "    for temp in temps:\n",
    "        nvt = hoomd.md.methods.NVT(hoomd.filter.All(), temp, 1.0)\n",
    "        integrator.forces = [lj]\n",
    "        integrator.methods = [nvt]\n",
    "\n",
    "        writer = hoomd.write.GSD(trigger=hoomd.trigger.Periodic(400), filename=f\"long-data/test_T-{temp:.2f}_.gsd\", mode=\"wb\", filter=hoomd.filter.All(), dynamic=[\"property\", \"momentum\"])\n",
    "        sim.operations.writers.clear()\n",
    "        sim.operations.writers.append(writer)\n",
    "\n",
    "        sim.operations.integrator = integrator\n",
    "\n",
    "        sim.run(4_000_001, True)"
   ]
  },
  {
   "cell_type": "code",
   "execution_count": null,
   "metadata": {},
   "outputs": [],
   "source": [
    "def diffusion_coeff(t, msd, dim=2):\n",
    "    params = np.polyfit(t, msd, 1)\n",
    "    return params[0]/(2*dim)"
   ]
  },
  {
   "cell_type": "code",
   "execution_count": null,
   "metadata": {},
   "outputs": [],
   "source": [
    "def experiment_quench(temps, seed):\n",
    "    cpu = hoomd.device.CPU()\n",
    "    sim = hoomd.Simulation(cpu, seed=seed)\n",
    "\n",
    "    sim.create_state_from_gsd(\"init-state.gsd\")\n",
    "    sim.always_compute_pressure = True\n",
    "    thermodynamic_properties = hoomd.md.compute.ThermodynamicQuantities(\n",
    "        filter=hoomd.filter.All())\n",
    "    sim.operations.computes.append(thermodynamic_properties)\n",
    "    \n",
    "    integrator = hoomd.md.Integrator(dt=0.0025)\n",
    "    tree = hoomd.md.nlist.Tree(0.3)\n",
    "    lj = pair.KA_LJ(tree)\n",
    "    nvt = hoomd.md.methods.NVT(hoomd.filter.All(), temps[0], 0.25)\n",
    "    integrator.forces = [lj]\n",
    "    integrator.methods = [nvt]\n",
    "\n",
    "    sim.operations.integrator = integrator\n",
    "\n",
    "    for temp in temps:\n",
    "        print(temp)\n",
    "        nvt.kT = temp\n",
    "\n",
    "        # sim.run(1_000_001)\n",
    "\n",
    "        writer = hoomd.write.GSD(trigger=hoomd.trigger.Periodic(400), filename=f\"long-data-3/test_T-{temp:.2f}_.gsd\", mode=\"wb\", filter=hoomd.filter.All(), dynamic=[\"property\", \"momentum\"])\n",
    "        sim.operations.writers.append(writer)\n",
    "\n",
    "\n",
    "\n",
    "        sim.run(400_001, True)\n",
    "\n",
    "        sim.operations.writers.clear()\n",
    "        \n",
    "        "
   ]
  },
  {
   "cell_type": "code",
   "execution_count": null,
   "metadata": {},
   "outputs": [],
   "source": [
    "import time"
   ]
  },
  {
   "cell_type": "code",
   "execution_count": null,
   "metadata": {},
   "outputs": [],
   "source": [
    "def find_Tg(kT_start, kT_end, steps=4_000_000, equil_steps=40_000, N=16384):\n",
    "\n",
    "    device = hoomd.device.GPU()\n",
    "\n",
    "    rng = prep.init_rng(1234)\n",
    "    L = prep.len_from_phi(N, 1.0, dim=2)\n",
    "    snap = prep.approx_euclidean_snapshot(N, L, rng, dim=2, ratios=[60,40], diams=[1.0, 0.88])\n",
    "\n",
    "    sim = hoomd.Simulation(device, seed=0)\n",
    "\n",
    "    sim.create_state_from_snapshot(snap)\n",
    "    sim.always_compute_pressure = True\n",
    "    thermodynamic_properties = hoomd.md.compute.ThermodynamicQuantities(\n",
    "        filter=hoomd.filter.All())\n",
    "    sim.operations.computes.append(thermodynamic_properties)\n",
    "\n",
    "    variant = hoomd.variant.Ramp(kT_start, kT_end, sim.timestep + equil_steps, steps)\n",
    "\n",
    "    integrator = hoomd.md.Integrator(dt=0.0025)\n",
    "    tree = hoomd.md.nlist.Tree(0.3)\n",
    "    lj = pair.KA_LJ(tree)\n",
    "    npt = hoomd.md.methods.NPT(hoomd.filter.All(), variant, 0.25, 1.0, 2.5, \"xy\")\n",
    "    integrator.forces = [lj]\n",
    "    integrator.methods = [npt]\n",
    "\n",
    "    sim.operations.integrator = integrator\n",
    "    print(\"starting\")\n",
    "    sim.run(equil_steps)\n",
    "    print(\"done equil\")\n",
    "    logger = hoomd.logging.Logger(categories=[\"scalar\"])\n",
    "\n",
    "    logger.add(thermodynamic_properties)\n",
    "\n",
    "    writer = hoomd.write.GSD(trigger=hoomd.trigger.Periodic(4000), filename=f\"find_Tg-2.gsd\", mode=\"wb\", filter=hoomd.filter.All(), dynamic=[\"property\", \"momentum\"], log=logger)\n",
    "    sim.operations.writers.append(writer)\n",
    "\n",
    "    sim.run(steps, True)"
   ]
  },
  {
   "cell_type": "code",
   "execution_count": null,
   "metadata": {},
   "outputs": [],
   "source": [
    "find_Tg(1.0, 0.0)"
   ]
  },
  {
   "cell_type": "code",
   "execution_count": null,
   "metadata": {},
   "outputs": [],
   "source": [
    "traj = gsd.hoomd.open(\"find_Tg-2.gsd\")"
   ]
  },
  {
   "cell_type": "code",
   "execution_count": null,
   "metadata": {},
   "outputs": [],
   "source": [
    "traj[0].log"
   ]
  },
  {
   "cell_type": "code",
   "execution_count": null,
   "metadata": {},
   "outputs": [],
   "source": [
    "x = []\n",
    "\n",
    "y = []\n",
    "\n",
    "p = []\n",
    "\n",
    "v = []\n",
    "\n",
    "for snap in traj[::10]:\n",
    "\n",
    "    temp = snap.log[\"md/compute/ThermodynamicQuantities/kinetic_temperature\"][0]\n",
    "    x.append(temp)\n",
    "\n",
    "    pressure = snap.log[\"md/compute/ThermodynamicQuantities/pressure\"][0]\n",
    "    volume = snap.log[\"md/compute/ThermodynamicQuantities/volume\"][0]\n",
    "    p_energy = snap.log[\"md/compute/ThermodynamicQuantities/potential_energy\"][0]\n",
    "    k_energy = snap.log[\"md/compute/ThermodynamicQuantities/kinetic_energy\"][0]\n",
    "\n",
    "    H = p_energy + pressure*volume + k_energy\n",
    "    p.append(pressure)\n",
    "    v.append(volume)\n",
    "    y.append(H)\n"
   ]
  },
  {
   "cell_type": "code",
   "execution_count": null,
   "metadata": {},
   "outputs": [],
   "source": [
    "t = np.linspace(1.0, 0.0, 101, endpoint=True)\n",
    "N=16384"
   ]
  },
  {
   "cell_type": "code",
   "execution_count": null,
   "metadata": {},
   "outputs": [],
   "source": [
    "plt.figure(dpi=200)\n",
    "plt.plot(t, y)\n",
    "coeff = np.polyfit(t[:50], y[:50], 1)\n",
    "plt.plot(t, t*coeff[0] + coeff[1])\n",
    "coeff2 = np.polyfit(t[80:90], np.array(y[80:90]), 1)\n",
    "plt.plot(t, (t*coeff2[0] + coeff2[1]))\n",
    "x = -(coeff[1] - coeff2[1])/(coeff[0] - coeff2[0])\n",
    "plt.vlines(x, *plt.ylim())\n",
    "plt.ylabel(r\"$\\mathcal{H}$\")\n",
    "plt.xlabel(r\"$T$\")\n",
    "\n",
    "x, t[67], p[68], N/v[67]"
   ]
  },
  {
   "cell_type": "code",
   "execution_count": null,
   "metadata": {},
   "outputs": [],
   "source": [
    "coeff2"
   ]
  },
  {
   "cell_type": "code",
   "execution_count": null,
   "metadata": {},
   "outputs": [],
   "source": [
    "def time_cpu_vs_gpu(steps=4_000):\n",
    "    devices = [hoomd.device.CPU(), hoomd.device.GPU()]\n",
    "    Ns = [64, 128, 256, 512, 1024, 2048, 4096, 8192, 16384, 32768, 65536, 131072, 262144, 524288]\n",
    "    durations = [[], []]\n",
    "    for N in Ns:\n",
    "        rng = prep.init_rng(0)\n",
    "        L = prep.len_from_phi(N, 1.15, dim=2)\n",
    "        snap = prep.approx_euclidean_snapshot(N, L, rng, dim=2, ratios=[60,40], diams=[1.0, 0.88])\n",
    "        for i, device in enumerate(devices):\n",
    "\n",
    "            sim = hoomd.Simulation(device, seed=0)\n",
    "\n",
    "            sim.create_state_from_snapshot(snap)\n",
    "            sim.always_compute_pressure = True\n",
    "            thermodynamic_properties = hoomd.md.compute.ThermodynamicQuantities(\n",
    "                filter=hoomd.filter.All())\n",
    "            sim.operations.computes.append(thermodynamic_properties)\n",
    "            \n",
    "            integrator = hoomd.md.Integrator(dt=0.0025)\n",
    "            tree = hoomd.md.nlist.Tree(0.3)\n",
    "            lj = pair.KA_LJ(tree)\n",
    "            nvt = hoomd.md.methods.NVT(hoomd.filter.All(), 1.0, 0.25)\n",
    "            integrator.forces = [lj]\n",
    "            integrator.methods = [nvt]\n",
    "\n",
    "            sim.operations.integrator = integrator\n",
    "\n",
    "            sim.run(0)\n",
    "\n",
    "            nvt.thermalize_thermostat_dof()\n",
    "            \n",
    "            start = time.time()\n",
    "            sim.run(steps)\n",
    "            duration = time.time() - start\n",
    "\n",
    "            durations[i].append(duration)\n",
    "\n",
    "            del sim\n",
    "    \n",
    "    return Ns, durations"
   ]
  },
  {
   "cell_type": "code",
   "execution_count": null,
   "metadata": {},
   "outputs": [],
   "source": [
    "Ns, durations = time_cpu_vs_gpu(steps=40)"
   ]
  },
  {
   "cell_type": "code",
   "execution_count": null,
   "metadata": {},
   "outputs": [],
   "source": [
    "durations[1]"
   ]
  },
  {
   "cell_type": "code",
   "execution_count": null,
   "metadata": {},
   "outputs": [],
   "source": [
    "plt.plot(Ns, durations[0])\n",
    "plt.plot(Ns, durations[1])\n",
    "plt.yscale('log')\n",
    "plt.xscale('log')"
   ]
  },
  {
   "cell_type": "code",
   "execution_count": null,
   "metadata": {},
   "outputs": [],
   "source": [
    "plt.plot(Ns, np.array(durations[0])/np.array(durations[1]))\n",
    "plt.xscale('log')\n",
    "plt.yscale('log')"
   ]
  },
  {
   "cell_type": "code",
   "execution_count": null,
   "metadata": {},
   "outputs": [],
   "source": [
    "plt.plot(Ns, np.array(Ns)/np.array(durations[0]))\n",
    "plt.plot(Ns, np.array(Ns)/np.array(durations[1]))\n",
    "plt.xscale('log')\n",
    "plt.yscale('log')"
   ]
  },
  {
   "cell_type": "code",
   "execution_count": null,
   "metadata": {},
   "outputs": [],
   "source": [
    "gen_highT_state()"
   ]
  },
  {
   "cell_type": "code",
   "execution_count": null,
   "metadata": {},
   "outputs": [],
   "source": [
    "temps = np.linspace(0.5, 0.2, 13)\n",
    "temps"
   ]
  },
  {
   "cell_type": "code",
   "execution_count": null,
   "metadata": {},
   "outputs": [],
   "source": [
    "experiment_quench(temps, 123)"
   ]
  },
  {
   "cell_type": "code",
   "execution_count": null,
   "metadata": {},
   "outputs": [],
   "source": [
    "experiment_quench([1.0], 124)"
   ]
  },
  {
   "cell_type": "code",
   "execution_count": null,
   "metadata": {},
   "outputs": [],
   "source": [
    "files = glob.glob(\"long-data-2/*.gsd\")\n",
    "plt.figure(dpi=200)\n",
    "\n",
    "cmap = cm.jet\n",
    "norm = colors.Normalize(vmin=0.2, vmax=0.5)\n",
    "sm = cm.ScalarMappable(norm, cmap)\n",
    "\n",
    "for file in files:\n",
    "    traj = gsd.hoomd.open(file)\n",
    "    box = freud.Box.from_box(traj[0].configuration.box)\n",
    "    temp = float(file.split('_T-')[-1].split(\"_\")[0])\n",
    "\n",
    "    # if temp < 0.35:\n",
    "    #     continue\n",
    "    msd = freud.msd.MSD()\n",
    "\n",
    "    pos = []\n",
    "\n",
    "    t = np.linspace(0, 7500, 750, endpoint=False)\n",
    "\n",
    "    for frame in traj[::10]:\n",
    "        pos.append(box.unwrap(frame.particles.position, frame.particles.image))\n",
    "\n",
    "    msd.compute(pos)\n",
    "    plt.plot(t, msd.msd, label=f\"{temp:.2}\", color=cmap(norm(temp)))\n",
    "plt.xscale('log')\n",
    "plt.yscale('log')\n",
    "# plt.legend(bbox_to_anchor=(1,1))\n",
    "plt.colorbar(sm, label=r\"$kT$\")\n",
    "plt.ylabel(r'$\\mathcal{MSD}$')\n",
    "plt.xlabel(r'$\\mathcal{t} [\\tau_{LJ}]$')\n",
    "plt.ylim(1e-2, 20)"
   ]
  },
  {
   "cell_type": "code",
   "execution_count": null,
   "metadata": {},
   "outputs": [],
   "source": [
    "files = glob.glob(\"long-data-2/*.gsd\")\n",
    "plt.figure(dpi=200)\n",
    "\n",
    "temps = []\n",
    "Ds = []\n",
    "\n",
    "\n",
    "\n",
    "for file in sorted(files):\n",
    "    traj = gsd.hoomd.open(file)\n",
    "    temp = float(file.split('_T-')[-1].split(\"_\")[0])\n",
    "    box = freud.Box.from_box(traj[0].configuration.box)\n",
    "    msd = freud.msd.MSD()\n",
    "\n",
    "    if temp < 0.1:\n",
    "        continue\n",
    "\n",
    "    pos = []\n",
    "\n",
    "    t = np.linspace(0, 7500, 750, endpoint=False)\n",
    "\n",
    "    for frame in traj[::10]:\n",
    "        pos.append(box.unwrap(frame.particles.position, frame.particles.image))\n",
    "\n",
    "    msd.compute(pos)\n",
    "    # D = diffusion_coeff(t, msd.msd)\n",
    "    D = msd.msd[-1]/t[-1]\n",
    "    if temp > 0.4:\n",
    "        temps.append(temp)\n",
    "        Ds.append(D)\n",
    "\n",
    "    plt.plot(temp, D, \"X\", label=f\"{temp:.2}\", color=\"k\")\n",
    "\n",
    "temps = np.array(temps)\n",
    "Ds = np.array(Ds)\n",
    "\n",
    "params = np.polyfit(np.log(temps), np.log(Ds), 1)\n",
    "y = np.exp(params[0]*np.log(temps) + params[1])\n",
    "plt.plot(temps, y)\n",
    "\n",
    "\n",
    "plt.xscale('log')\n",
    "plt.yscale('log')\n",
    "# plt.legend(bbox_to_anchor=(1,1))\n",
    "# plt.ylim(1e-3, 20)"
   ]
  },
  {
   "cell_type": "code",
   "execution_count": null,
   "metadata": {},
   "outputs": [],
   "source": [
    "params"
   ]
  },
  {
   "cell_type": "code",
   "execution_count": null,
   "metadata": {},
   "outputs": [],
   "source": [
    "temps = np.array(temps)\n",
    "Ds = np.array(Ds)\n",
    "\n",
    "params = np.polyfit(np.log(temps), np.log(Ds), 1)\n",
    "y = np.exp(params[0]*np.log(temps) + params[1])\n",
    "plt.plot(temps, y)\n",
    "\n",
    "plt.yscale('log')\n",
    "plt.xscale('log')"
   ]
  },
  {
   "cell_type": "code",
   "execution_count": null,
   "metadata": {},
   "outputs": [],
   "source": [
    "dynamic_gsd(1.0, 2324)"
   ]
  },
  {
   "cell_type": "code",
   "execution_count": null,
   "metadata": {},
   "outputs": [],
   "source": [
    "dynamic_gsd(1.0, 2324)"
   ]
  },
  {
   "cell_type": "code",
   "execution_count": null,
   "metadata": {},
   "outputs": [],
   "source": [
    "traj = gsd.hoomd.open(\"dynamic-image.gsd\")\n",
    "\n",
    "box = freud.Box.from_box(traj[0].configuration.box)"
   ]
  },
  {
   "cell_type": "code",
   "execution_count": null,
   "metadata": {},
   "outputs": [],
   "source": [
    "msd = freud.msd.MSD()\n",
    "\n",
    "pos = []\n",
    "\n",
    "for frame in traj[::10]:\n",
    "    pos.append(box.unwrap(frame.particles.position, frame.particles.image))\n",
    "\n",
    "msd.compute(pos);"
   ]
  },
  {
   "cell_type": "code",
   "execution_count": null,
   "metadata": {},
   "outputs": [],
   "source": [
    "plt.plot(msd.msd)\n",
    "plt.yscale('log')\n",
    "plt.xscale('log')"
   ]
  },
  {
   "cell_type": "code",
   "execution_count": null,
   "metadata": {},
   "outputs": [],
   "source": []
  }
 ],
 "metadata": {
  "interpreter": {
   "hash": "5d2d6202c98dd52c77e426321e986dfb3f328c6f811129e82382e6b49419afe0"
  },
  "kernelspec": {
   "display_name": "Python 3.8.12",
   "language": "python",
   "name": "python3"
  },
  "language_info": {
   "codemirror_mode": {
    "name": "ipython",
    "version": 3
   },
   "file_extension": ".py",
   "mimetype": "text/x-python",
   "name": "python",
   "nbconvert_exporter": "python",
   "pygments_lexer": "ipython3",
   "version": "3.10.4"
  }
 },
 "nbformat": 4,
 "nbformat_minor": 2
}
