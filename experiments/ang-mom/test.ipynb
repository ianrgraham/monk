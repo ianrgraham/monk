{
 "cells": [
  {
   "cell_type": "code",
   "execution_count": 4,
   "metadata": {},
   "outputs": [],
   "source": [
    "import hoomd\n",
    "import numpy as np\n",
    "\n",
    "import gsd.hoomd\n",
    "\n",
    "from monk import nb\n",
    "from monk import prep\n",
    "from monk import pair\n",
    "import freud"
   ]
  },
  {
   "cell_type": "code",
   "execution_count": 68,
   "metadata": {},
   "outputs": [],
   "source": [
    "class Spinner2D(hoomd.md.force.Custom):\n",
    "    def __init__(self, torque):\n",
    "        super().__init__(aniso=True)\n",
    "\n",
    "        self._torque = torque\n",
    "\n",
    "    def set_forces(self, timestep):\n",
    "        with self.cpu_local_force_arrays as arrays:\n",
    "            # arrays.force[:] = -5\n",
    "            arrays.torque[:,2] = self._torque\n",
    "            # arrays.potential_energy[:] = 27\n",
    "            # arrays.virial[:] = np.arange(6)[None, :]"
   ]
  },
  {
   "cell_type": "code",
   "execution_count": 107,
   "metadata": {},
   "outputs": [],
   "source": [
    "\n",
    "def gen_highT_state():\n",
    "    seed = 1000\n",
    "    cpu = hoomd.device.auto_select()\n",
    "    print(cpu)\n",
    "    sim = hoomd.Simulation(cpu, seed=seed)\n",
    "    N = 256\n",
    "    rng = prep.init_rng(seed + 1)\n",
    "    L = prep.len_from_phi(N, 1.1, dim=2)\n",
    "    snap = prep.approx_euclidean_snapshot(N, L, rng, dim=2, ratios=[100], diams=[1.0], particle_types=['A'])\n",
    "    # print(snap.particles.moment_inertia)\n",
    "    snap.particles.moment_inertia = N*[[1.0, 1.0, 1.0]]\n",
    "    snap.particles.orientation = N*[np.sqrt(1/2), 0.0, np.sqrt(1/2), 0.0]\n",
    "    snap.particles.velocity = np.random.random((N, 3))\n",
    "    snap.particles.velocity[:,2] = 0.0\n",
    "\n",
    "    # assert isinstance(snap, gsd.hoomd.Snapshot)\n",
    "\n",
    "    sim.create_state_from_snapshot(snap)\n",
    "\n",
    "    integrator = hoomd.md.Integrator(dt=0.0025, integrate_rotational_dof=True)\n",
    "    tree = hoomd.md.nlist.Tree(0.3)\n",
    "    # gb = hoomd.md.pair.aniso.GayBerne(tree, default_r_cut=2.5)\n",
    "    gb = hoomd.md.pair.LJ(tree, default_r_cut=2.5)\n",
    "    gb.params[('A', 'A')] = dict(epsilon=1.0, sigma=1.0)\n",
    "    gb.r_cut[('A', 'A')] = 2.5\n",
    "    \n",
    "    spin = Spinner2D(1.0)\n",
    "    nvt = hoomd.md.methods.NVE(hoomd.filter.All())\n",
    "    integrator.forces = [gb, spin]\n",
    "    integrator.methods = [nvt]\n",
    "    # plane = hoomd.md.manifold.Plane()\n",
    "    # constraint = hoomd.md.constrain.Constraint()\n",
    "    # integrator.constraints = [plane]\n",
    "\n",
    "    sim.always_compute_pressure = True\n",
    "    thermodynamic_properties = hoomd.md.compute.ThermodynamicQuantities(\n",
    "        filter=hoomd.filter.All())\n",
    "    sim.operations.computes.append(thermodynamic_properties)\n",
    "\n",
    "    sim.operations.integrator = integrator\n",
    "\n",
    "    sim.run(0)\n",
    "\n",
    "    # nvt.thermalize_thermostat_dof()\n",
    "\n",
    "    # sim.run(100)\n",
    "\n",
    "    # nvt.thermalize_thermostat_dof()\n",
    "\n",
    "    # sim.run(40_000)\n",
    "\n",
    "    print(thermodynamic_properties.pressure)\n",
    "\n",
    "    logger = hoomd.logging.Logger()\n",
    "    logger.add(gb, quantities=['forces'])\n",
    "    logger.add(spin, quantities=['torques'])\n",
    "\n",
    "    writer = hoomd.write.GSD(trigger=hoomd.trigger.Periodic(1), filename=\"trial2d.gsd\", mode=\"wb\", filter=hoomd.filter.All(), dynamic=[\"property\", \"momentum\", \"attribute\"], log=logger)\n",
    "    sim.operations.writers.append(writer)\n",
    "\n",
    "    # print(sim.state.get_snapshot().particles.angmom)\n",
    "\n",
    "    for i in range(5):\n",
    "\n",
    "        sim.run(401, True)\n",
    "\n",
    "        # print(gb.forces)\n",
    "\n",
    "        break\n",
    "\n",
    "        # nvt.kT = float(nvt.kT.value) / 1.5\n",
    "\n",
    "        print(i, thermodynamic_properties.pressure)\n",
    "        # print(sim.state.get_snapshot().particles.angmom)\n",
    "\n",
    "    hoomd.write.GSD.write(sim.state, \"init-state2d.gsd\")\n",
    "\n",
    "    return snap\n",
    "    "
   ]
  },
  {
   "cell_type": "code",
   "execution_count": 108,
   "metadata": {},
   "outputs": [
    {
     "name": "stdout",
     "output_type": "stream",
     "text": [
      "<hoomd.device.CPU object at 0x7fad536f7640>\n",
      "54.75037468396809\n"
     ]
    }
   ],
   "source": [
    "snap = gen_highT_state()"
   ]
  },
  {
   "cell_type": "code",
   "execution_count": 132,
   "metadata": {},
   "outputs": [
    {
     "data": {
      "text/plain": [
       "2"
      ]
     },
     "execution_count": 132,
     "metadata": {},
     "output_type": "execute_result"
    }
   ],
   "source": [
    "snap.configuration.dimensions"
   ]
  },
  {
   "cell_type": "code",
   "execution_count": 133,
   "metadata": {},
   "outputs": [
    {
     "data": {
      "text/plain": [
       "array([[0.70710677, 0.        , 0.70710677, 0.        ],\n",
       "       [0.70710677, 0.        , 0.70710677, 0.        ],\n",
       "       [0.70710677, 0.        , 0.70710677, 0.        ],\n",
       "       ...,\n",
       "       [0.70710677, 0.        , 0.70710677, 0.        ],\n",
       "       [0.70710677, 0.        , 0.70710677, 0.        ],\n",
       "       [0.70710677, 0.        , 0.70710677, 0.        ]], dtype=float32)"
      ]
     },
     "execution_count": 133,
     "metadata": {},
     "output_type": "execute_result"
    }
   ],
   "source": [
    "snap.particles.orientation"
   ]
  },
  {
   "cell_type": "code",
   "execution_count": 134,
   "metadata": {},
   "outputs": [],
   "source": [
    "snap.particles.angmom"
   ]
  },
  {
   "cell_type": "code",
   "execution_count": 109,
   "metadata": {},
   "outputs": [],
   "source": [
    "traj = gsd.hoomd.open(\"trial2d.gsd\")\n",
    "dt = 0.0025"
   ]
  },
  {
   "cell_type": "code",
   "execution_count": 110,
   "metadata": {},
   "outputs": [],
   "source": [
    "def quat_to_axis_angle(quat):\n",
    "    s = quat[0]\n",
    "    v = quat[1:]\n",
    "    theta = np.arccos(s)*2.0\n",
    "    v /= np.sin(theta/2.0)\n",
    "    return np.concatenate([[theta], v])"
   ]
  },
  {
   "cell_type": "code",
   "execution_count": 111,
   "metadata": {},
   "outputs": [],
   "source": [
    "i = 0\n",
    "\n",
    "orients = []\n",
    "angmoms = []\n",
    "torques = []\n",
    "\n",
    "for idx in range(len(traj)):\n",
    "    snap = traj[idx]\n",
    "    angmom = snap.particles.angmom[i]\n",
    "    # angmom_mag = np.linalg.norm(angmom)\n",
    "    # angmom_normed = quat_to_axis_angle(angmom/angmom_mag)\n",
    "    orient = snap.particles.orientation[i]\n",
    "    # force = snap.log[\"particles/md/pair/aniso/GayBerne/forces\"][i]\n",
    "    torque = snap.log[\"particles/__main__/Spinner2D/torques\"][i]\n",
    "    orients.append(orient)\n",
    "    angmoms.append(angmom)\n",
    "    torques.append(torque)\n",
    "    # print(angmom_normed[1:].dot(orient[1:]))\n",
    "    # print(angmom_normed[1:].dot(torque))\n",
    "    # print(angmom_mag, angmom_normed, orient, torque)"
   ]
  },
  {
   "cell_type": "code",
   "execution_count": 112,
   "metadata": {},
   "outputs": [
    {
     "data": {
      "text/plain": [
       "['particles/md/pair/LJ/forces', 'particles/__main__/Spinner2D/torques']"
      ]
     },
     "execution_count": 112,
     "metadata": {},
     "output_type": "execute_result"
    }
   ],
   "source": [
    "list(snap.log.keys())"
   ]
  },
  {
   "cell_type": "code",
   "execution_count": 113,
   "metadata": {},
   "outputs": [
    {
     "data": {
      "text/plain": [
       "array([-3.5355339e-07, -1.4142135e-02, -3.5355339e-07,  1.4142135e-02],\n",
       "      dtype=float32)"
      ]
     },
     "execution_count": 113,
     "metadata": {},
     "output_type": "execute_result"
    }
   ],
   "source": [
    "angmoms[4]"
   ]
  },
  {
   "cell_type": "code",
   "execution_count": 114,
   "metadata": {},
   "outputs": [
    {
     "data": {
      "text/plain": [
       "array([1., 1., 1.], dtype=float32)"
      ]
     },
     "execution_count": 114,
     "metadata": {},
     "output_type": "execute_result"
    }
   ],
   "source": [
    "snap.particles.moment_inertia[i]"
   ]
  },
  {
   "cell_type": "code",
   "execution_count": 115,
   "metadata": {},
   "outputs": [],
   "source": [
    "\n",
    "def conv(q):\n",
    "    return np.array([q[0], -q[1], -q[2], -q[3]], dtype=np.float32)\n",
    "\n",
    "def quat(v):\n",
    "    return np.array([0.0, v[0], v[1], v[2]], dtype=np.float32)\n",
    "\n",
    "def qmult(quaternion1, quaternion0):\n",
    "    w0, x0, y0, z0 = quaternion0\n",
    "    w1, x1, y1, z1 = quaternion1\n",
    "    return np.array([-x1 * x0 - y1 * y0 - z1 * z0 + w1 * w0,\n",
    "                     x1 * w0 + y1 * z0 - z1 * y0 + w1 * x0,\n",
    "                     -x1 * z0 + y1 * w0 + z1 * x0 + w1 * y0,\n",
    "                     x1 * y0 - y1 * x0 + z1 * w0 + w1 * z0], dtype=np.float64)\n",
    "\n",
    "def rotate(q, v):\n",
    "    return qmult(qmult(q, quat(v)), conv(q))[1:]"
   ]
  },
  {
   "cell_type": "code",
   "execution_count": 116,
   "metadata": {},
   "outputs": [
    {
     "data": {
      "text/plain": [
       "(array([0., 0., 0., 1.], dtype=float32),\n",
       " array([0.70710677, 0.        , 0.70710677, 0.        ], dtype=float32))"
      ]
     },
     "execution_count": 116,
     "metadata": {},
     "output_type": "execute_result"
    }
   ],
   "source": [
    "quat(torques[0]), orients[0]"
   ]
  },
  {
   "cell_type": "code",
   "execution_count": 117,
   "metadata": {},
   "outputs": [
    {
     "data": {
      "text/plain": [
       "array([1., 1., 1.], dtype=float32)"
      ]
     },
     "execution_count": 117,
     "metadata": {},
     "output_type": "execute_result"
    }
   ],
   "source": [
    "snap.particles.moment_inertia[i]"
   ]
  },
  {
   "cell_type": "code",
   "execution_count": 118,
   "metadata": {},
   "outputs": [
    {
     "data": {
      "text/plain": [
       "(array([ 7.0710677e-01, -1.1048543e-06,  7.0710677e-01,  1.1048543e-06],\n",
       "       dtype=float32),\n",
       " array([-5.5242713e-09, -3.5355338e-03, -5.5242713e-09,  3.5355338e-03],\n",
       "       dtype=float32))"
      ]
     },
     "execution_count": 118,
     "metadata": {},
     "output_type": "execute_result"
    }
   ],
   "source": [
    "j = 1\n",
    "orients[j], angmoms[j]"
   ]
  },
  {
   "cell_type": "code",
   "execution_count": 154,
   "metadata": {},
   "outputs": [
    {
     "name": "stdout",
     "output_type": "stream",
     "text": [
      "[ 0.7069804  -0.01336794  0.7069804   0.01336794] [-2.49999999e-03  0.00000000e+00 -6.07153217e-20] [0. 0. 1.]\n"
     ]
    },
    {
     "data": {
      "text/plain": [
       "(array([-0.27500001,  0.        ,  0.        ]),\n",
       " array([-2.77500006e-01,  0.00000000e+00, -6.07153217e-20]),\n",
       " array([-0.2775,  0.    ,  0.    ]))"
      ]
     },
     "execution_count": 154,
     "metadata": {},
     "output_type": "execute_result"
    }
   ],
   "source": [
    "idx = 110\n",
    "angmom_0 = qmult(conv(orients[idx]), angmoms[idx])[1:]/2.0\n",
    "angmom_1 = qmult(conv(orients[idx + 1]), angmoms[idx + 1])[1:]/2.0\n",
    "torque_0 = torques[idx]\n",
    "# torque_0[:2] = 0.0\n",
    "update = dt * qmult(qmult(conv(orients[idx]), quat(torque_0)), orients[idx])[1:]\n",
    "# angmom_0 = qmult(angmoms[idx], conv(orients[idx]))[1:]/2.0\n",
    "# angmom_1 = qmult(angmoms[idx + 1], conv(orients[idx + 1]))[1:]/2.0\n",
    "# update = dt * torques[idx]\n",
    "# update[1:] = 0.0\n",
    "print(orients[idx], update, torques[idx])\n",
    "angmom_0, angmom_0 + update, angmom_1"
   ]
  },
  {
   "cell_type": "code",
   "execution_count": 152,
   "metadata": {},
   "outputs": [
    {
     "data": {
      "text/plain": [
       "array([0.  , 0.  , 0.  , 0.25])"
      ]
     },
     "execution_count": 152,
     "metadata": {},
     "output_type": "execute_result"
    }
   ],
   "source": [
    "qmult(qmult(orients[idx], quat(angmom_0)), conv(orients[idx]))"
   ]
  },
  {
   "cell_type": "code",
   "execution_count": 153,
   "metadata": {},
   "outputs": [
    {
     "data": {
      "text/plain": [
       "array([0.00000000e+00, 2.48655851e-09, 0.00000000e+00, 2.50000000e-01])"
      ]
     },
     "execution_count": 153,
     "metadata": {},
     "output_type": "execute_result"
    }
   ],
   "source": [
    "qmult(angmoms[idx], conv(orients[idx]))/2.0"
   ]
  },
  {
   "cell_type": "code",
   "execution_count": 155,
   "metadata": {},
   "outputs": [
    {
     "name": "stdout",
     "output_type": "stream",
     "text": [
      "[ 0.7069804  -0.01336794  0.7069804   0.01336794] [0.     0.     0.0025] [0. 0. 1.]\n"
     ]
    },
    {
     "data": {
      "text/plain": [
       "(array([1.01863407e-09, 0.00000000e+00, 2.75000006e-01]),\n",
       " array([1.01863407e-09, 0.00000000e+00, 2.77500006e-01]),\n",
       " array([ 6.36646291e-09, -2.32830644e-10,  2.77500004e-01]))"
      ]
     },
     "execution_count": 155,
     "metadata": {},
     "output_type": "execute_result"
    }
   ],
   "source": [
    "idx = 110\n",
    "angmom_0 = qmult(angmoms[idx], conv(orients[idx]))[1:]/2.0\n",
    "angmom_1 = qmult(angmoms[idx + 1], conv(orients[idx + 1]))[1:]/2.0\n",
    "torque_0 = torques[idx]\n",
    "# torque_0[:2] = 0.0\n",
    "update = dt * torque_0\n",
    "# angmom_0 = qmult(angmoms[idx], conv(orients[idx]))[1:]/2.0\n",
    "# angmom_1 = qmult(angmoms[idx + 1], conv(orients[idx + 1]))[1:]/2.0\n",
    "# update = dt * torques[idx]\n",
    "# update[1:] = 0.0\n",
    "print(orients[idx], update, torques[idx])\n",
    "angmom_0, angmom_0 + update, angmom_1"
   ]
  },
  {
   "cell_type": "code",
   "execution_count": 35,
   "metadata": {},
   "outputs": [
    {
     "data": {
      "text/plain": [
       "array([ 1.64908433, -0.26932359,  0.92462409,  0.26932359])"
      ]
     },
     "execution_count": 35,
     "metadata": {},
     "output_type": "execute_result"
    }
   ],
   "source": [
    "quat_to_axis_angle(orients[idx])"
   ]
  },
  {
   "cell_type": "code",
   "execution_count": 30,
   "metadata": {},
   "outputs": [
    {
     "data": {
      "text/plain": [
       "array([-0.05837044,  0.00631485,  0.00512363])"
      ]
     },
     "execution_count": 30,
     "metadata": {},
     "output_type": "execute_result"
    }
   ],
   "source": [
    "(angmoms[1][1:] - angmoms[0][1:])/torques[0]"
   ]
  },
  {
   "cell_type": "code",
   "execution_count": 26,
   "metadata": {},
   "outputs": [
    {
     "data": {
      "text/plain": [
       "array([3.56314245e-02, 1.11707656e-03, 7.44255716e-08])"
      ]
     },
     "execution_count": 26,
     "metadata": {},
     "output_type": "execute_result"
    }
   ],
   "source": [
    "(qmult(conv(orients[0]), angmoms[0])[1:]/2 - qmult(conv(orients[1]), angmoms[1])[1:]/2)/torques[0]"
   ]
  },
  {
   "cell_type": "code",
   "execution_count": 20,
   "metadata": {},
   "outputs": [
    {
     "data": {
      "text/plain": [
       "array([-0.14590928,  1.03151121, -1.40150927])"
      ]
     },
     "execution_count": 20,
     "metadata": {},
     "output_type": "execute_result"
    }
   ],
   "source": [
    "torques[0]"
   ]
  },
  {
   "cell_type": "code",
   "execution_count": null,
   "metadata": {},
   "outputs": [],
   "source": []
  }
 ],
 "metadata": {
  "kernelspec": {
   "display_name": "Python 3.10.4 (conda)",
   "language": "python",
   "name": "python3"
  },
  "language_info": {
   "codemirror_mode": {
    "name": "ipython",
    "version": 3
   },
   "file_extension": ".py",
   "mimetype": "text/x-python",
   "name": "python",
   "nbconvert_exporter": "python",
   "pygments_lexer": "ipython3",
   "version": "3.10.4"
  },
  "orig_nbformat": 4,
  "vscode": {
   "interpreter": {
    "hash": "5d2d6202c98dd52c77e426321e986dfb3f328c6f811129e82382e6b49419afe0"
   }
  }
 },
 "nbformat": 4,
 "nbformat_minor": 2
}
