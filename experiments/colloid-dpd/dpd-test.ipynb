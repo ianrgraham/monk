{
 "cells": [
  {
   "cell_type": "markdown",
   "metadata": {},
   "source": [
    "# DPD Test - April 14th 2022"
   ]
  },
  {
   "cell_type": "code",
   "execution_count": null,
   "metadata": {},
   "outputs": [],
   "source": [
    "import numpy as np\n",
    "\n",
    "import matplotlib.pyplot as plt\n",
    "\n",
    "from monk import nb\n",
    "\n",
    "from typing import Callable, Optional\n",
    "\n",
    "import hoomd\n",
    "import gsd.hoomd\n",
    "\n",
    "from monk import prep\n",
    "\n",
    "import ex_render"
   ]
  },
  {
   "cell_type": "code",
   "execution_count": null,
   "metadata": {},
   "outputs": [],
   "source": [
    "seed = 124\n",
    "device = hoomd.device.auto_select()\n",
    "sim = hoomd.Simulation(device, seed=seed)"
   ]
  },
  {
   "cell_type": "code",
   "execution_count": null,
   "metadata": {},
   "outputs": [],
   "source": [
    "r_l = 5.0\n",
    "\n",
    "N = 4096\n",
    "rng = prep.init_rng(seed + 1)\n",
    "snap = prep.approx_euclidean_snapshot(N, 400, rng, ratios=[1,99], diams=[r_l, 1.0])\n",
    "\n",
    "sim.create_state_from_snapshot(snap)\n",
    "sim.always_compute_pressure = True"
   ]
  },
  {
   "cell_type": "code",
   "execution_count": null,
   "metadata": {},
   "outputs": [],
   "source": [
    "sim.create_state_from_gsd(\"starting-point.gsd\")"
   ]
  },
  {
   "cell_type": "code",
   "execution_count": null,
   "metadata": {},
   "outputs": [],
   "source": [
    "ex_render.render_disk_frame(frame=sim.state.get_snapshot())"
   ]
  },
  {
   "cell_type": "code",
   "execution_count": null,
   "metadata": {},
   "outputs": [],
   "source": [
    "integrator = hoomd.md.Integrator(dt=0.005)\n",
    "tree = hoomd.md.nlist.Tree(0.3)\n",
    "dlvo = hoomd.md.pair.DLVO(tree)\n",
    "dlvo.params[('A', 'A')] = dict(A=100.0, kappa=1.0, Z=0, a1=r_l/2, a2=r_l/2)\n",
    "dlvo.r_cut[('A', 'A')] = 25.0\n",
    "dlvo.params[('A', 'B')] = dict(A=0.0, kappa=1.0, Z=0, a1=r_l/2, a2=0.5)\n",
    "dlvo.r_cut[('A', 'B')] = 0.0\n",
    "dlvo.params[('B', 'B')] = dict(A=0.0, kappa=1.0, Z=0, a1=0.5, a2=0.5)\n",
    "dlvo.r_cut[('B', 'B')] = 0.0\n",
    "dpd = hoomd.md.pair.DPD(tree, 1.5)\n",
    "dpd.params[('A', 'A')] = dict(A=0.0, gamma=4.5)\n",
    "dpd.r_cut[('A', 'A')] = 0.0\n",
    "dpd.params[('A', 'B')] = dict(A=0.0, gamma=4.5)\n",
    "dpd.r_cut[('A', 'B')] =  0.0\n",
    "dpd.params[('B', 'B')] = dict(A=10.0, gamma=4.5)\n",
    "dpd.r_cut[('B', 'B')] = 2.0\n",
    "slj = hoomd.md.pair.ExpandedLJ(tree)\n",
    "slj.params[('A', 'A')] = dict(epsilon=1e-6, sigma=1.0, delta=r_l)\n",
    "slj.r_cut[('A', 'A')] = 2**(1/6) + r_l\n",
    "slj.params[('A', 'B')] = dict(epsilon=1e-6, sigma=1.0, delta=r_l/2 + .5)\n",
    "slj.r_cut[('A', 'B')] = 2**(1/6) + r_l/2 + .5\n",
    "slj.params[('B', 'B')] = dict(epsilon=1.0, sigma=1.0, delta=0.0)\n",
    "slj.r_cut[('B', 'B')] = 0.0\n",
    "# dpd.params[(['A', 'B'], ['C', 'D'])] = dict(A=40.0, gamma=4.5)\n",
    "\n",
    "nve = hoomd.md.methods.NVE(hoomd.filter.All())\n",
    "integrator.forces = [dlvo, slj, dpd]\n",
    "integrator.methods = [nve]\n",
    "\n",
    "sim.operations.integrator = integrator\n"
   ]
  },
  {
   "cell_type": "code",
   "execution_count": null,
   "metadata": {},
   "outputs": [],
   "source": [
    "sim.operations.computes.clear()\n",
    "thermodynamic_properties = hoomd.md.compute.ThermodynamicQuantities(\n",
    "    filter=hoomd.filter.All())\n",
    "sim.operations.computes.append(thermodynamic_properties)\n",
    "\n",
    "\n",
    "variant = hoomd.variant.Ramp(0, 1, sim.timestep, t_ramp=10_000)\n",
    "\n",
    "initial_box = sim.state.box\n",
    "final_box = hoomd.Box.from_box(initial_box)  # make a copy of initial_box\n",
    "final_rho = 0.6\n",
    "final_box.volume = sim.state.N_particles / final_rho\n",
    "\n",
    "resize_box = hoomd.update.BoxResize(hoomd.trigger.Periodic(10), sim.state.box, final_box, variant)\n",
    "\n",
    "sim.operations.updaters.clear()\n",
    "sim.operations.updaters.append(resize_box)\n"
   ]
  },
  {
   "cell_type": "code",
   "execution_count": null,
   "metadata": {},
   "outputs": [],
   "source": [
    "sim.run(110_000)"
   ]
  },
  {
   "cell_type": "code",
   "execution_count": null,
   "metadata": {},
   "outputs": [],
   "source": [
    "thermodynamic_properties.pressure"
   ]
  },
  {
   "cell_type": "code",
   "execution_count": null,
   "metadata": {},
   "outputs": [],
   "source": [
    "ex_render.render_disk_frame(frame=sim.state.get_snapshot())"
   ]
  },
  {
   "cell_type": "code",
   "execution_count": null,
   "metadata": {},
   "outputs": [],
   "source": [
    "gsd_writer = hoomd.write.GSD(filename='traj7.gsd',\n",
    "                             trigger=hoomd.trigger.Periodic(10_000),\n",
    "                             mode='wb',\n",
    "                             filter=hoomd.filter.All())\n",
    "sim.operations.writers.clear()\n",
    "sim.operations.writers.append(gsd_writer)\n",
    "sim.run(1_000_000)"
   ]
  },
  {
   "cell_type": "markdown",
   "metadata": {},
   "source": [
    "ex_render.display_movie(ex_render.render_disk_frame, \"traj.gsd\")"
   ]
  },
  {
   "cell_type": "code",
   "execution_count": null,
   "metadata": {},
   "outputs": [],
   "source": [
    "hoomd.write.GSD.write(sim.state, \"starting-point.gsd\")"
   ]
  },
  {
   "cell_type": "code",
   "execution_count": null,
   "metadata": {},
   "outputs": [],
   "source": [
    "ex_render.render_disk_frame(frame=sim.state.get_snapshot())"
   ]
  },
  {
   "cell_type": "code",
   "execution_count": null,
   "metadata": {},
   "outputs": [],
   "source": [
    "sim.run(90_000)"
   ]
  },
  {
   "cell_type": "code",
   "execution_count": null,
   "metadata": {},
   "outputs": [],
   "source": []
  },
  {
   "cell_type": "code",
   "execution_count": null,
   "metadata": {},
   "outputs": [],
   "source": [
    "variant = hoomd.variant.Ramp(0, 1, sim.timestep, t_ramp=100_000)\n",
    "\n",
    "initial_box = sim.state.box\n",
    "final_box = hoomd.Box.from_box(initial_box)  # make a copy of initial_box\n",
    "\n",
    "final_box.xy = 1.0\n",
    "\n",
    "resize_box = hoomd.update.BoxResize(hoomd.trigger.Periodic(10), sim.state.box, final_box, variant)\n",
    "\n",
    "sim.operations.updaters.clear()\n",
    "sim.operations.updaters.append(resize_box)"
   ]
  },
  {
   "cell_type": "code",
   "execution_count": null,
   "metadata": {},
   "outputs": [],
   "source": [
    "sim.run(100_000)"
   ]
  },
  {
   "cell_type": "code",
   "execution_count": null,
   "metadata": {},
   "outputs": [],
   "source": []
  }
 ],
 "metadata": {
  "interpreter": {
   "hash": "5d2d6202c98dd52c77e426321e986dfb3f328c6f811129e82382e6b49419afe0"
  },
  "kernelspec": {
   "display_name": "Python 3.8.12 (conda)",
   "language": "python",
   "name": "python3"
  },
  "language_info": {
   "codemirror_mode": {
    "name": "ipython",
    "version": 3
   },
   "file_extension": ".py",
   "mimetype": "text/x-python",
   "name": "python",
   "nbconvert_exporter": "python",
   "pygments_lexer": "ipython3",
   "version": "3.8.12"
  }
 },
 "nbformat": 4,
 "nbformat_minor": 2
}
