{
 "cells": [
  {
   "cell_type": "code",
   "execution_count": null,
   "metadata": {},
   "outputs": [],
   "source": [
    "import numpy as np\n",
    "\n",
    "import matplotlib.pyplot as plt\n",
    "import glob\n",
    "\n",
    "from numba import njit, vectorize, float32\n",
    "\n",
    "from typing import Callable, Optional\n",
    "\n",
    "import hoomd\n",
    "import hoomd.forward_flux.forward_flux as ffs\n",
    "import gsd.hoomd\n",
    "\n",
    "from matplotlib import cm, colors\n",
    "\n",
    "import sys"
   ]
  },
  {
   "cell_type": "code",
   "execution_count": null,
   "metadata": {},
   "outputs": [],
   "source": [
    "sys.path.insert(0, \"/home/ian/Projects/work/monk/src\")\n",
    "sys.path"
   ]
  },
  {
   "cell_type": "code",
   "execution_count": null,
   "metadata": {},
   "outputs": [],
   "source": [
    "from monk import nb\n",
    "from monk import prep\n",
    "from monk import pair\n",
    "import freud\n",
    "import ex_render"
   ]
  },
  {
   "cell_type": "code",
   "execution_count": null,
   "metadata": {},
   "outputs": [],
   "source": [
    "import importlib\n",
    "importlib.reload(ffs);"
   ]
  },
  {
   "cell_type": "code",
   "execution_count": null,
   "metadata": {},
   "outputs": [],
   "source": [
    "def gen_highT_state():\n",
    "    seed = 1000\n",
    "    cpu = hoomd.device.auto_select()\n",
    "    print(cpu)\n",
    "    sim = hoomd.Simulation(cpu, seed=seed)\n",
    "    N = 64\n",
    "    rng = prep.init_rng(seed + 1)\n",
    "    L = prep.len_from_phi(N, 1.2, dim=2)\n",
    "    snap = prep.approx_euclidean_snapshot(N, L, rng, dim=2, ratios=[60,40], diams=[1.0, 0.88])\n",
    "\n",
    "    sim.create_state_from_snapshot(snap)\n",
    "\n",
    "    integrator = hoomd.md.Integrator(dt=0.0025)\n",
    "    tree = hoomd.md.nlist.Tree(0.3)\n",
    "    lj = pair.KA_LJ(tree)\n",
    "    nvt = hoomd.md.methods.NVT(hoomd.filter.All(), 1.0, 1.0)\n",
    "    integrator.forces = [lj]\n",
    "    integrator.methods = [nvt]\n",
    "\n",
    "    sim.always_compute_pressure = True\n",
    "    thermodynamic_properties = hoomd.md.compute.ThermodynamicQuantities(\n",
    "        filter=hoomd.filter.All())\n",
    "    sim.operations.computes.append(thermodynamic_properties)\n",
    "\n",
    "    sim.operations.integrator = integrator\n",
    "\n",
    "    sim.run(0)\n",
    "\n",
    "    print(thermodynamic_properties.pressure)\n",
    "\n",
    "    for i in range(10):\n",
    "\n",
    "        sim.run(40_001, True)\n",
    "\n",
    "        print(i, thermodynamic_properties.pressure)\n",
    "\n",
    "    hoomd.write.GSD.write(sim.state, \"init-state-2d.gsd\")\n",
    "\n",
    "    return\n",
    "    "
   ]
  },
  {
   "cell_type": "markdown",
   "metadata": {},
   "source": [
    "gen_highT_state()"
   ]
  },
  {
   "cell_type": "code",
   "execution_count": null,
   "metadata": {},
   "outputs": [],
   "source": [
    "cpu = hoomd.device.CPU()\n",
    "seed = 3412\n",
    "sim = ffs.ForwardFluxSimulation(cpu, 20, seed=seed)\n",
    "sim.create_state_from_gsd(\"init-state-2d.gsd\")"
   ]
  },
  {
   "cell_type": "code",
   "execution_count": null,
   "metadata": {},
   "outputs": [],
   "source": [
    "from hoomd.custom import Action\n",
    "import freud\n",
    "import time\n",
    "\n",
    "class TrackParticle(Action):\n",
    "\n",
    "    def __init__(self, pid):\n",
    "        self._pid = pid\n",
    "        self.data = []\n",
    "\n",
    "    def act(self, timestep):\n",
    "        # if isinstance(self._simulation.device, hoomd.device.CPU):\n",
    "        with self._state.cpu_local_snapshot as data:\n",
    "            idx = data.particles.rtag[self._pid]\n",
    "            self.data.append(np.array(data.particles.position[idx], copy=True))\n",
    "\n",
    "@njit\n",
    "def _diff_with_rtag(ref_pos, pos, rtags):\n",
    "    out = np.zeros_like(pos)\n",
    "    n = len(rtags)\n",
    "    for tag_idx in range(n):\n",
    "        idx = rtags[tag_idx]\n",
    "        out[idx] = pos[idx] - ref_pos[tag_idx]\n",
    "    return out\n",
    "\n",
    "class ZeroDrift(Action):\n",
    "\n",
    "    def __init__(self, reference_positions, box):\n",
    "        self._ref_pos = reference_positions\n",
    "        self._box = freud.box.Box.from_box(box)\n",
    "\n",
    "    @classmethod\n",
    "    def from_state(cls, state: hoomd.State):\n",
    "        return cls(state.get_snapshot().particles.position, state.box)\n",
    "\n",
    "    def act(self, timestep):\n",
    "        with self._state.cpu_local_snapshot as data:\n",
    "            pos = data.particles.position._coerce_to_ndarray()\n",
    "            rtags = data.particles.rtag._coerce_to_ndarray()\n",
    "            diff = self._box.wrap(_diff_with_rtag(self._ref_pos, pos, rtags))\n",
    "            dx = np.mean(diff, axis=0)\n",
    "            data.particles.position = self._box.wrap(data.particles.position - dx)\n"
   ]
  },
  {
   "cell_type": "code",
   "execution_count": null,
   "metadata": {},
   "outputs": [],
   "source": [
    "integrator = hoomd.md.Integrator(dt=0.0025)\n",
    "tree = hoomd.md.nlist.Tree(0.3)\n",
    "lj = pair.KA_LJ(tree)\n",
    "\n",
    "lang = hoomd.md.methods.Langevin(hoomd.filter.All(), 0.4)\n",
    "integrator.forces = [lj]\n",
    "integrator.methods = [lang]\n",
    "sim.operations.integrator = integrator\n",
    "\n",
    "# set zero drift\n",
    "pos = sim.state.get_snapshot().particles.position\n",
    "box = sim.state.box\n",
    "trigger = hoomd.trigger.Periodic(1)\n",
    "remove_drift = hoomd.update.CustomUpdater(trigger, ZeroDrift(pos, box))\n",
    "sim.operations.updaters.clear()\n",
    "sim.operations.updaters.append(remove_drift)\n",
    "\n",
    "sim.operations.writers.clear()"
   ]
  },
  {
   "cell_type": "code",
   "execution_count": null,
   "metadata": {},
   "outputs": [],
   "source": [
    "print(lang.gamma.default)"
   ]
  },
  {
   "cell_type": "code",
   "execution_count": null,
   "metadata": {},
   "outputs": [],
   "source": [
    "sim.run(40_000)"
   ]
  },
  {
   "cell_type": "code",
   "execution_count": null,
   "metadata": {},
   "outputs": [],
   "source": [
    "writer = hoomd.write.GSD(trigger=hoomd.trigger.Periodic(10), filename=f\"sampling-algo-2.gsd\", mode=\"wb\", filter=hoomd.filter.All(), dynamic=[\"property\", \"momentum\"])\n",
    "sim.operations.writers.append(writer)"
   ]
  },
  {
   "cell_type": "code",
   "execution_count": null,
   "metadata": {},
   "outputs": [],
   "source": [
    "basin_ops, valid_basins, conf_dists = sim.sample_all_sub_basins(40_000, 1, check_interval=100, reset_if_basin_left=True)"
   ]
  },
  {
   "cell_type": "code",
   "execution_count": null,
   "metadata": {},
   "outputs": [],
   "source": [
    "plt.figure(dpi=200)\n",
    "plt.plot(conf_dists)\n",
    "plt.hlines(0.5, *plt.xlim(), color=\"k\", linestyle=\"--\")\n",
    "plt.ylabel(r\"$|\\Omega_i - \\Omega_0|$\")\n",
    "plt.xlabel(r\"$t$\")"
   ]
  },
  {
   "cell_type": "code",
   "execution_count": null,
   "metadata": {},
   "outputs": [],
   "source": [
    "\n",
    "basin = np.array(basin_ops)[valid_basins]\n",
    "print(basin.shape)\n",
    "data = []\n",
    "for i in range(basin.shape[2]):\n",
    "    data.append(np.quantile(basin[:,:,i], .99))\n",
    "\n",
    "plt.hist(basin.flatten(), bins=20)"
   ]
  },
  {
   "cell_type": "code",
   "execution_count": null,
   "metadata": {},
   "outputs": [],
   "source": []
  }
 ],
 "metadata": {
  "interpreter": {
   "hash": "5d2d6202c98dd52c77e426321e986dfb3f328c6f811129e82382e6b49419afe0"
  },
  "kernelspec": {
   "display_name": "Python 3.8.12",
   "language": "python",
   "name": "python3"
  },
  "language_info": {
   "codemirror_mode": {
    "name": "ipython",
    "version": 3
   },
   "file_extension": ".py",
   "mimetype": "text/x-python",
   "name": "python",
   "nbconvert_exporter": "python",
   "pygments_lexer": "ipython3",
   "version": "3.8.12"
  }
 },
 "nbformat": 4,
 "nbformat_minor": 2
}
