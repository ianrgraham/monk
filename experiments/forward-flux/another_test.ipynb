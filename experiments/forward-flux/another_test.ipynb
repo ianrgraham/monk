{
 "cells": [
  {
   "cell_type": "code",
   "execution_count": null,
   "metadata": {},
   "outputs": [],
   "source": [
    "import hoomd\n",
    "import numpy as np\n",
    "\n",
    "from monk import prep, pair\n",
    "\n",
    "from numba import njit"
   ]
  },
  {
   "cell_type": "code",
   "execution_count": null,
   "metadata": {},
   "outputs": [],
   "source": [
    "\n",
    "class CustomAction(hoomd.custom.Action):\n",
    "\n",
    "    def __init__(self):\n",
    "        pass\n",
    "\n",
    "    def act(self, timestep):\n",
    "        with self._state.cpu_local_snapshot as data:\n",
    "            pos = data.particles.position._coerce_to_ndarray()\n",
    "            rtags = data.particles.rtag._coerce_to_ndarray()\n",
    "            tags = data.particles.tag._coerce_to_ndarray()\n",
    "            print(f\"\\n\\n\\n{timestep}\")\n",
    "            print(pos[24])\n",
    "            print(rtags[24])\n",
    "            print(tags[24])"
   ]
  },
  {
   "cell_type": "code",
   "execution_count": null,
   "metadata": {},
   "outputs": [],
   "source": [
    "seed = 1000\n",
    "device = hoomd.device.CPU()\n",
    "sim = hoomd.Simulation(device, seed=seed)\n",
    "N = 64\n",
    "rng = prep.init_rng(seed + 1)\n",
    "L = prep.len_from_phi(N, 1.2, dim=2)\n",
    "snap = prep.approx_euclidean_snapshot(N, L, rng, dim=2, ratios=[60, 40], diams=[1.0, 0.88])\n",
    "\n",
    "print(snap.particles.position[:10])\n",
    "\n",
    "sim.create_state_from_snapshot(snap)"
   ]
  },
  {
   "cell_type": "code",
   "execution_count": null,
   "metadata": {},
   "outputs": [],
   "source": [
    "integrator = hoomd.md.Integrator(dt=0.0025)\n",
    "tree = hoomd.md.nlist.Tree(0.3)\n",
    "lj = pair.KA_LJ(tree)\n",
    "nvt = hoomd.md.methods.NVT(hoomd.filter.All(), 1.0, 0.25)\n",
    "integrator.forces = [lj]\n",
    "integrator.methods = [nvt]\n",
    "\n",
    "sim.operations.integrator = integrator\n",
    "\n",
    "sim.run(0)"
   ]
  },
  {
   "cell_type": "code",
   "execution_count": null,
   "metadata": {},
   "outputs": [],
   "source": [
    "trigger = hoomd.trigger.Periodic(100)\n",
    "remove_drift = hoomd.update.CustomUpdater(trigger, CustomAction())\n",
    "sim.operations.updaters.clear()\n",
    "sim.operations.updaters.append(remove_drift)"
   ]
  },
  {
   "cell_type": "code",
   "execution_count": null,
   "metadata": {},
   "outputs": [],
   "source": [
    "remove_drift.act(sim.timestep)"
   ]
  },
  {
   "cell_type": "code",
   "execution_count": null,
   "metadata": {},
   "outputs": [],
   "source": [
    "sim.run(1000)"
   ]
  },
  {
   "cell_type": "code",
   "execution_count": null,
   "metadata": {},
   "outputs": [],
   "source": [
    "sim.state.get_snapshot().particles.position[59]"
   ]
  },
  {
   "cell_type": "code",
   "execution_count": null,
   "metadata": {},
   "outputs": [],
   "source": [
    "sim.state.get_snapshot()._cpp_obj.particles.position[59]"
   ]
  },
  {
   "cell_type": "code",
   "execution_count": null,
   "metadata": {},
   "outputs": [],
   "source": [
    "sim.state.box._cpp_obj.minImage(10)"
   ]
  },
  {
   "cell_type": "code",
   "execution_count": null,
   "metadata": {},
   "outputs": [],
   "source": [
    "@njit\n",
    "def test(wrap_func):\n",
    "    print(wrap_func([1.0, 2.0, 3.0]))"
   ]
  },
  {
   "cell_type": "code",
   "execution_count": null,
   "metadata": {},
   "outputs": [],
   "source": [
    "test(sim.state.box._cpp_obj.minImage)"
   ]
  },
  {
   "cell_type": "code",
   "execution_count": null,
   "metadata": {},
   "outputs": [],
   "source": []
  }
 ],
 "metadata": {
  "interpreter": {
   "hash": "5d2d6202c98dd52c77e426321e986dfb3f328c6f811129e82382e6b49419afe0"
  },
  "kernelspec": {
   "display_name": "Python 3.8.12",
   "language": "python",
   "name": "python3"
  },
  "language_info": {
   "codemirror_mode": {
    "name": "ipython",
    "version": 3
   },
   "file_extension": ".py",
   "mimetype": "text/x-python",
   "name": "python",
   "nbconvert_exporter": "python",
   "pygments_lexer": "ipython3",
   "version": "3.8.12"
  }
 },
 "nbformat": 4,
 "nbformat_minor": 2
}
