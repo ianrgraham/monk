{
 "cells": [
  {
   "cell_type": "code",
   "execution_count": 1,
   "metadata": {},
   "outputs": [],
   "source": [
    "import hoomd\n",
    "import numpy as np\n",
    "\n",
    "from monk import prep, pair\n",
    "\n",
    "from numba import njit"
   ]
  },
  {
   "cell_type": "code",
   "execution_count": 2,
   "metadata": {},
   "outputs": [],
   "source": [
    "\n",
    "class CustomAction(hoomd.custom.Action):\n",
    "\n",
    "    def __init__(self):\n",
    "        pass\n",
    "\n",
    "    def act(self, timestep):\n",
    "        with self._state.cpu_local_snapshot as data:\n",
    "            pos = data.particles.position._coerce_to_ndarray()\n",
    "            rtags = data.particles.rtag._coerce_to_ndarray()\n",
    "            tags = data.particles.tag._coerce_to_ndarray()\n",
    "            print(f\"\\n\\n\\n{timestep}\")\n",
    "            print(pos[24])\n",
    "            print(rtags[24])\n",
    "            print(tags[24])"
   ]
  },
  {
   "cell_type": "code",
   "execution_count": 3,
   "metadata": {},
   "outputs": [
    {
     "ename": "RuntimeError",
     "evalue": "No supported GPUs are present on this system.\nFailed to get GPU device count: unknown error\n",
     "output_type": "error",
     "traceback": [
      "\u001b[0;31m---------------------------------------------------------------------------\u001b[0m",
      "\u001b[0;31mRuntimeError\u001b[0m                              Traceback (most recent call last)",
      "\u001b[1;32m/home/ian/Projects/work/monk/experiments/forward-flux/another_test.ipynb Cell 3'\u001b[0m in \u001b[0;36m<module>\u001b[0;34m\u001b[0m\n\u001b[1;32m      <a href='vscode-notebook-cell:/home/ian/Projects/work/monk/experiments/forward-flux/another_test.ipynb#ch0000002?line=0'>1</a>\u001b[0m seed \u001b[39m=\u001b[39m \u001b[39m1000\u001b[39m\n\u001b[0;32m----> <a href='vscode-notebook-cell:/home/ian/Projects/work/monk/experiments/forward-flux/another_test.ipynb#ch0000002?line=1'>2</a>\u001b[0m device \u001b[39m=\u001b[39m hoomd\u001b[39m.\u001b[39;49mdevice\u001b[39m.\u001b[39;49mGPU()\n\u001b[1;32m      <a href='vscode-notebook-cell:/home/ian/Projects/work/monk/experiments/forward-flux/another_test.ipynb#ch0000002?line=2'>3</a>\u001b[0m sim \u001b[39m=\u001b[39m hoomd\u001b[39m.\u001b[39mSimulation(device, seed\u001b[39m=\u001b[39mseed)\n\u001b[1;32m      <a href='vscode-notebook-cell:/home/ian/Projects/work/monk/experiments/forward-flux/another_test.ipynb#ch0000002?line=3'>4</a>\u001b[0m N \u001b[39m=\u001b[39m \u001b[39m64\u001b[39m\n",
      "File \u001b[0;32m~/Projects/work/monk/.venv/lib/python3.8/site-packages/hoomd/device.py:230\u001b[0m, in \u001b[0;36mGPU.__init__\u001b[0;34m(self, gpu_ids, num_cpu_threads, communicator, msg_file, notice_level)\u001b[0m\n\u001b[1;32m    <a href='file:///home/ian/Projects/work/monk/.venv/lib/python3.8/site-packages/hoomd/device.py?line=226'>227</a>\u001b[0m     gpu_ids \u001b[39m=\u001b[39m []\n\u001b[1;32m    <a href='file:///home/ian/Projects/work/monk/.venv/lib/python3.8/site-packages/hoomd/device.py?line=228'>229</a>\u001b[0m \u001b[39m# convert None options to defaults\u001b[39;00m\n\u001b[0;32m--> <a href='file:///home/ian/Projects/work/monk/.venv/lib/python3.8/site-packages/hoomd/device.py?line=229'>230</a>\u001b[0m \u001b[39mself\u001b[39m\u001b[39m.\u001b[39m_cpp_exec_conf \u001b[39m=\u001b[39m _hoomd\u001b[39m.\u001b[39;49mExecutionConfiguration(\n\u001b[1;32m    <a href='file:///home/ian/Projects/work/monk/.venv/lib/python3.8/site-packages/hoomd/device.py?line=230'>231</a>\u001b[0m     _hoomd\u001b[39m.\u001b[39;49mExecutionConfiguration\u001b[39m.\u001b[39;49mexecutionMode\u001b[39m.\u001b[39;49mGPU, gpu_ids,\n\u001b[1;32m    <a href='file:///home/ian/Projects/work/monk/.venv/lib/python3.8/site-packages/hoomd/device.py?line=231'>232</a>\u001b[0m     \u001b[39mself\u001b[39;49m\u001b[39m.\u001b[39;49mcommunicator\u001b[39m.\u001b[39;49mcpp_mpi_conf, \u001b[39mself\u001b[39;49m\u001b[39m.\u001b[39;49m_cpp_msg)\n\u001b[1;32m    <a href='file:///home/ian/Projects/work/monk/.venv/lib/python3.8/site-packages/hoomd/device.py?line=233'>234</a>\u001b[0m \u001b[39mif\u001b[39;00m num_cpu_threads \u001b[39mis\u001b[39;00m \u001b[39mnot\u001b[39;00m \u001b[39mNone\u001b[39;00m:\n\u001b[1;32m    <a href='file:///home/ian/Projects/work/monk/.venv/lib/python3.8/site-packages/hoomd/device.py?line=234'>235</a>\u001b[0m     \u001b[39mself\u001b[39m\u001b[39m.\u001b[39mnum_cpu_threads \u001b[39m=\u001b[39m num_cpu_threads\n",
      "\u001b[0;31mRuntimeError\u001b[0m: No supported GPUs are present on this system.\nFailed to get GPU device count: unknown error\n"
     ]
    }
   ],
   "source": [
    "seed = 1000\n",
    "device = hoomd.device.CPU()\n",
    "sim = hoomd.Simulation(device, seed=seed)\n",
    "N = 64\n",
    "rng = prep.init_rng(seed + 1)\n",
    "L = prep.len_from_phi(N, 1.2, dim=2)\n",
    "snap = prep.approx_euclidean_snapshot(N, L, rng, dim=2, ratios=[60, 40], diams=[1.0, 0.88])\n",
    "\n",
    "print(snap.particles.position[:10])\n",
    "\n",
    "sim.create_state_from_snapshot(snap)"
   ]
  },
  {
   "cell_type": "code",
   "execution_count": 28,
   "metadata": {},
   "outputs": [],
   "source": [
    "integrator = hoomd.md.Integrator(dt=0.0025)\n",
    "tree = hoomd.md.nlist.Tree(0.3)\n",
    "lj = pair.KA_LJ(tree)\n",
    "nvt = hoomd.md.methods.NVT(hoomd.filter.All(), 1.0, 0.25)\n",
    "integrator.forces = [lj]\n",
    "integrator.methods = [nvt]\n",
    "\n",
    "sim.operations.integrator = integrator\n",
    "\n",
    "sim.run(0)"
   ]
  },
  {
   "cell_type": "code",
   "execution_count": 39,
   "metadata": {},
   "outputs": [],
   "source": [
    "trigger = hoomd.trigger.Periodic(100)\n",
    "remove_drift = hoomd.update.CustomUpdater(trigger, CustomAction())\n",
    "sim.operations.updaters.clear()\n",
    "sim.operations.updaters.append(remove_drift)"
   ]
  },
  {
   "cell_type": "code",
   "execution_count": 40,
   "metadata": {},
   "outputs": [
    {
     "name": "stdout",
     "output_type": "stream",
     "text": [
      "\n",
      "\n",
      "\n",
      "2000\n",
      "[-1.48723362  3.09052739  0.        ]\n",
      "1\n",
      "59\n"
     ]
    }
   ],
   "source": [
    "remove_drift.act(sim.timestep)"
   ]
  },
  {
   "cell_type": "code",
   "execution_count": 31,
   "metadata": {},
   "outputs": [
    {
     "name": "stdout",
     "output_type": "stream",
     "text": [
      "\n",
      "\n",
      "\n",
      "1000\n",
      "[[-3.63592088  1.21217563  0.        ]\n",
      " [-3.61497589  2.31349965  0.        ]\n",
      " [-3.5867572  -1.86618162  0.        ]\n",
      " [-3.5288457  -3.5737495   0.        ]\n",
      " [-3.38929813 -0.76031246  0.        ]\n",
      " [-3.25130896  0.34242841  0.        ]\n",
      " [-3.12679116 -2.73431658  0.        ]\n",
      " [-2.95516298  2.88780907  0.        ]\n",
      " [-2.94285819  1.63979223  0.        ]\n",
      " [-2.75667968 -3.48536957  0.        ]]\n",
      "[ 3  9 20 29 38 45 47 62 63  6]\n",
      "[48 56 24  0 32 40  9 49 41  1]\n",
      "\n",
      "\n",
      "\n",
      "1100\n",
      "[[ 3.5902266   0.95346076  0.        ]\n",
      " [-3.54930212  2.23302674  0.        ]\n",
      " [ 3.64684708 -1.83178577  0.        ]\n",
      " [-3.42631106 -3.43174716  0.        ]\n",
      " [-3.31805404 -0.89478568  0.        ]\n",
      " [-3.18536828  0.09539848  0.        ]\n",
      " [-3.10595973 -2.4351583   0.        ]\n",
      " [-2.98806146  2.92007058  0.        ]\n",
      " [-3.11488002  1.5179515   0.        ]\n",
      " [-2.62874357 -3.42045343  0.        ]]\n",
      "[ 3  9 20 29 38 45 47 62 63  6]\n",
      "[48 56 24  0 32 40  9 49 41  1]\n",
      "\n",
      "\n",
      "\n",
      "1200\n",
      "[[-3.57756346 -1.82182734  0.        ]\n",
      " [-3.5725834  -3.48475181  0.        ]\n",
      " [-3.34382665  2.13997879  0.        ]\n",
      " [-3.23188326  1.26397191  0.        ]\n",
      " [-3.16424063 -0.84785939  0.        ]\n",
      " [-3.07784848  2.98704827  0.        ]\n",
      " [-3.06547182 -2.46117897  0.        ]\n",
      " [-2.93574178  0.23401942  0.        ]\n",
      " [-2.80758174 -3.41871835  0.        ]\n",
      " [-2.75870561 -1.61922214  0.        ]]\n",
      "[ 1  8 18 27 37 44 45 62 61  6]\n",
      "[24  0 56 41 32 49  9 40  1 17]\n",
      "\n",
      "\n",
      "\n",
      "1300\n",
      "[[ 3.60837069 -1.89200357  0.        ]\n",
      " [-3.43375988 -3.41329227  0.        ]\n",
      " [-3.31878184  2.3702407   0.        ]\n",
      " [-3.13417857  1.35569596  0.        ]\n",
      " [-3.3040316  -0.77375306  0.        ]\n",
      " [-2.92526314  3.15290862  0.        ]\n",
      " [-3.10324597 -2.5282672   0.        ]\n",
      " [-2.87820066  0.18992794  0.        ]\n",
      " [-2.6606406  -3.25316133  0.        ]\n",
      " [-2.9044191  -1.61028066  0.        ]]\n",
      "[ 1  8 18 27 37 44 45 62 61  6]\n",
      "[24  0 56 41 32 49  9 40  1 17]\n",
      "\n",
      "\n",
      "\n",
      "1400\n",
      "[[-3.64993447  3.58359819  0.        ]\n",
      " [-3.23928105 -2.80770237  0.        ]\n",
      " [-3.23135089 -0.80001315  0.        ]\n",
      " [-3.19656717  1.48379733  0.        ]\n",
      " [-3.08558651  2.41035917  0.        ]\n",
      " [-3.07420062  0.2574864   0.        ]\n",
      " [-2.91583735 -1.79054195  0.        ]\n",
      " [-2.71978466  3.27175572  0.        ]\n",
      " [-2.50121117 -0.35057615  0.        ]\n",
      " [-2.48817607 -3.22779117  0.        ]]\n",
      "[ 0  9 19 28 37 44 45 60 58  1]\n",
      "[ 0  9 32 41 56 40 17 49 25  1]\n",
      "\n",
      "\n",
      "\n",
      "1500\n",
      "[[ 3.52483532 -3.6326114   0.        ]\n",
      " [-3.27817034 -2.73674215  0.        ]\n",
      " [-3.26973617 -1.08046791  0.        ]\n",
      " [-3.18922895  1.50313939  0.        ]\n",
      " [-3.10764365  2.28676123  0.        ]\n",
      " [-3.0204207   0.01617864  0.        ]\n",
      " [-2.87879903 -1.86180193  0.        ]\n",
      " [-2.95347789  3.11588145  0.        ]\n",
      " [-2.57971052 -0.64356382  0.        ]\n",
      " [-2.7527487  -3.40094007  0.        ]]\n",
      "[ 0  9 19 28 37 44 45 60 58  1]\n",
      "[ 0  9 32 41 56 40 17 49 25  1]\n",
      "\n",
      "\n",
      "\n",
      "1600\n",
      "[[-3.46284188  0.57923679  0.        ]\n",
      " [-3.25443075 -2.64296751  0.        ]\n",
      " [-3.23590279 -0.94808895  0.        ]\n",
      " [-3.2166221   2.1849727   0.        ]\n",
      " [-3.16156449  1.32519754  0.        ]\n",
      " [-3.09744758  3.06548683  0.        ]\n",
      " [-2.96093355 -3.42143719  0.        ]\n",
      " [-2.84020312 -0.01555306  0.        ]\n",
      " [-2.76836352 -1.66038544  0.        ]\n",
      " [-2.50224471  0.79540715  0.        ]]\n",
      "[62  6 17 27 35 44 46 61 60  1]\n",
      "[48  9 32 56 41 49  1 40 17 42]\n",
      "\n",
      "\n",
      "\n",
      "1700\n",
      "[[-3.50737276  0.42739145  0.        ]\n",
      " [-3.22096839 -2.67379146  0.        ]\n",
      " [-3.36222253 -0.85483227  0.        ]\n",
      " [-3.27454092  2.16201855  0.        ]\n",
      " [-3.18235787  1.34045327  0.        ]\n",
      " [-3.06470676  3.04301357  0.        ]\n",
      " [-2.85758669 -3.45443256  0.        ]\n",
      " [-2.77632779  0.00663164  0.        ]\n",
      " [-2.75207315 -1.60949952  0.        ]\n",
      " [-2.42273194  0.74115052  0.        ]]\n",
      "[62  6 17 27 35 44 46 61 60  1]\n",
      "[48  9 32 56 41 49  1 40 17 42]\n",
      "\n",
      "\n",
      "\n",
      "1800\n",
      "[[-3.62196535 -3.51187803  0.        ]\n",
      " [-3.61018046 -1.93063404  0.        ]\n",
      " [-3.43410951  2.05245517  0.        ]\n",
      " [-3.41056154  0.43954435  0.        ]\n",
      " [-3.25881527 -2.61969123  0.        ]\n",
      " [-3.22205856 -0.85336397  0.        ]\n",
      " [-3.09787548  1.26638596  0.        ]\n",
      " [-3.03658751  3.14135969  0.        ]\n",
      " [-2.80565953 -3.32718528  0.        ]\n",
      " [-2.77557667 -0.04648076  0.        ]]\n",
      "[ 0  8 18 27 38 45 47 63 60  4]\n",
      "[ 0 24 56 48  9 32 41 49  1 40]\n",
      "\n",
      "\n",
      "\n",
      "1900\n",
      "[[ 3.39732217 -3.64261215  0.        ]\n",
      " [-3.47972127 -1.97132128  0.        ]\n",
      " [-3.17986353  2.149919    0.        ]\n",
      " [-3.50581462  0.73602258  0.        ]\n",
      " [-3.37050266 -2.89623629  0.        ]\n",
      " [-3.17140725 -0.8570368   0.        ]\n",
      " [-3.05765515  1.39688488  0.        ]\n",
      " [-3.29295272  3.01509148  0.        ]\n",
      " [-2.9499261  -3.56618317  0.        ]\n",
      " [-2.90682031  0.11670971  0.        ]]\n",
      "[ 0  8 18 27 38 45 47 63 60  4]\n",
      "[ 0 24 56 48  9 32 41 49  1 40]\n"
     ]
    }
   ],
   "source": [
    "sim.run(1000)"
   ]
  },
  {
   "cell_type": "code",
   "execution_count": 43,
   "metadata": {},
   "outputs": [
    {
     "data": {
      "text/plain": [
       "array([-1.48723362,  3.09052739,  0.        ])"
      ]
     },
     "execution_count": 43,
     "metadata": {},
     "output_type": "execute_result"
    }
   ],
   "source": [
    "sim.state.get_snapshot().particles.position[59]"
   ]
  },
  {
   "cell_type": "code",
   "execution_count": 47,
   "metadata": {},
   "outputs": [
    {
     "data": {
      "text/plain": [
       "array([-1.48723362,  3.09052739,  0.        ])"
      ]
     },
     "execution_count": 47,
     "metadata": {},
     "output_type": "execute_result"
    }
   ],
   "source": [
    "sim.state.get_snapshot()._cpp_obj.particles.position[59]"
   ]
  },
  {
   "cell_type": "code",
   "execution_count": 52,
   "metadata": {},
   "outputs": [
    {
     "ename": "TypeError",
     "evalue": "minImage(): incompatible function arguments. The following argument types are supported:\n    1. (self: hoomd._hoomd.BoxDim, arg0: hoomd._hoomd.Scalar3) -> hoomd._hoomd.Scalar3\n\nInvoked with: <hoomd._hoomd.BoxDim object at 0x7f1374580970>, 10",
     "output_type": "error",
     "traceback": [
      "\u001b[0;31m---------------------------------------------------------------------------\u001b[0m",
      "\u001b[0;31mTypeError\u001b[0m                                 Traceback (most recent call last)",
      "\u001b[1;32m/home/ian/Projects/work/monk/experiments/forward-flux/another_test.ipynb Cell 10'\u001b[0m in \u001b[0;36m<module>\u001b[0;34m\u001b[0m\n\u001b[0;32m----> <a href='vscode-notebook-cell:/home/ian/Projects/work/monk/experiments/forward-flux/another_test.ipynb#ch0000009?line=0'>1</a>\u001b[0m sim\u001b[39m.\u001b[39;49mstate\u001b[39m.\u001b[39;49mbox\u001b[39m.\u001b[39;49m_cpp_obj\u001b[39m.\u001b[39;49mminImage(\u001b[39m10\u001b[39;49m)\n",
      "\u001b[0;31mTypeError\u001b[0m: minImage(): incompatible function arguments. The following argument types are supported:\n    1. (self: hoomd._hoomd.BoxDim, arg0: hoomd._hoomd.Scalar3) -> hoomd._hoomd.Scalar3\n\nInvoked with: <hoomd._hoomd.BoxDim object at 0x7f1374580970>, 10"
     ]
    }
   ],
   "source": [
    "sim.state.box._cpp_obj.minImage(10)"
   ]
  },
  {
   "cell_type": "code",
   "execution_count": 53,
   "metadata": {},
   "outputs": [],
   "source": [
    "@njit\n",
    "def test(wrap_func):\n",
    "    print(wrap_func([1.0, 2.0, 3.0]))"
   ]
  },
  {
   "cell_type": "code",
   "execution_count": 54,
   "metadata": {},
   "outputs": [
    {
     "ename": "TypingError",
     "evalue": "Failed in nopython mode pipeline (step: nopython frontend)\n\u001b[1m\u001b[1mnon-precise type pyobject\u001b[0m\n\u001b[0m\u001b[1mDuring: typing of argument at /tmp/ipykernel_3762422/3329954017.py (3)\u001b[0m\n\u001b[1m\nFile \"../../../../../../../tmp/ipykernel_3762422/3329954017.py\", line 3:\u001b[0m\n\u001b[1m<source missing, REPL/exec in use?>\u001b[0m \n\nThis error may have been caused by the following argument(s):\n- argument 0: \u001b[1mCannot determine Numba type of <class 'method'>\u001b[0m\n",
     "output_type": "error",
     "traceback": [
      "\u001b[0;31m---------------------------------------------------------------------------\u001b[0m",
      "\u001b[0;31mTypingError\u001b[0m                               Traceback (most recent call last)",
      "\u001b[1;32m/home/ian/Projects/work/monk/experiments/forward-flux/another_test.ipynb Cell 12'\u001b[0m in \u001b[0;36m<module>\u001b[0;34m\u001b[0m\n\u001b[0;32m----> <a href='vscode-notebook-cell:/home/ian/Projects/work/monk/experiments/forward-flux/another_test.ipynb#ch0000010?line=0'>1</a>\u001b[0m test(sim\u001b[39m.\u001b[39;49mstate\u001b[39m.\u001b[39;49mbox\u001b[39m.\u001b[39;49m_cpp_obj\u001b[39m.\u001b[39;49mminImage)\n",
      "File \u001b[0;32m~/Projects/work/monk/.venv/lib/python3.8/site-packages/numba/core/dispatcher.py:482\u001b[0m, in \u001b[0;36m_DispatcherBase._compile_for_args\u001b[0;34m(self, *args, **kws)\u001b[0m\n\u001b[1;32m    <a href='file:///home/ian/Projects/work/monk/.venv/lib/python3.8/site-packages/numba/core/dispatcher.py?line=477'>478</a>\u001b[0m         msg \u001b[39m=\u001b[39m (\u001b[39mf\u001b[39m\u001b[39m\"\u001b[39m\u001b[39m{\u001b[39;00m\u001b[39mstr\u001b[39m(e)\u001b[39m.\u001b[39mrstrip()\u001b[39m}\u001b[39;00m\u001b[39m \u001b[39m\u001b[39m\\n\u001b[39;00m\u001b[39m\\n\u001b[39;00m\u001b[39mThis error may have been caused \u001b[39m\u001b[39m\"\u001b[39m\n\u001b[1;32m    <a href='file:///home/ian/Projects/work/monk/.venv/lib/python3.8/site-packages/numba/core/dispatcher.py?line=478'>479</a>\u001b[0m                \u001b[39mf\u001b[39m\u001b[39m\"\u001b[39m\u001b[39mby the following argument(s):\u001b[39m\u001b[39m\\n\u001b[39;00m\u001b[39m{\u001b[39;00margs_str\u001b[39m}\u001b[39;00m\u001b[39m\\n\u001b[39;00m\u001b[39m\"\u001b[39m)\n\u001b[1;32m    <a href='file:///home/ian/Projects/work/monk/.venv/lib/python3.8/site-packages/numba/core/dispatcher.py?line=479'>480</a>\u001b[0m         e\u001b[39m.\u001b[39mpatch_message(msg)\n\u001b[0;32m--> <a href='file:///home/ian/Projects/work/monk/.venv/lib/python3.8/site-packages/numba/core/dispatcher.py?line=481'>482</a>\u001b[0m     error_rewrite(e, \u001b[39m'\u001b[39;49m\u001b[39mtyping\u001b[39;49m\u001b[39m'\u001b[39;49m)\n\u001b[1;32m    <a href='file:///home/ian/Projects/work/monk/.venv/lib/python3.8/site-packages/numba/core/dispatcher.py?line=482'>483</a>\u001b[0m \u001b[39mexcept\u001b[39;00m errors\u001b[39m.\u001b[39mUnsupportedError \u001b[39mas\u001b[39;00m e:\n\u001b[1;32m    <a href='file:///home/ian/Projects/work/monk/.venv/lib/python3.8/site-packages/numba/core/dispatcher.py?line=483'>484</a>\u001b[0m     \u001b[39m# Something unsupported is present in the user code, add help info\u001b[39;00m\n\u001b[1;32m    <a href='file:///home/ian/Projects/work/monk/.venv/lib/python3.8/site-packages/numba/core/dispatcher.py?line=484'>485</a>\u001b[0m     error_rewrite(e, \u001b[39m'\u001b[39m\u001b[39munsupported_error\u001b[39m\u001b[39m'\u001b[39m)\n",
      "File \u001b[0;32m~/Projects/work/monk/.venv/lib/python3.8/site-packages/numba/core/dispatcher.py:423\u001b[0m, in \u001b[0;36m_DispatcherBase._compile_for_args.<locals>.error_rewrite\u001b[0;34m(e, issue_type)\u001b[0m\n\u001b[1;32m    <a href='file:///home/ian/Projects/work/monk/.venv/lib/python3.8/site-packages/numba/core/dispatcher.py?line=420'>421</a>\u001b[0m     \u001b[39mraise\u001b[39;00m e\n\u001b[1;32m    <a href='file:///home/ian/Projects/work/monk/.venv/lib/python3.8/site-packages/numba/core/dispatcher.py?line=421'>422</a>\u001b[0m \u001b[39melse\u001b[39;00m:\n\u001b[0;32m--> <a href='file:///home/ian/Projects/work/monk/.venv/lib/python3.8/site-packages/numba/core/dispatcher.py?line=422'>423</a>\u001b[0m     \u001b[39mraise\u001b[39;00m e\u001b[39m.\u001b[39mwith_traceback(\u001b[39mNone\u001b[39;00m)\n",
      "\u001b[0;31mTypingError\u001b[0m: Failed in nopython mode pipeline (step: nopython frontend)\n\u001b[1m\u001b[1mnon-precise type pyobject\u001b[0m\n\u001b[0m\u001b[1mDuring: typing of argument at /tmp/ipykernel_3762422/3329954017.py (3)\u001b[0m\n\u001b[1m\nFile \"../../../../../../../tmp/ipykernel_3762422/3329954017.py\", line 3:\u001b[0m\n\u001b[1m<source missing, REPL/exec in use?>\u001b[0m \n\nThis error may have been caused by the following argument(s):\n- argument 0: \u001b[1mCannot determine Numba type of <class 'method'>\u001b[0m\n"
     ]
    }
   ],
   "source": [
    "test(sim.state.box._cpp_obj.minImage)"
   ]
  },
  {
   "cell_type": "code",
   "execution_count": null,
   "metadata": {},
   "outputs": [],
   "source": []
  }
 ],
 "metadata": {
  "interpreter": {
   "hash": "5d2d6202c98dd52c77e426321e986dfb3f328c6f811129e82382e6b49419afe0"
  },
  "kernelspec": {
   "display_name": "Python 3.8.12",
   "language": "python",
   "name": "python3"
  },
  "language_info": {
   "codemirror_mode": {
    "name": "ipython",
    "version": 3
   },
   "file_extension": ".py",
   "mimetype": "text/x-python",
   "name": "python",
   "nbconvert_exporter": "python",
   "pygments_lexer": "ipython3",
   "version": "3.8.12"
  },
  "orig_nbformat": 4
 },
 "nbformat": 4,
 "nbformat_minor": 2
}
