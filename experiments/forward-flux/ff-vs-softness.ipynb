{
 "cells": [
  {
   "cell_type": "code",
   "execution_count": null,
   "metadata": {},
   "outputs": [],
   "source": [
    "import numpy as np\n",
    "\n",
    "import matplotlib.pyplot as plt\n",
    "\n",
    "from numba import njit, vectorize, float32\n",
    "\n",
    "from monk import nb\n",
    "\n",
    "from typing import Callable, Optional\n",
    "\n",
    "import hoomd\n",
    "import hoomd.forward_flux.forward_flux as ffs\n",
    "import gsd.hoomd\n",
    "\n",
    "from monk import prep\n",
    "from monk import pair\n",
    "import ex_render\n",
    "import pandas as pd\n",
    "\n",
    "from monk import nb\n",
    "\n",
    "import pathlib"
   ]
  },
  {
   "cell_type": "code",
   "execution_count": null,
   "metadata": {},
   "outputs": [],
   "source": [
    "import importlib\n",
    "importlib.reload(ffs);"
   ]
  },
  {
   "cell_type": "code",
   "execution_count": null,
   "metadata": {},
   "outputs": [],
   "source": [
    "data_dir = pathlib.Path(\"/home/ian/Documents/Data/monk/states\")\n",
    "data = {}\n",
    "for file in data_dir.glob(\"*.gsd\"):\n",
    "    name = file.name\n",
    "    temp = float(name.split(\"temp-\")[-1].split(\"_seed\")[0])\n",
    "    if temp >= .65 or temp < 0.5:\n",
    "        continue\n",
    "\n",
    "    sub_data = {}\n",
    "    sub_data[\"traj\"] = file\n",
    "    sub_data[\"soft\"] = file.parents[0].glob(f\"temp-{temp}*.parquet\").__next__()\n",
    "    data[temp] = sub_data"
   ]
  },
  {
   "cell_type": "code",
   "execution_count": null,
   "metadata": {},
   "outputs": [],
   "source": [
    "file = \"traj.gsd\"\n",
    "soft = \"soft.parquet\""
   ]
  },
  {
   "cell_type": "code",
   "execution_count": null,
   "metadata": {},
   "outputs": [],
   "source": [
    "pd.read_parquet(soft)"
   ]
  },
  {
   "cell_type": "code",
   "execution_count": null,
   "metadata": {},
   "outputs": [],
   "source": [
    "from hoomd.custom import Action\n",
    "import freud\n",
    "import time\n",
    "\n",
    "class TrackParticle(Action):\n",
    "\n",
    "    def __init__(self, pid):\n",
    "        self._pid = pid\n",
    "        self.data = []\n",
    "\n",
    "    def act(self, timestep):\n",
    "        # if isinstance(self._simulation.device, hoomd.device.CPU):\n",
    "        with self._state.cpu_local_snapshot as data:\n",
    "            idx = data.particles.rtag[self._pid]\n",
    "            self.data.append(np.array(data.particles.position[idx], copy=True))\n",
    "\n",
    "@njit\n",
    "def _diff_with_rtag(ref_pos, pos, rtags):\n",
    "    out = np.zeros_like(pos)\n",
    "    n = len(rtags)\n",
    "    for tag_idx in range(n):\n",
    "        idx = rtags[tag_idx]\n",
    "        out[idx] = pos[idx] - ref_pos[tag_idx]\n",
    "    return out\n",
    "\n",
    "class ZeroDrift(Action):\n",
    "\n",
    "    def __init__(self, reference_positions, box):\n",
    "        self._ref_pos = reference_positions\n",
    "        self._box = freud.box.Box.from_box(box)\n",
    "\n",
    "    @classmethod\n",
    "    def from_state(cls, state: hoomd.State):\n",
    "        return cls(state.get_snapshot().particles.position, state.box)\n",
    "\n",
    "    def act(self, timestep):\n",
    "        with self._state.cpu_local_snapshot as data:\n",
    "            pos = data.particles.position._coerce_to_ndarray()\n",
    "            rtags = data.particles.rtag._coerce_to_ndarray()\n",
    "            diff = self._box.wrap(_diff_with_rtag(self._ref_pos, pos, rtags))\n",
    "            dx = np.mean(diff, axis=0)\n",
    "            data.particles.position = self._box.wrap(data.particles.position - dx)\n"
   ]
  },
  {
   "cell_type": "code",
   "execution_count": null,
   "metadata": {},
   "outputs": [],
   "source": [
    "import contextlib"
   ]
  },
  {
   "cell_type": "code",
   "execution_count": null,
   "metadata": {},
   "outputs": [],
   "source": [
    "def get_basins(snap, ids, seed, temp, steps=10_000, skip=10) -> np.ndarray:\n",
    "\n",
    "    output = []\n",
    "\n",
    "    print(\"temp:\", temp)\n",
    "\n",
    "    cpu = hoomd.device.CPU()\n",
    "    sim = ffs.ForwardFluxSimulation(cpu, ids[0], seed=seed)\n",
    "    sim.create_state_from_snapshot(snap)\n",
    "    integrator = hoomd.md.Integrator(dt=0.0025)\n",
    "    tree = hoomd.md.nlist.Tree(0.3)\n",
    "    lj = pair.KA_LJ(tree)\n",
    "\n",
    "    lang = hoomd.md.methods.Langevin(hoomd.filter.All(), temp)\n",
    "    integrator.forces = [lj]\n",
    "    integrator.methods = [lang]\n",
    "    sim.operations.integrator = integrator\n",
    "\n",
    "    # set zero drift\n",
    "    pos = sim.state.get_snapshot().particles.position\n",
    "    box = sim.state.box\n",
    "    trigger = hoomd.trigger.Periodic(1)\n",
    "    remove_drift = hoomd.update.CustomUpdater(trigger, ZeroDrift(pos, box))\n",
    "    sim.operations.updaters.clear()\n",
    "    sim.operations.updaters.append(remove_drift)\n",
    "\n",
    "    basin_output = []\n",
    "\n",
    "    for id in ids:\n",
    "        print(\"    id:\", id)\n",
    "        sim.pid = int(id)\n",
    "        basin_op = sim.sample_basin(steps, skip)\n",
    "        basin_output.append(basin_op)\n",
    "        sim.reset_state()\n",
    "\n",
    "    return basin_output"
   ]
  },
  {
   "cell_type": "code",
   "execution_count": null,
   "metadata": {},
   "outputs": [],
   "source": [
    "def run_ff_job(snap, ids, seed, temp, override_basin=None) -> np.ndarray:\n",
    "\n",
    "    output = []\n",
    "\n",
    "    print(\"temp:\", temp)\n",
    "\n",
    "    cpu = hoomd.device.CPU()\n",
    "    sim = ffs.ForwardFluxSimulation(cpu, ids[0], seed=seed)\n",
    "    sim.create_state_from_snapshot(snap)\n",
    "    integrator = hoomd.md.Integrator(dt=0.0025)\n",
    "    tree = hoomd.md.nlist.Tree(0.3)\n",
    "    lj = pair.KA_LJ(tree)\n",
    "\n",
    "    lang = hoomd.md.methods.Langevin(hoomd.filter.All(), temp)\n",
    "    integrator.forces = [lj]\n",
    "    integrator.methods = [lang]\n",
    "    sim.operations.integrator = integrator\n",
    "\n",
    "    # set zero drift\n",
    "    pos = sim.state.get_snapshot().particles.position\n",
    "    box = sim.state.box\n",
    "    trigger = hoomd.trigger.Periodic(1)\n",
    "    remove_drift = hoomd.update.CustomUpdater(trigger, ZeroDrift(pos, box))\n",
    "    sim.operations.updaters.clear()\n",
    "    sim.operations.updaters.append(remove_drift)\n",
    "\n",
    "    if override_basin is not None:\n",
    "        sim.sample_basin(0, 1)\n",
    "        sim.basin_barrier = override_basin\n",
    "        print(\"Universal barrier:\", sim.basin_barrier)\n",
    "\n",
    "    arr_barriers = []\n",
    "    arr_rates = []\n",
    "\n",
    "    for id in ids:\n",
    "        print(\"    id:\", id)\n",
    "        sim.pid = int(id)\n",
    "        if override_basin is None:\n",
    "            basin_op = sim.sample_basin(1_000, 1)\n",
    "            barrier = np.quantile(basin_op, .99)\n",
    "            print(\"    barrier:\", barrier)\n",
    "            sim.basin_barrier = barrier\n",
    "        sim.reset_state()\n",
    "        # with contextlib.redirect_stdout(None):\n",
    "        rate, barriers, rates = sim.run_ff(10_000, collect=100, trials=100, barrier_step=0.01, floor=1e-5, op_thresh=sim.basin_barrier + 0.1, thresh=0.95, verbose=True)\n",
    "        output.append(np.log(rate))\n",
    "        arr_barriers.append(barriers)\n",
    "        arr_rates.append(rates)\n",
    "        sim.reset_state()\n",
    "    return np.array(output), arr_barriers, arr_rates"
   ]
  },
  {
   "cell_type": "code",
   "execution_count": null,
   "metadata": {},
   "outputs": [],
   "source": [
    "frame = 80\n",
    "snap = gsd.hoomd.open(file)[frame]\n",
    "t = snap.log[\"NVT/kT\"][0]\n",
    "print(t)\n",
    "df = pd.read_parquet(soft)\n",
    "ids = np.unique(df[\"ids\"])[:10]\n",
    "basin_dist = get_basins(snap, ids, 1234, t, steps=50_000, skip=1)"
   ]
  },
  {
   "cell_type": "code",
   "execution_count": null,
   "metadata": {},
   "outputs": [],
   "source": [
    "plt.figure(dpi=150)\n",
    "for dist in basin_dist:\n",
    "    plt.hist(dist[:5000], bins=np.linspace(0.0, 0.5, 25), histtype=\"step\", density=True)\n",
    "\n",
    "plt.ylabel(r\"$P(\\Delta x)$\")\n",
    "plt.xlabel(r\"$\\Delta x$\")"
   ]
  },
  {
   "cell_type": "code",
   "execution_count": null,
   "metadata": {},
   "outputs": [],
   "source": [
    "plt.figure(dpi=150)\n",
    "for dist in basin_dist:\n",
    "    plt.hist(dist, bins=np.linspace(0.0, 0.7, 25), histtype=\"step\", density=True)\n",
    "\n",
    "plt.ylabel(r\"$P(\\Delta x)$\")\n",
    "plt.xlabel(r\"$\\Delta x$\")"
   ]
  },
  {
   "cell_type": "code",
   "execution_count": null,
   "metadata": {},
   "outputs": [],
   "source": [
    "frame = 80\n",
    "Np = 100\n",
    "snap = gsd.hoomd.open(file)[frame]\n",
    "t = snap.log[\"NVT/kT\"][0]\n",
    "print(t)\n",
    "df = pd.read_parquet(soft)\n",
    "ids = np.unique(df[\"ids\"])[:Np]\n",
    "dF, arr_barriers, arr_rates = run_ff_job(snap, ids, 1238, t)\n",
    "frame_soft = df[df.frames == frame].softness.values[:Np]"
   ]
  },
  {
   "cell_type": "code",
   "execution_count": null,
   "metadata": {},
   "outputs": [],
   "source": []
  },
  {
   "cell_type": "code",
   "execution_count": null,
   "metadata": {},
   "outputs": [],
   "source": [
    "plt.figure(dpi=150)\n",
    "plt.scatter(frame_soft, np.exp(dF))\n",
    "plt.xlabel(r\"$S$\")\n",
    "plt.ylabel(r\"$\\Delta F$\")"
   ]
  },
  {
   "cell_type": "code",
   "execution_count": null,
   "metadata": {},
   "outputs": [],
   "source": [
    "arr_rates[0][0]"
   ]
  },
  {
   "cell_type": "code",
   "execution_count": null,
   "metadata": {},
   "outputs": [],
   "source": [
    "from matplotlib import cm, colors"
   ]
  },
  {
   "cell_type": "code",
   "execution_count": null,
   "metadata": {},
   "outputs": [],
   "source": [
    "plt.figure(dpi=150)\n",
    "\n",
    "cmap = cm.viridis\n",
    "norm = colors.Normalize(0, 9)\n",
    "\n",
    "for i in range(len(arr_rates)):\n",
    "    i_arr_rates = arr_rates[i]\n",
    "    for j in range(len(i_arr_rates)):\n",
    "        plt.plot(i_arr_rates[j], color=cmap(norm(i)))\n",
    "\n",
    "# plt.yscale('log')"
   ]
  },
  {
   "cell_type": "code",
   "execution_count": null,
   "metadata": {},
   "outputs": [],
   "source": [
    "plt.figure(dpi=150)\n",
    "plt.scatter(frame_soft, -dF)\n",
    "plt.xlabel(r\"$S$\")\n",
    "plt.ylabel(r\"$\\Delta F$\")"
   ]
  },
  {
   "cell_type": "code",
   "execution_count": null,
   "metadata": {},
   "outputs": [],
   "source": [
    "plt.figure(dpi=150)\n",
    "plt.scatter(frame_soft, np.exp(dF))\n",
    "plt.xlabel(r\"$S$\")\n",
    "plt.ylabel(r\"$e^{-\\Delta F}$\")"
   ]
  },
  {
   "cell_type": "code",
   "execution_count": null,
   "metadata": {},
   "outputs": [],
   "source": [
    "for i, (t, d) in enumerate(data.items()):\n",
    "    out_data = {}\n",
    "    df = pd.read_parquet(d[\"soft\"])\n",
    "    ids = np.unique(df[\"ids\"])\n",
    "    frames = np.unique(df[\"frames\"])\n",
    "    frame = int(frames[0])\n",
    "    frame_data = {}\n",
    "    traj_file = d[\"traj\"]\n",
    "    snap = gsd.hoomd.open(str(traj_file))[frame]\n",
    "    dF = run_ff_job(snap, ids, 1234+i, t)\n",
    "    frame_data[\"dF\"] = dF\n",
    "    frame_data[\"S\"] = df[df.frames == frame].softness.values\n",
    "    out_data[frame] = frame_data\n",
    "    data[t][\"ff\"] = out_data\n",
    "    break"
   ]
  },
  {
   "cell_type": "code",
   "execution_count": null,
   "metadata": {},
   "outputs": [],
   "source": [
    "data.values().__iter__().__next__()[\"ff\"][0][\"dF\"].shape"
   ]
  },
  {
   "cell_type": "code",
   "execution_count": null,
   "metadata": {},
   "outputs": [],
   "source": []
  },
  {
   "cell_type": "code",
   "execution_count": null,
   "metadata": {},
   "outputs": [],
   "source": [
    "sim.basin_barrier = 0.2936840136269137"
   ]
  },
  {
   "cell_type": "code",
   "execution_count": null,
   "metadata": {},
   "outputs": [],
   "source": [
    "sim.reset_state()\n",
    "rate, data = sim.run_ff(10_000, collect=10, trials=500, barrier_step=0.01, flex_step=0.0002, floor=1e-20, op_thresh=sim.basin_barrier+0.1, thresh=0.9, thermalize=10_000)"
   ]
  },
  {
   "cell_type": "code",
   "execution_count": null,
   "metadata": {},
   "outputs": [],
   "source": [
    "sim.PID"
   ]
  },
  {
   "cell_type": "code",
   "execution_count": null,
   "metadata": {},
   "outputs": [],
   "source": [
    "sim.reset_state()\n",
    "rate, data = sim.run_ff(100_000, collect=50, trials=100, barrier_step=0.01, flex_step=0.0002, floor=1e-20, op_thresh=sim.basin_barrier+0.1, thresh=0.9)"
   ]
  },
  {
   "cell_type": "code",
   "execution_count": null,
   "metadata": {},
   "outputs": [],
   "source": [
    "rate"
   ]
  },
  {
   "cell_type": "code",
   "execution_count": null,
   "metadata": {},
   "outputs": [],
   "source": []
  }
 ],
 "metadata": {
  "interpreter": {
   "hash": "5d2d6202c98dd52c77e426321e986dfb3f328c6f811129e82382e6b49419afe0"
  },
  "kernelspec": {
   "display_name": "Python 3.8.12 (conda)",
   "language": "python",
   "name": "python3"
  },
  "language_info": {
   "codemirror_mode": {
    "name": "ipython",
    "version": 3
   },
   "file_extension": ".py",
   "mimetype": "text/x-python",
   "name": "python",
   "nbconvert_exporter": "python",
   "pygments_lexer": "ipython3",
   "version": "3.8.12"
  }
 },
 "nbformat": 4,
 "nbformat_minor": 2
}
