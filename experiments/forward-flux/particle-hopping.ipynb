{
 "cells": [
  {
   "cell_type": "markdown",
   "metadata": {},
   "source": [
    "# Particle Hopping Test - April 7th 2022\n",
    "\n",
    "Some code to try implementing forward flux for a very simple test system"
   ]
  },
  {
   "cell_type": "markdown",
   "metadata": {},
   "source": [
    "## Setup"
   ]
  },
  {
   "cell_type": "markdown",
   "metadata": {},
   "source": [
    "### Imports"
   ]
  },
  {
   "cell_type": "code",
   "execution_count": null,
   "metadata": {},
   "outputs": [],
   "source": [
    "import numpy as np\n",
    "\n",
    "import matplotlib.pyplot as plt\n",
    "\n",
    "from numba import njit, vectorize, float32\n",
    "\n",
    "from monk import nb\n",
    "\n",
    "from typing import Callable, Optional"
   ]
  },
  {
   "cell_type": "markdown",
   "metadata": {},
   "source": [
    "### Potential\n",
    "\n",
    "We're going to use a simple quartic potential to emulate a barrier in MD"
   ]
  },
  {
   "cell_type": "code",
   "execution_count": null,
   "metadata": {},
   "outputs": [],
   "source": [
    "@vectorize([float32(float32)])\n",
    "def pot(x):\n",
    "    x2 = x*x\n",
    "    return max(2*x2 - x2*x2, 0.0)\n",
    "\n",
    "SQRT2 = np.sqrt(2.0)\n",
    "\n",
    "@vectorize([float32(float32)])\n",
    "def force(x):\n",
    "    x2 = x*x\n",
    "    if np.abs(x) < SQRT2:\n",
    "        return -4*x + 4*x*x2\n",
    "    else:\n",
    "        return 0.0\n",
    "\n",
    "@njit\n",
    "def force_0(x):\n",
    "    x2 = x*x\n",
    "    if np.abs(x) < SQRT2:\n",
    "        return -4*x + 4*x*x2\n",
    "    else:\n",
    "        return 0.0"
   ]
  },
  {
   "cell_type": "code",
   "execution_count": null,
   "metadata": {},
   "outputs": [],
   "source": [
    "x = np.linspace(-2, 2, 100, dtype=np.float32)\n",
    "y = pot(x)\n",
    "f = force(x)"
   ]
  },
  {
   "cell_type": "code",
   "execution_count": null,
   "metadata": {},
   "outputs": [],
   "source": [
    "fig, axs = plt.subplots(1,2, figsize=(7, 3), tight_layout=True)\n",
    "\n",
    "plt.sca(axs[0])\n",
    "plt.plot(x, y)\n",
    "plt.ylabel(r\"$V$\", size=15)\n",
    "plt.xlabel(r\"$x$\", size=15)\n",
    "\n",
    "plt.sca(axs[1])\n",
    "plt.plot(x, f)\n",
    "plt.ylabel(r\"$-\\frac{dV}{dx}$\", size=15)\n",
    "plt.xlabel(r\"$x$\", size=15)"
   ]
  },
  {
   "cell_type": "markdown",
   "metadata": {},
   "source": [
    "### Order Parameter\n",
    "\n",
    "Our code is going to call upon an order parameter function to determine how far\n",
    "along the simulation state is"
   ]
  },
  {
   "cell_type": "code",
   "execution_count": null,
   "metadata": {},
   "outputs": [],
   "source": [
    "@njit\n",
    "def op(x: float):\n",
    "    return abs(x)"
   ]
  },
  {
   "cell_type": "code",
   "execution_count": null,
   "metadata": {},
   "outputs": [],
   "source": [
    "op(-1.0)"
   ]
  },
  {
   "cell_type": "markdown",
   "metadata": {},
   "source": [
    "## Simulation"
   ]
  },
  {
   "cell_type": "markdown",
   "metadata": {},
   "source": [
    "### Class definition"
   ]
  },
  {
   "cell_type": "code",
   "execution_count": null,
   "metadata": {},
   "outputs": [],
   "source": [
    "# @njit\n",
    "# def _lv_step(xi, vi, ws, m, kT, visc):\n",
    "#     x = xi\n",
    "#     v = vi\n",
    "#     for i in range(len(ws)):\n",
    "\n",
    "\n",
    "\n",
    "class FFTestSim:\n",
    "\n",
    "    MAX_W_N = 1_000\n",
    "    QUANT = 0.99\n",
    "\n",
    "    MAX_STEPS = 100_000_000\n",
    "\n",
    "    def __init__(\n",
    "        self, \n",
    "        kT: float, \n",
    "        rng: np.random.Generator, \n",
    "        op: Callable[[float], float],\n",
    "        force: Callable[[float], float],\n",
    "        threshold: Optional[float] = None,\n",
    "        dt: float = 1e-2,\n",
    "        m: float = 1.0,\n",
    "        visc: float = 1.0\n",
    "    ):\n",
    "        self.x = np.float32(0.0)\n",
    "        self.kT = np.float32(kT)\n",
    "        self.rng = rng\n",
    "        self.op = op\n",
    "        self.force = force\n",
    "        if threshold is not None:\n",
    "            self.threshold = np.float32(threshold)\n",
    "        else:\n",
    "            self.threshold = threshold\n",
    "        self.dt = np.float32(dt)\n",
    "        self.sqrt_dt = np.sqrt(self.dt)\n",
    "        self.m = np.float32(m)\n",
    "        self.visc = np.float32(visc)\n",
    "        self.v = np.float32(0.0)\n",
    "        self.out_x = []\n",
    "        self.out_v = []\n",
    "        self.out_op = []\n",
    "        self._basin = None\n",
    "\n",
    "    def _n_wiener(self, n: int) -> np.ndarray:\n",
    "        return self.rng.normal(scale=self.sqrt_dt*self.kT, size=n)\n",
    "\n",
    "    def _langevin_steps(self, ws: np.ndarray, dump=True):\n",
    "        for w in ws:\n",
    "            self.v += (-self.visc*self.v*self.dt + self.force(self.x)*self.dt + np.sqrt(2.0*self.visc*self.kT)*w)/self.m\n",
    "            self.x += self.v*self.dt\n",
    "            if dump:\n",
    "                self.out_x.append(self.x)\n",
    "                self.out_v.append(self.v)\n",
    "                op_res = self.op(self.x)\n",
    "                self.out_op.append(op_res)\n",
    "\n",
    "    def reset(self):\n",
    "        self.x = np.float32(0.0)\n",
    "        self.v = np.float32(0.0)\n",
    "\n",
    "    def reset_out(self):\n",
    "        self.out_x = []\n",
    "        self.out_v = []\n",
    "        self.out_op = []\n",
    "\n",
    "    def run(self, steps: int):\n",
    "        ws = self._n_wiener(steps)\n",
    "        self._langevin_steps(ws)\n",
    "\n",
    "    def _bootstrap_ff(self, ws: np.ndarray):\n",
    "        ff_states = []\n",
    "        last_op_res = 0.0\n",
    "        for w in ws:\n",
    "            self.v += (-self.visc*self.v*self.dt + self.force(self.x)*self.dt + np.sqrt(2.0*self.visc*self.kT)*w)/self.m\n",
    "            self.x += self.v*self.dt\n",
    "            op_res = self.op(self.x)\n",
    "            if op_res > self.basin and last_op_res < self.basin:\n",
    "                ff_states.append((self.x, self.v))\n",
    "            last_op_res = op_res\n",
    "\n",
    "        return ff_states\n",
    "\n",
    "    def _run_ff_trails(self, state, trials, barrier):\n",
    "        # print(state, trials, barrier)\n",
    "        passed_trials = []\n",
    "        for trial in range(trials):\n",
    "            # print(\"subtrial:\", trial)\n",
    "            self.x = state[0]\n",
    "            self.v = state[1]\n",
    "            trial_done = False\n",
    "            while not trial_done:\n",
    "                ws = self._n_wiener(self.MAX_W_N)\n",
    "                for w in ws:\n",
    "                    self.v += (-self.visc*self.v*self.dt + self.force(self.x)*self.dt + np.sqrt(2.0*self.visc*self.kT)*w)/self.m\n",
    "                    self.x += self.v*self.dt\n",
    "                    op_res = self.op(self.x)\n",
    "                    if op_res < self.basin:\n",
    "                        trial_done = True\n",
    "                        break\n",
    "                    elif op_res > barrier:\n",
    "                        trial_done = True\n",
    "                        passed_trials.append((self.x, self.v))\n",
    "                        break\n",
    "        \n",
    "        return passed_trials\n",
    "                    \n",
    "    \n",
    "    def run_ff(self, samples: int, trials: int, barrier_step: float, thermalize_steps=1000):\n",
    "        if self.basin is None:\n",
    "            raise RuntimeError(\"'self.basin' was not set\")\n",
    "\n",
    "        self.reset()\n",
    "        \n",
    "        # Collecting starting points for trajectory\n",
    "        ws = self._n_wiener(thermalize_steps)\n",
    "        self._langevin_steps(ws, dump=False)\n",
    "\n",
    "        n = 0\n",
    "        ff_states = []\n",
    "        while True:\n",
    "            ws = self._n_wiener(self.MAX_W_N)\n",
    "\n",
    "            new_states = self._bootstrap_ff(ws)\n",
    "            ff_states.extend(new_states)\n",
    "\n",
    "            n += self.MAX_W_N\n",
    "\n",
    "            if len(ff_states) >= samples:\n",
    "                ff_states = ff_states[:samples]\n",
    "                break\n",
    "\n",
    "            if n > self.MAX_STEPS:\n",
    "                raise RuntimeError(\"Max number of simulation steps have been reached\")\n",
    "\n",
    "        # iterate over found samples\n",
    "\n",
    "        time = n*self.dt\n",
    "        base_rate = len(ff_states)/time\n",
    "\n",
    "        fluxes = []\n",
    "        barriers = np.arange(self.basin, 1.1, barrier_step)\n",
    "        for idx, state in enumerate(ff_states):\n",
    "            print(\"state:\", idx)\n",
    "            barrier = self.basin\n",
    "            state_flux = []\n",
    "            last_trial_set = [state]\n",
    "            prod_accum_trials = 1.0\n",
    "            while True:\n",
    "                barrier += barrier_step\n",
    "                if len(last_trial_set) == 0:\n",
    "                    state_flux.append(0.0)\n",
    "                    if barrier > 1.1:  # arbitrary\n",
    "                        break\n",
    "                    else:\n",
    "                        continue\n",
    "                # print(\"barrier:\", barrier)\n",
    "                # print(\"    test_states:\", len(last_trial_set))\n",
    "                all_passed_trials = []\n",
    "                k_trials = trials//len(last_trial_set)\n",
    "                for new_state in last_trial_set:\n",
    "                    passed_trials = self._run_ff_trails(new_state, k_trials, barrier)\n",
    "                    all_passed_trials.extend(passed_trials)\n",
    "                    # print(\"passed trials:\", num_passed_trials)\n",
    "                    # used_trials = trials\n",
    "                last_trial_set = all_passed_trials\n",
    "                prod_accum_trials *= float(k_trials)\n",
    "                state_flux.append(len(all_passed_trials)/(prod_accum_trials))\n",
    "                \n",
    "                if barrier > 1.1:  # arbitrary\n",
    "                    break\n",
    "            fluxes.append(state_flux)\n",
    "            \n",
    "        return base_rate, fluxes, barriers, ff_states\n",
    "\n",
    "    @property\n",
    "    def basin(self):\n",
    "        return self._basin\n",
    "\n",
    "    @basin.setter\n",
    "    def basin(self, value: float):\n",
    "        self._basin = value\n",
    "\n",
    "    def sample_basin(self, steps: int, quant: float = 0.99) -> float:\n",
    "\n",
    "        if quant <= 0.0 or quant >= 1.0:\n",
    "            raise ValueError(\"'quant' must be in the range (0.0, 1.0)\")\n",
    "\n",
    "        self.reset()\n",
    "        self.reset_out()\n",
    "\n",
    "        thres = self.threshold\n",
    "\n",
    "        ws = self._n_wiener(steps)\n",
    "        for w in ws:\n",
    "            x = self.x\n",
    "            self.x += self.v*self.dt\n",
    "            self.v += (-self.visc*self.v*self.dt + self.force(x)*self.dt + np.sqrt(2.0*self.visc*self.kT)*w)/self.m\n",
    "            self.out_x.append(self.x)\n",
    "            self.out_v.append(self.v)\n",
    "            op_res = self.op(self.x)\n",
    "            self.out_op.append(op_res)\n",
    "            # if thres is not None and op_res >= thres:\n",
    "    \n",
    "        return np.quantile(self.out_op, quant)\n",
    "\n",
    "\n"
   ]
  },
  {
   "cell_type": "markdown",
   "metadata": {},
   "source": [
    "### Testing"
   ]
  },
  {
   "cell_type": "code",
   "execution_count": null,
   "metadata": {},
   "outputs": [],
   "source": [
    "rng = np.random.default_rng()"
   ]
  },
  {
   "cell_type": "code",
   "execution_count": null,
   "metadata": {},
   "outputs": [],
   "source": [
    "sim = FFTestSim(0.45, rng, op, lambda x: 0.0, threshold=1.0, dt=0.1)\n",
    "sim.run(100_000)"
   ]
  },
  {
   "cell_type": "code",
   "execution_count": null,
   "metadata": {},
   "outputs": [],
   "source": [
    "from scipy.stats import norm as sp_norm"
   ]
  },
  {
   "cell_type": "code",
   "execution_count": null,
   "metadata": {},
   "outputs": [],
   "source": [
    "plt.hist(sim.out_v, bins=100, density=True);\n",
    "x = np.linspace(-1.0, 1.0, 100)\n",
    "rv = sp_norm(scale=0.3)\n",
    "plt.plot(x, rv.pdf(x))"
   ]
  },
  {
   "cell_type": "code",
   "execution_count": null,
   "metadata": {},
   "outputs": [],
   "source": [
    "sim = FFTestSim(0.40, rng, op, force_0, threshold=1.0, dt=0.1)"
   ]
  },
  {
   "cell_type": "code",
   "execution_count": null,
   "metadata": {},
   "outputs": [],
   "source": [
    "sim.basin = sim.sample_basin(100_000, quant=0.995)"
   ]
  },
  {
   "cell_type": "code",
   "execution_count": null,
   "metadata": {},
   "outputs": [],
   "source": [
    "sim.x"
   ]
  },
  {
   "cell_type": "code",
   "execution_count": null,
   "metadata": {},
   "outputs": [],
   "source": [
    "sim.basin"
   ]
  },
  {
   "cell_type": "code",
   "execution_count": null,
   "metadata": {},
   "outputs": [],
   "source": [
    "ff_data = sim.run_ff(10, 1000, 0.05)"
   ]
  },
  {
   "cell_type": "code",
   "execution_count": null,
   "metadata": {},
   "outputs": [],
   "source": [
    "ff_data[2]"
   ]
  },
  {
   "cell_type": "code",
   "execution_count": null,
   "metadata": {},
   "outputs": [],
   "source": [
    "ff_data[3]"
   ]
  },
  {
   "cell_type": "code",
   "execution_count": null,
   "metadata": {},
   "outputs": [],
   "source": [
    "idx = 0\n",
    "pos = [x[0] for x in ff_data[3][idx]]\n",
    "vel = [x[1] for x in ff_data[3][idx]]\n",
    "\n",
    "plt.plot(ff_data[2], pos, \"x\")\n",
    "\n",
    "plt.plot(ff_data[2], vel, \"o\")"
   ]
  },
  {
   "cell_type": "code",
   "execution_count": null,
   "metadata": {},
   "outputs": [],
   "source": [
    "plt.plot(ff_data[2], ff_data[1][idx])\n",
    "plt.yscale('log')"
   ]
  },
  {
   "cell_type": "code",
   "execution_count": null,
   "metadata": {},
   "outputs": [],
   "source": [
    "ff_data[0]"
   ]
  },
  {
   "cell_type": "code",
   "execution_count": null,
   "metadata": {},
   "outputs": [],
   "source": [
    "for ff in ff_data[1]:\n",
    "    rate = ff_data[0]\n",
    "    curve = []\n",
    "    for f in ff:\n",
    "        rate *= f\n",
    "        curve.append(rate)\n",
    "    plt.plot(ff_data[2][:-1], np.diff(curve))\n",
    "# plt.yscale('log')"
   ]
  },
  {
   "cell_type": "code",
   "execution_count": null,
   "metadata": {},
   "outputs": [],
   "source": [
    "for ff in ff_data[1]:\n",
    "    plt.plot(ff_data[2], ff_data[0]*np.array(ff))\n",
    "plt.yscale('log')\n",
    "plt.vlines(1.0, *plt.ylim(), \"k\", linestyles=\"--\")\n",
    "plt.text(0.96, 5e-7, \"barrier\", size=15, rotation=90)\n",
    "plt.ylabel(r\"$k^{BG}_{AB,i}$\", size=15)\n",
    "plt.xlabel(r\"$\\mathcal{O}=|x|$\", size=15)"
   ]
  },
  {
   "cell_type": "code",
   "execution_count": null,
   "metadata": {},
   "outputs": [],
   "source": [
    "for i, ff in enumerate(ff_data[1]):\n",
    "    plt.plot(np.abs(ff_data[3][i][1]), ff[-1]*ff_data[0], \"x\")\n",
    "plt.yscale('log')\n",
    "plt.xlabel(r\"$\\mathcal{v}_i$\", size=15)\n",
    "plt.ylabel(r\"$k^{BG}_{AB,i}$\", size=15)"
   ]
  },
  {
   "cell_type": "code",
   "execution_count": null,
   "metadata": {},
   "outputs": [],
   "source": [
    "for ff in ff_data[3]:\n",
    "    tmp = ff[0]\n",
    "    plt.plot(tmp[0], np.sign(tmp[0]*tmp[1]), \"x\")"
   ]
  },
  {
   "cell_type": "code",
   "execution_count": null,
   "metadata": {},
   "outputs": [],
   "source": [
    "plt.plot(sim.out_v, label=\"v\");\n",
    "plt.plot(sim.out_x, label=\"x\");\n",
    "plt.legend()"
   ]
  },
  {
   "cell_type": "code",
   "execution_count": null,
   "metadata": {},
   "outputs": [],
   "source": [
    "sim.out_op"
   ]
  },
  {
   "cell_type": "code",
   "execution_count": null,
   "metadata": {},
   "outputs": [],
   "source": [
    "plt.hist(sim.out_x, bins=np.linspace(-1.0, 1.0, 400))\n",
    "plt.xlim(-1.0, 1.0)\n",
    "plt.yscale('log')\n",
    "plt.xlabel(r\"$x$\", size=15)\n",
    "plt.ylabel(r\"$P(x)$\", size=15)"
   ]
  },
  {
   "cell_type": "code",
   "execution_count": null,
   "metadata": {},
   "outputs": [],
   "source": [
    "plt.hist(sim.out_op, bins=np.linspace(0.0, 1.0, 200), density=True)\n",
    "plt.xlim(0.0, 1.0)\n",
    "# plt.yscale('log')\n",
    "plt.vlines(sim.basin, *plt.ylim(), \"k\", linestyles=\"--\")\n",
    "plt.text(sim.basin-.1, 2, \"basin interface\", size=15, rotation=90)\n",
    "plt.xlabel(r\"$\\mathcal{O}=|x|$\", size=15)\n",
    "plt.ylabel(r\"$P(\\mathcal{O})$\", size=15)"
   ]
  },
  {
   "cell_type": "code",
   "execution_count": null,
   "metadata": {},
   "outputs": [],
   "source": [
    "np.quantile(sim.out_op, 0.99)"
   ]
  },
  {
   "cell_type": "code",
   "execution_count": null,
   "metadata": {},
   "outputs": [],
   "source": [
    "data = []\n",
    "kTs = np.linspace(0.05, 0.4, 8)\n",
    "for kT in kTs:\n",
    "    sim = FFTestSim(kT, rng, op, force_0, threshold=1.0, dt=0.1)\n",
    "    sim.run(100_000)\n",
    "    data.append(np.max(sim.out_x))"
   ]
  },
  {
   "cell_type": "code",
   "execution_count": null,
   "metadata": {},
   "outputs": [],
   "source": [
    "plt.plot(kTs, data)\n",
    "# plt.yscale('log')\n",
    "plt.ylim(0.0, 1.0)"
   ]
  },
  {
   "cell_type": "markdown",
   "metadata": {},
   "source": [
    "### How would this work with HOOMDs API?\n",
    "\n",
    "We want to control the simulation state: run, restart, modify state, rerun, restart, etc.\n",
    "But we also want the user to have full control of setting up the simulation state prior to\n",
    "initializing any FFS calculation. HOOMDs `Action` API seems to be a good fit. I'm just\n",
    "not sure how well the trigger mechanism fits within it. Since we're going to have to calculate\n",
    "the order parameter at every timestep (or at least every couple) we are going to have to\n",
    "be working within HOOMD (we can't just wrap everything up in a big ol' python class). \n",
    "\n",
    "Some requirements\n",
    "* The FFS algo is going to have to be able to be interrupted (effeciently) every M simulation steps\n",
    "* Must be able to store and resume many simulation states to implement the BG-FFS algo\n",
    "* Controlling code can just be single threaded\n",
    "* Can I make this multithreaded? If so that would be nice. Have multiple simulation contexts running\n",
    "\n",
    "I think that the best way to implement this may be through a unique `Method` class.\n",
    "The method makes sense with Langevin dynamics, so let's implement that first"
   ]
  },
  {
   "cell_type": "markdown",
   "metadata": {},
   "source": []
  }
 ],
 "metadata": {
  "interpreter": {
   "hash": "5d2d6202c98dd52c77e426321e986dfb3f328c6f811129e82382e6b49419afe0"
  },
  "kernelspec": {
   "display_name": "Python 3.8.12 (conda)",
   "language": "python",
   "name": "python3"
  },
  "language_info": {
   "codemirror_mode": {
    "name": "ipython",
    "version": 3
   },
   "file_extension": ".py",
   "mimetype": "text/x-python",
   "name": "python",
   "nbconvert_exporter": "python",
   "pygments_lexer": "ipython3",
   "version": "3.8.12"
  }
 },
 "nbformat": 4,
 "nbformat_minor": 2
}
