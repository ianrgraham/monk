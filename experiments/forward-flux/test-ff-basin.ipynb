{
 "cells": [
  {
   "cell_type": "code",
   "execution_count": null,
   "metadata": {},
   "outputs": [],
   "source": [
    "import numpy as np\n",
    "\n",
    "import matplotlib.pyplot as plt\n",
    "\n",
    "from numba import njit, vectorize, float32\n",
    "\n",
    "from monk import nb\n",
    "\n",
    "from typing import Callable, Optional\n",
    "\n",
    "import hoomd\n",
    "import hoomd.forward_flux.forward_flux as ffs\n",
    "import gsd.hoomd\n",
    "\n",
    "from monk import prep\n",
    "from monk import pair\n",
    "import ex_render\n",
    "\n",
    "from monk import nb"
   ]
  },
  {
   "cell_type": "code",
   "execution_count": null,
   "metadata": {},
   "outputs": [],
   "source": [
    "cpu = hoomd.device.CPU()\n",
    "seed = 3412\n",
    "sim = ffs.ForwardFluxSimulation(cpu, 20, seed=seed)"
   ]
  },
  {
   "cell_type": "code",
   "execution_count": null,
   "metadata": {},
   "outputs": [],
   "source": [
    "sim.create_state_from_gsd(\"equilibrated-0.4-new.gsd\")"
   ]
  },
  {
   "cell_type": "code",
   "execution_count": null,
   "metadata": {},
   "outputs": [],
   "source": [
    "from hoomd.custom import Action\n",
    "from hoomd.md.compute import Compute\n",
    "import freud\n",
    "import time\n",
    "\n",
    "class TrackParticle(Action):\n",
    "\n",
    "    def __init__(self, pid):\n",
    "        self._pid = pid\n",
    "        self.data = []\n",
    "\n",
    "    def act(self, timestep):\n",
    "        # if isinstance(self._simulation.device, hoomd.device.CPU):\n",
    "        with self._state.cpu_local_snapshot as data:\n",
    "            idx = data.particles.rtag[self._pid]\n",
    "            self.data.append(np.array(data.particles.position[idx], copy=True))\n",
    "\n",
    "@njit\n",
    "def _diff_with_rtag(ref_pos, pos, rtags):\n",
    "    out = np.zeros_like(pos)\n",
    "    n = len(rtags)\n",
    "    for tag_idx in range(n):\n",
    "        idx = rtags[tag_idx]\n",
    "        out[idx] = pos[idx] - ref_pos[tag_idx]\n",
    "    return out\n",
    "\n",
    "class ZeroDrift(Action):\n",
    "\n",
    "    def __init__(self, reference_positions, box):\n",
    "        self._ref_pos = reference_positions\n",
    "        self._box = freud.box.Box.from_box(box)\n",
    "        # self._imgs = np.array([0.0, 0.0, 0.0])\n",
    "\n",
    "    @classmethod\n",
    "    def from_state(cls, state: hoomd.State):\n",
    "        return cls(state.get_snapshot().particles.position, state.box)\n",
    "\n",
    "    def act(self, timestep):\n",
    "        with self._state.cpu_local_snapshot as data:\n",
    "            pos = data.particles.position._coerce_to_ndarray()\n",
    "            rtags = data.particles.rtag._coerce_to_ndarray()\n",
    "            diff = self._box.wrap(_diff_with_rtag(self._ref_pos, pos, rtags))\n",
    "            # plt.hist(diff)\n",
    "            # plt.yscale('log')\n",
    "            # plt.show()\n",
    "            # time.sleep(1.0)\n",
    "            dx = np.mean(diff, axis=0)\n",
    "            data.particles.position = self._box.wrap(data.particles.position - dx)\n",
    "\n",
    "class ComputePropensity(Action):\n",
    "\n",
    "    def __init__(self, reference_positions, box):\n",
    "        self._ref_pos = reference_positions\n",
    "        self._box = freud.box.Box.from_box(box)\n",
    "\n",
    "    @classmethod\n",
    "    def from_state(cls, state: hoomd.State):\n",
    "        return cls(state.get_snapshot().particles.position, state.box)\n",
    "\n",
    "    def act(self, timestep):\n",
    "        with self._state.cpu_local_snapshot as data:\n",
    "            pos = data.particles.position._coerce_to_ndarray()\n",
    "            rtags = data.particles.rtag._coerce_to_ndarray()\n",
    "            diff = self._box.wrap(_diff_with_rtag(self._ref_pos, pos, rtags))\n",
    "            dx = np.mean(diff, axis=0)\n",
    "            data.particles.position = self._box.wrap(data.particles.position - dx)\n"
   ]
  },
  {
   "cell_type": "code",
   "execution_count": null,
   "metadata": {},
   "outputs": [],
   "source": [
    "integrator = hoomd.md.Integrator(dt=0.0025)\n",
    "tree = hoomd.md.nlist.Tree(0.3)\n",
    "# lj = pair.KA_LJ_DPD(tree, 0.1)\n",
    "lj = pair.KA_LJ(tree)\n",
    "# swap_forces = [lj_swap]\n",
    "\n",
    "lang = hoomd.md.methods.Langevin(hoomd.filter.All(), 0.4)\n",
    "# lang = hoomd.md.methods.NVE(hoomd.filter.All())\n",
    "integrator.forces = [lj]\n",
    "integrator.methods = [lang]\n",
    "sim.operations.integrator = integrator\n",
    "\n",
    "# set zero drift\n",
    "pos = sim.state.get_snapshot().particles.position\n",
    "box = sim.state.box\n",
    "trigger = hoomd.trigger.Periodic(1)\n",
    "remove_drift = hoomd.update.CustomUpdater(trigger, ZeroDrift(pos, box))\n",
    "sim.operations.updaters.clear()\n",
    "sim.operations.updaters.append(remove_drift)\n",
    "\n",
    "# add writer\n",
    "# writer = hoomd.write.GSD(trigger=hoomd.trigger.Periodic(10), filename=\"another-test4.gsd\", mode=\"wb\", filter=hoomd.filter.All())\n",
    "# sim.operations.writers.clear()\n",
    "# sim.operations.writers.append(writer)"
   ]
  },
  {
   "cell_type": "code",
   "execution_count": null,
   "metadata": {},
   "outputs": [],
   "source": [
    "sim.run(10_000)"
   ]
  },
  {
   "cell_type": "code",
   "execution_count": null,
   "metadata": {},
   "outputs": [],
   "source": [
    "ex_render.render_sphere_frame(frame=sim.state.get_snapshot())"
   ]
  },
  {
   "cell_type": "code",
   "execution_count": null,
   "metadata": {},
   "outputs": [],
   "source": [
    "sim.run(100_000)"
   ]
  },
  {
   "cell_type": "code",
   "execution_count": null,
   "metadata": {},
   "outputs": [],
   "source": [
    "hoomd.write.GSD.write(sim.state, \"equilibrated-0.4-new.gsd\")"
   ]
  },
  {
   "cell_type": "code",
   "execution_count": null,
   "metadata": {},
   "outputs": [],
   "source": [
    "basin_op = sim.sample_basin(1_000, 1)"
   ]
  },
  {
   "cell_type": "code",
   "execution_count": null,
   "metadata": {},
   "outputs": [],
   "source": [
    "sim.basin_barrier = np.quantile(basin_op, 0.999)\n",
    "sim.basin_barrier"
   ]
  },
  {
   "cell_type": "code",
   "execution_count": null,
   "metadata": {},
   "outputs": [],
   "source": [
    "sim.basin_barrier = 0.1"
   ]
  },
  {
   "cell_type": "code",
   "execution_count": null,
   "metadata": {},
   "outputs": [],
   "source": [
    "sim.basin_barrier = 0.2936840136269137"
   ]
  },
  {
   "cell_type": "code",
   "execution_count": null,
   "metadata": {},
   "outputs": [],
   "source": [
    "plt.hist(basin_op, bins=25)\n",
    "plt.xlabel(r\"$\\Delta r$\")\n",
    "plt.ylabel(r\"$P(\\Delta r)$\")"
   ]
  },
  {
   "cell_type": "code",
   "execution_count": null,
   "metadata": {},
   "outputs": [],
   "source": [
    "plt.plot(basin_op)\n",
    "plt.ylabel(r\"$\\Delta r$\")\n",
    "plt.xlabel(r\"$t$\")"
   ]
  },
  {
   "cell_type": "code",
   "execution_count": null,
   "metadata": {},
   "outputs": [],
   "source": [
    "sim.operations.updaters.clear()"
   ]
  },
  {
   "cell_type": "code",
   "execution_count": null,
   "metadata": {},
   "outputs": [],
   "source": [
    "sim.seed = 100"
   ]
  },
  {
   "cell_type": "code",
   "execution_count": null,
   "metadata": {},
   "outputs": [],
   "source": [
    "sim.timestep"
   ]
  },
  {
   "cell_type": "code",
   "execution_count": null,
   "metadata": {},
   "outputs": [],
   "source": [
    "sim.seed"
   ]
  },
  {
   "cell_type": "code",
   "execution_count": null,
   "metadata": {},
   "outputs": [],
   "source": [
    "trigger = hoomd.trigger.Periodic(1)\n",
    "tracker = hoomd.write.CustomWriter(trigger, TrackParticle(20))\n",
    "sim.operations.writers.append(tracker)"
   ]
  },
  {
   "cell_type": "code",
   "execution_count": null,
   "metadata": {},
   "outputs": [],
   "source": [
    "tracker.action.data.clear"
   ]
  },
  {
   "cell_type": "code",
   "execution_count": null,
   "metadata": {},
   "outputs": [],
   "source": [
    "len(tracker.action.data)"
   ]
  },
  {
   "cell_type": "code",
   "execution_count": null,
   "metadata": {},
   "outputs": [],
   "source": [
    "tracker.action.data[10:]"
   ]
  },
  {
   "cell_type": "code",
   "execution_count": null,
   "metadata": {},
   "outputs": [],
   "source": [
    "sim.operations.updaters.clear()"
   ]
  },
  {
   "cell_type": "code",
   "execution_count": null,
   "metadata": {},
   "outputs": [],
   "source": [
    "sim.reset_state()\n",
    "rate, data = sim.run_ff(10_000, trials=100, barrier_step=0.01, flex_step=True, op_thresh=sim.basin_barrier+0.1, thresh=0.9)"
   ]
  },
  {
   "cell_type": "code",
   "execution_count": null,
   "metadata": {},
   "outputs": [],
   "source": []
  },
  {
   "cell_type": "code",
   "execution_count": null,
   "metadata": {},
   "outputs": [],
   "source": [
    "rate"
   ]
  },
  {
   "cell_type": "code",
   "execution_count": null,
   "metadata": {},
   "outputs": [],
   "source": [
    "sim.basin_barrier"
   ]
  },
  {
   "cell_type": "code",
   "execution_count": null,
   "metadata": {},
   "outputs": [],
   "source": [
    "sim.basin_barrier"
   ]
  },
  {
   "cell_type": "code",
   "execution_count": null,
   "metadata": {},
   "outputs": [],
   "source": [
    "plt.hist(data[0], histtype=\"stepfilled\", density=True, alpha=0.5, bins=100);\n",
    "plt.ylabel"
   ]
  },
  {
   "cell_type": "code",
   "execution_count": null,
   "metadata": {},
   "outputs": [],
   "source": [
    "writer = hoomd.write.GSD(trigger=hoomd.trigger.Periodic(10), filename=\"another-test2.gsd\", mode=\"xb\", filter=hoomd.filter.All())\n",
    "sim.operations.writers.clear()\n",
    "sim.operations.writers.append(writer)\n",
    "sim.run(100_000)"
   ]
  }
 ],
 "metadata": {
  "interpreter": {
   "hash": "5d2d6202c98dd52c77e426321e986dfb3f328c6f811129e82382e6b49419afe0"
  },
  "kernelspec": {
   "display_name": "Python 3.8.12 (conda)",
   "language": "python",
   "name": "python3"
  },
  "language_info": {
   "codemirror_mode": {
    "name": "ipython",
    "version": 3
   },
   "file_extension": ".py",
   "mimetype": "text/x-python",
   "name": "python",
   "nbconvert_exporter": "python",
   "pygments_lexer": "ipython3",
   "version": "3.10.6 | packaged by conda-forge | (main, Aug 22 2022, 20:35:26) [GCC 10.4.0]"
  }
 },
 "nbformat": 4,
 "nbformat_minor": 2
}
