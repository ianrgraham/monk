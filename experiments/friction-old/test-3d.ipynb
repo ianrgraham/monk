{
 "cells": [
  {
   "cell_type": "code",
   "execution_count": null,
   "metadata": {},
   "outputs": [],
   "source": [
    "import hoomd\n",
    "\n",
    "import hoomd.pair_plugin.pair as ppair\n",
    "\n",
    "from monk import prep, pair\n",
    "\n",
    "import ex_render\n",
    "\n",
    "import numpy as np"
   ]
  },
  {
   "cell_type": "code",
   "execution_count": null,
   "metadata": {},
   "outputs": [],
   "source": [
    "N = 512\n",
    "D = 2\n",
    "phi_initial = 0.6\n",
    "phi_final = 0.6\n",
    "L = prep.len_from_phi(N, phi_initial, dim=D)\n",
    "L_final = prep.len_from_phi(N, phi_final, dim=D)"
   ]
  },
  {
   "cell_type": "code",
   "execution_count": null,
   "metadata": {},
   "outputs": [],
   "source": [
    "device = hoomd.device.auto_select()\n",
    "sim = hoomd.Simulation(device, seed=1234)\n",
    "\n",
    "sim.create_state_from_gsd(\"new_test_2d.gsd\")"
   ]
  },
  {
   "cell_type": "code",
   "execution_count": null,
   "metadata": {},
   "outputs": [],
   "source": [
    "class RewrapStrain(hoomd.custom.Action):\n",
    "\n",
    "    def act(self, timestep):\n",
    "        box = self._state.box\n",
    "        xy = box.xy\n",
    "        if xy > 0.5:\n",
    "            xy -= 1.0\n",
    "        elif xy < -0.5:\n",
    "            xy += 1.0\n",
    "        box.xy = xy\n",
    "        if not box.is2D:\n",
    "            yz = box.yz\n",
    "            if yz > 0.5:\n",
    "                yz -= 1.0\n",
    "            elif yz < -0.5:\n",
    "                yz += 1.0\n",
    "            box.yz = yz\n",
    "            xz = box.xz\n",
    "            if xz > 0.5:\n",
    "                xz -= 1.0\n",
    "            elif xz < -0.5:\n",
    "                xz += 1.0\n",
    "            box.xz = xz\n",
    "        self._state.set_box(box)"
   ]
  },
  {
   "cell_type": "code",
   "execution_count": null,
   "metadata": {},
   "outputs": [],
   "source": [
    "\n",
    "k = 10.0\n",
    "\n",
    "# P = [0, 0.2, 0, -.05, 0, 0]\n",
    "\n",
    "integrator = hoomd.md.Integrator(dt=0.01, integrate_rotational_dof=True)\n",
    "# nvt = hoomd.md.methods.NPH(hoomd.filter.All(), 0.2, 1.0, couple=\"none\", box_dof=(False, True, False, False, False, False), gamma=0.1)\n",
    "nvt = hoomd.md.methods.NPH(hoomd.filter.All(), 3*[0.2] + 3*[0.0], 1.0, couple=\"none\", box_dof=(False, True, False, False, False, False), gamma=0.1)\n",
    "\n",
    "tree = hoomd.md.nlist.Tree(0.2)\n",
    "flj = ppair.HarmHPF(tree, default_r_cut=1.0, mode=\"none\", mus=1.0, ks=10.0, mur=1.0, kr=10.0)\n",
    "flj.params[('A', 'A')] = dict(k=10.0, rcut=1.0)\n",
    "flj.r_cut[('A', 'A')] = 1.0\n",
    "flj.params[('A', 'B')] = dict(k=10.0, rcut=1.2)\n",
    "flj.r_cut[('A', 'B')] = 1.2\n",
    "flj.params[('B', 'B')] = dict(k=10.0, rcut=1.4)\n",
    "flj.r_cut[('B', 'B')] = 1.4\n",
    "\n",
    "integrator.forces = [flj]\n",
    "integrator.methods = [nvt]\n",
    "\n",
    "sim.operations.integrator = integrator\n",
    "\n",
    "writer = hoomd.write.GSD(trigger=hoomd.trigger.Periodic(100), filename=\"ver2_test_constant_stress.gsd\", mode=\"wb\", filter=hoomd.filter.All(), dynamic=[\"property\", \"momentum\"])\n",
    "sim.operations.writers.clear()\n",
    "sim.operations.writers.append(writer)\n",
    "\n",
    "custom_action = RewrapStrain()\n",
    "fix_box = hoomd.update.CustomUpdater(hoomd.trigger.Periodic(10), custom_action)\n",
    "\n",
    "sim.operations.updaters.clear()\n",
    "sim.operations.updaters.append(fix_box)"
   ]
  },
  {
   "cell_type": "code",
   "execution_count": null,
   "metadata": {},
   "outputs": [],
   "source": [
    "sim.run(0)"
   ]
  },
  {
   "cell_type": "code",
   "execution_count": null,
   "metadata": {},
   "outputs": [],
   "source": [
    "flj._cpp_obj.gamma = 1.0"
   ]
  },
  {
   "cell_type": "code",
   "execution_count": null,
   "metadata": {},
   "outputs": [],
   "source": [
    "sim.run(60_000)\n",
    "ex_render.render_disk_frame(frame=sim.state.get_snapshot())"
   ]
  },
  {
   "cell_type": "code",
   "execution_count": null,
   "metadata": {},
   "outputs": [],
   "source": [
    "\n",
    "class MyConstantShear(hoomd.custom.Action):\n",
    "    \"\"\"Apply a constant shear rate to the simulation box.\n",
    "    \n",
    "    Arguments\n",
    "    ---------\n",
    "    - gamma: float - the shear rate (in units of box ratio per time step)\n",
    "    - timestep: int - the initial reference timestep\n",
    "    - pair: str - the dimension pair to apply the shear to\"\"\"\n",
    "    def __init__(self, gamma: float, timestep: int, pair: str = \"xz\"):\n",
    "        super().__init__()\n",
    "        self._gamma = gamma\n",
    "        self._last_timestep = timestep\n",
    "        match pair:\n",
    "            case \"xy\":\n",
    "                self._pair_mode = 0\n",
    "            case \"yz\":\n",
    "                self._pair_mode = 1\n",
    "            case \"xz\":\n",
    "                self._pair_mode = 2\n",
    "\n",
    "    def act(self, timestep):\n",
    "        time_diff = timestep - self._last_timestep\n",
    "        self._last_timestep = timestep\n",
    "        box = self._state.box\n",
    "        snap = self._state.get_snapshot()\n",
    "        match self._pair_mode:\n",
    "            case 0: # xy\n",
    "                xy = box.xy + self._gamma * time_diff\n",
    "                if xy > 0.5:\n",
    "                    xy -= 1.0\n",
    "                elif xy < -0.5:\n",
    "                    xy += 1.0\n",
    "                box.xy = xy\n",
    "                snap.particles.position[:, 0] += snap.particles.position[:, 1] * self._gamma * time_diff * box.Lx / box.Ly\n",
    "            case 1: # yz\n",
    "                yz = box.yz + self._gamma * time_diff\n",
    "                if yz > 0.5:\n",
    "                    yz -= 1.0\n",
    "                elif yz < -0.5:\n",
    "                    yz += 1.0\n",
    "                box.yz = yz\n",
    "            case 2: # xz\n",
    "                xz = box.xz + self._gamma * time_diff\n",
    "                if xz > 0.5:\n",
    "                    xz -= 1.0\n",
    "                elif xz < -0.5:\n",
    "                    xz += 1.0\n",
    "                box.xz = xz\n",
    "        self._state.set_snapshot(snap)\n",
    "        self._state.set_box(box)"
   ]
  },
  {
   "cell_type": "code",
   "execution_count": null,
   "metadata": {},
   "outputs": [],
   "source": [
    "custom_action = MyConstantShear(1e-4, sim.timestep, pair=\"xy\")\n",
    "box_resize = hoomd.update.CustomUpdater(hoomd.trigger.Periodic(10), custom_action)\n",
    "\n",
    "sim.operations.updaters.clear()\n",
    "sim.operations.updaters.append(box_resize)"
   ]
  },
  {
   "cell_type": "code",
   "execution_count": null,
   "metadata": {},
   "outputs": [],
   "source": [
    "len(sim.operations.updaters)"
   ]
  },
  {
   "cell_type": "code",
   "execution_count": null,
   "metadata": {},
   "outputs": [],
   "source": [
    "sim.run(40_000)"
   ]
  },
  {
   "cell_type": "code",
   "execution_count": null,
   "metadata": {},
   "outputs": [],
   "source": []
  }
 ],
 "metadata": {
  "kernelspec": {
   "display_name": "Python 3.10.4 (conda)",
   "language": "python",
   "name": "python3"
  },
  "language_info": {
   "codemirror_mode": {
    "name": "ipython",
    "version": 3
   },
   "file_extension": ".py",
   "mimetype": "text/x-python",
   "name": "python",
   "nbconvert_exporter": "python",
   "pygments_lexer": "ipython3",
   "version": "3.10.5"
  },
  "vscode": {
   "interpreter": {
    "hash": "5d2d6202c98dd52c77e426321e986dfb3f328c6f811129e82382e6b49419afe0"
   }
  }
 },
 "nbformat": 4,
 "nbformat_minor": 2
}
