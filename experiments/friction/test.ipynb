{
 "cells": [
  {
   "cell_type": "code",
   "execution_count": null,
   "metadata": {},
   "outputs": [],
   "source": [
    "import hoomd\n",
    "\n",
    "import hoomd.pair_plugin.pair as ppair\n",
    "\n",
    "from monk import prep, pair\n",
    "\n",
    "import ex_render\n",
    "\n",
    "import numpy as np"
   ]
  },
  {
   "cell_type": "code",
   "execution_count": null,
   "metadata": {},
   "outputs": [],
   "source": [
    "N = 512\n",
    "D = 2\n",
    "phi_initial = 0.2\n",
    "phi_final = 1.0\n",
    "L = prep.len_from_phi(N, phi_initial, dim=D)\n",
    "L_final = prep.len_from_phi(N, phi_final, dim=D)"
   ]
  },
  {
   "cell_type": "code",
   "execution_count": null,
   "metadata": {},
   "outputs": [],
   "source": [
    "device = hoomd.device.auto_select()\n",
    "sim = hoomd.Simulation(device, seed=1234)\n",
    "\n",
    "rng = prep.init_rng(123)\n",
    "snap = prep.approx_euclidean_snapshot(N, L, rng, dim=D, particle_types=[\"A\"], ratios=[100], diams=[1.0])\n",
    "snap.particles.moment_inertia = N*[[1, 1, 1]]\n",
    "\n",
    "sim.create_state_from_snapshot(snap)"
   ]
  },
  {
   "cell_type": "code",
   "execution_count": null,
   "metadata": {},
   "outputs": [],
   "source": [
    "ex_render.render_disk_frame(frame=sim.state.get_snapshot())"
   ]
  },
  {
   "cell_type": "code",
   "execution_count": null,
   "metadata": {},
   "outputs": [],
   "source": [
    "# thermalize the system\n",
    "\n",
    "integrator = hoomd.md.Integrator(dt=0.0025, integrate_rotational_dof=False)\n",
    "nvt = hoomd.md.methods.NVT(hoomd.filter.All(), 1.0, 0.25)\n",
    "tree = hoomd.md.nlist.Tree(0.3)\n",
    "# flj = ppair.FrictionLJ(tree, default_r_cut=2.5, mode=\"shift\")\n",
    "# flj.params[('A', 'A')] = dict(epsilon=1.0, aes=1.0, sigma=1.0, delta=0.0, mus=0.0, mur=np.inf, ks=0.0, kr=10.0)\n",
    "\n",
    "flj = hoomd.md.pair.LJ(tree, default_r_cut=2.5)\n",
    "flj.params[('A', 'A')] = dict(epsilon=1.0, sigma=1.0)\n",
    "\n",
    "\n",
    "integrator.forces = [flj]\n",
    "integrator.methods = [nvt]\n",
    "\n",
    "sim.operations.integrator = integrator"
   ]
  },
  {
   "cell_type": "code",
   "execution_count": null,
   "metadata": {},
   "outputs": [],
   "source": [
    "sim.run(0)\n",
    "\n",
    "nvt.thermalize_thermostat_dof()\n",
    "\n",
    "sim.run(40_000)"
   ]
  },
  {
   "cell_type": "code",
   "execution_count": null,
   "metadata": {},
   "outputs": [],
   "source": [
    "ex_render.render_disk_frame(frame=sim.state.get_snapshot())"
   ]
  },
  {
   "cell_type": "code",
   "execution_count": null,
   "metadata": {},
   "outputs": [],
   "source": [
    "hoomd.write.GSD.write(sim.state, \"friction_test.gsd\")"
   ]
  },
  {
   "cell_type": "code",
   "execution_count": null,
   "metadata": {},
   "outputs": [],
   "source": [
    "ramp = hoomd.variant.Ramp(0.0, 1.0, sim.timestep, 4000)\n",
    "initial_box = sim.state.box\n",
    "final_box = hoomd.Box(Lx=L_final, Ly=L_final)\n",
    "box_resize = hoomd.update.BoxResize(hoomd.trigger.Periodic(10), initial_box, final_box, ramp)\n",
    "\n",
    "sim.operations.updaters.append(box_resize)\n",
    "\n",
    "sim.run(4000)"
   ]
  },
  {
   "cell_type": "code",
   "execution_count": null,
   "metadata": {},
   "outputs": [],
   "source": [
    "ex_render.render_disk_frame(frame=sim.state.get_snapshot())"
   ]
  },
  {
   "cell_type": "code",
   "execution_count": null,
   "metadata": {},
   "outputs": [],
   "source": [
    "device = hoomd.device.auto_select()\n",
    "sim = hoomd.Simulation(device, seed=1234)\n",
    "\n",
    "sim.create_state_from_gsd(\"test5.gsd\", 0)"
   ]
  },
  {
   "cell_type": "code",
   "execution_count": null,
   "metadata": {},
   "outputs": [],
   "source": [
    "# thermalize the system\n",
    "\n",
    "# integrator = hoomd.md.minimize.FIRE(\n",
    "#     dt=0.0025,\n",
    "#     force_tol=1e-3,\n",
    "#     angmom_tol=1e-3,\n",
    "#     energy_tol=1e-3,\n",
    "#     integrate_rotational_dof=False)\n",
    "integrator = hoomd.md.Integrator(dt=0.0025, integrate_rotational_dof=False)\n",
    "nvt = hoomd.md.methods.NPT(hoomd.filter.All(), 0.1, 0.25, 0.05, 1.0, couple=\"xyz\", gamma=0.01)\n",
    "tree = hoomd.md.nlist.Tree(0.2)\n",
    "# flj = ppair.FrictionLJ(tree, default_r_cut=2.5, mode=\"shift\")\n",
    "# flj.params[('A', 'A')] = dict(epsilon=1.0, aes=0.0, sigma=1.0, delta=0.0, mus=0.2, mur=0.2, ks=10.0, kr=10.0)\n",
    "\n",
    "flj = hoomd.md.pair.LJ(tree, default_r_cut=2.0**(1/6))\n",
    "flj.params[('A', 'A')] = dict(epsilon=1.0, sigma=1.0)\n",
    "\n",
    "\n",
    "integrator.forces = [flj]\n",
    "integrator.methods = [nvt]\n",
    "\n",
    "sim.operations.integrator = integrator\n",
    "\n",
    "writer = hoomd.write.GSD(trigger=hoomd.trigger.Periodic(400), filename=\"test5.gsd\", mode=\"wb\", filter=hoomd.filter.All())\n",
    "sim.operations.writers.clear()\n",
    "sim.operations.writers.append(writer)\n",
    "\n",
    "\n",
    "sim.run(0)\n",
    "\n",
    "# nvt.thermalize_thermostat_and_barostat_dof()"
   ]
  },
  {
   "cell_type": "markdown",
   "metadata": {},
   "source": [
    "ramp = hoomd.variant.Ramp(0.0, 1.0, sim.timestep, 400)\n",
    "fL = prep.len_from_phi(N, 0.8, dim=D)\n",
    "initial_box = sim.state.box\n",
    "final_box = hoomd.Box(Lx=L_final, Ly=L_final)\n",
    "box_resize = hoomd.update.BoxResize(hoomd.trigger.Periodic(10), initial_box, final_box, ramp)\n",
    "\n",
    "# sim.operations.updaters.append(box_resize)\n",
    "\n",
    "sim.run(400)"
   ]
  },
  {
   "cell_type": "code",
   "execution_count": null,
   "metadata": {},
   "outputs": [],
   "source": [
    "sim.run(40_000)\n",
    "# ex_render.render_sphere_frame(frame=sim.state.get_snapshot())"
   ]
  },
  {
   "cell_type": "code",
   "execution_count": null,
   "metadata": {},
   "outputs": [],
   "source": [
    "# thermalize the system\n",
    "\n",
    "# integrator = hoomd.md.minimize.FIRE(\n",
    "#     dt=0.0025,\n",
    "#     force_tol=1e-3,\n",
    "#     angmom_tol=1e-3,\n",
    "#     energy_tol=1e-3,\n",
    "#     integrate_rotational_dof=False)\n",
    "integrator = hoomd.md.Integrator(dt=0.0025, integrate_rotational_dof=False)\n",
    "nvt = hoomd.md.methods.NVE(hoomd.filter.All())\n",
    "tree = hoomd.md.nlist.Tree(0.2)\n",
    "# flj = ppair.FrictionLJ(tree, default_r_cut=2.5, mode=\"shift\")\n",
    "# flj.params[('A', 'A')] = dict(epsilon=1.0, aes=0.0, sigma=1.0, delta=0.0, mus=0.2, mur=0.2, ks=10.0, kr=10.0)\n",
    "\n",
    "flj = hoomd.md.pair.LJ(tree, default_r_cut=2.0**(1/6))\n",
    "flj.params[('A', 'A')] = dict(epsilon=1.0, sigma=1.0)\n",
    "\n",
    "\n",
    "integrator.forces = [flj]\n",
    "integrator.methods = [nvt]\n",
    "\n",
    "sim.operations.integrator = integrator\n",
    "\n",
    "writer = hoomd.write.GSD(trigger=hoomd.trigger.Periodic(400), filename=\"test6.gsd\", mode=\"wb\", filter=hoomd.filter.All())\n",
    "sim.operations.writers.clear()\n",
    "sim.operations.writers.append(writer)\n",
    "\n",
    "\n",
    "sim.run(0)\n",
    "\n",
    "# nvt.thermalize_thermostat_and_barostat_dof()"
   ]
  },
  {
   "cell_type": "code",
   "execution_count": null,
   "metadata": {},
   "outputs": [],
   "source": [
    "# const integrated flow with 0.1 slope for max 1e8 timesteps\n",
    "ramp = hoomd.variant.Ramp(0.0, 0.0025*0.1e8, sim.timestep, int(1e8))\n",
    "# velocity gradient in z direction and shear flow in x direction.\n",
    "mpf = hoomd.md.update.ReversePerturbationFlow(\n",
    "    filter=hoomd.filter.All(),\n",
    "    flow_target=ramp,\n",
    "    slab_direction=\"Z\",\n",
    "    flow_direction=\"X\",\n",
    "    n_slabs=10\n",
    ")\n",
    "\n",
    "sim.operations.updaters.append(mpf)"
   ]
  },
  {
   "cell_type": "code",
   "execution_count": null,
   "metadata": {},
   "outputs": [],
   "source": [
    "sim.run(0)"
   ]
  },
  {
   "cell_type": "code",
   "execution_count": null,
   "metadata": {},
   "outputs": [],
   "source": [
    "mpf."
   ]
  },
  {
   "cell_type": "code",
   "execution_count": null,
   "metadata": {},
   "outputs": [],
   "source": [
    "sim.run(4_000)"
   ]
  },
  {
   "cell_type": "code",
   "execution_count": null,
   "metadata": {},
   "outputs": [],
   "source": [
    "sim.state.get_snapshot().particles.position"
   ]
  },
  {
   "cell_type": "code",
   "execution_count": null,
   "metadata": {},
   "outputs": [],
   "source": []
  }
 ],
 "metadata": {
  "kernelspec": {
   "display_name": "Python 3.10.4 (conda)",
   "language": "python",
   "name": "python3"
  },
  "language_info": {
   "codemirror_mode": {
    "name": "ipython",
    "version": 3
   },
   "file_extension": ".py",
   "mimetype": "text/x-python",
   "name": "python",
   "nbconvert_exporter": "python",
   "pygments_lexer": "ipython3",
   "version": "3.10.4"
  },
  "vscode": {
   "interpreter": {
    "hash": "5d2d6202c98dd52c77e426321e986dfb3f328c6f811129e82382e6b49419afe0"
   }
  }
 },
 "nbformat": 4,
 "nbformat_minor": 2
}
