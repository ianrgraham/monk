{
 "cells": [
  {
   "cell_type": "code",
   "execution_count": null,
   "metadata": {},
   "outputs": [],
   "source": [
    "import hoomd\n",
    "import numpy as np\n",
    "# import ex_render\n",
    "\n",
    "from monk import mimse, pair, prep"
   ]
  },
  {
   "cell_type": "code",
   "execution_count": null,
   "metadata": {},
   "outputs": [],
   "source": [
    "seed = 1000\n",
    "cpu = hoomd.device.CPU()\n",
    "sim = hoomd.Simulation(cpu, seed=seed)\n",
    "N = 512\n",
    "rng = prep.init_rng(seed + 1)\n",
    "L = prep.len_from_phi(N, 1.2, dim=3)\n",
    "snap = prep.approx_euclidean_snapshot(N, L, rng, dim=3, ratios=[80,20], diams=[1.0, 0.88])\n",
    "\n",
    "sim.create_state_from_snapshot(snap)\n",
    "# sim.create_state_from_gsd()\n",
    "\n",
    "tree = hoomd.md.nlist.Tree(0.2)\n",
    "\n",
    "integrator = hoomd.md.Integrator(dt=0.0025)\n",
    "lang = hoomd.md.methods.Langevin(hoomd.filter.All(), 1.5)\n",
    "lj = pair.KA_LJ(tree)\n",
    "integrator.forces = [lj]\n",
    "integrator.methods = [lang]\n",
    "sim.operations.integrator = integrator\n",
    "\n",
    "sim.run(0)\n",
    "sim.state.thermalize_particle_momenta(hoomd.filter.All(), 1.5)\n",
    "\n",
    "sim.run(1000)\n",
    "\n",
    "sim.operations.integrator = None\n",
    "\n",
    "integrator.forces.pop()\n",
    "del integrator, lang"
   ]
  },
  {
   "cell_type": "code",
   "execution_count": null,
   "metadata": {},
   "outputs": [],
   "source": [
    "hoomd.write.GSD.write(sim.state, \"test-3d.gsd\")"
   ]
  },
  {
   "cell_type": "code",
   "execution_count": null,
   "metadata": {},
   "outputs": [],
   "source": [
    "fire = hoomd.md.minimize.FIRE(0.0025,\n",
    "                              force_tol=1e-2,\n",
    "                              angmom_tol=1e-2,\n",
    "                              energy_tol=1e-7)\n",
    "\n",
    "mimse_force = mimse.MIMSEForce(sim.state.box)\n",
    "nve = hoomd.md.methods.NVE(hoomd.filter.All())\n",
    "fire.forces = [lj]\n",
    "fire.methods = [nve]\n",
    "\n",
    "sim.operations.integrator = fire"
   ]
  },
  {
   "cell_type": "code",
   "execution_count": null,
   "metadata": {},
   "outputs": [],
   "source": []
  },
  {
   "cell_type": "code",
   "execution_count": null,
   "metadata": {},
   "outputs": [],
   "source": [
    "sim.operations.writers.clear()"
   ]
  },
  {
   "cell_type": "code",
   "execution_count": null,
   "metadata": {},
   "outputs": [],
   "source": [
    "thermodynamic_properties = hoomd.md.compute.ThermodynamicQuantities(\n",
    "    filter=hoomd.filter.All())\n",
    "sim.operations.computes.append(thermodynamic_properties)\n",
    "\n",
    "logger = hoomd.logging.Logger(categories=[\"scalar\"])\n",
    "\n",
    "logger.add(thermodynamic_properties, [\"potential_energy\"])\n",
    "\n",
    "writer = hoomd.write.GSD(hoomd.trigger.Periodic(40), filename='test_mimse-3d.gsd', mode=\"wb\", log=logger)\n",
    "\n",
    "sim.operations.writers.append(writer)\n",
    "\n",
    "table = hoomd.write.Table(trigger=hoomd.trigger.Periodic(period=40),\n",
    "                          logger=logger)\n",
    "\n",
    "# sim.operations.writers.append(table)"
   ]
  },
  {
   "cell_type": "code",
   "execution_count": null,
   "metadata": {},
   "outputs": [],
   "source": [
    "sim.run(8000)"
   ]
  },
  {
   "cell_type": "code",
   "execution_count": null,
   "metadata": {},
   "outputs": [],
   "source": []
  },
  {
   "cell_type": "code",
   "execution_count": null,
   "metadata": {},
   "outputs": [],
   "source": [
    "fire.forces.append(mimse_force)"
   ]
  },
  {
   "cell_type": "code",
   "execution_count": null,
   "metadata": {},
   "outputs": [],
   "source": [
    "for i in range(50):\n",
    "    fire.reset()\n",
    "    while not fire.converged:\n",
    "        sim.run(40)\n",
    "    print(lj.energy, mimse_force.energy)\n",
    "    snap = sim.state.get_snapshot()\n",
    "    mimse_force.add_bias(20.0, 1.0, snap.particles.position, np.zeros_like(snap.particles.position))"
   ]
  },
  {
   "cell_type": "code",
   "execution_count": null,
   "metadata": {},
   "outputs": [],
   "source": []
  },
  {
   "cell_type": "code",
   "execution_count": null,
   "metadata": {},
   "outputs": [],
   "source": [
    "mimse_force.nn"
   ]
  },
  {
   "cell_type": "code",
   "execution_count": null,
   "metadata": {},
   "outputs": [],
   "source": [
    "lj.energy"
   ]
  },
  {
   "cell_type": "code",
   "execution_count": null,
   "metadata": {},
   "outputs": [],
   "source": [
    "len(mimse_force.nn)"
   ]
  },
  {
   "cell_type": "code",
   "execution_count": null,
   "metadata": {},
   "outputs": [],
   "source": [
    "sim.run(0)"
   ]
  },
  {
   "cell_type": "code",
   "execution_count": null,
   "metadata": {},
   "outputs": [],
   "source": [
    "x = hoomd._hoomd.make_scalar3(1,10,0)\n",
    "im = hoomd._hoomd.make_int3(0,0,1)\n",
    "flags = hoomd._hoomd.make_char3(0,0,0)\n",
    "y = sim.state.box._cpp_obj.wrap(x, im, flags)"
   ]
  }
 ],
 "metadata": {
  "kernelspec": {
   "display_name": "Python 3.10.4 (conda)",
   "language": "python",
   "name": "python3"
  },
  "language_info": {
   "codemirror_mode": {
    "name": "ipython",
    "version": 3
   },
   "file_extension": ".py",
   "mimetype": "text/x-python",
   "name": "python",
   "nbconvert_exporter": "python",
   "pygments_lexer": "ipython3",
   "version": "3.10.4"
  },
  "vscode": {
   "interpreter": {
    "hash": "5d2d6202c98dd52c77e426321e986dfb3f328c6f811129e82382e6b49419afe0"
   }
  }
 },
 "nbformat": 4,
 "nbformat_minor": 2
}
