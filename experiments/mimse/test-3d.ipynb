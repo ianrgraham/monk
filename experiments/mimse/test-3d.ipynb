{
 "cells": [
  {
   "cell_type": "code",
   "execution_count": 1,
   "metadata": {},
   "outputs": [],
   "source": [
    "import hoomd\n",
    "import numpy as np\n",
    "# import ex_render\n",
    "\n",
    "from monk import mimse, pair, prep"
   ]
  },
  {
   "cell_type": "code",
   "execution_count": 3,
   "metadata": {},
   "outputs": [],
   "source": [
    "seed = 1000\n",
    "cpu = hoomd.device.CPU()\n",
    "sim = hoomd.Simulation(cpu, seed=seed)\n",
    "N = 512\n",
    "rng = prep.init_rng(seed + 1)\n",
    "L = prep.len_from_phi(N, 1.2, dim=3)\n",
    "snap = prep.approx_euclidean_snapshot(N, L, rng, dim=3, ratios=[80,20], diams=[1.0, 0.88])\n",
    "\n",
    "sim.create_state_from_snapshot(snap)\n",
    "# sim.create_state_from_gsd()\n",
    "\n",
    "tree = hoomd.md.nlist.Tree(0.2)\n",
    "\n",
    "integrator = hoomd.md.Integrator(dt=0.0025)\n",
    "lang = hoomd.md.methods.Langevin(hoomd.filter.All(), 1.5)\n",
    "lj = pair.KA_LJ(tree)\n",
    "integrator.forces = [lj]\n",
    "integrator.methods = [lang]\n",
    "sim.operations.integrator = integrator\n",
    "\n",
    "sim.run(0)\n",
    "sim.state.thermalize_particle_momenta(hoomd.filter.All(), 1.5)\n",
    "\n",
    "sim.run(1000)\n",
    "\n",
    "sim.operations.integrator = None\n",
    "\n",
    "integrator.forces.pop()\n",
    "del integrator, lang"
   ]
  },
  {
   "cell_type": "code",
   "execution_count": 4,
   "metadata": {},
   "outputs": [],
   "source": [
    "hoomd.write.GSD.write(sim.state, \"test-3d.gsd\")"
   ]
  },
  {
   "cell_type": "code",
   "execution_count": 5,
   "metadata": {},
   "outputs": [],
   "source": [
    "fire = hoomd.md.minimize.FIRE(0.0025,\n",
    "                              force_tol=1e-2,\n",
    "                              angmom_tol=1e-2,\n",
    "                              energy_tol=1e-7)\n",
    "\n",
    "mimse_force = mimse.MIMSEForce(sim.state.box)\n",
    "nve = hoomd.md.methods.NVE(hoomd.filter.All())\n",
    "fire.forces = [lj]\n",
    "fire.methods = [nve]\n",
    "\n",
    "sim.operations.integrator = fire"
   ]
  },
  {
   "cell_type": "code",
   "execution_count": null,
   "metadata": {},
   "outputs": [],
   "source": []
  },
  {
   "cell_type": "code",
   "execution_count": 6,
   "metadata": {},
   "outputs": [],
   "source": [
    "sim.operations.writers.clear()"
   ]
  },
  {
   "cell_type": "code",
   "execution_count": 7,
   "metadata": {},
   "outputs": [],
   "source": [
    "thermodynamic_properties = hoomd.md.compute.ThermodynamicQuantities(\n",
    "    filter=hoomd.filter.All())\n",
    "sim.operations.computes.append(thermodynamic_properties)\n",
    "\n",
    "logger = hoomd.logging.Logger(categories=[\"scalar\"])\n",
    "\n",
    "logger.add(thermodynamic_properties, [\"potential_energy\"])\n",
    "\n",
    "writer = hoomd.write.GSD(hoomd.trigger.Periodic(40), filename='test_mimse-3d.gsd', mode=\"wb\", log=logger)\n",
    "\n",
    "sim.operations.writers.append(writer)\n",
    "\n",
    "table = hoomd.write.Table(trigger=hoomd.trigger.Periodic(period=40),\n",
    "                          logger=logger)\n",
    "\n",
    "# sim.operations.writers.append(table)"
   ]
  },
  {
   "cell_type": "code",
   "execution_count": 8,
   "metadata": {},
   "outputs": [],
   "source": [
    "sim.run(8000)"
   ]
  },
  {
   "cell_type": "code",
   "execution_count": null,
   "metadata": {},
   "outputs": [],
   "source": []
  },
  {
   "cell_type": "code",
   "execution_count": 9,
   "metadata": {},
   "outputs": [],
   "source": [
    "fire.forces.append(mimse_force)"
   ]
  },
  {
   "cell_type": "code",
   "execution_count": 10,
   "metadata": {},
   "outputs": [
    {
     "name": "stdout",
     "output_type": "stream",
     "text": [
      "-3218.4252835892553 0.0\n",
      "-3222.7472907210326 0.0\n",
      "-3226.311043665231 0.0\n",
      "-3230.7449022810333 0.0\n",
      "-3230.062790207801 0.006316384671052333\n",
      "-3229.679878458587 0.00830142092162589\n",
      "-3230.044357233974 0.0010358396878018539\n",
      "-3230.3800791515855 0.00012460668081359927\n",
      "-3230.4602924346877 0.0008556192359066017\n",
      "-3230.356663748018 0.0012177991277440015\n",
      "-3230.4261656366257 0.0007508572861780749\n",
      "-3229.927830046856 0.009066767171788115\n",
      "-3232.0847012263403 0.0\n",
      "-3231.617316658178 0.00426336173859454\n",
      "-3231.614483334088 0.000775524688947371\n",
      "-3230.8452462496134 0.011145935590732847\n",
      "-3231.4687337885043 0.0024381199012424304\n",
      "-3231.635895550579 0.004013340836266366\n",
      "-3231.3097914878063 0.0026867185517431835\n",
      "-3232.073169818242 0.0012644171484055278\n",
      "-3232.4441717090904 0.0\n",
      "-3232.149486683872 0.0004289752553177095\n",
      "-3231.924756969412 0.0001907955579127929\n",
      "-3231.4870265474683 0.010393328423674575\n",
      "-3231.6631625570303 0.007214998858913191\n",
      "-3231.3404756516543 0.013472941279601969\n",
      "-3232.1571293396364 0.004158056434846458\n",
      "-3231.9711939609447 0.0013383527920751703\n",
      "-3231.872747775446 0.007785773528965478\n",
      "-3234.4499515688995 0.0\n",
      "-3234.42863510305 0.0\n",
      "-3234.0631615966904 1.6539733067588713e-05\n",
      "-3233.6198368145733 0.006334147652538036\n",
      "-3233.6715913156486 0.007431818035570359\n",
      "-3234.1773070718064 0.0005660633587467601\n",
      "-3234.0128901109983 0.0017959163986347448\n",
      "-3233.873776950268 0.0018324789451185097\n",
      "-3233.277366837131 0.010132464710181921\n",
      "-3233.7062983532273 0.0030340045564969387\n",
      "-3233.7410313637524 0.010401936252790733\n",
      "-3233.824655546838 0.0035728891402442287\n",
      "-3233.7503690691165 0.003126538234212717\n",
      "-3233.7863315870036 0.00327593443216756\n",
      "-3233.3227197536416 0.006126890746784852\n",
      "-3233.4552516956805 0.004478944240702276\n",
      "-3233.6145064672974 0.007702367990773951\n",
      "-3233.7833629839547 0.0017995664701686565\n",
      "-3233.3192121391967 0.008317014966365832\n",
      "-3233.4292548926223 0.003089609751114608\n",
      "-3233.590583895027 0.00861668128273152\n"
     ]
    }
   ],
   "source": [
    "for i in range(50):\n",
    "    fire.reset()\n",
    "    while not fire.converged:\n",
    "        sim.run(40)\n",
    "    print(lj.energy, mimse_force.energy)\n",
    "    snap = sim.state.get_snapshot()\n",
    "    mimse_force.add_bias(20.0, 1.0, snap.particles.position, np.zeros_like(snap.particles.position))"
   ]
  },
  {
   "cell_type": "code",
   "execution_count": null,
   "metadata": {},
   "outputs": [],
   "source": []
  },
  {
   "cell_type": "code",
   "execution_count": 9,
   "metadata": {},
   "outputs": [
    {
     "data": {
      "text/plain": [
       "[11, 12, 13]"
      ]
     },
     "execution_count": 9,
     "metadata": {},
     "output_type": "execute_result"
    }
   ],
   "source": [
    "mimse_force.nn"
   ]
  },
  {
   "cell_type": "code",
   "execution_count": 17,
   "metadata": {},
   "outputs": [
    {
     "data": {
      "text/plain": [
       "-793.7219270695075"
      ]
     },
     "execution_count": 17,
     "metadata": {},
     "output_type": "execute_result"
    }
   ],
   "source": [
    "lj.energy"
   ]
  },
  {
   "cell_type": "code",
   "execution_count": 15,
   "metadata": {},
   "outputs": [
    {
     "data": {
      "text/plain": [
       "50"
      ]
     },
     "execution_count": 15,
     "metadata": {},
     "output_type": "execute_result"
    }
   ],
   "source": [
    "len(mimse_force.nn)"
   ]
  },
  {
   "cell_type": "code",
   "execution_count": 10,
   "metadata": {},
   "outputs": [],
   "source": [
    "sim.run(0)"
   ]
  },
  {
   "cell_type": "code",
   "execution_count": 54,
   "metadata": {},
   "outputs": [],
   "source": [
    "x = hoomd._hoomd.make_scalar3(1,10,0)\n",
    "im = hoomd._hoomd.make_int3(0,0,1)\n",
    "flags = hoomd._hoomd.make_char3(0,0,0)\n",
    "y = sim.state.box._cpp_obj.wrap(x, im, flags)"
   ]
  }
 ],
 "metadata": {
  "kernelspec": {
   "display_name": "Python 3.10.4 (conda)",
   "language": "python",
   "name": "python3"
  },
  "language_info": {
   "codemirror_mode": {
    "name": "ipython",
    "version": 3
   },
   "file_extension": ".py",
   "mimetype": "text/x-python",
   "name": "python",
   "nbconvert_exporter": "python",
   "pygments_lexer": "ipython3",
   "version": "3.10.4"
  },
  "orig_nbformat": 4,
  "vscode": {
   "interpreter": {
    "hash": "5d2d6202c98dd52c77e426321e986dfb3f328c6f811129e82382e6b49419afe0"
   }
  }
 },
 "nbformat": 4,
 "nbformat_minor": 2
}
