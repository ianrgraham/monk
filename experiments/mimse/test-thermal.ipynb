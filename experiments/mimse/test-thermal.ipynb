{
 "cells": [
  {
   "cell_type": "code",
   "execution_count": 1,
   "metadata": {},
   "outputs": [],
   "source": [
    "import hoomd\n",
    "import numpy as np\n",
    "# import ex_render\n",
    "\n",
    "from monk import mimse, pair, prep"
   ]
  },
  {
   "cell_type": "code",
   "execution_count": 2,
   "metadata": {},
   "outputs": [],
   "source": [
    "seed = 1000\n",
    "cpu = hoomd.device.CPU()\n",
    "sim = hoomd.Simulation(cpu, seed=seed)\n",
    "N = 512\n",
    "rng = prep.init_rng(seed + 1)\n",
    "L = prep.len_from_phi(N, 1.2, dim=3)\n",
    "snap = prep.approx_euclidean_snapshot(N, L, rng, dim=3, ratios=[80,20], diams=[1.0, 0.88])\n",
    "\n",
    "sim.create_state_from_snapshot(snap)\n",
    "# sim.create_state_from_gsd()\n",
    "\n",
    "tree = hoomd.md.nlist.Tree(0.2)\n",
    "\n",
    "integrator = hoomd.md.Integrator(dt=0.0025)\n",
    "lang = hoomd.md.methods.Langevin(hoomd.filter.All(), 1.5)\n",
    "lj = pair.KA_LJ(tree)\n",
    "integrator.forces = [lj]\n",
    "integrator.methods = [lang]\n",
    "sim.operations.integrator = integrator\n",
    "\n",
    "sim.run(0)\n",
    "sim.state.thermalize_particle_momenta(hoomd.filter.All(), 1.5)\n",
    "\n",
    "sim.run(1000)\n",
    "\n",
    "sim.operations.integrator = None\n",
    "\n",
    "integrator.forces.pop()\n",
    "del integrator, lang"
   ]
  },
  {
   "cell_type": "code",
   "execution_count": 3,
   "metadata": {},
   "outputs": [],
   "source": [
    "# hoomd.write.GSD.write(sim.state, \"test.gsd\")"
   ]
  },
  {
   "cell_type": "code",
   "execution_count": 4,
   "metadata": {},
   "outputs": [],
   "source": [
    "fire = hoomd.md.minimize.FIRE(0.0025,\n",
    "                              force_tol=1e-2,\n",
    "                              angmom_tol=1e-2,\n",
    "                              energy_tol=1e-7)\n",
    "\n",
    "mimse_force = mimse.MIMSEForce(sim.state.box)\n",
    "nve = hoomd.md.methods.NVE(hoomd.filter.All())\n",
    "fire.forces = [lj]\n",
    "fire.methods = [nve]\n",
    "\n",
    "sim.operations.integrator = fire"
   ]
  },
  {
   "cell_type": "code",
   "execution_count": null,
   "metadata": {},
   "outputs": [],
   "source": []
  },
  {
   "cell_type": "code",
   "execution_count": 5,
   "metadata": {},
   "outputs": [],
   "source": [
    "sim.operations.writers.clear()"
   ]
  },
  {
   "cell_type": "code",
   "execution_count": 6,
   "metadata": {},
   "outputs": [],
   "source": [
    "thermodynamic_properties = hoomd.md.compute.ThermodynamicQuantities(\n",
    "    filter=hoomd.filter.All())\n",
    "sim.operations.computes.append(thermodynamic_properties)\n",
    "\n",
    "logger = hoomd.logging.Logger(categories=[\"scalar\"])\n",
    "\n",
    "logger.add(thermodynamic_properties, [\"potential_energy\"])\n",
    "\n",
    "writer = hoomd.write.GSD(hoomd.trigger.Periodic(40), filename='test_mimse.gsd', mode=\"wb\", log=logger, dynamic=[\"momentum\"])\n",
    "\n",
    "sim.operations.writers.append(writer)\n",
    "\n",
    "table = hoomd.write.Table(trigger=hoomd.trigger.Periodic(period=40),\n",
    "                          logger=logger)\n",
    "\n",
    "# sim.operations.writers.append(table)"
   ]
  },
  {
   "cell_type": "code",
   "execution_count": 7,
   "metadata": {},
   "outputs": [],
   "source": [
    "sim.run(8000)"
   ]
  },
  {
   "cell_type": "code",
   "execution_count": 8,
   "metadata": {},
   "outputs": [],
   "source": [
    "fire.forces.pop()\n",
    "del fire, nve"
   ]
  },
  {
   "cell_type": "code",
   "execution_count": 9,
   "metadata": {},
   "outputs": [],
   "source": [
    "integrator = hoomd.md.Integrator(dt=0.0025)\n",
    "\n",
    "nvt = hoomd.md.methods.NVT(hoomd.filter.All(), 0.45, 0.25)\n",
    "integrator.forces = [lj, mimse_force]\n",
    "integrator.methods = [nvt]\n",
    "\n",
    "sim.operations.integrator = integrator"
   ]
  },
  {
   "cell_type": "code",
   "execution_count": 10,
   "metadata": {},
   "outputs": [],
   "source": [
    "nvt.thermalize_thermostat_dof()"
   ]
  },
  {
   "cell_type": "code",
   "execution_count": 12,
   "metadata": {},
   "outputs": [
    {
     "name": "stdout",
     "output_type": "stream",
     "text": [
      "-2877.041636526457 0.0\n",
      "-2809.6049711280198 0.0\n",
      "-2927.924140942348 0.0\n",
      "-2846.4410188783886 0.0\n",
      "-2876.427515282893 0.0\n",
      "-2919.1608794451768 0.0\n",
      "-2858.368643731727 0.0\n",
      "-2878.735165645569 0.0\n",
      "-2910.1488325043697 0.0\n",
      "-2891.8949636924176 0.0\n",
      "-2899.6832361123593 0.0\n",
      "-2897.667462071729 0.0\n",
      "-2890.9286604300887 0.0\n",
      "-2900.1835841456873 0.0\n",
      "-2907.8499952558327 0.0\n",
      "-2893.0888206698137 0.0\n",
      "-2886.792192364322 0.0\n",
      "-2914.115096603367 0.0\n",
      "-2899.5885297304876 0.0\n",
      "-2911.4062295935264 0.0\n",
      "-2915.5355831346424 0.0\n",
      "-2903.4283554026333 0.0\n",
      "-2893.323001638307 0.0\n",
      "-2908.922214104028 0.0\n",
      "-2920.584814207957 0.0\n",
      "-2921.632040759427 0.0\n",
      "-2913.16153930122 0.0\n",
      "-2894.549330997979 0.0\n",
      "-2942.5133861821314 0.0\n",
      "-2895.6790069043923 0.0\n",
      "-2920.518711105033 0.0\n",
      "-2919.1061630112945 0.0\n",
      "-2916.089169062496 0.0\n",
      "-2920.4179741687662 0.0\n",
      "-2930.3739639354603 0.0\n",
      "-2915.8767661540014 0.0\n",
      "-2904.390703002767 0.0\n",
      "-2918.486033266687 0.0\n",
      "-2911.010276998931 0.0\n",
      "-2900.7300632068996 0.0\n",
      "-2910.043447953036 0.0\n",
      "-2909.076857057625 0.0\n",
      "-2925.8131725323015 0.0\n",
      "-2900.1225252186346 0.0\n",
      "-2902.6020000193944 0.0\n",
      "-2936.614526689378 0.0\n",
      "-2908.2598248624586 0.0\n",
      "-2914.04238934689 0.0\n",
      "-2922.873751113276 0.0\n",
      "-2922.273901147803 0.0\n",
      "-2901.472826825528 0.0\n",
      "-2916.463666038512 0.0\n",
      "-2916.710703230138 0.0\n",
      "-2938.26248852897 0.0\n",
      "-2906.6177846113796 0.0\n",
      "-2915.290470589953 0.0\n",
      "-2906.295205698498 0.0\n",
      "-2923.6045620248437 0.0\n",
      "-2919.901724088326 0.0\n",
      "-2941.9795989527356 0.0\n",
      "-2922.523192207782 0.0\n",
      "-2926.502818426868 0.0\n",
      "-2918.1048008249145 0.0\n",
      "-2912.1744578597422 0.0\n",
      "-2919.0221694244456 0.0\n",
      "-2912.32743746412 0.0\n",
      "-2904.813413721695 0.0\n",
      "-2935.810017199526 0.0\n",
      "-2894.2361998093547 0.0\n",
      "-2925.006298744567 0.0\n",
      "-2922.6498833004457 0.0\n",
      "-2919.0425381610844 0.0\n",
      "-2926.8621561223695 0.0\n",
      "-2907.5771376608554 0.0\n",
      "-2940.8897787150227 0.0\n",
      "-2921.766726067734 0.0\n",
      "-2924.7796267089852 0.0\n",
      "-2933.3034276348417 0.0\n",
      "-2924.455299224627 0.0\n",
      "-2923.2707916137374 0.0\n",
      "-2948.859536529673 0.0\n",
      "-2907.8133684601385 0.0\n",
      "-2939.255131297742 0.0\n",
      "-2912.9235591732786 0.0\n",
      "-2905.5609355215124 0.0\n",
      "-2918.124335451354 0.0\n",
      "-2925.3881796994647 0.0\n",
      "-2914.6340690109723 0.0\n",
      "-2899.925788303037 0.0\n",
      "-2915.430217162764 0.0\n",
      "-2914.6281596401363 0.0\n",
      "-2920.423107457364 0.0\n",
      "-2925.7375998619027 0.0\n",
      "-2906.0041560869754 0.0\n",
      "-2901.0583858424866 0.0\n",
      "-2940.025194290293 0.0\n",
      "-2903.207491870944 0.0\n",
      "-2938.864858198518 0.0\n",
      "-2938.1086223533434 0.0\n",
      "-2908.257649496654 0.0\n"
     ]
    }
   ],
   "source": [
    "for i in range(100):\n",
    "    sim.run(400)\n",
    "    print(lj.energy, mimse_force.energy)\n",
    "    snap = sim.state.get_snapshot()\n",
    "    # mimse_force.add_bias(0.45, 1.0, snap.particles.position, np.zeros_like(snap.particles.position))"
   ]
  },
  {
   "cell_type": "code",
   "execution_count": 13,
   "metadata": {},
   "outputs": [
    {
     "data": {
      "text/plain": [
       "-2908.257649496654"
      ]
     },
     "execution_count": 13,
     "metadata": {},
     "output_type": "execute_result"
    }
   ],
   "source": [
    "lj.energy"
   ]
  },
  {
   "cell_type": "code",
   "execution_count": 15,
   "metadata": {},
   "outputs": [
    {
     "name": "stdout",
     "output_type": "stream",
     "text": [
      "-2939.884159146715 0.0\n",
      "-2910.3638080130777 0.0\n",
      "-2925.353977555048 0.0\n",
      "-2920.620264829967 0.0\n",
      "-2914.706714652139 0.0\n",
      "-2934.5381558890185 0.0\n",
      "-2931.84265111635 0.0\n",
      "-2903.5156124073255 0.0\n",
      "-2924.5797460419567 0.0\n",
      "-2916.4479125831645 0.0\n",
      "-2913.110484958179 0.0\n",
      "-2941.2010212049263 0.0\n",
      "-2923.3706742549675 0.0\n",
      "-2910.4668404264653 0.0\n",
      "-2919.0557524366404 0.0\n",
      "-2892.8592495548883 0.0\n",
      "-2907.7355944307383 0.0\n",
      "-2920.215314056663 0.0\n",
      "-2907.1560478796764 0.0\n",
      "-2920.4643700621273 0.0\n",
      "-2921.6369259238 0.0\n",
      "-2911.325169917139 0.0\n",
      "-2932.4479043018437 0.0\n",
      "-2933.2669133896393 0.0\n",
      "-2919.6019784520563 0.0\n",
      "-2936.992872151674 0.0\n",
      "-2914.810135139961 0.0\n",
      "-2923.016444937636 0.0\n",
      "-2906.0389028023087 0.0\n",
      "-2908.0522342504923 0.0\n",
      "-2907.4917986454834 0.0\n",
      "-2919.453037086138 0.0\n",
      "-2933.901222428639 0.0\n",
      "-2897.968500965471 0.0\n",
      "-2939.264726010369 0.0\n",
      "-2929.7707201565886 0.0\n",
      "-2929.0577114857833 0.0\n",
      "-2925.045391055677 0.0\n",
      "-2909.2793183369245 0.0\n",
      "-2919.898507720201 0.0\n",
      "-2956.3720225660563 0.0\n",
      "-2901.3726389890035 0.0\n",
      "-2942.376806829462 0.0\n",
      "-2911.1896426357825 0.0\n",
      "-2915.981674153691 0.0\n",
      "-2941.422595013934 0.0\n",
      "-2910.5979289125808 0.0\n",
      "-2957.7239290193775 0.0\n",
      "-2920.8168805590753 0.0\n",
      "-2903.4336975917217 0.0\n",
      "-2936.5397427537787 0.0\n",
      "-2927.8645255433644 0.0\n",
      "-2892.5757588137026 0.0\n",
      "-2927.647451940542 0.0\n",
      "-2916.534065785954 0.0\n",
      "-2928.2433796679306 0.0\n",
      "-2936.1447892638666 0.0\n",
      "-2913.291862344369 0.0\n",
      "-2938.1061975857183 0.0\n",
      "-2933.253338626987 0.0\n",
      "-2926.807884066264 0.0\n",
      "-2926.5779153457183 0.0\n",
      "-2935.2189250783917 0.0\n",
      "-2903.976592929732 0.0\n",
      "-2923.891570576346 0.0\n",
      "-2941.4523014555493 0.0\n",
      "-2922.7703176173754 0.0\n",
      "-2934.500175014664 0.0\n",
      "-2926.989676060198 0.0\n",
      "-2929.084455396197 0.0\n",
      "-2937.576592571205 0.0\n",
      "-2912.072052562126 0.0\n",
      "-2915.794383774604 0.0\n",
      "-2935.4891412088446 0.0\n",
      "-2909.883764117197 0.0\n",
      "-2940.5487302530314 0.0\n",
      "-2915.042855659839 0.0\n",
      "-2907.0678286365173 0.0\n",
      "-2943.203833280705 0.0\n",
      "-2915.876027890493 0.0\n",
      "-2918.345013443299 0.0\n",
      "-2935.0459775002946 0.0\n",
      "-2924.44290660534 0.0\n",
      "-2921.9445667465216 0.0\n",
      "-2953.630083855675 0.0\n",
      "-2905.8817143098254 0.0\n",
      "-2933.0932328076506 0.0\n",
      "-2931.7351751719725 0.0\n",
      "-2921.9986561705873 0.0\n",
      "-2944.4633184151453 0.0\n",
      "-2933.0405553823803 0.0\n",
      "-2913.2193051405557 0.0\n",
      "-2948.9381248287104 0.0\n",
      "-2906.99208856966 0.0\n",
      "-2935.4414237280193 0.0\n",
      "-2931.2804595452676 0.0\n",
      "-2939.715282724036 0.0\n",
      "-2911.6555610435857 0.0\n",
      "-2924.703726924876 0.0\n",
      "-2935.6649578894107 0.0\n"
     ]
    }
   ],
   "source": [
    "for i in range(100):\n",
    "    sim.run(400)\n",
    "    print(lj.energy, mimse_force.energy)\n",
    "    snap = sim.state.get_snapshot()\n",
    "    mimse_force.add_bias(2, 1.0, snap.particles.position, np.zeros_like(snap.particles.position))"
   ]
  },
  {
   "cell_type": "code",
   "execution_count": 45,
   "metadata": {},
   "outputs": [
    {
     "data": {
      "text/plain": [
       "[199]"
      ]
     },
     "execution_count": 45,
     "metadata": {},
     "output_type": "execute_result"
    }
   ],
   "source": [
    "mimse_force.nn"
   ]
  },
  {
   "cell_type": "code",
   "execution_count": 46,
   "metadata": {},
   "outputs": [
    {
     "name": "stdout",
     "output_type": "stream",
     "text": [
      "200\n"
     ]
    }
   ],
   "source": [
    "print(len(mimse_force.bias_rads))"
   ]
  },
  {
   "cell_type": "code",
   "execution_count": 17,
   "metadata": {},
   "outputs": [
    {
     "data": {
      "text/plain": [
       "-793.7219270695075"
      ]
     },
     "execution_count": 17,
     "metadata": {},
     "output_type": "execute_result"
    }
   ],
   "source": [
    "lj.energy"
   ]
  },
  {
   "cell_type": "code",
   "execution_count": 15,
   "metadata": {},
   "outputs": [
    {
     "data": {
      "text/plain": [
       "50"
      ]
     },
     "execution_count": 15,
     "metadata": {},
     "output_type": "execute_result"
    }
   ],
   "source": [
    "len(mimse_force.nn)"
   ]
  },
  {
   "cell_type": "code",
   "execution_count": 10,
   "metadata": {},
   "outputs": [],
   "source": [
    "sim.run(0)"
   ]
  },
  {
   "cell_type": "code",
   "execution_count": 54,
   "metadata": {},
   "outputs": [],
   "source": [
    "x = hoomd._hoomd.make_scalar3(1,10,0)\n",
    "im = hoomd._hoomd.make_int3(0,0,1)\n",
    "flags = hoomd._hoomd.make_char3(0,0,0)\n",
    "y = sim.state.box._cpp_obj.wrap(x, im, flags)b\n"
   ]
  },
  {
   "cell_type": "code",
   "execution_count": 16,
   "metadata": {},
   "outputs": [],
   "source": [
    "import gsd.hoomd"
   ]
  },
  {
   "cell_type": "code",
   "execution_count": 17,
   "metadata": {},
   "outputs": [],
   "source": [
    "traj = gsd.hoomd.open(\"test_mimse.gsd\")"
   ]
  },
  {
   "cell_type": "code",
   "execution_count": 29,
   "metadata": {},
   "outputs": [],
   "source": [
    "lj_u = []\n",
    "for i in range(len(traj)): \n",
    "    lj_u.append(traj[i].log.values().__iter__().__next__()[0])"
   ]
  },
  {
   "cell_type": "code",
   "execution_count": 32,
   "metadata": {},
   "outputs": [],
   "source": [
    "import matplotlib.pyplot as plt"
   ]
  },
  {
   "cell_type": "code",
   "execution_count": 54,
   "metadata": {},
   "outputs": [
    {
     "data": {
      "text/plain": [
       "<matplotlib.collections.LineCollection at 0x7fb23d9b7c40>"
      ]
     },
     "execution_count": 54,
     "metadata": {},
     "output_type": "execute_result"
    },
    {
     "data": {
      "image/png": "[encoded data removed]",
      "text/plain": [
       "<Figure size 900x600 with 1 Axes>"
      ]
     },
     "metadata": {
      "needs_background": "light"
     },
     "output_type": "display_data"
    }
   ],
   "source": [
    "plt.figure(dpi=150)\n",
    "plt.plot(np.linspace(0, len(lj_u)*.1, len(lj_u)), lj_u[:])\n",
    "plt.ylabel(r\"$U_{LJ}$\")\n",
    "plt.xlabel(r\"$t \\; [\\tau_{lj}]$\")\n",
    "lims = plt.ylim()\n",
    "plt.vlines(20, *lims, color=\"k\", linestyle='--')\n",
    "plt.vlines(20+110, *lims, color=\"k\", linestyle='--')"
   ]
  },
  {
   "cell_type": "code",
   "execution_count": 38,
   "metadata": {},
   "outputs": [
    {
     "data": {
      "text/plain": [
       "2600"
      ]
     },
     "execution_count": 38,
     "metadata": {},
     "output_type": "execute_result"
    }
   ],
   "source": [
    "len(lj_u[700:])"
   ]
  },
  {
   "cell_type": "code",
   "execution_count": null,
   "metadata": {},
   "outputs": [],
   "source": []
  }
 ],
 "metadata": {
  "kernelspec": {
   "display_name": "Python 3.10.4 (conda)",
   "language": "python",
   "name": "python3"
  },
  "language_info": {
   "codemirror_mode": {
    "name": "ipython",
    "version": 3
   },
   "file_extension": ".py",
   "mimetype": "text/x-python",
   "name": "python",
   "nbconvert_exporter": "python",
   "pygments_lexer": "ipython3",
   "version": "3.10.4"
  },
  "orig_nbformat": 4,
  "vscode": {
   "interpreter": {
    "hash": "5d2d6202c98dd52c77e426321e986dfb3f328c6f811129e82382e6b49419afe0"
   }
  }
 },
 "nbformat": 4,
 "nbformat_minor": 2
}
