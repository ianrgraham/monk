{
 "cells": [
  {
   "cell_type": "code",
   "execution_count": 2,
   "metadata": {},
   "outputs": [],
   "source": [
    "import numpy as np\n",
    "import matplotlib.pyplot as plt"
   ]
  },
  {
   "cell_type": "code",
   "execution_count": 31,
   "metadata": {},
   "outputs": [],
   "source": [
    "def wlj(dx, params, r_cut, shift=False):\n",
    "    epsilon = params[\"epsilon_a\"]\n",
    "    sigma = params[\"sigma\"]\n",
    "    delta = params[\"delta_a\"]\n",
    "    e_shift = 0.0\n",
    "\n",
    "    dr = np.linalg.norm(dx)\n",
    "\n",
    "    if dr < sigma * 2 ** (1/6):\n",
    "        epsilon = params[\"epsilon\"]\n",
    "        delta = params[\"delta\"]\n",
    "        e_shift = -params[\"epsilon_a\"] + params[\"epsilon\"]\n",
    "\n",
    "    dsigma = (1.0 - delta/2.0**(1/6)) * sigma\n",
    "\n",
    "    if dr >= r_cut:\n",
    "        return np.array([0.0, 0.0, 0.0], dtype=np.float64), 0.0\n",
    "\n",
    "    f = 4.0 * epsilon * (12.0 * dsigma ** 12 / (dr - delta) ** 13 - 6.0 * dsigma ** 6 / (dr - delta) ** 7) * np.array(dx, dtype=np.float64) / dr\n",
    "    e = 4.0 * epsilon * (dsigma ** 12 / (dr - delta) ** 12 - dsigma ** 6 / (dr - delta) ** 6) + e_shift\n",
    "    if shift:\n",
    "        e -= 4.0 * epsilon * (dsigma ** 12 / (r_cut - delta) ** 12 - dsigma ** 6 / (r_cut - delta) ** 6)\n",
    "\n",
    "    return f, e"
   ]
  },
  {
   "cell_type": "code",
   "execution_count": 32,
   "metadata": {},
   "outputs": [],
   "source": [
    "\n",
    "params = {\"epsilon\": 1.0, \"sigma\": 1.5, \"delta\": 0.0, \"epsilon_a\": 0.0, \"delta_a\": 0.0}\n",
    "r_cut = 2.5"
   ]
  },
  {
   "cell_type": "code",
   "execution_count": 35,
   "metadata": {},
   "outputs": [
    {
     "data": {
      "image/png": "[encoded data removed]",
      "text/plain": [
       "<Figure size 432x288 with 1 Axes>"
      ]
     },
     "metadata": {
      "needs_background": "light"
     },
     "output_type": "display_data"
    }
   ],
   "source": [
    "for sigma in [0.5, 0.7, 0.9, 1.0]:\n",
    "    params = {\"epsilon\": 1.5, \"sigma\": sigma, \"delta\": 0.0, \"epsilon_a\": 0.5, \"delta_a\": 0.0}\n",
    "    r_cut = 2.5\n",
    "    rs = np.linspace(1.0, r_cut, 100)\n",
    "    f = []\n",
    "    e = []\n",
    "    for r in rs:\n",
    "        d = wlj([r, 0, 0], params, r_cut)\n",
    "        f.append(d[0][0])\n",
    "        e.append(d[1])\n",
    "    plt.plot(rs, e)"
   ]
  },
  {
   "cell_type": "code",
   "execution_count": null,
   "metadata": {},
   "outputs": [],
   "source": []
  }
 ],
 "metadata": {
  "kernelspec": {
   "display_name": "Python 3.10.6 (conda)",
   "language": "python",
   "name": "python3"
  },
  "language_info": {
   "codemirror_mode": {
    "name": "ipython",
    "version": 3
   },
   "file_extension": ".py",
   "mimetype": "text/x-python",
   "name": "python",
   "nbconvert_exporter": "python",
   "pygments_lexer": "ipython3",
   "version": "3.10.6 | packaged by conda-forge | (main, Aug 22 2022, 20:35:26) [GCC 10.4.0]"
  },
  "orig_nbformat": 4,
  "vscode": {
   "interpreter": {
    "hash": "5d2d6202c98dd52c77e426321e986dfb3f328c6f811129e82382e6b49419afe0"
   }
  }
 },
 "nbformat": 4,
 "nbformat_minor": 2
}
