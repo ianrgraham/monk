{
 "cells": [
  {
   "cell_type": "markdown",
   "metadata": {},
   "source": [
    "# Oscillatory Shear Test - April 14th 2022"
   ]
  },
  {
   "cell_type": "code",
   "execution_count": null,
   "metadata": {},
   "outputs": [],
   "source": [
    "import numpy as np\n",
    "\n",
    "import matplotlib.pyplot as plt\n",
    "\n",
    "from monk import nb\n",
    "\n",
    "from typing import Callable, Optional\n",
    "\n",
    "import hoomd\n",
    "import gsd.hoomd\n",
    "\n",
    "from monk import prep\n",
    "from monk import pair\n",
    "\n",
    "import ex_render"
   ]
  },
  {
   "cell_type": "code",
   "execution_count": null,
   "metadata": {},
   "outputs": [],
   "source": [
    "seed = 124\n",
    "device = hoomd.device.auto_select()\n",
    "sim = hoomd.Simulation(device, seed=seed)\n",
    "\n",
    "N = 512\n",
    "rng = prep.init_rng(seed + 1)\n",
    "snap = prep.approx_euclidean_snapshot(N, 25, rng, ratios=[50,50], diams=[1.0, 1.4])\n",
    "\n",
    "sim.create_state_from_snapshot(snap)\n",
    "sim.state.thermalize_particle_momenta(hoomd.filter.All(), 0.01)\n",
    "# sim.always_compute_pressure = True"
   ]
  },
  {
   "cell_type": "code",
   "execution_count": null,
   "metadata": {},
   "outputs": [],
   "source": [
    "ex_render.render_disk_frame(frame=sim.state.get_snapshot())"
   ]
  },
  {
   "cell_type": "code",
   "execution_count": null,
   "metadata": {},
   "outputs": [],
   "source": [
    "integrator = hoomd.md.Integrator(dt=0.001)\n",
    "\n",
    "nlist = hoomd.md.nlist.Tree(0.3)\n",
    "hertz = pair.bi_hertz(nlist)\n",
    "nve = hoomd.md.methods.NVE(hoomd.filter.All())\n",
    "integrator.forces = [hertz]\n",
    "integrator.methods = [nve]\n",
    "\n",
    "sim.operations.integrator = integrator"
   ]
  },
  {
   "cell_type": "code",
   "execution_count": null,
   "metadata": {},
   "outputs": [],
   "source": [
    "sim.run(0)"
   ]
  },
  {
   "cell_type": "code",
   "execution_count": null,
   "metadata": {},
   "outputs": [],
   "source": [
    "sim.run(10_000)"
   ]
  },
  {
   "cell_type": "code",
   "execution_count": null,
   "metadata": {},
   "outputs": [],
   "source": [
    "sim.state.get_snapshot().particles.position"
   ]
  },
  {
   "cell_type": "code",
   "execution_count": null,
   "metadata": {},
   "outputs": [],
   "source": [
    "ex_render.render_disk_frame(frame=sim.state.get_snapshot())"
   ]
  },
  {
   "cell_type": "code",
   "execution_count": null,
   "metadata": {},
   "outputs": [],
   "source": [
    "variant = hoomd.variant.Ramp(0, 1, sim.timestep, t_ramp=10_000)\n",
    "\n",
    "initial_box = sim.state.box\n",
    "final_box = hoomd.Box.from_box(initial_box)  # make a copy of initial_box\n",
    "final_rho = 1.4\n",
    "final_box.volume = sim.state.N_particles / final_rho\n",
    "\n",
    "resize_box = hoomd.update.BoxResize(hoomd.trigger.Periodic(10), sim.state.box, final_box, variant)\n",
    "\n",
    "sim.operations.updaters.clear()\n",
    "sim.operations.updaters.append(resize_box)"
   ]
  },
  {
   "cell_type": "code",
   "execution_count": null,
   "metadata": {},
   "outputs": [],
   "source": [
    "sim.state.box"
   ]
  },
  {
   "cell_type": "code",
   "execution_count": null,
   "metadata": {},
   "outputs": [],
   "source": [
    "sim.run(10_000)"
   ]
  },
  {
   "cell_type": "code",
   "execution_count": null,
   "metadata": {},
   "outputs": [],
   "source": [
    "ex_render.render_disk_frame(frame=sim.state.get_snapshot())"
   ]
  },
  {
   "cell_type": "code",
   "execution_count": null,
   "metadata": {},
   "outputs": [],
   "source": [
    "integrator.forces.pop()"
   ]
  },
  {
   "cell_type": "code",
   "execution_count": null,
   "metadata": {},
   "outputs": [],
   "source": [
    "fire = hoomd.md.minimize.FIRE(dt=0.05,\n",
    "                        force_tol=1e-2,\n",
    "                        angmom_tol=1e-2,\n",
    "                        energy_tol=1e-7)\n",
    "fire.methods.append(hoomd.md.methods.NVE(hoomd.filter.All()))\n",
    "fire.forces = [hertz]\n",
    "sim.operations.integrator = fire"
   ]
  },
  {
   "cell_type": "code",
   "execution_count": null,
   "metadata": {},
   "outputs": [],
   "source": [
    "sim.run(1_000)"
   ]
  },
  {
   "cell_type": "code",
   "execution_count": null,
   "metadata": {},
   "outputs": [],
   "source": [
    "ex_render.render_disk_frame(frame=sim.state.get_snapshot())"
   ]
  },
  {
   "cell_type": "code",
   "execution_count": null,
   "metadata": {},
   "outputs": [],
   "source": []
  }
 ],
 "metadata": {
  "interpreter": {
   "hash": "5d2d6202c98dd52c77e426321e986dfb3f328c6f811129e82382e6b49419afe0"
  },
  "kernelspec": {
   "display_name": "Python 3.8.12 (conda)",
   "language": "python",
   "name": "python3"
  },
  "language_info": {
   "codemirror_mode": {
    "name": "ipython",
    "version": 3
   },
   "file_extension": ".py",
   "mimetype": "text/x-python",
   "name": "python",
   "nbconvert_exporter": "python",
   "pygments_lexer": "ipython3",
   "version": "3.8.12"
  }
 },
 "nbformat": 4,
 "nbformat_minor": 2
}
