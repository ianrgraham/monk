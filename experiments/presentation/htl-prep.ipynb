{
 "cells": [
  {
   "cell_type": "code",
   "execution_count": 2,
   "metadata": {},
   "outputs": [],
   "source": [
    "#!python\n",
    "\n",
    "from typing import Tuple\n",
    "import flow\n",
    "import signac\n",
    "import hoomd\n",
    "import gsd.hoomd\n",
    "import freud\n",
    "import numpy as np\n",
    "import pandas as pd\n",
    "import polars as pl\n",
    "\n",
    "import glob\n",
    "import os\n",
    "import pickle\n",
    "import copy\n",
    "import gc\n",
    "import shutil\n",
    "import multiprocessing\n",
    "import pathlib\n",
    "import math\n",
    "import itertools\n",
    "\n",
    "from tqdm import tqdm\n",
    "\n",
    "from dataclasses import dataclass\n",
    "from collections import defaultdict\n",
    "\n",
    "from monk import workflow, methods, pair, utils, prep\n",
    "import schmeud._schmeud as _schmeud\n",
    "from schmeud import ml\n",
    "\n",
    "# from excess_entropy import *\n"
   ]
  },
  {
   "cell_type": "code",
   "execution_count": 3,
   "metadata": {},
   "outputs": [],
   "source": [
    "def _setup_nvt_sim(job: signac.Project.Job, sim: hoomd.Simulation, temp=None):\n",
    "    doc = job.doc\n",
    "    sp = job.sp\n",
    "    project = job._project\n",
    "    proj_doc = project.doc\n",
    "    dt = proj_doc[\"dt\"]\n",
    "\n",
    "    pot = sp[\"pot\"]\n",
    "    if isinstance(pot, str):\n",
    "        pot = [pot]\n",
    "    elif isinstance(pot, list):\n",
    "        pass\n",
    "    else:\n",
    "        raise ValueError(\"The 'potential' must be a string or list\")\n",
    "\n",
    "    integrator = hoomd.md.Integrator(dt=dt)\n",
    "    pair_func, args = prep.search_for_pair(pot)\n",
    "    tree = hoomd.md.nlist.Tree(0.3)\n",
    "    print(\"Using pair function: \", pair_func)\n",
    "    force = pair_func(tree, *args)\n",
    "\n",
    "    if temp is None:\n",
    "        temp = doc[\"init_temp\"]\n",
    "    nvt = hoomd.md.methods.NVT(hoomd.filter.All(), temp, dt*100)\n",
    "    integrator.forces = [force]\n",
    "    integrator.methods = [nvt]\n",
    "\n",
    "    sim.operations.integrator = integrator\n",
    "\n",
    "    return nvt"
   ]
  },
  {
   "cell_type": "code",
   "execution_count": null,
   "metadata": {},
   "outputs": [],
   "source": [
    "sim = prep.quick_sim(sp[\"N\"], 1.2, hoomd.device.GPU(), dim=2,\n",
    "                    ratios=[60, 40], diams=[1.0, 0.88], 0)\n",
    "nvt = _setup_nvt_sim(job, sim)\n",
    "\n",
    "sim.run(0)\n",
    "# sim.state.thermalize_particle_momenta(filter=hoomd.filter.All(), kT=doc[\"init_temp\"])\n",
    "print(\"Running initial equilibration\")\n",
    "\n",
    "sim.run(equil_steps)\n",
    "\n",
    "# hoomd.write.GSD.write(sim.state, job.fn(\"init.gsd\"))"
   ]
  }
 ],
 "metadata": {
  "kernelspec": {
   "display_name": "Python 3",
   "language": "python",
   "name": "python3"
  },
  "language_info": {
   "codemirror_mode": {
    "name": "ipython",
    "version": 3
   },
   "file_extension": ".py",
   "mimetype": "text/x-python",
   "name": "python",
   "nbconvert_exporter": "python",
   "pygments_lexer": "ipython3",
   "version": "3.10.6"
  }
 },
 "nbformat": 4,
 "nbformat_minor": 2
}
