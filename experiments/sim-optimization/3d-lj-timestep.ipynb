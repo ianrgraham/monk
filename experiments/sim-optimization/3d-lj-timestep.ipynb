{
 "cells": [
  {
   "cell_type": "markdown",
   "metadata": {},
   "source": [
    "# 3D LJ timestep exploration\n",
    "\n",
    "The purpose of this notebook is to explore how the chosen timestep affects the accuracy of simulation for a set of LJ particles"
   ]
  },
  {
   "cell_type": "markdown",
   "metadata": {},
   "source": [
    "## Imports"
   ]
  },
  {
   "cell_type": "code",
   "execution_count": null,
   "metadata": {},
   "outputs": [],
   "source": [
    "import numpy as np\n",
    "\n",
    "import matplotlib.pyplot as plt\n",
    "import glob\n",
    "\n",
    "from numba import njit, vectorize, float32\n",
    "\n",
    "from typing import Callable, Optional\n",
    "\n",
    "import hoomd\n",
    "import gsd.hoomd\n",
    "\n",
    "from matplotlib import cm, colors\n",
    "\n",
    "import sys"
   ]
  },
  {
   "cell_type": "code",
   "execution_count": null,
   "metadata": {},
   "outputs": [],
   "source": [
    "from monk import nb\n",
    "from monk import prep\n",
    "from monk import pair\n",
    "import freud"
   ]
  },
  {
   "cell_type": "markdown",
   "metadata": {},
   "source": [
    "## Equilibration time in the liquid state\n",
    "\n",
    "With the KA LJ system, I'm noticing that it takes approximately 200 $\\tau$ for the system thermostat to equilibrate sufficiently\n",
    "\n",
    "### Params\n",
    "* $N$ = 32768\n",
    "* $kT$ = 1.0\n",
    "* $dt$ = 0.0025\n",
    "* $\\tau$ = 0.25"
   ]
  },
  {
   "cell_type": "code",
   "execution_count": null,
   "metadata": {},
   "outputs": [],
   "source": [
    "device = hoomd.device.GPU()\n",
    "seed = 3412\n",
    "sim = hoomd.Simulation(device, seed=seed)\n",
    "\n",
    "N = 32768\n",
    "rng = prep.init_rng(seed + 1)\n",
    "L = prep.len_from_phi(N, 1.2, dim=3)\n",
    "snap = prep.approx_euclidean_snapshot(N, L, rng, dim=3, ratios=[80,20], diams=[1.0, 0.88])\n",
    "\n",
    "sim.create_state_from_snapshot(snap)\n",
    "\n",
    "integrator = hoomd.md.Integrator(dt=0.0025)\n",
    "tree = hoomd.md.nlist.Tree(0.3)\n",
    "lj = pair.KA_LJ(tree)\n",
    "nvt = hoomd.md.methods.NVT(hoomd.filter.All(), 1.0, 0.25)\n",
    "integrator.forces = [lj]\n",
    "integrator.methods = [nvt]\n",
    "\n",
    "sim.always_compute_pressure = True\n",
    "thermodynamic_properties = hoomd.md.compute.ThermodynamicQuantities(\n",
    "    filter=hoomd.filter.All())\n",
    "sim.operations.computes.append(thermodynamic_properties)\n",
    "\n",
    "sim.operations.integrator = integrator\n",
    "\n",
    "sim.run(0)\n",
    "\n",
    "nvt.thermalize_thermostat_dof()\n",
    "\n",
    "sim.run(0)\n",
    "\n",
    "log = hoomd.logging.Logger(categories=[\"scalar\"])\n",
    "log.add(thermodynamic_properties)\n",
    "\n",
    "writer = hoomd.write.GSD(\n",
    "    trigger=hoomd.trigger.Periodic(10),\n",
    "    filename=f\"_equil-from-lattice-log_temp-1.0_.gsd\",\n",
    "    mode=\"wb\",\n",
    "    filter=hoomd.filter.Null(),\n",
    "    # dynamic=[\"property\", \"momentum\"],\n",
    "    log=log\n",
    ")\n",
    "sim.operations.writers.append(writer)\n",
    "\n",
    "sim.run(40_000, True)"
   ]
  },
  {
   "cell_type": "code",
   "execution_count": null,
   "metadata": {},
   "outputs": [],
   "source": [
    "gsd_log = gsd.hoomd.open(\"_equil-from-lattice-log_temp-1.0_.gsd\")"
   ]
  },
  {
   "cell_type": "code",
   "execution_count": null,
   "metadata": {},
   "outputs": [],
   "source": [
    "kinetic_temp = []\n",
    "tstep = []\n",
    "start = 0\n",
    "length = len(gsd_log)\n",
    "for i in range(start, start+length):\n",
    "    snap = gsd_log[i]\n",
    "    kinetic_temp.append(snap.log[\"md/compute/ThermodynamicQuantities/kinetic_temperature\"][0])\n",
    "    tstep.append(snap.configuration.step)"
   ]
  },
  {
   "cell_type": "code",
   "execution_count": null,
   "metadata": {},
   "outputs": [],
   "source": [
    "len(tstep)"
   ]
  },
  {
   "cell_type": "code",
   "execution_count": null,
   "metadata": {},
   "outputs": [],
   "source": [
    "plt.plot(tstep, kinetic_temp)\n",
    "plt.ylabel(r\"$kT$\")\n",
    "plt.xlabel(r\"$t$\");"
   ]
  },
  {
   "cell_type": "code",
   "execution_count": null,
   "metadata": {},
   "outputs": [],
   "source": [
    "plt.hist(kinetic_temp, bins=100);\n",
    "plt.xlabel(r\"$kT$\");"
   ]
  },
  {
   "cell_type": "code",
   "execution_count": null,
   "metadata": {},
   "outputs": [],
   "source": [
    "hoomd.write.GSD.write(sim.state, \"_equil-state_temp-1.0_.gsd\")\n",
    "del sim"
   ]
  },
  {
   "cell_type": "markdown",
   "metadata": {},
   "source": [
    "## Max timesteps w/ temperature"
   ]
  },
  {
   "cell_type": "code",
   "execution_count": null,
   "metadata": {},
   "outputs": [],
   "source": [
    "device = hoomd.device.GPU()\n",
    "seed = 3412\n",
    "sim = hoomd.Simulation(device, seed=seed)\n",
    "sim.create_state_from_gsd(\"_equil-state_temp-1.0_.gsd\")\n",
    "\n",
    "dt = 0.0025\n",
    "kT = 1.0\n",
    "\n",
    "integrator = hoomd.md.Integrator(dt=dt)\n",
    "tree = hoomd.md.nlist.Tree(0.3)\n",
    "lj = pair.KA_LJ(tree)\n",
    "nvt = hoomd.md.methods.NVT(hoomd.filter.All(), kT, 0.25)\n",
    "integrator.forces = [lj]\n",
    "integrator.methods = [nvt]\n",
    "\n",
    "sim.always_compute_pressure = True\n",
    "thermodynamic_properties = hoomd.md.compute.ThermodynamicQuantities(\n",
    "    filter=hoomd.filter.All())\n",
    "sim.operations.computes.append(thermodynamic_properties)\n",
    "\n",
    "sim.operations.integrator = integrator\n",
    "\n",
    "log = hoomd.logging.Logger(categories=[\"scalar\"])\n",
    "log.add(thermodynamic_properties)\n",
    "\n",
    "writer = hoomd.write.GSD(\n",
    "    trigger=hoomd.trigger.Periodic(10),\n",
    "    filename=f\"_test-stability_temp-{kT}_dt-{dt}_.gsd\",\n",
    "    mode=\"wb\",\n",
    "    filter=hoomd.filter.Null(),\n",
    "    # dynamic=[\"property\", \"momentum\"],\n",
    "    log=log\n",
    ")\n",
    "sim.operations.writers.append(writer)\n",
    "\n",
    "sim.run(10_000, True)"
   ]
  },
  {
   "cell_type": "code",
   "execution_count": null,
   "metadata": {},
   "outputs": [],
   "source": [
    "gsd_log = gsd.hoomd.open(\"_test-stability_temp-1.0_dt-0.005_.gsd\")\n",
    "kinetic_temp = []\n",
    "tstep = []\n",
    "start = 0\n",
    "length = len(gsd_log)\n",
    "for i in range(start, start+length):\n",
    "    snap = gsd_log[i]\n",
    "    kinetic_temp.append(snap.log[\"md/compute/ThermodynamicQuantities/kinetic_temperature\"][0])\n",
    "    tstep.append(snap.configuration.step)\n",
    "\n",
    "plt.plot(tstep, kinetic_temp)\n",
    "plt.ylabel(r\"$kT$\")\n",
    "plt.xlabel(r\"$t$\");"
   ]
  },
  {
   "cell_type": "code",
   "execution_count": null,
   "metadata": {},
   "outputs": [],
   "source": [
    "plt.hist(kinetic_temp, bins=100);\n",
    "plt.xlabel(r\"$kT$\");"
   ]
  },
  {
   "cell_type": "markdown",
   "metadata": {},
   "source": [
    "### Note\n",
    "\n",
    "So one key thing that can be observed when we increase the timestep too much is that the kinetic temperature deviates\n",
    "from that set by the thermostat"
   ]
  },
  {
   "cell_type": "code",
   "execution_count": null,
   "metadata": {},
   "outputs": [],
   "source": [
    "print(np.mean(kinetic_temp), \"+/-\", np.std(kinetic_temp))"
   ]
  },
  {
   "cell_type": "markdown",
   "metadata": {},
   "source": [
    "## Thermostat equil. @ some temps "
   ]
  },
  {
   "cell_type": "code",
   "execution_count": null,
   "metadata": {},
   "outputs": [],
   "source": [
    "device = hoomd.device.GPU()\n",
    "seed = 3412\n",
    "sim = hoomd.Simulation(device, seed=seed)\n",
    "sim.create_state_from_gsd(\"_equil-state_temp-1.0_.gsd\")\n",
    "\n",
    "dt = 0.0025\n",
    "kT = 0.5\n",
    "\n",
    "integrator = hoomd.md.Integrator(dt=dt)\n",
    "tree = hoomd.md.nlist.Tree(0.3)\n",
    "lj = pair.KA_LJ(tree)\n",
    "nvt = hoomd.md.methods.NVT(hoomd.filter.All(), kT, 0.25)\n",
    "integrator.forces = [lj]\n",
    "integrator.methods = [nvt]\n",
    "\n",
    "sim.always_compute_pressure = True\n",
    "thermodynamic_properties = hoomd.md.compute.ThermodynamicQuantities(\n",
    "    filter=hoomd.filter.All())\n",
    "sim.operations.computes.append(thermodynamic_properties)\n",
    "\n",
    "sim.operations.integrator = integrator\n",
    "\n",
    "log = hoomd.logging.Logger(categories=[\"scalar\"])\n",
    "log.add(thermodynamic_properties)\n",
    "\n",
    "writer = hoomd.write.GSD(\n",
    "    trigger=hoomd.trigger.Periodic(10),\n",
    "    filename=f\"_partial-equil-log_temp-{kT}_.gsd\",\n",
    "    mode=\"wb\",\n",
    "    filter=hoomd.filter.Null(),\n",
    "    # dynamic=[\"property\", \"momentum\"],\n",
    "    log=log\n",
    ")\n",
    "sim.operations.writers.append(writer)\n",
    "\n",
    "sim.run(40_000, True)"
   ]
  },
  {
   "cell_type": "code",
   "execution_count": null,
   "metadata": {},
   "outputs": [],
   "source": [
    "hoomd.write.GSD.write(sim.state, f\"_partial-equil-state_temp-{kT}_.gsd\")"
   ]
  },
  {
   "cell_type": "code",
   "execution_count": null,
   "metadata": {},
   "outputs": [],
   "source": [
    "gsd_log = gsd.hoomd.open(\"_partial-equil-log_temp-0.5_.gsd\")\n",
    "kinetic_temp = []\n",
    "tstep = []\n",
    "start = 0\n",
    "length = len(gsd_log)\n",
    "for i in range(start, start+length):\n",
    "    snap = gsd_log[i]\n",
    "    kinetic_temp.append(snap.log[\"md/compute/ThermodynamicQuantities/kinetic_temperature\"][0])\n",
    "    tstep.append(snap.configuration.step)\n",
    "\n",
    "plt.plot(tstep, kinetic_temp)\n",
    "plt.ylabel(r\"$kT$\")\n",
    "plt.xlabel(r\"$t$\");"
   ]
  },
  {
   "cell_type": "markdown",
   "metadata": {},
   "source": [
    "## Max timestep from other temperature"
   ]
  },
  {
   "cell_type": "code",
   "execution_count": null,
   "metadata": {},
   "outputs": [],
   "source": [
    "device = hoomd.device.GPU()\n",
    "seed = 3412\n",
    "sim = hoomd.Simulation(device, seed=seed)\n",
    "\n",
    "dt = 0.0025\n",
    "kT = 0.5\n",
    "\n",
    "sim.create_state_from_gsd(f\"_partial-equil-state_temp-{kT}_.gsd\")\n",
    "\n",
    "integrator = hoomd.md.Integrator(dt=dt)\n",
    "tree = hoomd.md.nlist.Tree(0.3)\n",
    "lj = pair.KA_LJ(tree)\n",
    "nvt = hoomd.md.methods.NVT(hoomd.filter.All(), kT, 100*dt)\n",
    "integrator.forces = [lj]\n",
    "integrator.methods = [nvt]\n",
    "\n",
    "sim.always_compute_pressure = True\n",
    "thermodynamic_properties = hoomd.md.compute.ThermodynamicQuantities(\n",
    "    filter=hoomd.filter.All())\n",
    "sim.operations.computes.append(thermodynamic_properties)\n",
    "\n",
    "sim.operations.integrator = integrator\n",
    "\n",
    "log = hoomd.logging.Logger(categories=[\"scalar\"])\n",
    "log.add(thermodynamic_properties)\n",
    "\n",
    "writer = hoomd.write.GSD(\n",
    "    trigger=hoomd.trigger.Periodic(10),\n",
    "    filename=f\"_partial-equil-sc-log_temp-{kT}_.gsd\",\n",
    "    mode=\"wb\",\n",
    "    filter=hoomd.filter.Null(),\n",
    "    # dynamic=[\"property\", \"momentum\"],\n",
    "    log=log\n",
    ")\n",
    "sim.operations.writers.append(writer)\n",
    "\n",
    "sim.run(10_000, True)"
   ]
  },
  {
   "cell_type": "code",
   "execution_count": null,
   "metadata": {},
   "outputs": [],
   "source": [
    "gsd_log = gsd.hoomd.open(\"_partial-equil-sc-log_temp-0.5_.gsd\")\n",
    "kinetic_temp = []\n",
    "tstep = []\n",
    "start = 0\n",
    "length = len(gsd_log)\n",
    "for i in range(start, start+length):\n",
    "    snap = gsd_log[i]\n",
    "    kinetic_temp.append(snap.log[\"md/compute/ThermodynamicQuantities/kinetic_temperature\"][0])\n",
    "    tstep.append(snap.configuration.step)\n",
    "\n",
    "plt.plot(tstep, kinetic_temp)\n",
    "plt.ylabel(r\"$kT$\")\n",
    "plt.xlabel(r\"$t$\");"
   ]
  },
  {
   "cell_type": "code",
   "execution_count": null,
   "metadata": {},
   "outputs": [],
   "source": [
    "plt.hist(kinetic_temp, bins=100);\n",
    "plt.xlabel(r\"$kT$\");"
   ]
  },
  {
   "cell_type": "code",
   "execution_count": null,
   "metadata": {},
   "outputs": [],
   "source": [
    "print(np.mean(kinetic_temp), \"+/-\", np.std(kinetic_temp))"
   ]
  },
  {
   "cell_type": "code",
   "execution_count": null,
   "metadata": {},
   "outputs": [],
   "source": [
    "100 * np.abs(kT - np.mean(kinetic_temp)) / kT"
   ]
  },
  {
   "cell_type": "markdown",
   "metadata": {},
   "source": [
    "## Conclusions\n",
    "\n",
    "In general, increasing the timestep of the simulation leads to inaccuracies in the recorded simulation temperature and other thermodynamic quantities. Implementation of GJF may help in increasing the timestep by a factor of 2 or 4, but increasing it by a factor of 10 is likely not going to work, but we'll have to try it out. Since the velocity in GJF is computed at a higher order, it's possible that the kinetic temperature will be more accuratly matched. This should help out quite a bit when we are equilibrating glasses with extremely high energy barriers"
   ]
  },
  {
   "cell_type": "markdown",
   "metadata": {},
   "source": []
  }
 ],
 "metadata": {
  "interpreter": {
   "hash": "5d2d6202c98dd52c77e426321e986dfb3f328c6f811129e82382e6b49419afe0"
  },
  "kernelspec": {
   "display_name": "Python 3.8.12",
   "language": "python",
   "name": "python3"
  },
  "language_info": {
   "codemirror_mode": {
    "name": "ipython",
    "version": 3
   },
   "file_extension": ".py",
   "mimetype": "text/x-python",
   "name": "python",
   "nbconvert_exporter": "python",
   "pygments_lexer": "ipython3",
   "version": "3.10.5"
  }
 },
 "nbformat": 4,
 "nbformat_minor": 2
}
