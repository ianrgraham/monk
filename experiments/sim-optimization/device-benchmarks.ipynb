{
 "cells": [
  {
   "cell_type": "markdown",
   "metadata": {},
   "source": [
    "# Device benchmarks\n",
    "\n",
    "The purpose of this notebook is to run a couple simple benchmarks to compare single-threaded CPU performance and GPU performance on my test machine. My computer specs are ...\n",
    "\n",
    "- CPU: Intel 9700K @ 3.3GHz\n",
    "- GPU: RTX 2080\n",
    "\n",
    "In this case, hoomd was compiled in single-precision mode, to hopefully aid the performance on the RTX card. The 20-series of GPUs have 32-times the fp32 throughput compared to fp64, and the 30-series expands this to 64-times."
   ]
  },
  {
   "cell_type": "markdown",
   "metadata": {},
   "source": [
    "## Imports"
   ]
  },
  {
   "cell_type": "code",
   "execution_count": 2,
   "metadata": {},
   "outputs": [],
   "source": [
    "import numpy as np\n",
    "\n",
    "import matplotlib.pyplot as plt\n",
    "from matplotlib import cm, colors\n",
    "import glob\n",
    "\n",
    "from numba import njit, vectorize, float32\n",
    "\n",
    "from typing import Callable, Optional, Union\n",
    "\n",
    "import hoomd\n",
    "import gsd.hoomd\n",
    "\n",
    "import sys\n",
    "import time\n",
    "import pickle\n",
    "import gc"
   ]
  },
  {
   "cell_type": "code",
   "execution_count": 3,
   "metadata": {},
   "outputs": [],
   "source": [
    "from monk import nb\n",
    "from monk import prep\n",
    "from monk import pair\n",
    "import freud"
   ]
  },
  {
   "cell_type": "code",
   "execution_count": 4,
   "metadata": {},
   "outputs": [],
   "source": [
    "def prepare_system(sim: hoomd.Simulation, N: int, seed: int):\n",
    "\n",
    "    phi = 1.2\n",
    "    L = prep.len_from_phi(N, phi, dim=3)\n",
    "    snap = prep.approx_euclidean_snapshot(N, L, prep.init_rng(seed), dim=3, ratios=[80, 20], diams=[1.0, 0.88])\n",
    "\n",
    "    sim.create_state_from_snapshot(snap)\n",
    "\n",
    "    dt = 0.0025\n",
    "    kT = 1.0\n",
    "\n",
    "    integrator = hoomd.md.Integrator(dt=dt)\n",
    "    tree = hoomd.md.nlist.Tree(0.3)\n",
    "    lj = pair.KA_LJ(tree)\n",
    "    nvt = hoomd.md.methods.NVT(hoomd.filter.All(), kT, 0.25)\n",
    "    integrator.forces = [lj]\n",
    "    integrator.methods = [nvt]\n",
    "    sim.operations.integrator = integrator\n",
    "\n",
    "    sim.run(0)\n",
    "\n",
    "    nvt.thermalize_thermostat_dof()\n",
    "\n",
    "    sim.run(1000)\n",
    "\n",
    "def device_benchmark(device: hoomd.device.Device, N: int, seed: int = 0):\n",
    "\n",
    "    sim = hoomd.Simulation(device, seed=seed)\n",
    "\n",
    "    prepare_system(sim, N, seed)\n",
    "\n",
    "    start_time = time.time()\n",
    "    sim.run(400)\n",
    "    duration = time.time() - start_time\n",
    "\n",
    "    del sim\n",
    "\n",
    "    gc.collect()\n",
    "\n",
    "    return duration"
   ]
  },
  {
   "cell_type": "code",
   "execution_count": 5,
   "metadata": {},
   "outputs": [
    {
     "data": {
      "text/plain": [
       "array([  256,   512,  1024,  2048,  4096,  8192, 16384, 32768])"
      ]
     },
     "execution_count": 5,
     "metadata": {},
     "output_type": "execute_result"
    }
   ],
   "source": [
    "devices = {\"cpu\": hoomd.device.CPU(), \"gpu\": hoomd.device.GPU()}\n",
    "Ns = np.logspace(8, 15, num=8, base=2).astype(int)\n",
    "Ns"
   ]
  },
  {
   "cell_type": "code",
   "execution_count": 6,
   "metadata": {},
   "outputs": [
    {
     "name": "stdout",
     "output_type": "stream",
     "text": [
      "device: cpu\n",
      "\tN: 256     duration: 0.10s\n",
      "\tN: 512     duration: 0.23s\n",
      "\tN: 1024    duration: 0.42s\n",
      "\tN: 2048    duration: 0.91s\n",
      "\tN: 4096    duration: 1.88s\n",
      "\tN: 8192    duration: 3.75s\n",
      "\tN: 16384   duration: 7.67s\n",
      "\tN: 32768   duration: 15.74s\n",
      "device: gpu\n",
      "\tN: 256     duration: 0.03s\n",
      "\tN: 512     duration: 0.04s\n",
      "\tN: 1024    duration: 0.04s\n",
      "\tN: 2048    duration: 0.04s\n",
      "\tN: 4096    duration: 0.05s\n",
      "\tN: 8192    duration: 0.06s\n",
      "\tN: 16384   duration: 0.08s\n",
      "\tN: 32768   duration: 0.11s\n"
     ]
    }
   ],
   "source": [
    "output_data = {}\n",
    "\n",
    "for d_name, device in devices.items():\n",
    "    device_data = []\n",
    "    print(f\"device: {d_name}\")\n",
    "    for N in Ns:\n",
    "        print(f\"\\tN: {N:<7} duration: \", end=\"\")\n",
    "        duration = device_benchmark(device, N)\n",
    "        print(f\"{duration:.2f}s\")\n",
    "        device_data.append(duration)\n",
    "    output_data[d_name] = device_data"
   ]
  },
  {
   "cell_type": "code",
   "execution_count": 7,
   "metadata": {},
   "outputs": [
    {
     "data": {
      "text/plain": [
       "array([  65536,   97386,  144715,  215045,  319557,  474860,  705639,\n",
       "       1048576])"
      ]
     },
     "execution_count": 7,
     "metadata": {},
     "output_type": "execute_result"
    }
   ],
   "source": [
    "extended_Ns = np.logspace(16, 20, num=8, base=2).astype(int)\n",
    "extended_Ns\n"
   ]
  },
  {
   "cell_type": "code",
   "execution_count": 8,
   "metadata": {},
   "outputs": [
    {
     "name": "stdout",
     "output_type": "stream",
     "text": [
      "device: gpu\n",
      "\tN: 65536   duration: 0.19s\n",
      "\tN: 97386   duration: 0.29s\n",
      "\tN: 144715  duration: 0.39s\n",
      "\tN: 215045  duration: 0.56s\n",
      "\tN: 319557  duration: 0.85s\n",
      "\tN: 474860  duration: 1.31s\n",
      "\tN: 705639  duration: 1.90s\n",
      "\tN: 1048576 duration: 2.70s\n"
     ]
    }
   ],
   "source": [
    "extended_output_data = {}\n",
    "extended_device_data = []\n",
    "print(\"device: gpu\")\n",
    "for N in extended_Ns:\n",
    "    print(f\"\\tN: {N:<7} duration: \", end=\"\")\n",
    "    duration = device_benchmark(devices[\"gpu\"], N)\n",
    "    print(f\"{duration:.2f}s\")\n",
    "    extended_device_data.append(duration)\n",
    "extended_output_data[\"gpu-extended\"] = extended_device_data"
   ]
  },
  {
   "cell_type": "code",
   "execution_count": 12,
   "metadata": {},
   "outputs": [],
   "source": [
    "pickle_name = \"device-benchmarks.pickle\"\n",
    "if pickle_name in glob.glob(\"*\"):\n",
    "    with open(pickle_name, \"rb\") as f:\n",
    "        data = pickle.load(f)\n",
    "        output_data = data[\"data\"]\n",
    "        extended_output_data = data[\"extended_data\"]"
   ]
  },
  {
   "cell_type": "code",
   "execution_count": 13,
   "metadata": {},
   "outputs": [
    {
     "data": {
      "text/plain": [
       "Text(0, 0.5, 'duration (s)')"
      ]
     },
     "execution_count": 13,
     "metadata": {},
     "output_type": "execute_result"
    },
    {
     "data": {
      "image/png": "[encoded data removed]",
      "text/plain": [
       "<Figure size 432x288 with 1 Axes>"
      ]
     },
     "metadata": {
      "image/png": {
       "height": 263,
       "width": 393
      },
      "needs_background": "light"
     },
     "output_type": "display_data"
    }
   ],
   "source": [
    "for key, values in output_data.items():\n",
    "    plt.plot(Ns, values, label=key)\n",
    "plt.plot(extended_Ns, extended_output_data[\"gpu-extended\"], label=\"gpu-extended\")\n",
    "plt.legend()\n",
    "plt.xscale('log')\n",
    "plt.yscale('log')\n",
    "plt.xlabel(\"N\")\n",
    "plt.ylabel(\"duration (s)\")"
   ]
  },
  {
   "cell_type": "code",
   "execution_count": 10,
   "metadata": {},
   "outputs": [],
   "source": [
    "\n",
    "if pickle_name not in glob.glob(\"*\"):\n",
    "    with open(pickle_name, \"wb\") as f:\n",
    "        pickle.dump(\n",
    "            dict(\n",
    "                Ns=Ns,\n",
    "                data=output_data,\n",
    "                extended_Ns=extended_Ns,\n",
    "                extended_data=extended_output_data\n",
    "            ),\n",
    "            f\n",
    "        )"
   ]
  },
  {
   "cell_type": "markdown",
   "metadata": {},
   "source": [
    "# Conclusion\n",
    "\n",
    "Wow, the speedup from switching to single-precision is massive! In fact, it seems to make more sense to run simulation with N at least ~100,000. "
   ]
  }
 ],
 "metadata": {
  "kernelspec": {
   "display_name": "Python 3.10.5 (conda)",
   "language": "python",
   "name": "python3"
  },
  "language_info": {
   "codemirror_mode": {
    "name": "ipython",
    "version": 3
   },
   "file_extension": ".py",
   "mimetype": "text/x-python",
   "name": "python",
   "nbconvert_exporter": "python",
   "pygments_lexer": "ipython3",
   "version": "3.10.5"
  },
  "orig_nbformat": 4,
  "vscode": {
   "interpreter": {
    "hash": "5d2d6202c98dd52c77e426321e986dfb3f328c6f811129e82382e6b49419afe0"
   }
  }
 },
 "nbformat": 4,
 "nbformat_minor": 2
}
