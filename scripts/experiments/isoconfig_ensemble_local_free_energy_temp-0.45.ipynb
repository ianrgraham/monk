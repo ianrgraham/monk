{
 "cells": [
  {
   "cell_type": "code",
   "execution_count": null,
   "metadata": {},
   "outputs": [],
   "source": [
    "import hoomd\n",
    "import numpy as np\n",
    "\n",
    "from monk import prep, pair"
   ]
  },
  {
   "cell_type": "code",
   "execution_count": null,
   "metadata": {},
   "outputs": [],
   "source": [
    "init_temp=0.45\n",
    "dt = 1e-2"
   ]
  },
  {
   "cell_type": "code",
   "execution_count": null,
   "metadata": {},
   "outputs": [],
   "source": [
    "seed = 100\n",
    "print(\"Initialize HOOMD simulation\")\n",
    "device = hoomd.device.auto_select()\n",
    "sim = hoomd.Simulation(device=device, seed=seed)\n",
    "print(f\"Running on {device.devices[0]}\")"
   ]
  },
  {
   "cell_type": "code",
   "execution_count": null,
   "metadata": {},
   "outputs": [],
   "source": [
    "sim.create_state_from_gsd(\"/home/ian/Documents/Data/monk/pre_softness_fire/run1/pair-KA_LJ_phi-1.2/temp-0.45_seed-0.gsd\")\n",
    "\n",
    "integrator = hoomd.md.Integrator(dt=dt)\n",
    "cell = hoomd.md.nlist.Cell()\n",
    "lj = pair.KA_LJ(cell)\n",
    "integrator.forces.append(lj)\n"
   ]
  },
  {
   "cell_type": "code",
   "execution_count": null,
   "metadata": {},
   "outputs": [],
   "source": [
    "nvt = hoomd.md.methods.NVT(\n",
    "    kT=init_temp,\n",
    "    filter=hoomd.filter.All(),\n",
    "    tau=0.5)\n",
    "integrator.methods.append(nvt)\n",
    "sim.operations.integrator = integrator\n",
    "\n",
    "sim.state.thermalize_particle_momenta(filter=hoomd.filter.All(), kT=init_temp)"
   ]
  },
  {
   "cell_type": "code",
   "execution_count": null,
   "metadata": {},
   "outputs": [],
   "source": [
    "# Custom hoomd triggers and actions\n",
    "\n",
    "class AsyncTrigger(hoomd.trigger.Trigger):\n",
    "    \"\"\"NOT async in the Rust or JavaScript way\n",
    "    \n",
    "    Trigger by calling the activate() method\"\"\"\n",
    "\n",
    "    def __init__(self):\n",
    "        self.async_trig = False\n",
    "        hoomd.trigger.Trigger.__init__(self)\n",
    "\n",
    "    def activate(self):\n",
    "        self.async_trig = True\n",
    "\n",
    "    def compute(self, timestep):\n",
    "        out = self.async_trig\n",
    "        self.async_trig = False\n",
    "        return out\n",
    "\n",
    "class RestartablePeriodicTrigger(hoomd.trigger.Trigger):\n",
    "\n",
    "    def __init__(self, period):\n",
    "        assert(period >= 1)\n",
    "        self.period = period\n",
    "        self.state = period - 1\n",
    "        hoomd.trigger.Trigger.__init__(self)\n",
    "\n",
    "    def reset(self):\n",
    "        self.state = self.period - 1\n",
    "\n",
    "    def compute(self, timestep):\n",
    "        if self.state >= self.period - 1:\n",
    "            self.state = 0\n",
    "            return True\n",
    "        else:\n",
    "            self.state += 1\n",
    "            return False\n",
    "\n",
    "\n",
    "class UpdatePos(hoomd.custom.Action):\n",
    "    \"\"\"Custom action to handle feeding in a new set of positions through a snapshot\"\"\"\n",
    "\n",
    "    def __init__(self, new_snap=None):\n",
    "        self.new_snap = new_snap\n",
    "\n",
    "    def set_snap(self, new_snap):\n",
    "        self.new_snap = new_snap\n",
    "\n",
    "    def act(self, timestep):\n",
    "        old_snap = self._state.get_snapshot()\n",
    "        if old_snap.communicator.rank == 0:\n",
    "            N = old_snap.particles.N\n",
    "            new_velocity = np.zeros((N,3))\n",
    "            for i in range(N):\n",
    "                old_snap.particles.velocity[i] = new_velocity[i]\n",
    "                old_snap.particles.position[i] = self.new_snap.particles.position[i]\n",
    "        self._state.set_snapshot(old_snap)\n",
    "\n",
    "class PastSnapshotsBuffer(hoomd.custom.Action):\n",
    "    \"\"\"Custom action to hold onto past simulation snapshots\"\"\"\n",
    "\n",
    "    def __init__(self):\n",
    "        self.snap_buffer = []\n",
    "\n",
    "    def clear(self):\n",
    "        self.snap_buffer.clear()\n",
    "\n",
    "    def get_snapshots(self):\n",
    "        return self.snap_buffer\n",
    "\n",
    "    def force_push(self):\n",
    "        self.act(None)\n",
    "\n",
    "    def act(self, timestep):\n",
    "        snap = self._state.get_snapshot()\n",
    "        self.snap_buffer.append(snap)\n"
   ]
  },
  {
   "cell_type": "code",
   "execution_count": null,
   "metadata": {},
   "outputs": [],
   "source": [
    "snap = sim._state.get_snapshot()"
   ]
  },
  {
   "cell_type": "code",
   "execution_count": null,
   "metadata": {},
   "outputs": [],
   "source": [
    "from schmeud.dynamics import thermal\n",
    "import pandas as pd"
   ]
  },
  {
   "cell_type": "code",
   "execution_count": null,
   "metadata": {},
   "outputs": [],
   "source": [
    "replicas = 1000\n",
    "steps_per_dump = 10\n",
    "total_steps = 1000"
   ]
  },
  {
   "cell_type": "code",
   "execution_count": null,
   "metadata": {},
   "outputs": [],
   "source": [
    "\n",
    "custom_updater = UpdatePos(new_snap=snap)\n",
    "snap_buffer = PastSnapshotsBuffer()\n",
    "reset_config_trig = AsyncTrigger()\n",
    "snap_buffer_trig = RestartablePeriodicTrigger(steps_per_dump)\n",
    "\n",
    "custom_op = hoomd.update.CustomUpdater(action=custom_updater,\n",
    "                                       trigger=reset_config_trig)\n",
    "\n",
    "another_op = hoomd.update.CustomUpdater(action=snap_buffer,\n",
    "                                        trigger=snap_buffer_trig)"
   ]
  },
  {
   "cell_type": "code",
   "execution_count": null,
   "metadata": {},
   "outputs": [],
   "source": [
    "sim.operations.add(custom_op)\n",
    "sim.operations.add(another_op)"
   ]
  },
  {
   "cell_type": "code",
   "execution_count": null,
   "metadata": {},
   "outputs": [],
   "source": [
    "temps = [0.65, 0.6, 0.55, 0.5, 0.45]"
   ]
  },
  {
   "cell_type": "code",
   "execution_count": null,
   "metadata": {},
   "outputs": [],
   "source": [
    "sim.run(0)"
   ]
  },
  {
   "cell_type": "code",
   "execution_count": null,
   "metadata": {},
   "outputs": [],
   "source": [
    "all_phops = []\n",
    "\n",
    "for temp in temps:\n",
    "\n",
    "    nvt.kT = temp\n",
    "\n",
    "    # iterate over traj frames\n",
    "    for idx in range(replicas):\n",
    "        # if idx%100 == 0:\n",
    "        #     print(\"Frame\", jdx, \"\\n--> Replica\", idx)\n",
    "        reset_config_trig.activate()\n",
    "        snap_buffer_trig.reset()\n",
    "        sim.run(2)\n",
    "        nvt.thermalize_thermostat_dof()\n",
    "\n",
    "        \n",
    "\n",
    "\n",
    "        sim.run(total_steps+2)\n",
    "\n",
    "        # process phop\n",
    "        mtraj = snap_buffer.get_snapshots()\n",
    "        phop = thermal.calc_phop(mtraj, tr_frames=len(mtraj)-1)\n",
    "\n",
    "        all_phops.append([np.float32(temp), np.arange(len(phop[0]), dtype=np.uint16), np.uint16(idx), phop[0].astype(np.float32)]) # trivial unwrapping\n",
    "\n",
    "        snap_buffer.clear()\n",
    "\n",
    "df = pd.DataFrame(all_phops, columns=[\"temp\", \"id\", \"replica\", \"phop\"]).explode([\"id\", \"phop\"])"
   ]
  },
  {
   "cell_type": "code",
   "execution_count": null,
   "metadata": {},
   "outputs": [],
   "source": [
    "len(all_phops)"
   ]
  },
  {
   "cell_type": "code",
   "execution_count": null,
   "metadata": {},
   "outputs": [],
   "source": [
    "df.head()"
   ]
  },
  {
   "cell_type": "code",
   "execution_count": null,
   "metadata": {},
   "outputs": [],
   "source": [
    "tdf = df[df.id == 2]"
   ]
  },
  {
   "cell_type": "code",
   "execution_count": null,
   "metadata": {},
   "outputs": [],
   "source": [
    "fdf = tdf.groupby(\"temp\").apply(lambda df: df.phop.mean())\n"
   ]
  },
  {
   "cell_type": "code",
   "execution_count": null,
   "metadata": {},
   "outputs": [],
   "source": [
    "import matplotlib.pyplot as plt"
   ]
  },
  {
   "cell_type": "code",
   "execution_count": null,
   "metadata": {},
   "outputs": [],
   "source": [
    "plt.plot(1/fdf.index, fdf.values)"
   ]
  },
  {
   "cell_type": "code",
   "execution_count": null,
   "metadata": {},
   "outputs": [],
   "source": [
    "plt.hist(tdf.phop, bins=25)\n",
    "plt.xscale('log')"
   ]
  },
  {
   "cell_type": "code",
   "execution_count": null,
   "metadata": {},
   "outputs": [],
   "source": [
    "for id in range(10):\n",
    "    tdf = df[df.id == id]\n",
    "    fdf = tdf.groupby(\"temp\").apply(lambda df: df.phop.mean())\n",
    "    plt.plot(1/fdf.index, fdf.values)\n",
    "plt.yscale('log')"
   ]
  },
  {
   "cell_type": "code",
   "execution_count": null,
   "metadata": {},
   "outputs": [],
   "source": [
    "def rearrange(df):\n",
    "    N = len(df)\n",
    "    tmp = df[df.phop > 0.2]\n",
    "    return len(tmp)/N"
   ]
  },
  {
   "cell_type": "code",
   "execution_count": null,
   "metadata": {},
   "outputs": [],
   "source": [
    "tmp = df.groupby([\"temp\", \"id\"]).apply(rearrange)"
   ]
  },
  {
   "cell_type": "code",
   "execution_count": null,
   "metadata": {},
   "outputs": [],
   "source": [
    "bins = np.logspace(-2, 0, 10, base=10)"
   ]
  },
  {
   "cell_type": "code",
   "execution_count": null,
   "metadata": {},
   "outputs": [],
   "source": [
    "plt.hist(tmp, bins=bins)\n",
    "plt.xscale('log')"
   ]
  },
  {
   "cell_type": "code",
   "execution_count": null,
   "metadata": {},
   "outputs": [],
   "source": [
    "for idx, _df in tmp.groupby(\"id\"):\n",
    "    inv_temp = [1/t[0] for t in _df.index]\n",
    "    plt.plot(inv_temp, _df.values)\n",
    "    if idx > 100:\n",
    "        break\n",
    "\n",
    "plt.yscale('log')"
   ]
  },
  {
   "cell_type": "code",
   "execution_count": null,
   "metadata": {},
   "outputs": [],
   "source": []
  }
 ],
 "metadata": {
  "interpreter": {
   "hash": "5d2d6202c98dd52c77e426321e986dfb3f328c6f811129e82382e6b49419afe0"
  },
  "kernelspec": {
   "display_name": "Python 3.8.12 (conda)",
   "language": "python",
   "name": "python3"
  },
  "language_info": {
   "codemirror_mode": {
    "name": "ipython",
    "version": 3
   },
   "file_extension": ".py",
   "mimetype": "text/x-python",
   "name": "python",
   "nbconvert_exporter": "python",
   "pygments_lexer": "ipython3",
   "version": "3.8.12"
  }
 },
 "nbformat": 4,
 "nbformat_minor": 2
}
