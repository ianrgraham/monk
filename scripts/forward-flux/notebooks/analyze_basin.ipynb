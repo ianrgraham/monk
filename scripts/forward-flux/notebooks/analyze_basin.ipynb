{
 "cells": [
  {
   "cell_type": "code",
   "execution_count": null,
   "metadata": {},
   "outputs": [],
   "source": [
    "import numpy as np\n",
    "import matplotlib.pyplot as plt\n",
    "import gsd.hoomd\n",
    "import numpy.linalg as la\n",
    "import pandas as pd\n",
    "\n",
    "import warnings\n",
    "import freud\n",
    "import freud.locality\n",
    "from typing import Optional\n",
    "import scipy.ndimage\n",
    "\n",
    "from numba import njit"
   ]
  },
  {
   "cell_type": "code",
   "execution_count": null,
   "metadata": {},
   "outputs": [],
   "source": [
    "from schmeud import softness\n",
    "import pickle"
   ]
  },
  {
   "cell_type": "code",
   "execution_count": null,
   "metadata": {},
   "outputs": [],
   "source": [
    "%config InlineBackend.figure_format = 'retina'"
   ]
  },
  {
   "cell_type": "code",
   "execution_count": null,
   "metadata": {},
   "outputs": [],
   "source": [
    "traj = gsd.hoomd.open(\"../test_fire.gsd\")"
   ]
  },
  {
   "cell_type": "code",
   "execution_count": null,
   "metadata": {},
   "outputs": [],
   "source": [
    "snap = traj[0]"
   ]
  },
  {
   "cell_type": "code",
   "execution_count": null,
   "metadata": {},
   "outputs": [],
   "source": [
    "@njit\n",
    "def cube_pbc_wrap(init_x, final_x, box):\n",
    "    out = np.zeros(3)\n",
    "    for i in range(3):\n",
    "        b = box[i]\n",
    "        v = init_x[i]\n",
    "        w = final_x[i]\n",
    "        b2 = .5*b\n",
    "        dx = w - v\n",
    "        if dx > b2:\n",
    "            dx -= b\n",
    "        elif dx < -b2:\n",
    "            dx += b\n",
    "        out[i] = dx\n",
    "    return out\n",
    "\n",
    "box = snap.configuration.box\n",
    "\n",
    "cube_pbc_wrap(np.array([0.0, 0.0, 0.0]), np.array([3.0, 2.5, 4.0]), box)"
   ]
  },
  {
   "cell_type": "code",
   "execution_count": null,
   "metadata": {},
   "outputs": [],
   "source": [
    "\n",
    "\n",
    "def p_hop_interal(\n",
    "        pos: np.ndarray,\n",
    "        tr_frames: int\n",
    ") -> np.ndarray:\n",
    "    \"\"\"Fast implementation of phop using numba.\n",
    "\n",
    "    Scans through the array of postions and calculates phop with the given t_r.\n",
    "\n",
    "    Arguments\n",
    "    ---------\n",
    "    * pos: 3D ndarray of particle coordinates.\n",
    "    * tr_frames: Size of the scanning window, t_r. Actual calculation will use\n",
    "        one additional frame at the beginning of the interval.\n",
    "\n",
    "    Returns\n",
    "    -------\n",
    "    * p_hop: 2D ndarray quantifying dynamical activity.\n",
    "    \"\"\"\n",
    "\n",
    "    n_frames = len(pos)\n",
    "    half = int(tr_frames/2)\n",
    "\n",
    "    phop = np.zeros((n_frames - tr_frames, len(pos[0])))\n",
    "\n",
    "    for i in range(len(phop)):\n",
    "        r_A = pos[i:i+half+1]\n",
    "        r_B = pos[i+half:i+tr_frames+1]\n",
    "\n",
    "        # phop[i] = p_hop_calc(r_A, r_B)\n",
    "\n",
    "        phop[i] = np.sqrt(\n",
    "            np.mean(np.sum(np.square(r_A - np.mean(r_B, axis=0)), axis=-1), axis=0) *\n",
    "            np.mean(np.sum(np.square(r_B - np.mean(r_A, axis=0)), axis=-1), axis=0)\n",
    "        )\n",
    "\n",
    "    return phop\n",
    "\n",
    "def get_freud_box(snapshot: gsd.hoomd.Snapshot) -> freud.box.Box:\n",
    "\n",
    "    with warnings.catch_warnings():\n",
    "        warnings.simplefilter(\"ignore\")\n",
    "        box: freud.box.Box = freud.box.Box(\n",
    "            *snapshot.configuration.box,\n",
    "            snapshot.configuration.dimensions == 2)\n",
    "        return box\n",
    "\n",
    "def calc_phop(\n",
    "        traj: gsd.hoomd.HOOMDTrajectory,\n",
    "        tr_frames: int = 10,\n",
    "        time_ave_frames: Optional[int] = None\n",
    ") -> np.ndarray:\n",
    "\n",
    "    assert(tr_frames % 2 == 0)\n",
    "    assert(tr_frames > 0)\n",
    "    assert(len(traj) > tr_frames)\n",
    "\n",
    "    n_frames = len(traj)\n",
    "    init_pos = traj[0].particles.position\n",
    "    pos = np.zeros((n_frames, *init_pos.shape))\n",
    "    pos[0] = init_pos\n",
    "    unwrap = np.zeros(init_pos.shape, dtype=np.int64)\n",
    "    box = get_freud_box(traj[0])\n",
    "    L = box.Lx\n",
    "    L2 = L/2.0\n",
    "\n",
    "    # wrap box positions, should probably refactor this\n",
    "    # this assumes that the box does not change during the simulation\n",
    "    for i in range(1, n_frames):\n",
    "        pos[i] = traj[i].particles.position\n",
    "        diff = pos[i] - init_pos\n",
    "        unwrap += np.trunc(diff/L2).astype(np.int64)\n",
    "        init_pos = pos[i].copy()\n",
    "        pos[i] -= unwrap.astype(np.float64)*L\n",
    "\n",
    "    if time_ave_frames is not None:\n",
    "        pos = scipy.ndimage.uniform_filter1d(pos, time_ave_frames, axis=0)\n",
    "\n",
    "    phop = p_hop_interal(pos, tr_frames)  # calc p_hop\n",
    "\n",
    "    return phop"
   ]
  },
  {
   "cell_type": "code",
   "execution_count": null,
   "metadata": {},
   "outputs": [],
   "source": [
    "phop = calc_phop(traj, tr_frames=100)"
   ]
  },
  {
   "cell_type": "code",
   "execution_count": null,
   "metadata": {},
   "outputs": [],
   "source": [
    "test_id = 200"
   ]
  },
  {
   "cell_type": "code",
   "execution_count": null,
   "metadata": {},
   "outputs": [],
   "source": [
    "plt.hist(phop[:,test_id], bins=30)\n",
    "plt.yscale('log')\n",
    "plt.xlabel(r'$p_{hop}$')\n",
    "plt.ylabel(r\"$N$\")"
   ]
  },
  {
   "cell_type": "code",
   "execution_count": null,
   "metadata": {},
   "outputs": [],
   "source": [
    "plt.plot(phop[:,test_id])\n",
    "plt.ylabel(r'$p_{hop}$')\n",
    "plt.xlabel(r\"$t$\")"
   ]
  },
  {
   "cell_type": "code",
   "execution_count": null,
   "metadata": {},
   "outputs": [],
   "source": [
    "plt.plot(phop[:,test_id])\n",
    "plt.ylabel(r'$p_{hop}$')\n",
    "plt.xlabel(r\"$t$\")"
   ]
  },
  {
   "cell_type": "code",
   "execution_count": null,
   "metadata": {},
   "outputs": [],
   "source": [
    "test_id = 200\n",
    "start = traj[0].particles.position[test_id]\n",
    "box = traj[0].configuration.box # this box is constant throughout the sim\n",
    "out = []\n",
    "for snap in traj:\n",
    "    next_pos = snap.particles.position[test_id]\n",
    "    wrapped_vec = cube_pbc_wrap(start, next_pos, box)\n",
    "    norm = la.norm(wrapped_vec)\n",
    "    out.append(norm)\n",
    "plt.hist(out, bins=30)\n",
    "plt.xlabel(r'$\\Delta r$')\n",
    "plt.ylabel(r'$N$')"
   ]
  },
  {
   "cell_type": "code",
   "execution_count": null,
   "metadata": {},
   "outputs": [],
   "source": [
    "start = traj[0].particles.position[test_id]\n",
    "box = traj[0].configuration.box # this box is constant throughout the sim\n",
    "out = []\n",
    "for snap in traj:\n",
    "    next_pos = snap.particles.position[test_id]\n",
    "    wrapped_vec = cube_pbc_wrap(start, next_pos, box)\n",
    "    norm = la.norm(wrapped_vec)\n",
    "    out.append(norm)\n",
    "plt.plot(out)\n",
    "plt.ylabel(r'$\\Delta r$')\n",
    "plt.xlabel(r'$t$')"
   ]
  },
  {
   "cell_type": "code",
   "execution_count": null,
   "metadata": {},
   "outputs": [],
   "source": [
    "test_id = 200\n",
    "start = traj[0].particles.position[test_id]\n",
    "box = traj[0].configuration.box # this box is constant throughout the sim\n",
    "\n",
    "idx = np.min(np.where(phop[:,test_id] > 0.2))\n",
    "\n",
    "out = []\n",
    "for snap in traj[:idx]:\n",
    "    next_pos = snap.particles.position[test_id]\n",
    "    wrapped_vec = cube_pbc_wrap(start, next_pos, box)\n",
    "    norm = la.norm(wrapped_vec)\n",
    "    out.append(norm)\n",
    "plt.hist(out, bins=30)\n",
    "plt.xlabel(r'$\\Delta r$')\n",
    "plt.ylabel(r'$N$')\n",
    "print(np.percentile(out, 90), idx)"
   ]
  },
  {
   "cell_type": "code",
   "execution_count": null,
   "metadata": {},
   "outputs": [],
   "source": [
    "phop"
   ]
  },
  {
   "cell_type": "code",
   "execution_count": null,
   "metadata": {},
   "outputs": [],
   "source": [
    "perc = []\n",
    "box = traj[0].configuration.box # this box is constant throughout the sim\n",
    "\n",
    "max_idx = len(traj)\n",
    "for test_id in softness_df.ids:\n",
    "    start = traj[0].particles.position[test_id]\n",
    "    out = []\n",
    "    cond = np.where(phop[:,test_id] > 0.2)\n",
    "    idx = np.min(cond) if len(cond[0]) > 0 else max_idx\n",
    "    if idx > 0:\n",
    "        for snap in traj[:idx]:\n",
    "            next_pos = snap.particles.position[test_id]\n",
    "            wrapped_vec = cube_pbc_wrap(start, next_pos, box)\n",
    "            norm = la.norm(wrapped_vec)\n",
    "            out.append(norm)\n",
    "        dat = np.percentile(out, 90)\n",
    "        perc.append(dat)\n",
    "plt.hist(perc, bins=30)\n",
    "plt.ylabel(r\"$N$\")\n",
    "plt.xlabel(r\"$\\Delta r$ P90 $t<t(p_{hop}>0.2)$\")"
   ]
  },
  {
   "cell_type": "code",
   "execution_count": null,
   "metadata": {},
   "outputs": [],
   "source": [
    "perc = []\n",
    "box = traj[0].configuration.box # this box is constant throughout the sim\n",
    "\n",
    "max_idx = len(traj)\n",
    "for test_id in softness_df.ids:\n",
    "    start = traj[0].particles.position[test_id]\n",
    "    out = []\n",
    "    cond = np.where(phop[:,test_id] > 0.1)\n",
    "    idx = np.min(cond) if len(cond[0]) > 0 else max_idx\n",
    "    if idx > 0:\n",
    "        for snap in traj[:idx]:\n",
    "            next_pos = snap.particles.position[test_id]\n",
    "            wrapped_vec = cube_pbc_wrap(start, next_pos, box)\n",
    "            norm = la.norm(wrapped_vec)\n",
    "            out.append(norm)\n",
    "        dat = np.percentile(out, 90)\n",
    "        perc.append(dat)\n",
    "plt.hist(perc, bins=30)\n",
    "plt.ylabel(r\"$N$\")\n",
    "plt.xlabel(r\"$\\Delta r$ P90 $t<t(p_{hop}>0.1)$\")"
   ]
  },
  {
   "cell_type": "code",
   "execution_count": null,
   "metadata": {},
   "outputs": [],
   "source": [
    "sf_config = softness.StructureFunctionConfig(0.1, 2.5, 0.1, 4)\n",
    "softness_df = softness.calc_structure_functions_dataframe_rust(traj[:1], sf_config=sf_config)\n",
    "softness_df = softness_df[softness_df.labels == 0]\n",
    "with open(\"../../../pipeline.pkl\", \"rb\") as f:\n",
    "    pipe_dict = pickle.load(f)"
   ]
  },
  {
   "cell_type": "code",
   "execution_count": null,
   "metadata": {},
   "outputs": [],
   "source": [
    "def partial_softness_calculation(Xs, pipe):\n",
    "    shape = Xs.shape\n",
    "    data = Xs\n",
    "    pipe_size = pipe[0].n_features_in_\n",
    "    scaled_data = pipe[0].transform(np.pad(data, ((0,0),(0,pipe_size-shape[1]))))\n",
    "\n",
    "    out = np.zeros(shape[0])\n",
    "    for i in range(shape[0]):\n",
    "        out[i] = np.sum(scaled_data[i,:shape[1]]*pipe[1].coef_[0][:shape[1]]) + pipe[1].intercept_\n",
    "    return out"
   ]
  },
  {
   "cell_type": "code",
   "execution_count": null,
   "metadata": {},
   "outputs": [],
   "source": [
    "pipeA = pipe_dict[\"pipe\"]\n",
    "softness_df[\"softness\"] = partial_softness_calculation(np.stack(softness_df.Xs.values), pipeA)"
   ]
  },
  {
   "cell_type": "code",
   "execution_count": null,
   "metadata": {},
   "outputs": [],
   "source": [
    "softness_df.softness.hist()"
   ]
  },
  {
   "cell_type": "code",
   "execution_count": null,
   "metadata": {},
   "outputs": [],
   "source": [
    "bins = np.linspace(-4, 4, 9)\n",
    "softness_df[\"cuts\"] = pd.cut(softness_df.softness, bins)"
   ]
  },
  {
   "cell_type": "code",
   "execution_count": null,
   "metadata": {},
   "outputs": [],
   "source": [
    "import matplotlib.colors as colors\n",
    "import matplotlib.cm as cm"
   ]
  },
  {
   "cell_type": "code",
   "execution_count": null,
   "metadata": {},
   "outputs": [],
   "source": [
    "perc = []\n",
    "box = traj[0].configuration.box # this box is constant throughout the sim\n",
    "\n",
    "normal = colors.Normalize(vmin=-4, vmax=4)\n",
    "cmap = cm.jet\n",
    "\n",
    "sm = cm.ScalarMappable(cmap=cmap, norm=normal)\n",
    "\n",
    "max_idx = len(traj)\n",
    "for group in softness_df.groupby(\"cuts\"):\n",
    "    for (jdx, row) in group[1].iterrows():\n",
    "        # break\n",
    "        test_id = row[\"ids\"]\n",
    "        start = traj[0].particles.position[test_id]\n",
    "        out = []\n",
    "        cond = np.where(phop[:,test_id] > 0.2)\n",
    "        idx = np.min(cond) if len(cond[0]) > 0 else max_idx\n",
    "        if idx > 0:\n",
    "            for snap in traj[:idx]:\n",
    "                next_pos = snap.particles.position[test_id]\n",
    "                wrapped_vec = cube_pbc_wrap(start, next_pos, box)\n",
    "                norm = la.norm(wrapped_vec)\n",
    "                out.append(norm)\n",
    "            dat = np.percentile(out, 90)\n",
    "            perc.append(dat)\n",
    "    plt.hist(perc, bins=30, color=cmap(normal(group[0].mid)), density=True, alpha=.5)\n",
    "    # break\n",
    "plt.ylabel(r\"$N$\")\n",
    "plt.xlabel(r\"$\\Delta r$ P90 $t<t(p_{hop}>0.2)$\")\n",
    "plt.colorbar(sm, label=\"S\")"
   ]
  },
  {
   "cell_type": "code",
   "execution_count": null,
   "metadata": {},
   "outputs": [],
   "source": [
    "perc = []\n",
    "box = traj[0].configuration.box # this box is constant throughout the sim\n",
    "\n",
    "normal = colors.Normalize(vmin=-4, vmax=4)\n",
    "cmap = cm.jet\n",
    "\n",
    "sm = cm.ScalarMappable(cmap=cmap, norm=normal)\n",
    "\n",
    "max_idx = len(traj)\n",
    "for group in softness_df.groupby(\"cuts\"):\n",
    "    for (jdx, row) in group[1].iterrows():\n",
    "        # break\n",
    "        test_id = row[\"ids\"]\n",
    "        start = traj[0].particles.position[test_id]\n",
    "        out = []\n",
    "        cond = np.where(phop[:,test_id] > 0.1)\n",
    "        idx = np.min(cond) if len(cond[0]) > 0 else max_idx\n",
    "        if idx > 0:\n",
    "            for snap in traj[:idx]:\n",
    "                next_pos = snap.particles.position[test_id]\n",
    "                wrapped_vec = cube_pbc_wrap(start, next_pos, box)\n",
    "                norm = la.norm(wrapped_vec)\n",
    "                out.append(norm)\n",
    "            dat = np.percentile(out, 90)\n",
    "            perc.append(dat)\n",
    "    plt.hist(perc, bins=30, color=cmap(normal(group[0].mid)), density=True, alpha=.5)\n",
    "    # break\n",
    "plt.ylabel(r\"$N$\")\n",
    "plt.xlabel(r\"$\\Delta r$ P90 $t<t(p_{hop}>0.1)$\")\n",
    "plt.colorbar(sm, label=\"S\")"
   ]
  },
  {
   "cell_type": "code",
   "execution_count": null,
   "metadata": {},
   "outputs": [],
   "source": []
  }
 ],
 "metadata": {
  "interpreter": {
   "hash": "5d2d6202c98dd52c77e426321e986dfb3f328c6f811129e82382e6b49419afe0"
  },
  "kernelspec": {
   "display_name": "Python 3.8.12 64-bit (conda)",
   "name": "python3"
  },
  "language_info": {
   "codemirror_mode": {
    "name": "ipython",
    "version": 3
   },
   "file_extension": ".py",
   "mimetype": "text/x-python",
   "name": "python",
   "nbconvert_exporter": "python",
   "pygments_lexer": "ipython3",
   "version": "3.8.12"
  }
 },
 "nbformat": 4,
 "nbformat_minor": 2
}
