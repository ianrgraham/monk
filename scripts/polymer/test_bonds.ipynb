{
 "cells": [
  {
   "cell_type": "code",
   "execution_count": null,
   "metadata": {},
   "outputs": [],
   "source": [
    "import hoomd\n",
    "import gsd.hoomd\n",
    "import numpy as np\n",
    "from numba import njit\n",
    "\n",
    "from typing import Optional\n",
    "\n",
    "from monk import prep\n",
    "\n",
    "import matplotlib.pyplot as plt"
   ]
  },
  {
   "cell_type": "code",
   "execution_count": null,
   "metadata": {},
   "outputs": [],
   "source": [
    "N = 10\n",
    "phi = 0.1\n",
    "rng = np.random.default_rng(0)\n",
    "L = prep.len_from_phi(N, phi)\n",
    "box = [L, L, L, 0.0, 0.0, 0.0]\n",
    "\n",
    "device = hoomd.device.auto_select()\n",
    "sim = hoomd.Simulation(device=device)\n",
    "\n",
    "@njit\n",
    "def le_pbc(x: np.ndarray, box: np.ndarray):\n",
    "    assert len(box) == 6 and box.ndim == 1, \"`box` must be a 1D array of size 6\"\n",
    "    box2 = box[:3]/2.0\n",
    "    box2low = -box2\n",
    "    L = box[:3]\n",
    "    Linv = 1/box[:3]\n",
    "    le_shear = box[3:]\n",
    "    x_shape = x.shape\n",
    "    is2d = box[2] == 0.0\n",
    "    assert len(x_shape) == 2, \"`x` must be a 2D array\"\n",
    "    assert x_shape[-1] == 3, \"Last axis of `x` must be of size 3\"\n",
    "    for i in range(len(x)):\n",
    "        if (x[i,2] >= box2[2] or x[i,2] < box2low[2]) and not is2d:\n",
    "            img = np.rint((x[i,2])*Linv[2])\n",
    "            x[i,2] -= L[2]*img\n",
    "            x[i,1] -= le_shear[2]*L[2]*img\n",
    "            x[i,0] -= le_shear[1]*L[2]*img\n",
    "        if x[i,1] >= box2[1] or x[i,1] < box2low[1]:\n",
    "            img = np.rint((x[i,1])*Linv[1])\n",
    "            x[i,1] -= L[1]*img\n",
    "            x[i,0] -= le_shear[0]*L[1]*img\n",
    "        if x[i,0] >= box2[0] or x[i,0] < box2low[0]:\n",
    "            x[i,0] -= L[0]*np.rint((x[i,0])*Linv[0])\n",
    "\n",
    "@njit\n",
    "def _unit_vec_2d(theta: float) -> np.ndarray:\n",
    "    return np.array([np.cos(theta), np.sin(theta), 0.0])\n",
    "\n",
    "@njit\n",
    "def _unit_vec_3d(theta: float, phi: float) -> np.ndarray:\n",
    "    return np.array([np.cos(theta)*np.sin(phi), np.sin(theta)*np.sin(phi), np.cos(phi)])\n",
    "\n",
    "@njit\n",
    "def _map_uniform_to_3d_phi(phi: float):\n",
    "    # TODO this function is not correct\n",
    "    # phi should be between 0 and pi\n",
    "    # P(x) = sin(x)/2\n",
    "    # |dP(x)/dx| = |cos(x)/2|\n",
    "    # => C(|dP(x)/dx|) = sin(x)/2\n",
    "    # if phi < np.pi/2.0:\n",
    "    #     return np.pi*np.sin(phi)/2\n",
    "    # else:\n",
    "    #     return np.pi*(1 - np.sin(phi)/2)\n",
    "    return phi\n",
    "\n",
    "def _rand_unit_vec(rng: np.random.Generator, is2d: bool):\n",
    "    theta = rng.uniform(0, 2.0*np.pi)\n",
    "    if is2d:\n",
    "        vec = _unit_vec_2d(theta)\n",
    "    else:\n",
    "        phi = _map_uniform_to_3d_phi(rng.uniform(0, np.pi))\n",
    "        vec = _unit_vec_3d(theta, phi)\n",
    "    return vec\n",
    "\n",
    "    \n",
    "\n",
    "\n",
    "def random_chain(\n",
    "    N: int,\n",
    "    l: float,\n",
    "    box: np.ndarray, \n",
    "    rng: np.random.Generator, \n",
    "    start: Optional[np.ndarray] = None, \n",
    "    mode: Optional[str] = None\n",
    "):\n",
    "    assert len(box) == 6 and box.ndim == 1\n",
    "    assert N > 0\n",
    "    assert l > 0.0\n",
    "\n",
    "    is2d = box[2] == 0.0\n",
    "    b2 = box[:3]/2.0\n",
    "\n",
    "    if mode is None:\n",
    "        mode = \"straight\"\n",
    "\n",
    "    if start is None:\n",
    "        start = rng.uniform(-b2, b2)\n",
    "\n",
    "    pos = np.zeros((N, 3), float)\n",
    "    tmp_pos = start\n",
    "    pos[0] = tmp_pos\n",
    "\n",
    "    if mode == \"straight\":\n",
    "        step = l*_rand_unit_vec(rng, is2d)\n",
    "        for i in range(1, N):\n",
    "            tmp_pos += step\n",
    "            pos[i] = tmp_pos\n",
    "    \n",
    "    elif mode == \"walk\":\n",
    "        for i in range(1, N):\n",
    "            step = l*_rand_unit_vec(rng, is2d)\n",
    "            tmp_pos += step\n",
    "            pos[i] = tmp_pos\n",
    "\n",
    "\n",
    "    le_pbc(pos, box)\n",
    "    \n",
    "    return pos    "
   ]
  },
  {
   "cell_type": "code",
   "execution_count": null,
   "metadata": {},
   "outputs": [],
   "source": [
    "x = np.linspace(0, np.pi, 1000, endpoint=False)\n",
    "y = np.array([_map_uniform_to_3d_phi(x_i) for x_i in x])"
   ]
  },
  {
   "cell_type": "code",
   "execution_count": null,
   "metadata": {},
   "outputs": [],
   "source": [
    "_unit_vec_2d(2.0)"
   ]
  },
  {
   "cell_type": "code",
   "execution_count": null,
   "metadata": {},
   "outputs": [],
   "source": [
    "rng: np.random.Generator = np.random.default_rng()"
   ]
  },
  {
   "cell_type": "code",
   "execution_count": null,
   "metadata": {},
   "outputs": [],
   "source": [
    "rng.uniform(0, 2*np.pi)"
   ]
  },
  {
   "cell_type": "code",
   "execution_count": null,
   "metadata": {},
   "outputs": [],
   "source": [
    "arr = np.array([[2.0, 10.0, 15.0]])\n",
    "box = np.array([5.0, 5.0, 5.0, 0.0, 0.0, 0.0])"
   ]
  },
  {
   "cell_type": "code",
   "execution_count": null,
   "metadata": {},
   "outputs": [],
   "source": [
    "%%timeit\n",
    "arr = np.array([[2.0, 10.0, 15.0]])\n",
    "le_pbc(arr, box)\n",
    "# print(arr)"
   ]
  },
  {
   "cell_type": "code",
   "execution_count": null,
   "metadata": {},
   "outputs": [],
   "source": [
    "new_box = box[:3].copy()"
   ]
  },
  {
   "cell_type": "code",
   "execution_count": null,
   "metadata": {},
   "outputs": [],
   "source": [
    "out = random_chain(20, 0.1, np.array([5.0, 5.0, 0.0, 0.0, 0.0, 0.0]), rng, start=np.array([0.0, 0.0, 0.0]), mode=\"walk\")"
   ]
  },
  {
   "cell_type": "code",
   "execution_count": null,
   "metadata": {},
   "outputs": [],
   "source": [
    "out"
   ]
  },
  {
   "cell_type": "code",
   "execution_count": null,
   "metadata": {},
   "outputs": [],
   "source": [
    "plt.plot(out[:,0], out[:,1], \"-x\")\n",
    "plt.xlim(-2.5, 2.5)\n",
    "plt.ylim(-2.5, 2.5)"
   ]
  },
  {
   "cell_type": "code",
   "execution_count": null,
   "metadata": {},
   "outputs": [],
   "source": [
    "snapshot = gsd.hoomd.Snapshot()\n",
    "snapshot.particles.N = N\n",
    "snapshot.particles.position = random_chain(N, 1.0, box, rng)\n",
    "snapshot.configuration.box = box\n",
    "snapshot.particles.types = [\"A\"]\n",
    "snapshot.particles.typeid = [0] * N"
   ]
  }
 ],
 "metadata": {
  "interpreter": {
   "hash": "5d2d6202c98dd52c77e426321e986dfb3f328c6f811129e82382e6b49419afe0"
  },
  "kernelspec": {
   "display_name": "Python 3.8.12 (conda)",
   "language": "python",
   "name": "python3"
  },
  "language_info": {
   "codemirror_mode": {
    "name": "ipython",
    "version": 3
   },
   "file_extension": ".py",
   "mimetype": "text/x-python",
   "name": "python",
   "nbconvert_exporter": "python",
   "pygments_lexer": "ipython3",
   "version": "3.8.12"
  }
 },
 "nbformat": 4,
 "nbformat_minor": 2
}
