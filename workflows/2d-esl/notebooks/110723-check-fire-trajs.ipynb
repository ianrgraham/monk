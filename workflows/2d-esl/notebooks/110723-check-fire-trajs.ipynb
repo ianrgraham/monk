{
 "cells": [
  {
   "cell_type": "code",
   "execution_count": 5,
   "metadata": {},
   "outputs": [],
   "source": [
    "import numpy as np\n",
    "import pandas as pd\n",
    "import matplotlib.pyplot as plt\n",
    "import matplotlib as mpl\n",
    "from matplotlib import cm, colors\n",
    "import glob\n",
    "\n",
    "from numba import njit, vectorize, float32\n",
    "\n",
    "from typing import Callable, Optional, Union\n",
    "\n",
    "import hoomd\n",
    "import gsd.hoomd\n",
    "\n",
    "import sys\n",
    "import time\n",
    "import pickle\n",
    "import gc\n",
    "import pathlib\n",
    "import os\n",
    "\n",
    "import signac\n",
    "\n",
    "from scipy import optimize"
   ]
  },
  {
   "cell_type": "code",
   "execution_count": 6,
   "metadata": {},
   "outputs": [],
   "source": [
    "from monk import nb, prep, pair, render, utils, grid, workflow\n",
    "import freud\n",
    "\n",
    "parent = pathlib.Path(os.getcwd()).parent / \"config.yaml\"\n",
    "config = workflow.get_config(parent.as_posix())\n",
    "\n",
    "# mpl.rcParams[\"text.usetex\"] = True\n",
    "# mpl.rcParams[\"text.latex.preamble\"].append(r'\\usepackage{xfrac}')"
   ]
  },
  {
   "cell_type": "code",
   "execution_count": 7,
   "metadata": {},
   "outputs": [
    {
     "data": {
      "text/plain": [
       "{'avail_seed': 11, 'dt': 0.005, 'step_unit': 1000, 'temp_steps': 20, 'equil_time': 40, 'run_time': 10, 'max_alpha_time': 1000, 'alpha_iters': 10, '_status': {}}"
      ]
     },
     "execution_count": 7,
     "metadata": {},
     "output_type": "execute_result"
    }
   ],
   "source": [
    "project: signac.Project = signac.get_project(root=config['root'])\n",
    "project.doc"
   ]
  },
  {
   "cell_type": "code",
   "execution_count": 8,
   "metadata": {},
   "outputs": [
    {
     "name": "stdout",
     "output_type": "stream",
     "text": [
      "0 a03bdc2a5be70a1e699a3f825fb8877b {'init': True, 'seed': 0, 'init_temp': 1.5, 'temp_steps': [0.07500000000000001, 0.15000000000000002, 0.22500000000000003, 0.30000000000000004, 0.375, 0.45000000000000007, 0.525, 0.6000000000000001, 0.675, 0.75, 0.8250000000000001, 0.9000000000000001, 0.9750000000000001, 1.05, 1.125, 1.2000000000000002, 1.2750000000000001, 1.35, 1.425, 1.5], 'primary_equilibration_done': True, 'sparse_secondary_equilibration_done': True, 'secondary_equilibration_done': True, 'fine_quench_done': True, 'fire_applied': True}\n",
      "1 1961d54ebec38ae1cebeabd263ddba5b {'init': True, 'seed': 2, 'init_temp': 1.5, 'temp_steps': [0.07500000000000001, 0.15000000000000002, 0.22500000000000003, 0.30000000000000004, 0.375, 0.45000000000000007, 0.525, 0.6000000000000001, 0.675, 0.75, 0.8250000000000001, 0.9000000000000001, 0.9750000000000001, 1.05, 1.125, 1.2000000000000002, 1.2750000000000001, 1.35, 1.425, 1.5], 'primary_equilibration_done': True, 'fine_quench_done': True, 'secondary_equilibration_done': True, 'fire_applied': True}\n",
      "2 d395695118c2c7c531f3aeee70f4b196 {'init': True, 'seed': 1, 'init_temp': 1.4, 'temp_steps': [0.06999999999999999, 0.13999999999999999, 0.21000000000000002, 0.27999999999999997, 0.35, 0.42000000000000004, 0.49, 0.5599999999999999, 0.63, 0.7, 0.77, 0.8400000000000001, 0.9099999999999999, 0.98, 1.0499999999999998, 1.1199999999999999, 1.19, 1.26, 1.33, 1.4], 'primary_equilibration_done': True, 'sparse_secondary_equilibration_done': True, 'secondary_equilibration_done': True, 'fine_quench_done': True, 'fire_applied': True}\n",
      "3 503e0376bd64085f1c22ed91ae48db88 {'init': True, 'seed': 9, 'init_temp': 1.5, 'temp_steps': [0.07500000000000001, 0.15000000000000002, 0.22500000000000003, 0.30000000000000004, 0.375, 0.45000000000000007, 0.525, 0.6000000000000001, 0.675, 0.75, 0.8250000000000001, 0.9000000000000001, 0.9750000000000001, 1.05, 1.125, 1.2000000000000002, 1.2750000000000001, 1.35, 1.425, 1.5], 'primary_equilibration_done': True, 'fine_quench_done': True, 'secondary_equilibration_done': True, 'fire_applied': True}\n",
      "4 b579e52b6ab959f8f7d04ba6af76a9be {'init': True, 'seed': 10, 'init_temp': 1.5, 'temp_steps': [0.07500000000000001, 0.15000000000000002, 0.22500000000000003, 0.30000000000000004, 0.375, 0.45000000000000007, 0.525, 0.6000000000000001, 0.675, 0.75, 0.8250000000000001, 0.9000000000000001, 0.9750000000000001, 1.05, 1.125, 1.2000000000000002, 1.2750000000000001, 1.35, 1.425, 1.5], 'primary_equilibration_done': True, 'fine_quench_done': True, 'secondary_equilibration_done': True, 'fire_applied': True}\n",
      "5 a82cc8d96904a27f96a31c3ee6bd0deb {'init': True, 'seed': 4, 'init_temp': 1.5, 'temp_steps': [0.07500000000000001, 0.15000000000000002, 0.22500000000000003, 0.30000000000000004, 0.375, 0.45000000000000007, 0.525, 0.6000000000000001, 0.675, 0.75, 0.8250000000000001, 0.9000000000000001, 0.9750000000000001, 1.05, 1.125, 1.2000000000000002, 1.2750000000000001, 1.35, 1.425, 1.5], 'primary_equilibration_done': True, 'fine_quench_done': True, 'secondary_equilibration_done': True, 'fire_applied': True}\n",
      "6 127b38ea46bce9a180ac54e7adf90bf5 {'init': True, 'seed': 3, 'init_temp': 1.5, 'temp_steps': [0.07500000000000001, 0.15000000000000002, 0.22500000000000003, 0.30000000000000004, 0.375, 0.45000000000000007, 0.525, 0.6000000000000001, 0.675, 0.75, 0.8250000000000001, 0.9000000000000001, 0.9750000000000001, 1.05, 1.125, 1.2000000000000002, 1.2750000000000001, 1.35, 1.425, 1.5], 'primary_equilibration_done': True, 'fine_quench_done': True, 'secondary_equilibration_done': True, 'fire_applied': True}\n",
      "7 eb25523e79e0f62b126ad67ec75f5ca7 {'init': True, 'seed': 8, 'init_temp': 1.5, 'temp_steps': [0.07500000000000001, 0.15000000000000002, 0.22500000000000003, 0.30000000000000004, 0.375, 0.45000000000000007, 0.525, 0.6000000000000001, 0.675, 0.75, 0.8250000000000001, 0.9000000000000001, 0.9750000000000001, 1.05, 1.125, 1.2000000000000002, 1.2750000000000001, 1.35, 1.425, 1.5], 'primary_equilibration_done': True, 'fine_quench_done': True, 'secondary_equilibration_done': True, 'fire_applied': True}\n",
      "8 195c4fa433b01286ebe2ce7c821cb9e1 {'init': True, 'seed': 6, 'init_temp': 1.5, 'temp_steps': [0.07500000000000001, 0.15000000000000002, 0.22500000000000003, 0.30000000000000004, 0.375, 0.45000000000000007, 0.525, 0.6000000000000001, 0.675, 0.75, 0.8250000000000001, 0.9000000000000001, 0.9750000000000001, 1.05, 1.125, 1.2000000000000002, 1.2750000000000001, 1.35, 1.425, 1.5], 'primary_equilibration_done': True, 'fine_quench_done': True, 'secondary_equilibration_done': True, 'fire_applied': True}\n",
      "9 7f2847dfac7ec1375318bf516d01123f {'init': True, 'seed': 7, 'init_temp': 1.5, 'temp_steps': [0.07500000000000001, 0.15000000000000002, 0.22500000000000003, 0.30000000000000004, 0.375, 0.45000000000000007, 0.525, 0.6000000000000001, 0.675, 0.75, 0.8250000000000001, 0.9000000000000001, 0.9750000000000001, 1.05, 1.125, 1.2000000000000002, 1.2750000000000001, 1.35, 1.425, 1.5], 'primary_equilibration_done': True, 'fine_quench_done': True, 'secondary_equilibration_done': True, 'fire_applied': True}\n",
      "10 a0f72fa2c65b6e380a9e3b21848079ed {'init': True, 'seed': 5, 'init_temp': 1.5, 'temp_steps': [0.07500000000000001, 0.15000000000000002, 0.22500000000000003, 0.30000000000000004, 0.375, 0.45000000000000007, 0.525, 0.6000000000000001, 0.675, 0.75, 0.8250000000000001, 0.9000000000000001, 0.9750000000000001, 1.05, 1.125, 1.2000000000000002, 1.2750000000000001, 1.35, 1.425, 1.5], 'primary_equilibration_done': True, 'fine_quench_done': True, 'secondary_equilibration_done': True, 'fire_applied': True}\n"
     ]
    }
   ],
   "source": [
    "for i, job in enumerate(project):\n",
    "\n",
    "    print(i, job, job.doc)"
   ]
  },
  {
   "cell_type": "code",
   "execution_count": 9,
   "metadata": {},
   "outputs": [
    {
     "data": {
      "text/plain": [
       "['/media/ian/Data2/monk/2d-esl/workspace/a0f72fa2c65b6e380a9e3b21848079ed/fine/equil_temp-0.300.gsd',\n",
       " '/media/ian/Data2/monk/2d-esl/workspace/a0f72fa2c65b6e380a9e3b21848079ed/fine/equil_temp-0.562.gsd',\n",
       " '/media/ian/Data2/monk/2d-esl/workspace/a0f72fa2c65b6e380a9e3b21848079ed/fine/equil_temp-0.487.gsd',\n",
       " '/media/ian/Data2/monk/2d-esl/workspace/a0f72fa2c65b6e380a9e3b21848079ed/fine/equil_temp-0.450.gsd',\n",
       " '/media/ian/Data2/monk/2d-esl/workspace/a0f72fa2c65b6e380a9e3b21848079ed/fine/equil_temp-0.525.gsd',\n",
       " '/media/ian/Data2/monk/2d-esl/workspace/a0f72fa2c65b6e380a9e3b21848079ed/fine/equil_temp-0.675.gsd',\n",
       " '/media/ian/Data2/monk/2d-esl/workspace/a0f72fa2c65b6e380a9e3b21848079ed/fine/equil_temp-0.637.gsd',\n",
       " '/media/ian/Data2/monk/2d-esl/workspace/a0f72fa2c65b6e380a9e3b21848079ed/fine/equil_temp-0.337.gsd',\n",
       " '/media/ian/Data2/monk/2d-esl/workspace/a0f72fa2c65b6e380a9e3b21848079ed/fine/equil_temp-0.375.gsd',\n",
       " '/media/ian/Data2/monk/2d-esl/workspace/a0f72fa2c65b6e380a9e3b21848079ed/fine/equil_temp-0.412.gsd',\n",
       " '/media/ian/Data2/monk/2d-esl/workspace/a0f72fa2c65b6e380a9e3b21848079ed/fine/equil_temp-0.600.gsd']"
      ]
     },
     "execution_count": 9,
     "metadata": {},
     "output_type": "execute_result"
    }
   ],
   "source": [
    "# files = glob.glob(job.fn(\"analysis/long_fire_temp*.gsd\"))\n",
    "files = glob.glob(job.fn(\"fine/equil_temp*.gsd\"))\n",
    "files"
   ]
  },
  {
   "cell_type": "code",
   "execution_count": 10,
   "metadata": {},
   "outputs": [],
   "source": [
    "traj = gsd.hoomd.open(files[-2])"
   ]
  },
  {
   "cell_type": "code",
   "execution_count": 11,
   "metadata": {},
   "outputs": [
    {
     "data": {
      "text/plain": [
       "5.0"
      ]
     },
     "execution_count": 11,
     "metadata": {},
     "output_type": "execute_result"
    }
   ],
   "source": [
    "(traj[2].configuration.step - traj[1].configuration.step)*0.005"
   ]
  },
  {
   "cell_type": "code",
   "execution_count": 15,
   "metadata": {},
   "outputs": [
    {
     "data": {
      "text/plain": [
       "0.1"
      ]
     },
     "execution_count": 15,
     "metadata": {},
     "output_type": "execute_result"
    }
   ],
   "source": [
    "proj_doc = project.doc\n",
    "proj_doc[\"step_unit\"]//50*proj_doc[\"dt\"]"
   ]
  },
  {
   "cell_type": "code",
   "execution_count": 13,
   "metadata": {},
   "outputs": [
    {
     "data": {
      "text/plain": [
       "171"
      ]
     },
     "execution_count": 13,
     "metadata": {},
     "output_type": "execute_result"
    }
   ],
   "source": [
    "len(traj)"
   ]
  },
  {
   "cell_type": "code",
   "execution_count": 64,
   "metadata": {},
   "outputs": [
    {
     "data": {
      "text/plain": [
       "0.005"
      ]
     },
     "execution_count": 64,
     "metadata": {},
     "output_type": "execute_result"
    }
   ],
   "source": [
    "proj_doc[\"dt\"]"
   ]
  },
  {
   "cell_type": "code",
   "execution_count": null,
   "metadata": {},
   "outputs": [],
   "source": []
  }
 ],
 "metadata": {
  "kernelspec": {
   "display_name": "Python 3",
   "language": "python",
   "name": "python3"
  },
  "language_info": {
   "codemirror_mode": {
    "name": "ipython",
    "version": 3
   },
   "file_extension": ".py",
   "mimetype": "text/x-python",
   "name": "python",
   "nbconvert_exporter": "python",
   "pygments_lexer": "ipython3",
   "version": "3.10.6"
  }
 },
 "nbformat": 4,
 "nbformat_minor": 2
}
