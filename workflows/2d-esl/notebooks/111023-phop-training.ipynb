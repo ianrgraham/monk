{
 "cells": [
  {
   "cell_type": "code",
   "execution_count": 1,
   "metadata": {},
   "outputs": [],
   "source": [
    "import numpy as np\n",
    "import pandas as pd\n",
    "import matplotlib.pyplot as plt\n",
    "import matplotlib as mpl\n",
    "from matplotlib import cm, colors\n",
    "import glob\n",
    "\n",
    "from numba import njit, vectorize, float32\n",
    "\n",
    "from typing import Callable, Optional, Union\n",
    "\n",
    "import hoomd\n",
    "import gsd.hoomd\n",
    "\n",
    "import sys\n",
    "import time\n",
    "import pickle\n",
    "import gc\n",
    "import pathlib\n",
    "import os\n",
    "\n",
    "import signac\n",
    "\n",
    "from scipy import optimize\n",
    "\n",
    "os.environ[\"POLARS_MAX_THREADS\"] = \"8\"\n",
    "import polars as pl"
   ]
  },
  {
   "cell_type": "code",
   "execution_count": 2,
   "metadata": {},
   "outputs": [],
   "source": [
    "from monk import nb, prep, pair, render, utils, grid, workflow\n",
    "import freud\n",
    "\n",
    "parent = pathlib.Path(os.getcwd()).parent / \"config.yaml\"\n",
    "config = workflow.get_config(parent.as_posix())"
   ]
  },
  {
   "cell_type": "code",
   "execution_count": 3,
   "metadata": {},
   "outputs": [
    {
     "data": {
      "text/plain": [
       "{'avail_seed': 11, 'dt': 0.005, 'step_unit': 1000, 'temp_steps': 20, 'equil_time': 40, 'run_time': 10, 'max_alpha_time': 1000, 'alpha_iters': 10, '_status': {}}"
      ]
     },
     "execution_count": 3,
     "metadata": {},
     "output_type": "execute_result"
    }
   ],
   "source": [
    "project: signac.Project = signac.get_project(root=config['root'])\n",
    "project.doc"
   ]
  },
  {
   "cell_type": "code",
   "execution_count": 4,
   "metadata": {},
   "outputs": [
    {
     "name": "stdout",
     "output_type": "stream",
     "text": [
      "0 a03bdc2a5be70a1e699a3f825fb8877b KA_LJ\n",
      "/media/ian/Data2/monk/2d-esl/workspace/a03bdc2a5be70a1e699a3f825fb8877b/fixed-fine-equil/equil_temp-0.300.gsd\n",
      "/media/ian/Data2/monk/2d-esl/workspace/a03bdc2a5be70a1e699a3f825fb8877b/fixed-fine-equil/equil_temp-0.337.gsd\n",
      "/media/ian/Data2/monk/2d-esl/workspace/a03bdc2a5be70a1e699a3f825fb8877b/fixed-fine-equil/equil_temp-0.375.gsd\n",
      "/media/ian/Data2/monk/2d-esl/workspace/a03bdc2a5be70a1e699a3f825fb8877b/fixed-fine-equil/equil_temp-0.412.gsd\n",
      "/media/ian/Data2/monk/2d-esl/workspace/a03bdc2a5be70a1e699a3f825fb8877b/fixed-fine-equil/equil_temp-0.450.gsd\n",
      "/media/ian/Data2/monk/2d-esl/workspace/a03bdc2a5be70a1e699a3f825fb8877b/fixed-fine-equil/equil_temp-0.487.gsd\n",
      "/media/ian/Data2/monk/2d-esl/workspace/a03bdc2a5be70a1e699a3f825fb8877b/fixed-fine-equil/equil_temp-0.525.gsd\n",
      "/media/ian/Data2/monk/2d-esl/workspace/a03bdc2a5be70a1e699a3f825fb8877b/fixed-fine-equil/equil_temp-0.562.gsd\n",
      "/media/ian/Data2/monk/2d-esl/workspace/a03bdc2a5be70a1e699a3f825fb8877b/fixed-fine-equil/equil_temp-0.600.gsd\n",
      "/media/ian/Data2/monk/2d-esl/workspace/a03bdc2a5be70a1e699a3f825fb8877b/fixed-fine-equil/equil_temp-0.637.gsd\n",
      "/media/ian/Data2/monk/2d-esl/workspace/a03bdc2a5be70a1e699a3f825fb8877b/fixed-fine-equil/equil_temp-0.675.gsd\n",
      "\n",
      "1 1961d54ebec38ae1cebeabd263ddba5b KA_LJ\n",
      "/media/ian/Data2/monk/2d-esl/workspace/1961d54ebec38ae1cebeabd263ddba5b/fixed-fine-equil/equil_temp-0.337.gsd\n",
      "/media/ian/Data2/monk/2d-esl/workspace/1961d54ebec38ae1cebeabd263ddba5b/fixed-fine-equil/equil_temp-0.375.gsd\n",
      "/media/ian/Data2/monk/2d-esl/workspace/1961d54ebec38ae1cebeabd263ddba5b/fixed-fine-equil/equil_temp-0.412.gsd\n",
      "/media/ian/Data2/monk/2d-esl/workspace/1961d54ebec38ae1cebeabd263ddba5b/fixed-fine-equil/equil_temp-0.450.gsd\n",
      "/media/ian/Data2/monk/2d-esl/workspace/1961d54ebec38ae1cebeabd263ddba5b/fixed-fine-equil/equil_temp-0.487.gsd\n",
      "/media/ian/Data2/monk/2d-esl/workspace/1961d54ebec38ae1cebeabd263ddba5b/fixed-fine-equil/equil_temp-0.525.gsd\n",
      "/media/ian/Data2/monk/2d-esl/workspace/1961d54ebec38ae1cebeabd263ddba5b/fixed-fine-equil/equil_temp-0.562.gsd\n",
      "/media/ian/Data2/monk/2d-esl/workspace/1961d54ebec38ae1cebeabd263ddba5b/fixed-fine-equil/equil_temp-0.600.gsd\n",
      "/media/ian/Data2/monk/2d-esl/workspace/1961d54ebec38ae1cebeabd263ddba5b/fixed-fine-equil/equil_temp-0.637.gsd\n",
      "/media/ian/Data2/monk/2d-esl/workspace/1961d54ebec38ae1cebeabd263ddba5b/fixed-fine-equil/equil_temp-0.675.gsd\n",
      "\n",
      "2 d395695118c2c7c531f3aeee70f4b196 KA_WCA\n",
      "/media/ian/Data2/monk/2d-esl/workspace/d395695118c2c7c531f3aeee70f4b196/fixed-fine-equil/equil_temp-0.210.gsd\n",
      "/media/ian/Data2/monk/2d-esl/workspace/d395695118c2c7c531f3aeee70f4b196/fixed-fine-equil/equil_temp-0.245.gsd\n",
      "/media/ian/Data2/monk/2d-esl/workspace/d395695118c2c7c531f3aeee70f4b196/fixed-fine-equil/equil_temp-0.280.gsd\n",
      "/media/ian/Data2/monk/2d-esl/workspace/d395695118c2c7c531f3aeee70f4b196/fixed-fine-equil/equil_temp-0.315.gsd\n",
      "/media/ian/Data2/monk/2d-esl/workspace/d395695118c2c7c531f3aeee70f4b196/fixed-fine-equil/equil_temp-0.350.gsd\n",
      "/media/ian/Data2/monk/2d-esl/workspace/d395695118c2c7c531f3aeee70f4b196/fixed-fine-equil/equil_temp-0.385.gsd\n",
      "/media/ian/Data2/monk/2d-esl/workspace/d395695118c2c7c531f3aeee70f4b196/fixed-fine-equil/equil_temp-0.420.gsd\n",
      "/media/ian/Data2/monk/2d-esl/workspace/d395695118c2c7c531f3aeee70f4b196/fixed-fine-equil/equil_temp-0.455.gsd\n",
      "/media/ian/Data2/monk/2d-esl/workspace/d395695118c2c7c531f3aeee70f4b196/fixed-fine-equil/equil_temp-0.490.gsd\n",
      "\n",
      "3 503e0376bd64085f1c22ed91ae48db88 KA_LJ\n",
      "/media/ian/Data2/monk/2d-esl/workspace/503e0376bd64085f1c22ed91ae48db88/fixed-fine-equil/equil_temp-0.300.gsd\n",
      "/media/ian/Data2/monk/2d-esl/workspace/503e0376bd64085f1c22ed91ae48db88/fixed-fine-equil/equil_temp-0.337.gsd\n",
      "/media/ian/Data2/monk/2d-esl/workspace/503e0376bd64085f1c22ed91ae48db88/fixed-fine-equil/equil_temp-0.375.gsd\n",
      "/media/ian/Data2/monk/2d-esl/workspace/503e0376bd64085f1c22ed91ae48db88/fixed-fine-equil/equil_temp-0.412.gsd\n",
      "/media/ian/Data2/monk/2d-esl/workspace/503e0376bd64085f1c22ed91ae48db88/fixed-fine-equil/equil_temp-0.450.gsd\n",
      "/media/ian/Data2/monk/2d-esl/workspace/503e0376bd64085f1c22ed91ae48db88/fixed-fine-equil/equil_temp-0.487.gsd\n",
      "/media/ian/Data2/monk/2d-esl/workspace/503e0376bd64085f1c22ed91ae48db88/fixed-fine-equil/equil_temp-0.525.gsd\n",
      "/media/ian/Data2/monk/2d-esl/workspace/503e0376bd64085f1c22ed91ae48db88/fixed-fine-equil/equil_temp-0.562.gsd\n",
      "/media/ian/Data2/monk/2d-esl/workspace/503e0376bd64085f1c22ed91ae48db88/fixed-fine-equil/equil_temp-0.600.gsd\n",
      "/media/ian/Data2/monk/2d-esl/workspace/503e0376bd64085f1c22ed91ae48db88/fixed-fine-equil/equil_temp-0.637.gsd\n",
      "/media/ian/Data2/monk/2d-esl/workspace/503e0376bd64085f1c22ed91ae48db88/fixed-fine-equil/equil_temp-0.675.gsd\n",
      "\n",
      "4 b579e52b6ab959f8f7d04ba6af76a9be KA_LJ\n",
      "/media/ian/Data2/monk/2d-esl/workspace/b579e52b6ab959f8f7d04ba6af76a9be/fixed-fine-equil/equil_temp-0.300.gsd\n",
      "/media/ian/Data2/monk/2d-esl/workspace/b579e52b6ab959f8f7d04ba6af76a9be/fixed-fine-equil/equil_temp-0.337.gsd\n",
      "/media/ian/Data2/monk/2d-esl/workspace/b579e52b6ab959f8f7d04ba6af76a9be/fixed-fine-equil/equil_temp-0.375.gsd\n",
      "/media/ian/Data2/monk/2d-esl/workspace/b579e52b6ab959f8f7d04ba6af76a9be/fixed-fine-equil/equil_temp-0.412.gsd\n",
      "/media/ian/Data2/monk/2d-esl/workspace/b579e52b6ab959f8f7d04ba6af76a9be/fixed-fine-equil/equil_temp-0.450.gsd\n",
      "/media/ian/Data2/monk/2d-esl/workspace/b579e52b6ab959f8f7d04ba6af76a9be/fixed-fine-equil/equil_temp-0.487.gsd\n",
      "/media/ian/Data2/monk/2d-esl/workspace/b579e52b6ab959f8f7d04ba6af76a9be/fixed-fine-equil/equil_temp-0.525.gsd\n",
      "/media/ian/Data2/monk/2d-esl/workspace/b579e52b6ab959f8f7d04ba6af76a9be/fixed-fine-equil/equil_temp-0.562.gsd\n",
      "/media/ian/Data2/monk/2d-esl/workspace/b579e52b6ab959f8f7d04ba6af76a9be/fixed-fine-equil/equil_temp-0.600.gsd\n",
      "/media/ian/Data2/monk/2d-esl/workspace/b579e52b6ab959f8f7d04ba6af76a9be/fixed-fine-equil/equil_temp-0.637.gsd\n",
      "/media/ian/Data2/monk/2d-esl/workspace/b579e52b6ab959f8f7d04ba6af76a9be/fixed-fine-equil/equil_temp-0.675.gsd\n",
      "\n",
      "5 a82cc8d96904a27f96a31c3ee6bd0deb KA_LJ\n",
      "/media/ian/Data2/monk/2d-esl/workspace/a82cc8d96904a27f96a31c3ee6bd0deb/fixed-fine-equil/equil_temp-0.337.gsd\n",
      "/media/ian/Data2/monk/2d-esl/workspace/a82cc8d96904a27f96a31c3ee6bd0deb/fixed-fine-equil/equil_temp-0.375.gsd\n",
      "/media/ian/Data2/monk/2d-esl/workspace/a82cc8d96904a27f96a31c3ee6bd0deb/fixed-fine-equil/equil_temp-0.412.gsd\n",
      "/media/ian/Data2/monk/2d-esl/workspace/a82cc8d96904a27f96a31c3ee6bd0deb/fixed-fine-equil/equil_temp-0.450.gsd\n",
      "/media/ian/Data2/monk/2d-esl/workspace/a82cc8d96904a27f96a31c3ee6bd0deb/fixed-fine-equil/equil_temp-0.487.gsd\n",
      "/media/ian/Data2/monk/2d-esl/workspace/a82cc8d96904a27f96a31c3ee6bd0deb/fixed-fine-equil/equil_temp-0.525.gsd\n",
      "/media/ian/Data2/monk/2d-esl/workspace/a82cc8d96904a27f96a31c3ee6bd0deb/fixed-fine-equil/equil_temp-0.562.gsd\n",
      "/media/ian/Data2/monk/2d-esl/workspace/a82cc8d96904a27f96a31c3ee6bd0deb/fixed-fine-equil/equil_temp-0.600.gsd\n",
      "/media/ian/Data2/monk/2d-esl/workspace/a82cc8d96904a27f96a31c3ee6bd0deb/fixed-fine-equil/equil_temp-0.637.gsd\n",
      "/media/ian/Data2/monk/2d-esl/workspace/a82cc8d96904a27f96a31c3ee6bd0deb/fixed-fine-equil/equil_temp-0.675.gsd\n",
      "\n",
      "6 127b38ea46bce9a180ac54e7adf90bf5 KA_LJ\n",
      "/media/ian/Data2/monk/2d-esl/workspace/127b38ea46bce9a180ac54e7adf90bf5/fixed-fine-equil/equil_temp-0.300.gsd\n",
      "/media/ian/Data2/monk/2d-esl/workspace/127b38ea46bce9a180ac54e7adf90bf5/fixed-fine-equil/equil_temp-0.337.gsd\n",
      "/media/ian/Data2/monk/2d-esl/workspace/127b38ea46bce9a180ac54e7adf90bf5/fixed-fine-equil/equil_temp-0.375.gsd\n",
      "/media/ian/Data2/monk/2d-esl/workspace/127b38ea46bce9a180ac54e7adf90bf5/fixed-fine-equil/equil_temp-0.412.gsd\n",
      "/media/ian/Data2/monk/2d-esl/workspace/127b38ea46bce9a180ac54e7adf90bf5/fixed-fine-equil/equil_temp-0.450.gsd\n",
      "/media/ian/Data2/monk/2d-esl/workspace/127b38ea46bce9a180ac54e7adf90bf5/fixed-fine-equil/equil_temp-0.487.gsd\n",
      "/media/ian/Data2/monk/2d-esl/workspace/127b38ea46bce9a180ac54e7adf90bf5/fixed-fine-equil/equil_temp-0.525.gsd\n",
      "/media/ian/Data2/monk/2d-esl/workspace/127b38ea46bce9a180ac54e7adf90bf5/fixed-fine-equil/equil_temp-0.562.gsd\n",
      "/media/ian/Data2/monk/2d-esl/workspace/127b38ea46bce9a180ac54e7adf90bf5/fixed-fine-equil/equil_temp-0.600.gsd\n",
      "/media/ian/Data2/monk/2d-esl/workspace/127b38ea46bce9a180ac54e7adf90bf5/fixed-fine-equil/equil_temp-0.637.gsd\n",
      "/media/ian/Data2/monk/2d-esl/workspace/127b38ea46bce9a180ac54e7adf90bf5/fixed-fine-equil/equil_temp-0.675.gsd\n",
      "\n",
      "7 eb25523e79e0f62b126ad67ec75f5ca7 KA_LJ\n",
      "/media/ian/Data2/monk/2d-esl/workspace/eb25523e79e0f62b126ad67ec75f5ca7/fixed-fine-equil/equil_temp-0.300.gsd\n",
      "/media/ian/Data2/monk/2d-esl/workspace/eb25523e79e0f62b126ad67ec75f5ca7/fixed-fine-equil/equil_temp-0.337.gsd\n",
      "/media/ian/Data2/monk/2d-esl/workspace/eb25523e79e0f62b126ad67ec75f5ca7/fixed-fine-equil/equil_temp-0.375.gsd\n",
      "/media/ian/Data2/monk/2d-esl/workspace/eb25523e79e0f62b126ad67ec75f5ca7/fixed-fine-equil/equil_temp-0.412.gsd\n",
      "/media/ian/Data2/monk/2d-esl/workspace/eb25523e79e0f62b126ad67ec75f5ca7/fixed-fine-equil/equil_temp-0.450.gsd\n",
      "/media/ian/Data2/monk/2d-esl/workspace/eb25523e79e0f62b126ad67ec75f5ca7/fixed-fine-equil/equil_temp-0.487.gsd\n",
      "/media/ian/Data2/monk/2d-esl/workspace/eb25523e79e0f62b126ad67ec75f5ca7/fixed-fine-equil/equil_temp-0.525.gsd\n",
      "/media/ian/Data2/monk/2d-esl/workspace/eb25523e79e0f62b126ad67ec75f5ca7/fixed-fine-equil/equil_temp-0.562.gsd\n",
      "/media/ian/Data2/monk/2d-esl/workspace/eb25523e79e0f62b126ad67ec75f5ca7/fixed-fine-equil/equil_temp-0.600.gsd\n",
      "/media/ian/Data2/monk/2d-esl/workspace/eb25523e79e0f62b126ad67ec75f5ca7/fixed-fine-equil/equil_temp-0.637.gsd\n",
      "/media/ian/Data2/monk/2d-esl/workspace/eb25523e79e0f62b126ad67ec75f5ca7/fixed-fine-equil/equil_temp-0.675.gsd\n",
      "\n",
      "8 195c4fa433b01286ebe2ce7c821cb9e1 KA_LJ\n",
      "/media/ian/Data2/monk/2d-esl/workspace/195c4fa433b01286ebe2ce7c821cb9e1/fixed-fine-equil/equil_temp-0.300.gsd\n",
      "/media/ian/Data2/monk/2d-esl/workspace/195c4fa433b01286ebe2ce7c821cb9e1/fixed-fine-equil/equil_temp-0.337.gsd\n",
      "/media/ian/Data2/monk/2d-esl/workspace/195c4fa433b01286ebe2ce7c821cb9e1/fixed-fine-equil/equil_temp-0.375.gsd\n",
      "/media/ian/Data2/monk/2d-esl/workspace/195c4fa433b01286ebe2ce7c821cb9e1/fixed-fine-equil/equil_temp-0.412.gsd\n",
      "/media/ian/Data2/monk/2d-esl/workspace/195c4fa433b01286ebe2ce7c821cb9e1/fixed-fine-equil/equil_temp-0.450.gsd\n",
      "/media/ian/Data2/monk/2d-esl/workspace/195c4fa433b01286ebe2ce7c821cb9e1/fixed-fine-equil/equil_temp-0.487.gsd\n",
      "/media/ian/Data2/monk/2d-esl/workspace/195c4fa433b01286ebe2ce7c821cb9e1/fixed-fine-equil/equil_temp-0.525.gsd\n",
      "/media/ian/Data2/monk/2d-esl/workspace/195c4fa433b01286ebe2ce7c821cb9e1/fixed-fine-equil/equil_temp-0.562.gsd\n",
      "/media/ian/Data2/monk/2d-esl/workspace/195c4fa433b01286ebe2ce7c821cb9e1/fixed-fine-equil/equil_temp-0.600.gsd\n",
      "/media/ian/Data2/monk/2d-esl/workspace/195c4fa433b01286ebe2ce7c821cb9e1/fixed-fine-equil/equil_temp-0.637.gsd\n",
      "/media/ian/Data2/monk/2d-esl/workspace/195c4fa433b01286ebe2ce7c821cb9e1/fixed-fine-equil/equil_temp-0.675.gsd\n",
      "\n",
      "9 7f2847dfac7ec1375318bf516d01123f KA_LJ\n",
      "/media/ian/Data2/monk/2d-esl/workspace/7f2847dfac7ec1375318bf516d01123f/fixed-fine-equil/equil_temp-0.337.gsd\n",
      "/media/ian/Data2/monk/2d-esl/workspace/7f2847dfac7ec1375318bf516d01123f/fixed-fine-equil/equil_temp-0.375.gsd\n",
      "/media/ian/Data2/monk/2d-esl/workspace/7f2847dfac7ec1375318bf516d01123f/fixed-fine-equil/equil_temp-0.412.gsd\n",
      "/media/ian/Data2/monk/2d-esl/workspace/7f2847dfac7ec1375318bf516d01123f/fixed-fine-equil/equil_temp-0.450.gsd\n",
      "/media/ian/Data2/monk/2d-esl/workspace/7f2847dfac7ec1375318bf516d01123f/fixed-fine-equil/equil_temp-0.487.gsd\n",
      "/media/ian/Data2/monk/2d-esl/workspace/7f2847dfac7ec1375318bf516d01123f/fixed-fine-equil/equil_temp-0.525.gsd\n",
      "/media/ian/Data2/monk/2d-esl/workspace/7f2847dfac7ec1375318bf516d01123f/fixed-fine-equil/equil_temp-0.562.gsd\n",
      "/media/ian/Data2/monk/2d-esl/workspace/7f2847dfac7ec1375318bf516d01123f/fixed-fine-equil/equil_temp-0.600.gsd\n",
      "/media/ian/Data2/monk/2d-esl/workspace/7f2847dfac7ec1375318bf516d01123f/fixed-fine-equil/equil_temp-0.637.gsd\n",
      "/media/ian/Data2/monk/2d-esl/workspace/7f2847dfac7ec1375318bf516d01123f/fixed-fine-equil/equil_temp-0.675.gsd\n",
      "\n",
      "10 a0f72fa2c65b6e380a9e3b21848079ed KA_LJ\n",
      "/media/ian/Data2/monk/2d-esl/workspace/a0f72fa2c65b6e380a9e3b21848079ed/fixed-fine-equil/equil_temp-0.300.gsd\n",
      "/media/ian/Data2/monk/2d-esl/workspace/a0f72fa2c65b6e380a9e3b21848079ed/fixed-fine-equil/equil_temp-0.337.gsd\n",
      "/media/ian/Data2/monk/2d-esl/workspace/a0f72fa2c65b6e380a9e3b21848079ed/fixed-fine-equil/equil_temp-0.375.gsd\n",
      "/media/ian/Data2/monk/2d-esl/workspace/a0f72fa2c65b6e380a9e3b21848079ed/fixed-fine-equil/equil_temp-0.412.gsd\n",
      "/media/ian/Data2/monk/2d-esl/workspace/a0f72fa2c65b6e380a9e3b21848079ed/fixed-fine-equil/equil_temp-0.450.gsd\n",
      "/media/ian/Data2/monk/2d-esl/workspace/a0f72fa2c65b6e380a9e3b21848079ed/fixed-fine-equil/equil_temp-0.487.gsd\n",
      "/media/ian/Data2/monk/2d-esl/workspace/a0f72fa2c65b6e380a9e3b21848079ed/fixed-fine-equil/equil_temp-0.525.gsd\n",
      "/media/ian/Data2/monk/2d-esl/workspace/a0f72fa2c65b6e380a9e3b21848079ed/fixed-fine-equil/equil_temp-0.562.gsd\n",
      "/media/ian/Data2/monk/2d-esl/workspace/a0f72fa2c65b6e380a9e3b21848079ed/fixed-fine-equil/equil_temp-0.600.gsd\n",
      "/media/ian/Data2/monk/2d-esl/workspace/a0f72fa2c65b6e380a9e3b21848079ed/fixed-fine-equil/equil_temp-0.637.gsd\n",
      "/media/ian/Data2/monk/2d-esl/workspace/a0f72fa2c65b6e380a9e3b21848079ed/fixed-fine-equil/equil_temp-0.675.gsd\n",
      "\n"
     ]
    }
   ],
   "source": [
    "for i, job in enumerate(project):\n",
    "\n",
    "    print(i, job, job.sp[\"pot\"])\n",
    "    files = glob.glob(job.fn(\"fixed-fine-equil/*.gsd\"))\n",
    "    for file in sorted(files):\n",
    "        print(file)\n",
    "    print()"
   ]
  },
  {
   "cell_type": "code",
   "execution_count": 5,
   "metadata": {},
   "outputs": [
    {
     "name": "stdout",
     "output_type": "stream",
     "text": [
      "0 a03bdc2a5be70a1e699a3f825fb8877b KA_LJ\n"
     ]
    },
    {
     "data": {
      "text/plain": [
       "Text(0.5, 0, '$p_{hop}$')"
      ]
     },
     "execution_count": 5,
     "metadata": {},
     "output_type": "execute_result"
    },
    {
     "data": {
      "image/png": "[encoded data removed]",
      "text/plain": [
       "<Figure size 432x288 with 1 Axes>"
      ]
     },
     "metadata": {
      "image/png": {
       "height": 268,
       "width": 374
      },
      "needs_background": "light"
     },
     "output_type": "display_data"
    }
   ],
   "source": [
    "plt.figure()\n",
    "\n",
    "cmap = cm.magma\n",
    "norm = colors.Normalize(vmin=0.25, vmax=0.75)\n",
    "\n",
    "bins = np.geomspace(1e-4, 1e1, 100)\n",
    "\n",
    "for i, job in enumerate(project):\n",
    "\n",
    "    print(i, job, job.sp[\"pot\"])\n",
    "    files = glob.glob(job.fn(\"fixed-analysis/*.parquet\"))\n",
    "    for file in sorted(files):\n",
    "        temp = float(file.split(\"/\")[-1].split(\"-\")[-1].split(\".parquet\")[0])\n",
    "        df = pd.read_parquet(file)\n",
    "        plt.hist(df[\"phop\"], label=temp, bins=bins, histtype=\"step\", color=cmap(norm(temp)))\n",
    "    break\n",
    "\n",
    "plt.legend(title=\"Temp\")\n",
    "plt.yscale(\"log\")\n",
    "plt.xscale(\"log\")\n",
    "plt.xlabel(r\"$p_{hop}$\", size=\"x-large\")"
   ]
  },
  {
   "cell_type": "code",
   "execution_count": 9,
   "metadata": {},
   "outputs": [
    {
     "data": {
      "text/plain": [
       "['/media/ian/Data2/monk/2d-esl/workspace/a03bdc2a5be70a1e699a3f825fb8877b/fixed-analysis/analysis-sfs_temp-0.300.parquet',\n",
       " '/media/ian/Data2/monk/2d-esl/workspace/a03bdc2a5be70a1e699a3f825fb8877b/fixed-analysis/analysis-sfs_temp-0.337.parquet',\n",
       " '/media/ian/Data2/monk/2d-esl/workspace/a03bdc2a5be70a1e699a3f825fb8877b/fixed-analysis/analysis-sfs_temp-0.375.parquet',\n",
       " '/media/ian/Data2/monk/2d-esl/workspace/a03bdc2a5be70a1e699a3f825fb8877b/fixed-analysis/analysis-sfs_temp-0.412.parquet',\n",
       " '/media/ian/Data2/monk/2d-esl/workspace/a03bdc2a5be70a1e699a3f825fb8877b/fixed-analysis/analysis-sfs_temp-0.450.parquet',\n",
       " '/media/ian/Data2/monk/2d-esl/workspace/a03bdc2a5be70a1e699a3f825fb8877b/fixed-analysis/analysis-sfs_temp-0.487.parquet',\n",
       " '/media/ian/Data2/monk/2d-esl/workspace/a03bdc2a5be70a1e699a3f825fb8877b/fixed-analysis/analysis-sfs_temp-0.525.parquet',\n",
       " '/media/ian/Data2/monk/2d-esl/workspace/a03bdc2a5be70a1e699a3f825fb8877b/fixed-analysis/analysis-sfs_temp-0.562.parquet',\n",
       " '/media/ian/Data2/monk/2d-esl/workspace/a03bdc2a5be70a1e699a3f825fb8877b/fixed-analysis/analysis-sfs_temp-0.600.parquet',\n",
       " '/media/ian/Data2/monk/2d-esl/workspace/a03bdc2a5be70a1e699a3f825fb8877b/fixed-analysis/analysis-sfs_temp-0.637.parquet',\n",
       " '/media/ian/Data2/monk/2d-esl/workspace/a03bdc2a5be70a1e699a3f825fb8877b/fixed-analysis/analysis-sfs_temp-0.675.parquet']"
      ]
     },
     "execution_count": 9,
     "metadata": {},
     "output_type": "execute_result"
    }
   ],
   "source": [
    "sorted(files, key=lambda x: float(x.split(\"/\")[-1].split(\"temp-\")[-1].split(\".parquet\")[0]))"
   ]
  },
  {
   "cell_type": "code",
   "execution_count": 11,
   "metadata": {},
   "outputs": [
    {
     "name": "stdout",
     "output_type": "stream",
     "text": [
      "0 a03bdc2a5be70a1e699a3f825fb8877b KA_LJ\n"
     ]
    },
    {
     "name": "stdout",
     "output_type": "stream",
     "text": [
      "1 1961d54ebec38ae1cebeabd263ddba5b KA_LJ\n",
      "3 503e0376bd64085f1c22ed91ae48db88 KA_LJ\n",
      "4 b579e52b6ab959f8f7d04ba6af76a9be KA_LJ\n",
      "5 a82cc8d96904a27f96a31c3ee6bd0deb KA_LJ\n",
      "6 127b38ea46bce9a180ac54e7adf90bf5 KA_LJ\n",
      "7 eb25523e79e0f62b126ad67ec75f5ca7 KA_LJ\n",
      "8 195c4fa433b01286ebe2ce7c821cb9e1 KA_LJ\n",
      "9 7f2847dfac7ec1375318bf516d01123f KA_LJ\n",
      "10 a0f72fa2c65b6e380a9e3b21848079ed KA_LJ\n"
     ]
    },
    {
     "data": {
      "text/plain": [
       "Text(0.5, 0, '$T$')"
      ]
     },
     "execution_count": 11,
     "metadata": {},
     "output_type": "execute_result"
    },
    {
     "data": {
      "image/png": "[encoded data removed]",
      "text/plain": [
       "<Figure size 432x288 with 1 Axes>"
      ]
     },
     "metadata": {
      "image/png": {
       "height": 266,
       "width": 400
      },
      "needs_background": "light"
     },
     "output_type": "display_data"
    }
   ],
   "source": [
    "plt.figure()\n",
    "\n",
    "cmap = cm.magma\n",
    "norm = colors.Normalize(vmin=0.25, vmax=0.75)\n",
    "\n",
    "xs = []\n",
    "ys = []\n",
    "\n",
    "for i, job in enumerate(project):\n",
    "\n",
    "    if \"WCA\" in job.sp[\"pot\"]:\n",
    "        continue\n",
    "\n",
    "    print(i, job, job.sp[\"pot\"])\n",
    "    files = glob.glob(job.fn(\"fixed-analysis/*.parquet\"))\n",
    "\n",
    "    for file in sorted(files):\n",
    "        temp = float(file.split(\"/\")[-1].split(\"-\")[-1].split(\".parquet\")[0])\n",
    "        df = pl.read_parquet(file, parallel=True, use_pyarrow=True)\n",
    "        xs.append(temp)\n",
    "        ys.append(df[\"phop\"].mean())\n",
    "    \n",
    "tdf = pd.DataFrame({\"T\": xs, \"phop\": ys})\n",
    "nxs = []\n",
    "nys = []\n",
    "for x, ttdf in tdf.groupby(\"T\"):\n",
    "    nxs.append(x)\n",
    "    nys.append(ttdf[\"phop\"].mean())\n",
    "\n",
    "plt.plot(nxs, nys, color=\"k\")\n",
    "\n",
    "plt.yscale(\"log\")\n",
    "plt.ylabel(r\"$\\langle p_{hop} \\rangle$\", size=\"x-large\")\n",
    "plt.xlabel(r\"$T$\", size=\"x-large\")"
   ]
  },
  {
   "cell_type": "code",
   "execution_count": 8,
   "metadata": {},
   "outputs": [
    {
     "name": "stdout",
     "output_type": "stream",
     "text": [
      "0 a03bdc2a5be70a1e699a3f825fb8877b KA_LJ\n",
      "1 1961d54ebec38ae1cebeabd263ddba5b KA_LJ\n",
      "3 503e0376bd64085f1c22ed91ae48db88 KA_LJ\n",
      "4 b579e52b6ab959f8f7d04ba6af76a9be KA_LJ\n",
      "5 a82cc8d96904a27f96a31c3ee6bd0deb KA_LJ\n",
      "6 127b38ea46bce9a180ac54e7adf90bf5 KA_LJ\n",
      "7 eb25523e79e0f62b126ad67ec75f5ca7 KA_LJ\n",
      "8 195c4fa433b01286ebe2ce7c821cb9e1 KA_LJ\n",
      "9 7f2847dfac7ec1375318bf516d01123f KA_LJ\n",
      "10 a0f72fa2c65b6e380a9e3b21848079ed KA_LJ\n"
     ]
    },
    {
     "data": {
      "text/plain": [
       "Text(0.5, 0, '$T$')"
      ]
     },
     "execution_count": 8,
     "metadata": {},
     "output_type": "execute_result"
    },
    {
     "data": {
      "image/png": "[encoded data removed]",
      "text/plain": [
       "<Figure size 432x288 with 1 Axes>"
      ]
     },
     "metadata": {
      "image/png": {
       "height": 266,
       "width": 401
      },
      "needs_background": "light"
     },
     "output_type": "display_data"
    }
   ],
   "source": [
    "plt.figure()\n",
    "\n",
    "cmap = cm.magma\n",
    "norm = colors.Normalize(vmin=0.25, vmax=0.75)\n",
    "\n",
    "xs = []\n",
    "ys = []\n",
    "\n",
    "for i, job in enumerate(project):\n",
    "\n",
    "    if \"WCA\" in job.sp[\"pot\"]:\n",
    "        continue\n",
    "\n",
    "    print(i, job, job.sp[\"pot\"])\n",
    "    files = glob.glob(job.fn(\"fixed-analysis/*.parquet\"))\n",
    "\n",
    "    for file in sorted(files):\n",
    "        temp = float(file.split(\"/\")[-1].split(\"-\")[-1].split(\".parquet\")[0])\n",
    "        df = pl.read_parquet(file, parallel=True, use_pyarrow=True)\n",
    "        xs.append(temp)\n",
    "        ys.append((df[\"phop\"] > 0.2).mean())\n",
    "    \n",
    "tdf = pd.DataFrame({\"T\": xs, \"phop\": ys})\n",
    "nxs = []\n",
    "nys = []\n",
    "for x, ttdf in tdf.groupby(\"T\"):\n",
    "    nxs.append(x)\n",
    "    nys.append(ttdf[\"phop\"].mean())\n",
    "\n",
    "plt.plot(nxs, nys, color=\"k\")\n",
    "\n",
    "plt.yscale(\"log\")\n",
    "plt.ylabel(r\"$P_R$\", size=\"x-large\")\n",
    "plt.xlabel(r\"$T$\", size=\"x-large\")"
   ]
  },
  {
   "cell_type": "code",
   "execution_count": null,
   "metadata": {},
   "outputs": [],
   "source": [
    "plt.figure()\n",
    "\n",
    "cmap = cm.magma\n",
    "norm = colors.Normalize(vmin=0.25, vmax=0.75)\n",
    "\n",
    "xs = []\n",
    "ys = []\n",
    "\n",
    "for i, job in enumerate(project):\n",
    "\n",
    "    if \"WCA\" in job.sp[\"pot\"]:\n",
    "        continue\n",
    "\n",
    "    print(i, job, job.sp[\"pot\"])\n",
    "    files = glob.glob(job.fn(\"fixed-analysis/*.parquet\"))\n",
    "\n",
    "    for file in sorted(files):\n",
    "        temp = float(file.split(\"/\")[-1].split(\"-\")[-1].split(\".parquet\")[0])\n",
    "        df = pl.read_parquet(file, parallel=True, use_pyarrow=True)\n",
    "        xs.append(temp)\n",
    "        ys.append((df[\"phop\"] > 0.2).sum())\n",
    "    \n",
    "tdf = pd.DataFrame({\"T\": xs, \"phop\": ys})\n",
    "nxs = []\n",
    "nys = []\n",
    "for x, ttdf in tdf.groupby(\"T\"):\n",
    "    nxs.append(x)\n",
    "    nys.append(ttdf[\"phop\"].mean())\n",
    "\n",
    "plt.plot(nxs, nys, color=\"k\")\n",
    "\n",
    "plt.yscale(\"log\")\n",
    "plt.ylabel(r\"$P_R$\", size=\"x-large\")\n",
    "plt.xlabel(r\"$T$\", size=\"x-large\")"
   ]
  },
  {
   "cell_type": "code",
   "execution_count": 9,
   "metadata": {},
   "outputs": [
    {
     "name": "stdout",
     "output_type": "stream",
     "text": [
      "POLARS_MAX_THREADS=8\n"
     ]
    }
   ],
   "source": [
    "print('POLARS_MAX_THREADS={}'.format(os.environ['POLARS_MAX_THREADS']))"
   ]
  },
  {
   "cell_type": "code",
   "execution_count": 27,
   "metadata": {},
   "outputs": [
    {
     "data": {
      "text/plain": [
       "count    589824.000000\n",
       "mean          0.107414\n",
       "std           0.118558\n",
       "min           0.004008\n",
       "25%           0.039416\n",
       "50%           0.070369\n",
       "75%           0.128932\n",
       "max           2.828181\n",
       "Name: phop, dtype: float64"
      ]
     },
     "execution_count": 27,
     "metadata": {},
     "output_type": "execute_result"
    }
   ],
   "source": [
    "df[\"phop\"].describe()"
   ]
  },
  {
   "cell_type": "code",
   "execution_count": 6,
   "metadata": {},
   "outputs": [
    {
     "name": "stdout",
     "output_type": "stream",
     "text": [
      "/media/ian/Data2/monk/2d-esl/workspace/a0f72fa2c65b6e380a9e3b21848079ed/fixed-analysis/analysis-sfs_temp-0.675.parquet\n"
     ]
    }
   ],
   "source": [
    "print(file)"
   ]
  },
  {
   "cell_type": "code",
   "execution_count": 10,
   "metadata": {},
   "outputs": [],
   "source": [
    "df = pl.read_parquet(file)"
   ]
  },
  {
   "cell_type": "code",
   "execution_count": 21,
   "metadata": {},
   "outputs": [
    {
     "data": {
      "text/plain": [
       "(array([5.64128e+05, 2.18520e+04, 2.97000e+03, 6.43000e+02, 1.77000e+02,\n",
       "        3.50000e+01, 1.30000e+01, 4.00000e+00, 1.00000e+00, 1.00000e+00]),\n",
       " array([3.16768093e-03, 3.28969985e-01, 6.54772282e-01, 9.80574548e-01,\n",
       "        1.30637681e+00, 1.63217914e+00, 1.95798147e+00, 2.28378367e+00,\n",
       "        2.60958600e+00, 2.93538833e+00, 3.26119065e+00]),\n",
       " <BarContainer object of 10 artists>)"
      ]
     },
     "execution_count": 21,
     "metadata": {},
     "output_type": "execute_result"
    },
    {
     "data": {
      "image/png": "[encoded data removed]",
      "text/plain": [
       "<Figure size 432x288 with 1 Axes>"
      ]
     },
     "metadata": {
      "image/png": {
       "height": 248,
       "width": 394
      },
      "needs_background": "light"
     },
     "output_type": "display_data"
    }
   ],
   "source": [
    "plt.hist(df[\"phop\"])"
   ]
  },
  {
   "cell_type": "code",
   "execution_count": 20,
   "metadata": {},
   "outputs": [
    {
     "name": "stdout",
     "output_type": "stream",
     "text": [
      "shape: (5, 5)\n",
      "┌───────┬─────┬──────┬──────────┬────────────────────────┐\n",
      "│ frame ┆ tag ┆ type ┆ phop     ┆ sf                     │\n",
      "│ ---   ┆ --- ┆ ---  ┆ ---      ┆ ---                    │\n",
      "│ u32   ┆ i64 ┆ u32  ┆ f32      ┆ list[f32]              │\n",
      "╞═══════╪═════╪══════╪══════════╪════════════════════════╡\n",
      "│ 0     ┆ 0   ┆ 0    ┆ 0.056545 ┆ [0.0, 0.0, … 1.138479] │\n",
      "│ 0     ┆ 1   ┆ 0    ┆ 0.35106  ┆ [0.0, 0.0, … 1.317239] │\n",
      "│ 0     ┆ 2   ┆ 0    ┆ 0.976745 ┆ [0.0, 0.0, … 3.247384] │\n",
      "│ 0     ┆ 3   ┆ 1    ┆ 0.040847 ┆ [0.0, 0.0, … 0.763834] │\n",
      "│ 0     ┆ 4   ┆ 1    ┆ 0.04866  ┆ [0.0, 0.0, … 0.374424] │\n",
      "└───────┴─────┴──────┴──────────┴────────────────────────┘\n"
     ]
    }
   ],
   "source": [
    "for i, gdf in df.group_by(\"frame\", maintain_order=True):\n",
    "    # print(i)\n",
    "    print(gdf.head())\n",
    "    break"
   ]
  },
  {
   "cell_type": "code",
   "execution_count": 5,
   "metadata": {},
   "outputs": [
    {
     "name": "stdout",
     "output_type": "stream",
     "text": [
      "0 {'N': 32768, 'replica': 0, 'rho': 1.2, 'pot': 'KA_LJ'} KA_LJ\n",
      "0.337\n"
     ]
    },
    {
     "name": "stdout",
     "output_type": "stream",
     "text": [
      "1 {'N': 32768, 'replica': 1, 'rho': 1.2, 'pot': 'KA_LJ'} KA_LJ\n",
      "0.337\n",
      "3 {'N': 32768, 'replica': 8, 'rho': 1.2, 'pot': 'KA_LJ'} KA_LJ\n",
      "0.337\n",
      "4 {'N': 32768, 'replica': 9, 'rho': 1.2, 'pot': 'KA_LJ'} KA_LJ\n",
      "0.337\n",
      "5 {'N': 32768, 'replica': 3, 'rho': 1.2, 'pot': 'KA_LJ'} KA_LJ\n",
      "0.337\n",
      "6 {'N': 32768, 'replica': 2, 'rho': 1.2, 'pot': 'KA_LJ'} KA_LJ\n",
      "0.337\n",
      "7 {'N': 32768, 'replica': 7, 'rho': 1.2, 'pot': 'KA_LJ'} KA_LJ\n",
      "0.337\n",
      "8 {'N': 32768, 'replica': 5, 'rho': 1.2, 'pot': 'KA_LJ'} KA_LJ\n",
      "0.337\n",
      "9 {'N': 32768, 'replica': 6, 'rho': 1.2, 'pot': 'KA_LJ'} KA_LJ\n",
      "0.337\n",
      "10 {'N': 32768, 'replica': 4, 'rho': 1.2, 'pot': 'KA_LJ'} KA_LJ\n",
      "0.337\n"
     ]
    }
   ],
   "source": [
    "\n",
    "soft = []\n",
    "hard = []\n",
    "\n",
    "for i, job in enumerate(project):\n",
    "\n",
    "    if \"WCA\" in job.sp[\"pot\"]:\n",
    "        continue\n",
    "\n",
    "    print(i, job.sp, job.sp[\"pot\"])\n",
    "    files = glob.glob(job.fn(\"fixed-analysis/*.parquet\"))\n",
    "\n",
    "    for file in sorted(files):\n",
    "        temp = float(file.split(\"/\")[-1].split(\"-\")[-1].split(\".parquet\")[0])\n",
    "        if temp != 0.337:\n",
    "            continue\n",
    "        print(temp)\n",
    "        df = pl.read_parquet(file, parallel=True, use_pyarrow=True)\n",
    "        soft_idx = df[\"phop\"] > 0.2\n",
    "        soft.append(df.filter(soft_idx))\n",
    "        hard_idx = df[\"phop\"] < 0.001\n",
    "        hard.append(df.filter(hard_idx))\n",
    "        # ys.append((df[\"phop\"] > 0.2).mean())\n",
    "        break\n",
    "    # break\n",
    "\n"
   ]
  },
  {
   "cell_type": "code",
   "execution_count": 55,
   "metadata": {},
   "outputs": [
    {
     "name": "stdout",
     "output_type": "stream",
     "text": [
      "(9669, 5)\n",
      "(43682, 5)\n"
     ]
    },
    {
     "data": {
      "text/plain": [
       "((5000, 6), (5000, 6))"
      ]
     },
     "execution_count": 55,
     "metadata": {},
     "output_type": "execute_result"
    }
   ],
   "source": [
    "N = 5000\n",
    "soft_df = pl.concat(soft)\n",
    "print(soft_df.shape)\n",
    "soft_df = soft_df.sample(N)\n",
    "hard_df = pl.concat(hard)\n",
    "print(hard_df.shape)\n",
    "hard_df = hard_df.sample(N)\n",
    "soft_df = soft_df.with_columns(\n",
    "    y = 1\n",
    ")\n",
    "hard_df = hard_df.with_columns(\n",
    "    y = 0\n",
    ")\n",
    "\n",
    "analysis_df = pl.concat([soft_df, hard_df])\n",
    "# permute\n",
    "# analysis_df = analysis_df.shuffle()\n",
    "soft_df.shape, hard_df.shape"
   ]
  },
  {
   "cell_type": "code",
   "execution_count": 56,
   "metadata": {},
   "outputs": [
    {
     "data": {
      "text/plain": [
       "0.5"
      ]
     },
     "execution_count": 56,
     "metadata": {},
     "output_type": "execute_result"
    }
   ],
   "source": [
    "analysis_df[\"y\"].mean()"
   ]
  },
  {
   "cell_type": "code",
   "execution_count": 57,
   "metadata": {},
   "outputs": [],
   "source": [
    "import sklearn\n",
    "from sklearn.preprocessing import StandardScaler\n",
    "from sklearn.svm import LinearSVC\n",
    "from sklearn.utils import shuffle\n",
    "from sklearn.model_selection import train_test_split"
   ]
  },
  {
   "cell_type": "code",
   "execution_count": 58,
   "metadata": {},
   "outputs": [],
   "source": [
    "X = analysis_df[\"sf\"].to_numpy()\n",
    "y = analysis_df[\"y\"].to_numpy()\n",
    "# X, y\n",
    "X, y = shuffle(X, y, random_state=0)"
   ]
  },
  {
   "cell_type": "code",
   "execution_count": 59,
   "metadata": {},
   "outputs": [],
   "source": [
    "X = list(X)\n",
    "scaler = StandardScaler()\n",
    "scaler.fit(X)\n",
    "X = scaler.transform(X)"
   ]
  },
  {
   "cell_type": "code",
   "execution_count": 60,
   "metadata": {},
   "outputs": [],
   "source": [
    "X_train, X_test, y_train, y_test = train_test_split(X, y, test_size=0.2, random_state=42)"
   ]
  },
  {
   "cell_type": "code",
   "execution_count": 61,
   "metadata": {},
   "outputs": [
    {
     "data": {
      "text/html": [
       "<style>#sk-container-id-6 {color: black;background-color: white;}#sk-container-id-6 pre{padding: 0;}#sk-container-id-6 div.sk-toggleable {background-color: white;}#sk-container-id-6 label.sk-toggleable__label {cursor: pointer;display: block;width: 100%;margin-bottom: 0;padding: 0.3em;box-sizing: border-box;text-align: center;}#sk-container-id-6 label.sk-toggleable__label-arrow:before {content: \"▸\";float: left;margin-right: 0.25em;color: #696969;}#sk-container-id-6 label.sk-toggleable__label-arrow:hover:before {color: black;}#sk-container-id-6 div.sk-estimator:hover label.sk-toggleable__label-arrow:before {color: black;}#sk-container-id-6 div.sk-toggleable__content {max-height: 0;max-width: 0;overflow: hidden;text-align: left;background-color: #f0f8ff;}#sk-container-id-6 div.sk-toggleable__content pre {margin: 0.2em;color: black;border-radius: 0.25em;background-color: #f0f8ff;}#sk-container-id-6 input.sk-toggleable__control:checked~div.sk-toggleable__content {max-height: 200px;max-width: 100%;overflow: auto;}#sk-container-id-6 input.sk-toggleable__control:checked~label.sk-toggleable__label-arrow:before {content: \"▾\";}#sk-container-id-6 div.sk-estimator input.sk-toggleable__control:checked~label.sk-toggleable__label {background-color: #d4ebff;}#sk-container-id-6 div.sk-label input.sk-toggleable__control:checked~label.sk-toggleable__label {background-color: #d4ebff;}#sk-container-id-6 input.sk-hidden--visually {border: 0;clip: rect(1px 1px 1px 1px);clip: rect(1px, 1px, 1px, 1px);height: 1px;margin: -1px;overflow: hidden;padding: 0;position: absolute;width: 1px;}#sk-container-id-6 div.sk-estimator {font-family: monospace;background-color: #f0f8ff;border: 1px dotted black;border-radius: 0.25em;box-sizing: border-box;margin-bottom: 0.5em;}#sk-container-id-6 div.sk-estimator:hover {background-color: #d4ebff;}#sk-container-id-6 div.sk-parallel-item::after {content: \"\";width: 100%;border-bottom: 1px solid gray;flex-grow: 1;}#sk-container-id-6 div.sk-label:hover label.sk-toggleable__label {background-color: #d4ebff;}#sk-container-id-6 div.sk-serial::before {content: \"\";position: absolute;border-left: 1px solid gray;box-sizing: border-box;top: 0;bottom: 0;left: 50%;z-index: 0;}#sk-container-id-6 div.sk-serial {display: flex;flex-direction: column;align-items: center;background-color: white;padding-right: 0.2em;padding-left: 0.2em;position: relative;}#sk-container-id-6 div.sk-item {position: relative;z-index: 1;}#sk-container-id-6 div.sk-parallel {display: flex;align-items: stretch;justify-content: center;background-color: white;position: relative;}#sk-container-id-6 div.sk-item::before, #sk-container-id-6 div.sk-parallel-item::before {content: \"\";position: absolute;border-left: 1px solid gray;box-sizing: border-box;top: 0;bottom: 0;left: 50%;z-index: -1;}#sk-container-id-6 div.sk-parallel-item {display: flex;flex-direction: column;z-index: 1;position: relative;background-color: white;}#sk-container-id-6 div.sk-parallel-item:first-child::after {align-self: flex-end;width: 50%;}#sk-container-id-6 div.sk-parallel-item:last-child::after {align-self: flex-start;width: 50%;}#sk-container-id-6 div.sk-parallel-item:only-child::after {width: 0;}#sk-container-id-6 div.sk-dashed-wrapped {border: 1px dashed gray;margin: 0 0.4em 0.5em 0.4em;box-sizing: border-box;padding-bottom: 0.4em;background-color: white;}#sk-container-id-6 div.sk-label label {font-family: monospace;font-weight: bold;display: inline-block;line-height: 1.2em;}#sk-container-id-6 div.sk-label-container {text-align: center;}#sk-container-id-6 div.sk-container {/* jupyter's `normalize.less` sets `[hidden] { display: none; }` but bootstrap.min.css set `[hidden] { display: none !important; }` so we also need the `!important` here to be able to override the default hidden behavior on the sphinx rendered scikit-learn.org. See: https://github.com/scikit-learn/scikit-learn/issues/21755 */display: inline-block !important;position: relative;}#sk-container-id-6 div.sk-text-repr-fallback {display: none;}</style><div id=\"sk-container-id-6\" class=\"sk-top-container\"><div class=\"sk-text-repr-fallback\"><pre>LinearSVC(max_iter=10000)</pre><b>In a Jupyter environment, please rerun this cell to show the HTML representation or trust the notebook. <br />On GitHub, the HTML representation is unable to render, please try loading this page with nbviewer.org.</b></div><div class=\"sk-container\" hidden><div class=\"sk-item\"><div class=\"sk-estimator sk-toggleable\"><input class=\"sk-toggleable__control sk-hidden--visually\" id=\"sk-estimator-id-6\" type=\"checkbox\" checked><label for=\"sk-estimator-id-6\" class=\"sk-toggleable__label sk-toggleable__label-arrow\">LinearSVC</label><div class=\"sk-toggleable__content\"><pre>LinearSVC(max_iter=10000)</pre></div></div></div></div></div>"
      ],
      "text/plain": [
       "LinearSVC(max_iter=10000)"
      ]
     },
     "execution_count": 61,
     "metadata": {},
     "output_type": "execute_result"
    }
   ],
   "source": [
    "svc = LinearSVC(max_iter=10000)\n",
    "svc.fit(X_train, y_train)"
   ]
  },
  {
   "cell_type": "code",
   "execution_count": 62,
   "metadata": {},
   "outputs": [
    {
     "data": {
      "text/plain": [
       "0.762"
      ]
     },
     "execution_count": 62,
     "metadata": {},
     "output_type": "execute_result"
    }
   ],
   "source": [
    "# get accuracy\n",
    "from sklearn.metrics import accuracy_score\n",
    "y_pred = svc.predict(X_test)\n",
    "accuracy_score(y_test, y_pred)"
   ]
  },
  {
   "cell_type": "code",
   "execution_count": 63,
   "metadata": {},
   "outputs": [
    {
     "data": {
      "text/plain": [
       "0.49875"
      ]
     },
     "execution_count": 63,
     "metadata": {},
     "output_type": "execute_result"
    }
   ],
   "source": [
    "y_train.mean()"
   ]
  },
  {
   "cell_type": "code",
   "execution_count": 64,
   "metadata": {},
   "outputs": [
    {
     "data": {
      "text/plain": [
       "array([[772, 218],\n",
       "       [258, 752]])"
      ]
     },
     "execution_count": 64,
     "metadata": {},
     "output_type": "execute_result"
    }
   ],
   "source": [
    "# get confusion matrix\n",
    "from sklearn.metrics import confusion_matrix\n",
    "confusion_matrix(y_test, y_pred)"
   ]
  },
  {
   "cell_type": "code",
   "execution_count": 73,
   "metadata": {},
   "outputs": [],
   "source": [
    "from sklearn.pipeline import Pipeline\n",
    "pipe = Pipeline([('scaler', scaler), ('svc', svc)])\n",
    "y_pred_pipe = pipe.predict(scaler.inverse_transform(X_test))"
   ]
  },
  {
   "cell_type": "code",
   "execution_count": 75,
   "metadata": {},
   "outputs": [
    {
     "data": {
      "text/plain": [
       "True"
      ]
     },
     "execution_count": 75,
     "metadata": {},
     "output_type": "execute_result"
    }
   ],
   "source": [
    "(y_pred_pipe == y_pred).all()"
   ]
  },
  {
   "cell_type": "code",
   "execution_count": 76,
   "metadata": {},
   "outputs": [],
   "source": [
    "with open(\"svc.pkl\", \"wb\") as fp:\n",
    "    pickle.dump(pipe, fp)"
   ]
  },
  {
   "cell_type": "code",
   "execution_count": null,
   "metadata": {},
   "outputs": [],
   "source": []
  }
 ],
 "metadata": {
  "kernelspec": {
   "display_name": "Python 3",
   "language": "python",
   "name": "python3"
  },
  "language_info": {
   "codemirror_mode": {
    "name": "ipython",
    "version": 3
   },
   "file_extension": ".py",
   "mimetype": "text/x-python",
   "name": "python",
   "nbconvert_exporter": "python",
   "pygments_lexer": "ipython3",
   "version": "3.10.6"
  }
 },
 "nbformat": 4,
 "nbformat_minor": 2
}
