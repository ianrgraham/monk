{
 "cells": [
  {
   "cell_type": "code",
   "execution_count": 1,
   "metadata": {},
   "outputs": [],
   "source": [
    "import numpy as np\n",
    "import pandas as pd\n",
    "import matplotlib.pyplot as plt\n",
    "import matplotlib as mpl\n",
    "from matplotlib import cm, colors\n",
    "import glob\n",
    "\n",
    "from numba import njit, vectorize, float32\n",
    "\n",
    "from typing import Callable, Optional, Union\n",
    "\n",
    "import hoomd\n",
    "import gsd.hoomd\n",
    "\n",
    "import sys\n",
    "import time\n",
    "import pickle\n",
    "import gc\n",
    "import pathlib\n",
    "import os\n",
    "\n",
    "import signac\n",
    "\n",
    "from scipy import optimize\n",
    "\n",
    "os.environ[\"POLARS_MAX_THREADS\"] = \"8\"\n",
    "import polars as pl"
   ]
  },
  {
   "cell_type": "code",
   "execution_count": 2,
   "metadata": {},
   "outputs": [],
   "source": [
    "from monk import nb, prep, pair, render, utils, grid, workflow\n",
    "import freud\n",
    "\n",
    "parent = pathlib.Path(os.getcwd()).parent / \"config.yaml\"\n",
    "config = workflow.get_config(parent.as_posix())"
   ]
  },
  {
   "cell_type": "code",
   "execution_count": 3,
   "metadata": {},
   "outputs": [
    {
     "data": {
      "text/plain": [
       "{'avail_seed': 11, 'dt': 0.005, 'step_unit': 1000, 'temp_steps': 20, 'equil_time': 40, 'run_time': 10, 'max_alpha_time': 1000, 'alpha_iters': 10, '_status': {}}"
      ]
     },
     "execution_count": 3,
     "metadata": {},
     "output_type": "execute_result"
    }
   ],
   "source": [
    "project: signac.Project = signac.get_project(root=config['root'])\n",
    "project.doc"
   ]
  },
  {
   "cell_type": "code",
   "execution_count": 10,
   "metadata": {},
   "outputs": [
    {
     "name": "stdout",
     "output_type": "stream",
     "text": [
      "0 {'N': 32768, 'replica': 0, 'rho': 1.2, 'pot': 'KA_LJ'} KA_LJ\n",
      "0.337\n",
      "1 {'N': 32768, 'replica': 1, 'rho': 1.2, 'pot': 'KA_LJ'} KA_LJ\n",
      "0.337\n",
      "3 {'N': 32768, 'replica': 8, 'rho': 1.2, 'pot': 'KA_LJ'} KA_LJ\n",
      "0.337\n",
      "4 {'N': 32768, 'replica': 9, 'rho': 1.2, 'pot': 'KA_LJ'} KA_LJ\n",
      "0.337\n",
      "5 {'N': 32768, 'replica': 3, 'rho': 1.2, 'pot': 'KA_LJ'} KA_LJ\n",
      "0.337\n",
      "6 {'N': 32768, 'replica': 2, 'rho': 1.2, 'pot': 'KA_LJ'} KA_LJ\n",
      "0.337\n",
      "7 {'N': 32768, 'replica': 7, 'rho': 1.2, 'pot': 'KA_LJ'} KA_LJ\n",
      "0.337\n",
      "8 {'N': 32768, 'replica': 5, 'rho': 1.2, 'pot': 'KA_LJ'} KA_LJ\n",
      "0.337\n",
      "9 {'N': 32768, 'replica': 6, 'rho': 1.2, 'pot': 'KA_LJ'} KA_LJ\n",
      "0.337\n",
      "10 {'N': 32768, 'replica': 4, 'rho': 1.2, 'pot': 'KA_LJ'} KA_LJ\n",
      "0.337\n"
     ]
    }
   ],
   "source": [
    "\n",
    "soft = []\n",
    "hard = []\n",
    "\n",
    "for i, job in enumerate(project):\n",
    "\n",
    "    if \"WCA\" in job.sp[\"pot\"]:\n",
    "        continue\n",
    "\n",
    "    print(i, job.sp, job.sp[\"pot\"])\n",
    "    files = glob.glob(job.fn(\"fixed-analysis/*.parquet\"))\n",
    "\n",
    "    for file in sorted(files):\n",
    "        temp = float(file.split(\"/\")[-1].split(\"-\")[-1].split(\".parquet\")[0])\n",
    "        if temp != 0.337:\n",
    "            continue\n",
    "        print(temp)\n",
    "        df = pl.read_parquet(file, parallel=True, use_pyarrow=True)\n",
    "        soft.append(df.filter(\n",
    "            pl.col(\"phop\").gt(0.2),\n",
    "            pl.col(\"type\").eq(0)\n",
    "        ))\n",
    "        hard.append(df.filter(\n",
    "            pl.col(\"phop\").lt(0.001),\n",
    "            pl.col(\"type\").eq(0)\n",
    "        ))\n",
    "        # ys.append((df[\"phop\"] > 0.2).mean())\n",
    "        break\n",
    "    # break\n",
    "\n"
   ]
  },
  {
   "cell_type": "code",
   "execution_count": 20,
   "metadata": {},
   "outputs": [
    {
     "name": "stdout",
     "output_type": "stream",
     "text": [
      "(3857, 5)\n",
      "(26439, 5)\n"
     ]
    },
    {
     "data": {
      "text/plain": [
       "((3800, 6), (3800, 6))"
      ]
     },
     "execution_count": 20,
     "metadata": {},
     "output_type": "execute_result"
    }
   ],
   "source": [
    "N = 3800\n",
    "soft_df = pl.concat(soft)\n",
    "print(soft_df.shape)\n",
    "soft_df = soft_df.sample(N)\n",
    "hard_df = pl.concat(hard)\n",
    "print(hard_df.shape)\n",
    "hard_df = hard_df.sample(N)\n",
    "soft_df = soft_df.with_columns(\n",
    "    y = 1\n",
    ")\n",
    "hard_df = hard_df.with_columns(\n",
    "    y = 0\n",
    ")\n",
    "\n",
    "analysis_df = pl.concat([soft_df, hard_df])\n",
    "# permute\n",
    "# analysis_df = analysis_df.shuffle()\n",
    "soft_df.shape, hard_df.shape"
   ]
  },
  {
   "cell_type": "code",
   "execution_count": 28,
   "metadata": {},
   "outputs": [
    {
     "data": {
      "text/html": [
       "<div><style>\n",
       ".dataframe > thead > tr > th,\n",
       ".dataframe > tbody > tr > td {\n",
       "  text-align: right;\n",
       "  white-space: pre-wrap;\n",
       "}\n",
       "</style>\n",
       "<small>shape: (5, 6)</small><table border=\"1\" class=\"dataframe\"><thead><tr><th>frame</th><th>tag</th><th>type</th><th>phop</th><th>sf</th><th>y</th></tr><tr><td>i64</td><td>i64</td><td>i64</td><td>f32</td><td>list[f32]</td><td>i32</td></tr></thead><tbody><tr><td>250</td><td>8890</td><td>0</td><td>0.233799</td><td>[0.0, 0.0, … 1.439387]</td><td>1</td></tr><tr><td>700</td><td>24458</td><td>0</td><td>0.279271</td><td>[0.0, 0.0, … 2.736721]</td><td>1</td></tr><tr><td>450</td><td>28270</td><td>0</td><td>0.225438</td><td>[0.0, 0.0, … 3.106009]</td><td>1</td></tr><tr><td>500</td><td>25317</td><td>0</td><td>0.323837</td><td>[0.0, 0.0, … 2.147696]</td><td>1</td></tr><tr><td>250</td><td>14245</td><td>0</td><td>0.223815</td><td>[0.0, 0.0, … 2.609222]</td><td>1</td></tr></tbody></table></div>"
      ],
      "text/plain": [
       "shape: (5, 6)\n",
       "┌───────┬───────┬──────┬──────────┬────────────────────────┬─────┐\n",
       "│ frame ┆ tag   ┆ type ┆ phop     ┆ sf                     ┆ y   │\n",
       "│ ---   ┆ ---   ┆ ---  ┆ ---      ┆ ---                    ┆ --- │\n",
       "│ i64   ┆ i64   ┆ i64  ┆ f32      ┆ list[f32]              ┆ i32 │\n",
       "╞═══════╪═══════╪══════╪══════════╪════════════════════════╪═════╡\n",
       "│ 250   ┆ 8890  ┆ 0    ┆ 0.233799 ┆ [0.0, 0.0, … 1.439387] ┆ 1   │\n",
       "│ 700   ┆ 24458 ┆ 0    ┆ 0.279271 ┆ [0.0, 0.0, … 2.736721] ┆ 1   │\n",
       "│ 450   ┆ 28270 ┆ 0    ┆ 0.225438 ┆ [0.0, 0.0, … 3.106009] ┆ 1   │\n",
       "│ 500   ┆ 25317 ┆ 0    ┆ 0.323837 ┆ [0.0, 0.0, … 2.147696] ┆ 1   │\n",
       "│ 250   ┆ 14245 ┆ 0    ┆ 0.223815 ┆ [0.0, 0.0, … 2.609222] ┆ 1   │\n",
       "└───────┴───────┴──────┴──────────┴────────────────────────┴─────┘"
      ]
     },
     "execution_count": 28,
     "metadata": {},
     "output_type": "execute_result"
    }
   ],
   "source": [
    "analysis_df.head()"
   ]
  },
  {
   "cell_type": "code",
   "execution_count": 21,
   "metadata": {},
   "outputs": [
    {
     "data": {
      "text/plain": [
       "0.5"
      ]
     },
     "execution_count": 21,
     "metadata": {},
     "output_type": "execute_result"
    }
   ],
   "source": [
    "analysis_df[\"y\"].mean()"
   ]
  },
  {
   "cell_type": "code",
   "execution_count": null,
   "metadata": {},
   "outputs": [],
   "source": [
    "import sklearn\n",
    "from sklearn.preprocessing import StandardScaler\n",
    "from sklearn.svm import LinearSVC\n",
    "from sklearn.utils import shuffle\n",
    "from sklearn.model_selection import train_test_split\n",
    "X = analysis_df[\"sf\"].to_numpy()\n",
    "y = analysis_df[\"y\"].to_numpy()\n",
    "# X, y\n",
    "X, y = shuffle(X, y, random_state=0)\n",
    "X = list(X)\n",
    "scaler = StandardScaler()\n",
    "scaler.fit(X)\n",
    "X = scaler.transform(X)\n",
    "X_train, X_test, y_train, y_test = train_test_split(X, y, test_size=0.2, random_state=42)\n",
    "svc = LinearSVC(max_iter=10000)\n",
    "svc.fit(X_train, y_train)"
   ]
  },
  {
   "cell_type": "code",
   "execution_count": 27,
   "metadata": {},
   "outputs": [
    {
     "data": {
      "text/plain": [
       "0.7368421052631579"
      ]
     },
     "execution_count": 27,
     "metadata": {},
     "output_type": "execute_result"
    }
   ],
   "source": [
    "# get accuracy\n",
    "from sklearn.metrics import accuracy_score\n",
    "y_pred = svc.predict(X_test)\n",
    "accuracy_score(y_test, y_pred)"
   ]
  },
  {
   "cell_type": "code",
   "execution_count": 29,
   "metadata": {},
   "outputs": [
    {
     "data": {
      "text/plain": [
       "0.500328947368421"
      ]
     },
     "execution_count": 29,
     "metadata": {},
     "output_type": "execute_result"
    }
   ],
   "source": [
    "y_train.mean()"
   ]
  },
  {
   "cell_type": "code",
   "execution_count": 30,
   "metadata": {},
   "outputs": [
    {
     "data": {
      "text/plain": [
       "array([[580, 182],\n",
       "       [218, 540]])"
      ]
     },
     "execution_count": 30,
     "metadata": {},
     "output_type": "execute_result"
    }
   ],
   "source": [
    "# get confusion matrix\n",
    "from sklearn.metrics import confusion_matrix\n",
    "confusion_matrix(y_test, y_pred)"
   ]
  },
  {
   "cell_type": "code",
   "execution_count": 31,
   "metadata": {},
   "outputs": [],
   "source": [
    "from sklearn.pipeline import Pipeline\n",
    "pipe = Pipeline([('scaler', scaler), ('svc', svc)])\n",
    "y_pred_pipe = pipe.predict(scaler.inverse_transform(X_test))"
   ]
  },
  {
   "cell_type": "code",
   "execution_count": 32,
   "metadata": {},
   "outputs": [
    {
     "data": {
      "text/plain": [
       "True"
      ]
     },
     "execution_count": 32,
     "metadata": {},
     "output_type": "execute_result"
    }
   ],
   "source": [
    "(y_pred_pipe == y_pred).all()"
   ]
  },
  {
   "cell_type": "code",
   "execution_count": 33,
   "metadata": {},
   "outputs": [],
   "source": [
    "with open(\"svc_type0.pkl\", \"wb\") as fp:\n",
    "    pickle.dump(pipe, fp)"
   ]
  },
  {
   "cell_type": "code",
   "execution_count": 34,
   "metadata": {},
   "outputs": [
    {
     "name": "stdout",
     "output_type": "stream",
     "text": [
      "0 {'N': 32768, 'replica': 0, 'rho': 1.2, 'pot': 'KA_LJ'} KA_LJ\n",
      "0.337\n",
      "1 {'N': 32768, 'replica': 1, 'rho': 1.2, 'pot': 'KA_LJ'} KA_LJ\n",
      "0.337\n",
      "3 {'N': 32768, 'replica': 8, 'rho': 1.2, 'pot': 'KA_LJ'} KA_LJ\n",
      "0.337\n",
      "4 {'N': 32768, 'replica': 9, 'rho': 1.2, 'pot': 'KA_LJ'} KA_LJ\n",
      "0.337\n",
      "5 {'N': 32768, 'replica': 3, 'rho': 1.2, 'pot': 'KA_LJ'} KA_LJ\n",
      "0.337\n",
      "6 {'N': 32768, 'replica': 2, 'rho': 1.2, 'pot': 'KA_LJ'} KA_LJ\n",
      "0.337\n",
      "7 {'N': 32768, 'replica': 7, 'rho': 1.2, 'pot': 'KA_LJ'} KA_LJ\n",
      "0.337\n",
      "8 {'N': 32768, 'replica': 5, 'rho': 1.2, 'pot': 'KA_LJ'} KA_LJ\n",
      "0.337\n",
      "9 {'N': 32768, 'replica': 6, 'rho': 1.2, 'pot': 'KA_LJ'} KA_LJ\n",
      "0.337\n",
      "10 {'N': 32768, 'replica': 4, 'rho': 1.2, 'pot': 'KA_LJ'} KA_LJ\n",
      "0.337\n"
     ]
    }
   ],
   "source": [
    "\n",
    "soft = []\n",
    "hard = []\n",
    "\n",
    "for i, job in enumerate(project):\n",
    "\n",
    "    if \"WCA\" in job.sp[\"pot\"]:\n",
    "        continue\n",
    "\n",
    "    print(i, job.sp, job.sp[\"pot\"])\n",
    "    files = glob.glob(job.fn(\"fixed-analysis/*.parquet\"))\n",
    "\n",
    "    for file in sorted(files):\n",
    "        temp = float(file.split(\"/\")[-1].split(\"-\")[-1].split(\".parquet\")[0])\n",
    "        if temp != 0.337:\n",
    "            continue\n",
    "        print(temp)\n",
    "        df = pl.read_parquet(file, parallel=True, use_pyarrow=True)\n",
    "        soft.append(df.filter(\n",
    "            pl.col(\"phop\").gt(0.2),\n",
    "            pl.col(\"type\").eq(1)\n",
    "        ))\n",
    "        hard.append(df.filter(\n",
    "            pl.col(\"phop\").lt(0.001),\n",
    "            pl.col(\"type\").eq(1)\n",
    "        ))\n",
    "        # ys.append((df[\"phop\"] > 0.2).mean())\n",
    "        break\n",
    "    # break\n",
    "\n"
   ]
  },
  {
   "cell_type": "code",
   "execution_count": 35,
   "metadata": {},
   "outputs": [
    {
     "name": "stdout",
     "output_type": "stream",
     "text": [
      "(5812, 5)\n",
      "(17243, 5)\n"
     ]
    },
    {
     "data": {
      "text/plain": [
       "((3800, 6), (3800, 6))"
      ]
     },
     "execution_count": 35,
     "metadata": {},
     "output_type": "execute_result"
    }
   ],
   "source": [
    "N = 3800\n",
    "soft_df = pl.concat(soft)\n",
    "print(soft_df.shape)\n",
    "soft_df = soft_df.sample(N)\n",
    "hard_df = pl.concat(hard)\n",
    "print(hard_df.shape)\n",
    "hard_df = hard_df.sample(N)\n",
    "soft_df = soft_df.with_columns(\n",
    "    y = 1\n",
    ")\n",
    "hard_df = hard_df.with_columns(\n",
    "    y = 0\n",
    ")\n",
    "\n",
    "analysis_df = pl.concat([soft_df, hard_df])\n",
    "# permute\n",
    "# analysis_df = analysis_df.shuffle()\n",
    "soft_df.shape, hard_df.shape"
   ]
  },
  {
   "cell_type": "code",
   "execution_count": 36,
   "metadata": {},
   "outputs": [
    {
     "name": "stderr",
     "output_type": "stream",
     "text": [
      "/home/ian/Projects/work/monk/.venv/lib/python3.10/site-packages/sklearn/svm/_base.py:1225: ConvergenceWarning: Liblinear failed to converge, increase the number of iterations.\n",
      "  warnings.warn(\n"
     ]
    },
    {
     "data": {
      "text/html": [
       "<style>#sk-container-id-3 {color: black;background-color: white;}#sk-container-id-3 pre{padding: 0;}#sk-container-id-3 div.sk-toggleable {background-color: white;}#sk-container-id-3 label.sk-toggleable__label {cursor: pointer;display: block;width: 100%;margin-bottom: 0;padding: 0.3em;box-sizing: border-box;text-align: center;}#sk-container-id-3 label.sk-toggleable__label-arrow:before {content: \"▸\";float: left;margin-right: 0.25em;color: #696969;}#sk-container-id-3 label.sk-toggleable__label-arrow:hover:before {color: black;}#sk-container-id-3 div.sk-estimator:hover label.sk-toggleable__label-arrow:before {color: black;}#sk-container-id-3 div.sk-toggleable__content {max-height: 0;max-width: 0;overflow: hidden;text-align: left;background-color: #f0f8ff;}#sk-container-id-3 div.sk-toggleable__content pre {margin: 0.2em;color: black;border-radius: 0.25em;background-color: #f0f8ff;}#sk-container-id-3 input.sk-toggleable__control:checked~div.sk-toggleable__content {max-height: 200px;max-width: 100%;overflow: auto;}#sk-container-id-3 input.sk-toggleable__control:checked~label.sk-toggleable__label-arrow:before {content: \"▾\";}#sk-container-id-3 div.sk-estimator input.sk-toggleable__control:checked~label.sk-toggleable__label {background-color: #d4ebff;}#sk-container-id-3 div.sk-label input.sk-toggleable__control:checked~label.sk-toggleable__label {background-color: #d4ebff;}#sk-container-id-3 input.sk-hidden--visually {border: 0;clip: rect(1px 1px 1px 1px);clip: rect(1px, 1px, 1px, 1px);height: 1px;margin: -1px;overflow: hidden;padding: 0;position: absolute;width: 1px;}#sk-container-id-3 div.sk-estimator {font-family: monospace;background-color: #f0f8ff;border: 1px dotted black;border-radius: 0.25em;box-sizing: border-box;margin-bottom: 0.5em;}#sk-container-id-3 div.sk-estimator:hover {background-color: #d4ebff;}#sk-container-id-3 div.sk-parallel-item::after {content: \"\";width: 100%;border-bottom: 1px solid gray;flex-grow: 1;}#sk-container-id-3 div.sk-label:hover label.sk-toggleable__label {background-color: #d4ebff;}#sk-container-id-3 div.sk-serial::before {content: \"\";position: absolute;border-left: 1px solid gray;box-sizing: border-box;top: 0;bottom: 0;left: 50%;z-index: 0;}#sk-container-id-3 div.sk-serial {display: flex;flex-direction: column;align-items: center;background-color: white;padding-right: 0.2em;padding-left: 0.2em;position: relative;}#sk-container-id-3 div.sk-item {position: relative;z-index: 1;}#sk-container-id-3 div.sk-parallel {display: flex;align-items: stretch;justify-content: center;background-color: white;position: relative;}#sk-container-id-3 div.sk-item::before, #sk-container-id-3 div.sk-parallel-item::before {content: \"\";position: absolute;border-left: 1px solid gray;box-sizing: border-box;top: 0;bottom: 0;left: 50%;z-index: -1;}#sk-container-id-3 div.sk-parallel-item {display: flex;flex-direction: column;z-index: 1;position: relative;background-color: white;}#sk-container-id-3 div.sk-parallel-item:first-child::after {align-self: flex-end;width: 50%;}#sk-container-id-3 div.sk-parallel-item:last-child::after {align-self: flex-start;width: 50%;}#sk-container-id-3 div.sk-parallel-item:only-child::after {width: 0;}#sk-container-id-3 div.sk-dashed-wrapped {border: 1px dashed gray;margin: 0 0.4em 0.5em 0.4em;box-sizing: border-box;padding-bottom: 0.4em;background-color: white;}#sk-container-id-3 div.sk-label label {font-family: monospace;font-weight: bold;display: inline-block;line-height: 1.2em;}#sk-container-id-3 div.sk-label-container {text-align: center;}#sk-container-id-3 div.sk-container {/* jupyter's `normalize.less` sets `[hidden] { display: none; }` but bootstrap.min.css set `[hidden] { display: none !important; }` so we also need the `!important` here to be able to override the default hidden behavior on the sphinx rendered scikit-learn.org. See: https://github.com/scikit-learn/scikit-learn/issues/21755 */display: inline-block !important;position: relative;}#sk-container-id-3 div.sk-text-repr-fallback {display: none;}</style><div id=\"sk-container-id-3\" class=\"sk-top-container\"><div class=\"sk-text-repr-fallback\"><pre>LinearSVC(max_iter=10000)</pre><b>In a Jupyter environment, please rerun this cell to show the HTML representation or trust the notebook. <br />On GitHub, the HTML representation is unable to render, please try loading this page with nbviewer.org.</b></div><div class=\"sk-container\" hidden><div class=\"sk-item\"><div class=\"sk-estimator sk-toggleable\"><input class=\"sk-toggleable__control sk-hidden--visually\" id=\"sk-estimator-id-3\" type=\"checkbox\" checked><label for=\"sk-estimator-id-3\" class=\"sk-toggleable__label sk-toggleable__label-arrow\">LinearSVC</label><div class=\"sk-toggleable__content\"><pre>LinearSVC(max_iter=10000)</pre></div></div></div></div></div>"
      ],
      "text/plain": [
       "LinearSVC(max_iter=10000)"
      ]
     },
     "execution_count": 36,
     "metadata": {},
     "output_type": "execute_result"
    }
   ],
   "source": [
    "import sklearn\n",
    "from sklearn.preprocessing import StandardScaler\n",
    "from sklearn.svm import LinearSVC\n",
    "from sklearn.utils import shuffle\n",
    "from sklearn.model_selection import train_test_split\n",
    "X = analysis_df[\"sf\"].to_numpy()\n",
    "y = analysis_df[\"y\"].to_numpy()\n",
    "# X, y\n",
    "X, y = shuffle(X, y, random_state=0)\n",
    "X = list(X)\n",
    "scaler = StandardScaler()\n",
    "scaler.fit(X)\n",
    "X = scaler.transform(X)\n",
    "X_train, X_test, y_train, y_test = train_test_split(X, y, test_size=0.2, random_state=42)\n",
    "svc = LinearSVC(max_iter=10000)\n",
    "svc.fit(X_train, y_train)"
   ]
  },
  {
   "cell_type": "code",
   "execution_count": 37,
   "metadata": {},
   "outputs": [
    {
     "data": {
      "text/plain": [
       "0.7625"
      ]
     },
     "execution_count": 37,
     "metadata": {},
     "output_type": "execute_result"
    }
   ],
   "source": [
    "# get accuracy\n",
    "from sklearn.metrics import accuracy_score\n",
    "y_pred = svc.predict(X_test)\n",
    "accuracy_score(y_test, y_pred)"
   ]
  },
  {
   "cell_type": "code",
   "execution_count": 38,
   "metadata": {},
   "outputs": [
    {
     "data": {
      "text/plain": [
       "0.500328947368421"
      ]
     },
     "execution_count": 38,
     "metadata": {},
     "output_type": "execute_result"
    }
   ],
   "source": [
    "y_train.mean()"
   ]
  },
  {
   "cell_type": "code",
   "execution_count": 39,
   "metadata": {},
   "outputs": [
    {
     "data": {
      "text/plain": [
       "array([[579, 183],\n",
       "       [178, 580]])"
      ]
     },
     "execution_count": 39,
     "metadata": {},
     "output_type": "execute_result"
    }
   ],
   "source": [
    "# get confusion matrix\n",
    "from sklearn.metrics import confusion_matrix\n",
    "confusion_matrix(y_test, y_pred)"
   ]
  },
  {
   "cell_type": "code",
   "execution_count": 40,
   "metadata": {},
   "outputs": [],
   "source": [
    "from sklearn.pipeline import Pipeline\n",
    "pipe = Pipeline([('scaler', scaler), ('svc', svc)])\n",
    "y_pred_pipe = pipe.predict(scaler.inverse_transform(X_test))"
   ]
  },
  {
   "cell_type": "code",
   "execution_count": 41,
   "metadata": {},
   "outputs": [
    {
     "data": {
      "text/plain": [
       "True"
      ]
     },
     "execution_count": 41,
     "metadata": {},
     "output_type": "execute_result"
    }
   ],
   "source": [
    "(y_pred_pipe == y_pred).all()"
   ]
  },
  {
   "cell_type": "code",
   "execution_count": 42,
   "metadata": {},
   "outputs": [],
   "source": [
    "with open(\"svc_type1.pkl\", \"wb\") as fp:\n",
    "    pickle.dump(pipe, fp)"
   ]
  },
  {
   "cell_type": "code",
   "execution_count": null,
   "metadata": {},
   "outputs": [],
   "source": []
  }
 ],
 "metadata": {
  "kernelspec": {
   "display_name": "Python 3",
   "language": "python",
   "name": "python3"
  },
  "language_info": {
   "codemirror_mode": {
    "name": "ipython",
    "version": 3
   },
   "file_extension": ".py",
   "mimetype": "text/x-python",
   "name": "python",
   "nbconvert_exporter": "python",
   "pygments_lexer": "ipython3",
   "version": "3.10.6"
  }
 },
 "nbformat": 4,
 "nbformat_minor": 2
}
