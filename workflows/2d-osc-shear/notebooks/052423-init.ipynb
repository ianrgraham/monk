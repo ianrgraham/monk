{
 "cells": [
  {
   "cell_type": "code",
   "execution_count": 21,
   "metadata": {},
   "outputs": [],
   "source": [
    "import numpy as np\n",
    "import pandas as pd\n",
    "import matplotlib.pyplot as plt\n",
    "import matplotlib as mpl\n",
    "from matplotlib import cm, colors\n",
    "import glob\n",
    "\n",
    "import hoomd\n",
    "import gc\n",
    "import warnings\n",
    "import copy\n",
    "import pathlib\n",
    "\n",
    "import os\n",
    "import shutil\n",
    "\n",
    "import signac"
   ]
  },
  {
   "cell_type": "code",
   "execution_count": 3,
   "metadata": {},
   "outputs": [
    {
     "data": {
      "text/plain": [
       "(PosixPath('/home/ian/Projects/work/monk/workflows/2d-osc-shear/config.yaml'),\n",
       " {'root': '/media/ian/Data2/monk/2d-osc-shear',\n",
       "  'origin': '/media/ian/Data2/monk/2d-esl'})"
      ]
     },
     "execution_count": 3,
     "metadata": {},
     "output_type": "execute_result"
    }
   ],
   "source": [
    "from monk import nb, prep, pair, render, utils, workflow, grid\n",
    "\n",
    "parent = pathlib.Path(os.getcwd()).parent / \"config.yaml\"\n",
    "config = workflow.get_config(parent.as_posix())\n",
    "parent, config"
   ]
  },
  {
   "cell_type": "code",
   "execution_count": 4,
   "metadata": {},
   "outputs": [
    {
     "data": {
      "text/plain": [
       "{'avail_seed': 6, 'dt': 0.005, 'step_unit': 200, 'equil_time': 100, 'min_periods': 20, 'dumps': 40, 'period_times': [30.0, 100.0, 300.0, 1000.0], 'max_shears': [0.01, 0.02, 0.03, 0.05, 0.08, 0.12], '_status': {}}"
      ]
     },
     "execution_count": 4,
     "metadata": {},
     "output_type": "execute_result"
    }
   ],
   "source": [
    "project: signac.Project = signac.init_project(name=\"2d-osc-shear\", root=config['root'])\n",
    "project.doc"
   ]
  },
  {
   "cell_type": "code",
   "execution_count": 5,
   "metadata": {},
   "outputs": [
    {
     "name": "stdout",
     "output_type": "stream",
     "text": [
      "634e14bc75836df75158fb15f379d8bb\n",
      "cfa1e4c0007fd65d020f809715a6f0b4\n",
      "ecce68c50e28a33684826f28780bf6e9\n",
      "1083a2a09eec2c6cf215ebc7a9706cac\n",
      "6976a7c10ada4159010403f8027f3ea5\n",
      "9158e73b2e4c9fd1a565e1e5d1bc3af5\n"
     ]
    }
   ],
   "source": [
    "for job in project:\n",
    "    print(job)"
   ]
  },
  {
   "cell_type": "code",
   "execution_count": 6,
   "metadata": {},
   "outputs": [
    {
     "data": {
      "text/plain": [
       "{'avail_seed': 11, 'dt': 0.005, 'step_unit': 1000, 'temp_steps': 20, 'equil_time': 40, 'run_time': 10, 'max_alpha_time': 1000, 'alpha_iters': 10, '_status': {}}"
      ]
     },
     "execution_count": 6,
     "metadata": {},
     "output_type": "execute_result"
    }
   ],
   "source": [
    "origin: signac.Project = signac.get_project(root=config['origin'])\n",
    "origin.doc"
   ]
  },
  {
   "cell_type": "code",
   "execution_count": 9,
   "metadata": {},
   "outputs": [
    {
     "name": "stdout",
     "output_type": "stream",
     "text": [
      "0.19836457263395846\n",
      "0.12345081002164043\n"
     ]
    },
    {
     "data": {
      "text/plain": [
       "{'KA_LJ': 0.19836457263395846, 'KA_WCA': 0.12345081002164043}"
      ]
     },
     "execution_count": 9,
     "metadata": {},
     "output_type": "execute_result"
    }
   ],
   "source": [
    "tgs = {}\n",
    "for job in origin:\n",
    "    try:\n",
    "        tg = job.data[\"results/tg\"]\n",
    "        if job.sp[\"replica\"] == 0:\n",
    "            tgs[job.sp[\"pot\"]] = tg\n",
    "            print(tg)\n",
    "    except KeyError:\n",
    "        pass\n",
    "tgs"
   ]
  },
  {
   "cell_type": "code",
   "execution_count": 10,
   "metadata": {},
   "outputs": [],
   "source": [
    "# only set once\n",
    "if \"avail_seed\" not in project.doc:\n",
    "    project.doc[\"avail_seed\"] = 0"
   ]
  },
  {
   "cell_type": "code",
   "execution_count": 11,
   "metadata": {},
   "outputs": [],
   "source": [
    "project.doc[\"dt\"] = 0.005\n",
    "project.doc[\"step_unit\"] = 200\n",
    "project.doc[\"equil_time\"] = 100\n",
    "project.doc[\"min_periods\"] = 20\n",
    "project.doc[\"dumps\"] = 40\n",
    "project.doc[\"period_times\"] = [30.0, 100.0, 300.0, 1000.0]\n",
    "project.doc[\"max_shears\"] = [0.01, 0.02, 0.03, 0.05, 0.08, 0.12]"
   ]
  },
  {
   "cell_type": "code",
   "execution_count": 12,
   "metadata": {},
   "outputs": [
    {
     "name": "stdout",
     "output_type": "stream",
     "text": [
      "634e14bc75836df75158fb15f379d8bb\n",
      "cfa1e4c0007fd65d020f809715a6f0b4\n",
      "ecce68c50e28a33684826f28780bf6e9\n",
      "1083a2a09eec2c6cf215ebc7a9706cac\n",
      "6976a7c10ada4159010403f8027f3ea5\n",
      "9158e73b2e4c9fd1a565e1e5d1bc3af5\n"
     ]
    }
   ],
   "source": [
    "for job in project:\n",
    "    print(job)"
   ]
  },
  {
   "cell_type": "code",
   "execution_count": 10,
   "metadata": {},
   "outputs": [
    {
     "name": "stderr",
     "output_type": "stream",
     "text": [
      "/home/ian/Projects/work/monk/.venv/lib/python3.10/site-packages/signac/synced_collections/numpy_utils.py:46: NumpyConversionWarning: Any numpy types provided will be transparently converted to the closest base Python equivalents.\n",
      "  warnings.warn(NUMPY_CONVERSION_WARNING, NumpyConversionWarning)\n"
     ]
    }
   ],
   "source": [
    "# HTL\n",
    "\n",
    "N = 2**15  # 32758\n",
    "rhos = [1.2]\n",
    "init_temps = [1.5]\n",
    "pot = \"KA_LJ\"\n",
    "prepared = \"HTL\"\n",
    "\n",
    "for replica in range(6):\n",
    "    for init_temp, rho in zip(init_temps, rhos):\n",
    "        sp = {\"N\": N, \"replica\": replica, \"rho\": rho, \"pot\": pot, \"prep\": prepared}\n",
    "        job = project.open_job(sp)\n",
    "        if \"init\" not in job.doc:\n",
    "            tg = tgs[pot]\n",
    "            job.init()\n",
    "            job.doc[\"init\"] = True\n",
    "            job.doc[\"seed\"] = project.doc[\"avail_seed\"]\n",
    "            job.doc[\"init_temp\"] = init_temp\n",
    "            job.doc[\"tg\"] = tg\n",
    "            job.doc[\"temps\"] = [tg/4.0, tg/2.0, tg*3.0/4.0, tg]\n",
    "            project.doc[\"avail_seed\"] += 1"
   ]
  },
  {
   "cell_type": "code",
   "execution_count": 29,
   "metadata": {},
   "outputs": [],
   "source": [
    "# for job in project.find_jobs({\"prep\": \"ESL\"}):\n",
    "#     print(job, job.sp)\n",
    "#     job.remove()"
   ]
  },
  {
   "cell_type": "code",
   "execution_count": 30,
   "metadata": {},
   "outputs": [
    {
     "name": "stdout",
     "output_type": "stream",
     "text": [
      "/media/ian/Data2/monk/2d-esl/workspace/a03bdc2a5be70a1e699a3f825fb8877b/fine/equil_temp-0.300.gsd\n"
     ]
    },
    {
     "name": "stderr",
     "output_type": "stream",
     "text": [
      "/home/ian/Projects/work/monk/.venv/lib/python3.10/site-packages/signac/synced_collections/numpy_utils.py:46: NumpyConversionWarning: Any numpy types provided will be transparently converted to the closest base Python equivalents.\n",
      "  warnings.warn(NUMPY_CONVERSION_WARNING, NumpyConversionWarning)\n"
     ]
    },
    {
     "name": "stdout",
     "output_type": "stream",
     "text": [
      "/media/ian/Data2/monk/2d-esl/workspace/127b38ea46bce9a180ac54e7adf90bf5/fine/equil_temp-0.300.gsd\n",
      "/media/ian/Data2/monk/2d-esl/workspace/a0f72fa2c65b6e380a9e3b21848079ed/fine/equil_temp-0.300.gsd\n",
      "/media/ian/Data2/monk/2d-esl/workspace/195c4fa433b01286ebe2ce7c821cb9e1/fine/equil_temp-0.300.gsd\n",
      "/media/ian/Data2/monk/2d-esl/workspace/eb25523e79e0f62b126ad67ec75f5ca7/fine/equil_temp-0.300.gsd\n",
      "/media/ian/Data2/monk/2d-esl/workspace/503e0376bd64085f1c22ed91ae48db88/fine/equil_temp-0.300.gsd\n"
     ]
    }
   ],
   "source": [
    "# ESL\n",
    "\n",
    "N = 2**15  # 32758\n",
    "rhos = [1.2]\n",
    "pot = \"KA_LJ\"\n",
    "prepared = \"ESL\"\n",
    "replicas = [0, 2, 4, 5, 7, 8]\n",
    "\n",
    "for replica in replicas:\n",
    "    matching_jobs = origin.find_jobs({\"pot\": pot, \"replica\": replica})\n",
    "    assert len(matching_jobs) == 1\n",
    "    origin_job = matching_jobs.next()\n",
    "    sim = sorted(glob.glob(origin_job.fn(\"fine/equil_*.gsd\")))[0]\n",
    "    print(sim)\n",
    "    assert float(utils.extract_between(sim, \"equil_temp-\", \".gsd\")) == 0.3\n",
    "\n",
    "    for rho in rhos:\n",
    "        sp = {\"N\": N, \"replica\": replica, \"rho\": rho, \"pot\": pot, \"prep\": prepared}\n",
    "        job = project.open_job(sp)\n",
    "        if \"init\" not in job.doc:\n",
    "            tg = tgs[pot]\n",
    "            job.init()\n",
    "            job.doc[\"init\"] = True\n",
    "            job.doc[\"seed\"] = project.doc[\"avail_seed\"]\n",
    "            job.doc[\"init_temp\"] = 0.3\n",
    "            job.doc[\"tg\"] = tg\n",
    "            job.doc[\"temps\"] = [tg/4.0, tg/2.0, tg*3.0/4.0, tg]\n",
    "            project.doc[\"avail_seed\"] += 1\n",
    "            shutil.copy(sim, job.fn(\"start-file.gsd\"))\n",
    "            "
   ]
  },
  {
   "cell_type": "code",
   "execution_count": null,
   "metadata": {},
   "outputs": [],
   "source": [
    "# initialize projects using data from the prior project\n",
    "\n",
    "# some data should be copied, others probably don't need to be"
   ]
  }
 ],
 "metadata": {
  "kernelspec": {
   "display_name": "Python 3",
   "language": "python",
   "name": "python3"
  },
  "language_info": {
   "codemirror_mode": {
    "name": "ipython",
    "version": 3
   },
   "file_extension": ".py",
   "mimetype": "text/x-python",
   "name": "python",
   "nbconvert_exporter": "python",
   "pygments_lexer": "ipython3",
   "version": "3.10.6"
  },
  "orig_nbformat": 4
 },
 "nbformat": 4,
 "nbformat_minor": 2
}
