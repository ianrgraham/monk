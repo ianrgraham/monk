{
 "cells": [
  {
   "cell_type": "code",
   "execution_count": 1,
   "metadata": {},
   "outputs": [],
   "source": [
    "import numpy as np\n",
    "import pandas as pd\n",
    "import matplotlib.pyplot as plt\n",
    "import matplotlib as mpl\n",
    "from matplotlib import cm, colors\n",
    "\n",
    "import glob\n",
    "import gc\n",
    "import warnings\n",
    "import copy\n",
    "import pathlib\n",
    "import pickle\n",
    "\n",
    "import os\n",
    "\n",
    "from scipy import stats\n",
    "import signac\n",
    "import freud\n",
    "import gsd.hoomd\n",
    "import hoomd\n",
    "import schmeud\n",
    "import schmeud._schmeud as schmeud_rs\n",
    "\n",
    "from dataclasses import dataclass\n",
    "from collections import defaultdict"
   ]
  },
  {
   "cell_type": "code",
   "execution_count": 2,
   "metadata": {},
   "outputs": [
    {
     "data": {
      "text/plain": [
       "(PosixPath('/home/ian/Projects/work/monk/workflows/2d-osc-shear/config.yaml'),\n",
       " {'root': '/media/ian/Data2/monk/2d-osc-shear',\n",
       "  'origin': '/media/ian/Data2/monk/2d-esl'})"
      ]
     },
     "execution_count": 2,
     "metadata": {},
     "output_type": "execute_result"
    }
   ],
   "source": [
    "from monk import nb, prep, pair, render, utils, workflow, grid\n",
    "\n",
    "parent = pathlib.Path(os.getcwd()).parent / \"config.yaml\"\n",
    "config = workflow.get_config(parent.as_posix())\n",
    "parent, config"
   ]
  },
  {
   "cell_type": "code",
   "execution_count": 3,
   "metadata": {},
   "outputs": [
    {
     "data": {
      "text/plain": [
       "{'avail_seed': 18, 'dt': 0.005, 'step_unit': 200, 'equil_time': 100, 'min_periods': 20, 'dumps': 40, 'period_times': [30.0, 100.0, 300.0, 1000.0], 'max_shears': [0.01, 0.02, 0.03, 0.05, 0.08, 0.12], '_status': {}}"
      ]
     },
     "execution_count": 3,
     "metadata": {},
     "output_type": "execute_result"
    }
   ],
   "source": [
    "project: signac.Project = signac.init_project(name=\"2d-osc-shear\", root=config['root'])\n",
    "project.doc"
   ]
  },
  {
   "cell_type": "code",
   "execution_count": 4,
   "metadata": {},
   "outputs": [
    {
     "data": {
      "text/plain": [
       "(array([1., 0., 0.]), array([0.5, 1. , 0. ]), array([0., 0., 0.]))"
      ]
     },
     "execution_count": 4,
     "metadata": {},
     "output_type": "execute_result"
    }
   ],
   "source": [
    "cell = freud.data.UnitCell([1.0, 1.0, 0.0, 0.5, 0.0, 0.0])\n",
    "cell.a1, cell.a2, cell.a3"
   ]
  },
  {
   "cell_type": "code",
   "execution_count": 5,
   "metadata": {},
   "outputs": [
    {
     "data": {
      "text/plain": [
       "array([[1. , 0.5, 0. ],\n",
       "       [0. , 1. , 0. ],\n",
       "       [0. , 0. , 0. ]])"
      ]
     },
     "execution_count": 5,
     "metadata": {},
     "output_type": "execute_result"
    }
   ],
   "source": [
    "cell.lattice_vectors"
   ]
  },
  {
   "cell_type": "code",
   "execution_count": 6,
   "metadata": {},
   "outputs": [],
   "source": [
    "box, pos = cell.generate_system(200, sigma_noise=0.1)"
   ]
  },
  {
   "cell_type": "code",
   "execution_count": 7,
   "metadata": {},
   "outputs": [
    {
     "data": {
      "text/plain": [
       "<matplotlib.collections.PathCollection at 0x7f85c127da80>"
      ]
     },
     "execution_count": 7,
     "metadata": {},
     "output_type": "execute_result"
    },
    {
     "data": {
      "image/png": "[encoded data removed]",
      "text/plain": [
       "<Figure size 432x288 with 1 Axes>"
      ]
     },
     "metadata": {
      "image/png": {
       "height": 248,
       "width": 383
      },
      "needs_background": "light"
     },
     "output_type": "display_data"
    }
   ],
   "source": [
    "plt.scatter(pos[:, 0], pos[:, 1])"
   ]
  },
  {
   "cell_type": "code",
   "execution_count": 8,
   "metadata": {},
   "outputs": [
    {
     "data": {
      "text/plain": [
       "40000"
      ]
     },
     "execution_count": 8,
     "metadata": {},
     "output_type": "execute_result"
    }
   ],
   "source": [
    "len(pos)"
   ]
  },
  {
   "cell_type": "code",
   "execution_count": 9,
   "metadata": {},
   "outputs": [],
   "source": [
    "voro = freud.locality.Voronoi()"
   ]
  },
  {
   "cell_type": "code",
   "execution_count": 10,
   "metadata": {},
   "outputs": [
    {
     "data": {
      "text/plain": [
       "freud.locality.Voronoi()"
      ]
     },
     "execution_count": 10,
     "metadata": {},
     "output_type": "execute_result"
    }
   ],
   "source": [
    "voro"
   ]
  },
  {
   "cell_type": "code",
   "execution_count": 11,
   "metadata": {},
   "outputs": [],
   "source": [
    "# %timeit\n",
    "voro.compute((box, pos));"
   ]
  },
  {
   "cell_type": "code",
   "execution_count": 12,
   "metadata": {},
   "outputs": [],
   "source": [
    "voro.compute((box, pos));"
   ]
  },
  {
   "cell_type": "code",
   "execution_count": 21,
   "metadata": {},
   "outputs": [
    {
     "data": {
      "text/plain": [
       "array([    1,   199,   200, ..., 39799, 39800, 39998], dtype=uint32)"
      ]
     },
     "execution_count": 21,
     "metadata": {},
     "output_type": "execute_result"
    }
   ],
   "source": [
    "voro.nlist.point_indices"
   ]
  },
  {
   "cell_type": "code",
   "execution_count": 13,
   "metadata": {},
   "outputs": [
    {
     "data": {
      "text/plain": [
       "(array([[-0.5906906 , -0.49922151,  0.        ],\n",
       "        [ 0.1200648 , -0.7834663 ,  0.        ],\n",
       "        [ 0.65974817, -0.47314064,  0.        ],\n",
       "        [ 0.380017  ,  0.40876484,  0.        ],\n",
       "        [ 0.05844776,  0.52493352,  0.        ],\n",
       "        [-0.47597393,  0.34924625,  0.        ]]),\n",
       " array([[ 0.05844776,  0.52493352,  0.        ],\n",
       "        [ 0.380017  ,  0.40876484,  0.        ],\n",
       "        [ 0.94835326,  0.77187714,  0.        ],\n",
       "        [ 0.97496456,  1.29157311,  0.        ],\n",
       "        [ 0.49463874,  1.65032044,  0.        ],\n",
       "        [-0.02328106,  1.40588371,  0.        ]]))"
      ]
     },
     "execution_count": 13,
     "metadata": {},
     "output_type": "execute_result"
    }
   ],
   "source": [
    "voro.polytopes[0], voro.polytopes[1]"
   ]
  },
  {
   "cell_type": "code",
   "execution_count": 80,
   "metadata": {},
   "outputs": [
    {
     "data": {
      "text/plain": [
       "array([0.99180669, 1.13114805, 0.98887449, 0.96164491, 0.91742674,\n",
       "       1.08221922, 0.98762729, 0.99906053, 0.9721647 , 1.04942339,\n",
       "       1.11594441, 0.98647268, 1.10466541, 1.03488064, 1.10703559,\n",
       "       1.08464438, 0.98592541, 0.9573491 , 1.0269191 , 1.121199  ,\n",
       "       0.94394742, 1.01039647, 0.98665894, 0.9271562 , 1.03453532,\n",
       "       0.88215067, 0.90424198, 0.95965092, 0.97060325, 0.98528281,\n",
       "       0.90489583, 1.09739397, 0.93538185, 1.08141818, 1.02261004,\n",
       "       1.17772629, 1.06062748, 1.00466698, 0.94208192, 0.92443445,\n",
       "       0.96923664, 0.87166897, 1.09113186, 1.2014084 , 1.08493784,\n",
       "       0.86372244, 0.85701124, 0.99355249, 1.04979565, 1.01483304,\n",
       "       0.8672377 , 0.87158615, 0.89432363, 1.12818386, 0.98089165,\n",
       "       0.84864649, 0.94914064, 1.05719237, 1.11077617, 1.01387871,\n",
       "       1.11105185, 0.87125651, 0.96211511, 1.05245539, 1.06060557,\n",
       "       0.87025937, 0.94462392, 1.00789966, 0.99431492, 1.04657527,\n",
       "       1.11761217, 1.02594776, 1.14289376, 1.0181722 , 0.897868  ,\n",
       "       0.84501173, 1.1323412 , 1.02397778, 1.09183793, 1.19945706,\n",
       "       1.08123827, 1.07612822, 0.95701071, 0.99252636, 1.02186343,\n",
       "       1.11085797, 1.02860349, 0.96483792, 0.95127502, 1.01316801,\n",
       "       0.97883924, 1.01416258, 0.9453061 , 0.95962502, 0.99420846,\n",
       "       0.91516143, 0.79632523, 0.85839952, 0.84225957, 1.00047768])"
      ]
     },
     "execution_count": 80,
     "metadata": {},
     "output_type": "execute_result"
    }
   ],
   "source": [
    "voro.volumes"
   ]
  },
  {
   "cell_type": "code",
   "execution_count": 84,
   "metadata": {},
   "outputs": [],
   "source": [
    "@dataclass(frozen=True, eq=True)\n",
    "class Statepoint:\n",
    "    max_shear: float\n",
    "    period: float\n",
    "    temp: float"
   ]
  },
  {
   "cell_type": "code",
   "execution_count": 102,
   "metadata": {},
   "outputs": [
    {
     "name": "stdout",
     "output_type": "stream",
     "text": [
      "634e14bc75836df75158fb15f379d8bb\n",
      "0.01 100.0 0.0496\n"
     ]
    }
   ],
   "source": [
    "# get d2min distribution\n",
    "\n",
    "rev_quant = defaultdict(list)\n",
    "\n",
    "for job in project:\n",
    "    print(job)\n",
    "\n",
    "    expers = sorted(glob.glob(job.fn(\"experiments/*/*/*\")))\n",
    "\n",
    "    for exper in expers:\n",
    "        max_shear = utils.extract_between(exper, \"max-shear-\", \"/\")\n",
    "        period = utils.extract_between(exper, \"period-\", \".gsd\")\n",
    "        temp = utils.extract_between(exper, \"temp-\", \"/\")\n",
    "        sp = Statepoint(max_shear=float(max_shear), period=float(period), temp=float(temp))\n",
    "        \n",
    "        # if float(period) != 1000.0:\n",
    "        #     continue\n",
    "\n",
    "        traj = gsd.hoomd.open(exper)\n",
    "\n",
    "        print(max_shear, period, temp)\n",
    "\n",
    "        # d2mins = []\n",
    "        quants = []\n",
    "        voro = freud.locality.Voronoi()\n",
    "        for i in range(1, 20):\n",
    "\n",
    "            snap = traj[-1 + i*40]\n",
    "            snap_high = traj[9 + i*40]\n",
    "            snap_later = traj[-1 + (i+1)*40]\n",
    "            snap_low = traj[29 + i*40]\n",
    "\n",
    "            box = snap.configuration.box[:]\n",
    "            box_high = snap_high.configuration.box[:]\n",
    "            box_later = snap_later.configuration.box[:]\n",
    "            box_low = snap_low.configuration.box[:]\n",
    "\n",
    "            # nlist_query = freud.locality.AABBQuery.from_system(snap)\n",
    "            # nlist = nlist_query.query(snap.particles.position, {'num_neighbors': 20}).toNeighborList()\n",
    "            voro.compute((box_high, snap_high.particles.position)).nlist\n",
    "\n",
    "            # d2min_irr = schmeud_rs.dynamics.d2min_frame(snap.particles.position[:, :2], snap_later.particles.position[:, :2], nlist.query_point_indices, nlist.point_indices, (box, box_later))\n",
    "            # d2min_rev = schmeud_rs.dynamics.d2min_frame(snap_high.particles.position[:, :2], snap_low.particles.position[:, :2], nlist.query_point_indices, nlist.point_indices, (box_high, box_low))\n",
    "            # quant = np.square(d2min_rev) - np.square(d2min_irr)\n",
    "            # quant = np.mean(quant > 0)\n",
    "            # quants.append(quant)\n",
    "            break\n",
    "        # rev_quant[sp].append(quants)\n",
    "        break\n",
    "    break\n",
    "\n",
    "# save to pickle\n",
    "# with open(project.fn(\"results/rev-quant.pkl\"), \"wb\") as f:\n",
    "#     pickle.dump(rev_quant, f)"
   ]
  },
  {
   "cell_type": "code",
   "execution_count": 106,
   "metadata": {},
   "outputs": [],
   "source": [
    "# fig, ax = plt.subplots(dpi=300)\n",
    "# voro.plot(ax=ax)\n",
    "# ax.set_xlim(-20, 10)\n",
    "# ax.set_ylim(-20, 10)"
   ]
  },
  {
   "cell_type": "code",
   "execution_count": null,
   "metadata": {},
   "outputs": [],
   "source": []
  }
 ],
 "metadata": {
  "kernelspec": {
   "display_name": "Python 3",
   "language": "python",
   "name": "python3"
  },
  "language_info": {
   "codemirror_mode": {
    "name": "ipython",
    "version": 3
   },
   "file_extension": ".py",
   "mimetype": "text/x-python",
   "name": "python",
   "nbconvert_exporter": "python",
   "pygments_lexer": "ipython3",
   "version": "3.10.6"
  },
  "orig_nbformat": 4
 },
 "nbformat": 4,
 "nbformat_minor": 2
}
