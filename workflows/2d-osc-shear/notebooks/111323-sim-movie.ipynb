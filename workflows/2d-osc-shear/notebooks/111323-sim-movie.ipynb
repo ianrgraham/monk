{
 "cells": [
  {
   "cell_type": "code",
   "execution_count": 1,
   "metadata": {},
   "outputs": [],
   "source": [
    "import numpy as np\n",
    "import pandas as pd\n",
    "import polars as pl\n",
    "import matplotlib.pyplot as plt\n",
    "import matplotlib as mpl\n",
    "from matplotlib import cm, colors\n",
    "\n",
    "import glob\n",
    "import gc\n",
    "import warnings\n",
    "import copy\n",
    "import pathlib\n",
    "import pickle\n",
    "\n",
    "import os\n",
    "import shutil\n",
    "\n",
    "from scipy import stats\n",
    "import signac\n",
    "import freud\n",
    "import gsd.hoomd\n",
    "import hoomd\n",
    "import schmeud\n",
    "import schmeud._schmeud as schmeud_rs\n",
    "from schmeud._schmeud import statics\n",
    "from schmeud import ml\n",
    "from tqdm import tqdm\n",
    "\n",
    "from dataclasses import dataclass\n",
    "from collections import defaultdict\n",
    "\n",
    "from numba import njit\n",
    "\n",
    "import seaborn as sns\n",
    "from matplotlib.collections import PatchCollection\n",
    "from matplotlib.patches import Circle"
   ]
  },
  {
   "cell_type": "code",
   "execution_count": 2,
   "metadata": {},
   "outputs": [
    {
     "data": {
      "text/plain": [
       "(PosixPath('/home/ian/Projects/work/monk/workflows/2d-osc-shear/config.yaml'),\n",
       " {'root': '/media/ian/Data2/monk/2d-osc-shear',\n",
       "  'origin': '/media/ian/Data2/monk/2d-esl'})"
      ]
     },
     "execution_count": 2,
     "metadata": {},
     "output_type": "execute_result"
    }
   ],
   "source": [
    "from monk import nb, prep, pair, render, utils, workflow, grid\n",
    "\n",
    "parent = pathlib.Path(os.getcwd()).parent / \"config.yaml\"\n",
    "config = workflow.get_config(parent.as_posix())\n",
    "parent, config"
   ]
  },
  {
   "cell_type": "code",
   "execution_count": 3,
   "metadata": {},
   "outputs": [
    {
     "data": {
      "text/plain": [
       "{'avail_seed': 18, 'dt': 0.005, 'step_unit': 200, 'equil_time': 100, 'min_periods': 20, 'dumps': 40, 'period_times': [30.0, 100.0, 300.0, 1000.0], 'max_shears': [0.01, 0.02, 0.03, 0.05, 0.08, 0.12], '_status': {}}"
      ]
     },
     "execution_count": 3,
     "metadata": {},
     "output_type": "execute_result"
    }
   ],
   "source": [
    "project: signac.Project = signac.get_project(root=config['root'])\n",
    "project.doc"
   ]
  },
  {
   "cell_type": "code",
   "execution_count": 4,
   "metadata": {},
   "outputs": [],
   "source": [
    "@dataclass(frozen=True, eq=True)\n",
    "class Statepoint:\n",
    "    max_shear: float\n",
    "    period: float\n",
    "    temp: float\n",
    "    prep: str"
   ]
  },
  {
   "cell_type": "code",
   "execution_count": 5,
   "metadata": {},
   "outputs": [],
   "source": [
    "def plot_better(positions, diams, ax=None, lim=None):\n",
    "\n",
    "    if ax is None:\n",
    "        fig, ax = plt.subplots()\n",
    "    else:\n",
    "        fig = ax.get_figure()\n",
    "\n",
    "    # color_data = np.abs(soft_ffts[:,2:20]).sum(axis=-1)\n",
    "\n",
    "    if lim is None:\n",
    "        use = np.ones(len(positions), dtype=bool)\n",
    "    else:\n",
    "        use = (np.abs(positions[:,0]) < lim + 1) & (np.abs(positions[:,1]) < lim + 1)\n",
    "\n",
    "    # create a list of circles with positions and radius\n",
    "    color_data = np.zeros((len(positions), 3))\n",
    "    cp = sns.color_palette(\"Paired\")\n",
    "    color_data[diams == 1.0] = cp[1]\n",
    "    color_data[diams < 0.9] = cp[7]\n",
    "    circles = [Circle((x[0], x[1]), radius=d/2.0, color=c, alpha=1.0) for x, d, c in zip(positions[use], diams[use], color_data[use])]\n",
    "\n",
    "    # create a patch collection with circles and color data\n",
    "\n",
    "    collection = PatchCollection(circles, match_original=True)\n",
    "\n",
    "    # plot particles with color\n",
    "    # fig, ax = plt.subplots()\n",
    "    ax.add_collection(collection)\n",
    "    ax.autoscale()\n",
    "\n",
    "    # zoom in 5x\n",
    "    if lim is None:\n",
    "        zoom = 1.2\n",
    "        xlim = ax.get_xlim()\n",
    "        ylim = ax.get_ylim()\n",
    "        ax.set_xlim((xlim[0] + xlim[1])/2 - (xlim[1] - xlim[0])/zoom/2, (xlim[0] + xlim[1])/2 + (xlim[1] - xlim[0])/zoom/2)\n",
    "        ax.set_ylim((ylim[0] + ylim[1])/2 - (ylim[1] - ylim[0])/zoom/2, (ylim[0] + ylim[1])/2 + (ylim[1] - ylim[0])/zoom/2)\n",
    "    else:\n",
    "        ax.set_xlim(-lim, lim)\n",
    "        ax.set_ylim(-lim, lim)\n",
    "\n",
    "    # check if has colorbar\n",
    "    # if ax.get_figure().get_axes()[-1] == ax:\n",
    "    #     plt.colorbar(collection, label=\"Softness\")\n",
    "\n",
    "\n",
    "    ax.set_aspect('equal', adjustable='box')\n",
    "\n",
    "    ax.axis('off')"
   ]
  },
  {
   "cell_type": "code",
   "execution_count": 7,
   "metadata": {},
   "outputs": [
    {
     "name": "stdout",
     "output_type": "stream",
     "text": [
      "634e14bc75836df75158fb15f379d8bb\n",
      "7ec2f6aca035e69077eab24383a21cb6\n",
      "Statepoint(max_shear=0.05, period=1000.0, temp=0.019836, prep='ESL')\n"
     ]
    },
    {
     "name": "stderr",
     "output_type": "stream",
     "text": [
      "  0%|          | 0/120 [00:00<?, ?it/s]"
     ]
    },
    {
     "name": "stderr",
     "output_type": "stream",
     "text": [
      "100%|██████████| 120/120 [03:04<00:00,  1.54s/it]\n",
      "ffmpeg version 4.2.2 Copyright (c) 2000-2019 the FFmpeg developers\n",
      "  built with gcc 7.3.0 (crosstool-NG 1.23.0.449-a04d0)\n",
      "  configuration: --prefix=/tmp/build/80754af9/ffmpeg_1587154242452/_h_env_placehold_placehold_placehold_placehold_placehold_placehold_placehold_placehold_placehold_placehold_placehold_placehold_placehold_placehold_placehold_placehold_placehold_placehold_placehold_placehold_placeho --cc=/tmp/build/80754af9/ffmpeg_1587154242452/_build_env/bin/x86_64-conda_cos6-linux-gnu-cc --disable-doc --enable-avresample --enable-gmp --enable-hardcoded-tables --enable-libfreetype --enable-libvpx --enable-pthreads --enable-libopus --enable-postproc --enable-pic --enable-pthreads --enable-shared --enable-static --enable-version3 --enable-zlib --enable-libmp3lame --disable-nonfree --enable-gpl --enable-gnutls --disable-openssl --enable-libopenh264 --enable-libx264\n",
      "  libavutil      56. 31.100 / 56. 31.100\n",
      "  libavcodec     58. 54.100 / 58. 54.100\n",
      "  libavformat    58. 29.100 / 58. 29.100\n",
      "  libavdevice    58.  8.100 / 58.  8.100\n",
      "  libavfilter     7. 57.100 /  7. 57.100\n",
      "  libavresample   4.  0.  0 /  4.  0.  0\n",
      "  libswscale      5.  5.100 /  5.  5.100\n",
      "  libswresample   3.  5.100 /  3.  5.100\n",
      "  libpostproc    55.  5.100 / 55.  5.100\n",
      "Input #0, image2, from '/media/ian/Data2/monk/2d-osc-shear/workspace/7ec2f6aca035e69077eab24383a21cb6/videos/sim-movie/sim-movie-*.png':\n",
      "  Duration: 00:00:12.00, start: 0.000000, bitrate: N/A\n",
      "    Stream #0:0: Video: png, rgba(pc), 1500x1500 [SAR 5906:5906 DAR 1:1], 10 fps, 10 tbr, 10 tbn, 10 tbc\n",
      "Stream mapping:\n",
      "  Stream #0:0 -> #0:0 (png (native) -> h264 (libx264))\n",
      "Press [q] to stop, [?] for help\n",
      "[libx264 @ 0x560694d5bfc0] using SAR=1/1\n",
      "[libx264 @ 0x560694d5bfc0] using cpu capabilities: MMX2 SSE2Fast SSSE3 SSE4.2 AVX FMA3 BMI2 AVX2\n",
      "[libx264 @ 0x560694d5bfc0] profile High 4:4:4 Predictive, level 5.0, 4:4:4, 8-bit\n",
      "[libx264 @ 0x560694d5bfc0] 264 - core 157 - H.264/MPEG-4 AVC codec - Copyleft 2003-2018 - http://www.videolan.org/x264.html - options: cabac=1 ref=3 deblock=1:0:0 analyse=0x1:0x111 me=hex subme=7 psy=1 psy_rd=1.00:0.00 mixed_ref=1 me_range=16 chroma_me=1 trellis=1 8x8dct=0 cqm=0 deadzone=21,11 fast_pskip=1 chroma_qp_offset=4 threads=12 lookahead_threads=2 sliced_threads=0 nr=0 decimate=1 interlaced=0 bluray_compat=0 constrained_intra=0 bframes=3 b_pyramid=2 b_adapt=1 b_bias=0 direct=1 weightb=1 open_gop=0 weightp=2 keyint=250 keyint_min=10 scenecut=40 intra_refresh=0 rc_lookahead=40 rc=crf mbtree=1 crf=23.0 qcomp=0.60 qpmin=0 qpmax=69 qpstep=4 ip_ratio=1.40 aq=1:1.00\n",
      "Output #0, mp4, to 'videos/sim-movie-htl_max-shear-0.05_id-7ec2f6aca035e69077eab24383a21cb6.mp4':\n",
      "  Metadata:\n",
      "    encoder         : Lavf58.29.100\n",
      "    Stream #0:0: Video: h264 (libx264) (avc1 / 0x31637661), yuv444p, 1500x1500 [SAR 1:1 DAR 1:1], q=-1--1, 10 fps, 10240 tbn, 10 tbc\n",
      "    Metadata:\n",
      "      encoder         : Lavc58.54.100 libx264\n",
      "    Side data:\n",
      "      cpb: bitrate max/min/avg: 0/0/0 buffer size: 0 vbv_delay: -1\n",
      "frame=  120 fps= 37 q=-1.0 Lsize=    8448kB time=00:00:11.70 bitrate=5914.8kbits/s speed=3.62x     \n",
      "video:8445kB audio:0kB subtitle:0kB other streams:0kB global headers:0kB muxing overhead: 0.027775%\n",
      "[libx264 @ 0x560694d5bfc0] frame I:1     Avg QP:16.76  size:498378\n",
      "[libx264 @ 0x560694d5bfc0] frame P:30    Avg QP:21.25  size:158315\n",
      "[libx264 @ 0x560694d5bfc0] frame B:89    Avg QP:27.80  size: 38197\n",
      "[libx264 @ 0x560694d5bfc0] consecutive B-frames:  0.8%  0.0%  2.5% 96.7%\n",
      "[libx264 @ 0x560694d5bfc0] mb I  I16..4: 41.7%  0.0% 58.3%\n",
      "[libx264 @ 0x560694d5bfc0] mb P  I16..4:  0.3%  0.0%  0.6%  P16..4:  4.7% 13.1% 39.8%  0.0%  0.0%    skip:41.6%\n",
      "[libx264 @ 0x560694d5bfc0] mb B  I16..4:  0.0%  0.0%  0.2%  B16..8: 22.8% 12.6%  6.9%  direct: 7.4%  skip:50.1%  L0:40.6% L1:36.7% BI:22.7%\n",
      "[libx264 @ 0x560694d5bfc0] coded y,u,v intra: 44.1% 45.9% 45.9% inter: 7.8% 13.0% 12.2%\n",
      "[libx264 @ 0x560694d5bfc0] i16 v,h,dc,p: 92%  3%  5%  0%\n",
      "[libx264 @ 0x560694d5bfc0] i4 v,h,dc,ddl,ddr,vr,hd,vl,hu: 40% 15% 19%  4%  4%  4%  4%  4%  4%\n",
      "[libx264 @ 0x560694d5bfc0] Weighted P-Frames: Y:0.0% UV:0.0%\n",
      "[libx264 @ 0x560694d5bfc0] ref P L0: 47.9% 11.4% 19.5% 21.2%\n",
      "[libx264 @ 0x560694d5bfc0] ref B L0: 78.7% 16.7%  4.6%\n",
      "[libx264 @ 0x560694d5bfc0] ref B L1: 87.9% 12.1%\n",
      "[libx264 @ 0x560694d5bfc0] kb/s:5764.90\n"
     ]
    },
    {
     "data": {
      "image/png": "[encoded data removed]",
      "text/plain": [
       "<Figure size 720x720 with 1 Axes>"
      ]
     },
     "metadata": {
      "image/png": {
       "height": 578,
       "width": 588
      },
      "needs_background": "light"
     },
     "output_type": "display_data"
    }
   ],
   "source": [
    "# get d2min distribution\n",
    "\n",
    "# rev_quant = defaultdict(list)\n",
    "\n",
    "for job in project:\n",
    "    print(job)\n",
    "    prep = job.sp[\"prep\"]\n",
    "    if prep != \"ESL\":\n",
    "        continue\n",
    "\n",
    "    expers = sorted(glob.glob(job.fn(\"aqs_therm_experiments/*/*/traj-fire_period-*.gsd\")))\n",
    "\n",
    "    for exper in expers:\n",
    "        max_shear = utils.extract_between(exper, \"max-shear-\", \"/\")\n",
    "        period = utils.extract_between(exper, \"period-\", \".gsd\")\n",
    "        temp = utils.extract_between(exper, \"temp-\", \"/\")\n",
    "        sp = Statepoint(max_shear=float(max_shear), period=float(period), temp=float(temp), prep=prep)\n",
    "        # out_path = f\"aqs_therm_experiments/max-shear-{max_shear}/temp-{temp}/msd-strob_period-{period}.parquet\"\n",
    "        \n",
    "        if float(period) != 1000.0 or float(max_shear) != 0.05:\n",
    "            continue\n",
    "\n",
    "        # if job.isfile(out_path):\n",
    "        #     continue\n",
    "\n",
    "        print(sp)\n",
    "\n",
    "        output_file = f\"videos/sim-movie-htl_max-shear-{max_shear}_id-{job.id}.mp4\"\n",
    "\n",
    "        # if os.path.exists(output_file):\n",
    "        #     continue\n",
    "\n",
    "        fig, ax = plt.subplots(figsize=(10,10))\n",
    "        frame_path = job.fn(\"videos/sim-movie/\")\n",
    "        if os.path.exists(frame_path):\n",
    "            shutil.rmtree(frame_path)\n",
    "        os.makedirs(job.fn(\"videos/sim-movie/\"), exist_ok=True)\n",
    "\n",
    "        traj = gsd.hoomd.open(exper)\n",
    "\n",
    "        frame_is = []\n",
    "        frame_js = []\n",
    "        ids = []\n",
    "        msds = []\n",
    "        ave_msds = []\n",
    "        comp_start = lambda i: -1 + i*40\n",
    "        i = 39\n",
    "        snap = traj[i]\n",
    "        tags = np.arange(len(snap.particles.position))\n",
    "\n",
    "        init_pos = snap.particles.position\n",
    "        images = np.zeros_like(init_pos, dtype=np.int32)\n",
    "        last_pos = init_pos.copy()\n",
    "        freud_box = freud.box.Box.from_box(snap.configuration.box)\n",
    "        center = init_pos.mean(axis=0)\n",
    "\n",
    "        diams = snap.particles.diameter\n",
    "\n",
    "        for j in tqdm(range(i, i+120)):\n",
    "            \n",
    "            # frame_is.append(-1 + i*40)\n",
    "            # frame_js.append(-1 + j*40)\n",
    "\n",
    "            name = job.fn(\"videos/sim-movie/sim-movie-{:04d}.png\".format(j))\n",
    "            if os.path.exists(name):\n",
    "                continue\n",
    "\n",
    "            snap_later = traj[j]\n",
    "\n",
    "            box = snap.configuration.box[:]\n",
    "            box_later = snap_later.configuration.box[:]\n",
    "            # ids.append(tags)\n",
    "\n",
    "            # compute msd\n",
    "            pos = snap_later.particles.position\n",
    "            images -=  freud_box.get_images(pos - last_pos)\n",
    "            last_pos = pos\n",
    "            new_pos = freud_box.unwrap(pos, images)\n",
    "            new_pos -= new_pos.mean(axis=0)\n",
    "            new_pos = freud_box.wrap(new_pos)\n",
    "            # msd = np.sum(np.square(new_pos - init_pos + center), axis=-1)\n",
    "            # ave_msds.append(np.mean(msd))\n",
    "            # msds.append(msd)\n",
    "\n",
    "            plot_better(new_pos, diams, ax=ax, lim=40)\n",
    "            plt.savefig(name, dpi=150)\n",
    "            # clear axis\n",
    "            ax.cla()\n",
    "        #     break\n",
    "        # break\n",
    "        \n",
    "        # dataset = pl.DataFrame({\"frame_i\": frame_is, \"frame_j\": frame_js, \"id\": ids, \"msd\": msds, \"ave_msd\": ave_msds})\n",
    "        # dataset.write_parquet(job.fn(out_path), use_pyarrow=True)\n",
    "        # msds = np.array(msds)\n",
    "\n",
    "        import ffmpeg\n",
    "        (\n",
    "        ffmpeg\n",
    "            .input(job.fn(\"videos/sim-movie/sim-movie-*.png\"), pattern_type=\"glob\", framerate=10)\n",
    "            .output(output_file).run()\n",
    "        )\n",
    "        break\n",
    "    break"
   ]
  },
  {
   "cell_type": "code",
   "execution_count": null,
   "metadata": {},
   "outputs": [],
   "source": []
  }
 ],
 "metadata": {
  "kernelspec": {
   "display_name": "Python 3",
   "language": "python",
   "name": "python3"
  },
  "language_info": {
   "codemirror_mode": {
    "name": "ipython",
    "version": 3
   },
   "file_extension": ".py",
   "mimetype": "text/x-python",
   "name": "python",
   "nbconvert_exporter": "python",
   "pygments_lexer": "ipython3",
   "version": "3.10.6"
  }
 },
 "nbformat": 4,
 "nbformat_minor": 2
}
