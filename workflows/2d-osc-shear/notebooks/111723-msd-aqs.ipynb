{
 "cells": [
  {
   "cell_type": "code",
   "execution_count": 2,
   "metadata": {},
   "outputs": [],
   "source": [
    "import numpy as np\n",
    "import pandas as pd\n",
    "import matplotlib.pyplot as plt\n",
    "import matplotlib as mpl\n",
    "from matplotlib import cm, colors\n",
    "\n",
    "import glob\n",
    "import gc\n",
    "import warnings\n",
    "import copy\n",
    "import pathlib\n",
    "import pickle\n",
    "\n",
    "import os\n",
    "\n",
    "from scipy import stats\n",
    "import signac\n",
    "import freud\n",
    "import gsd.hoomd\n",
    "# import hoomd\n",
    "import schmeud\n",
    "import schmeud._schmeud as schmeud_rs\n",
    "\n",
    "from dataclasses import dataclass\n",
    "from collections import defaultdict\n",
    "from tqdm import tqdm\n",
    "\n",
    "import polars as pl"
   ]
  },
  {
   "cell_type": "code",
   "execution_count": 5,
   "metadata": {},
   "outputs": [
    {
     "data": {
      "text/plain": [
       "(PosixPath('/home/ian/Projects/work/monk/workflows/2d-osc-shear/config.yaml'),\n",
       " {'root': '/media/ian/Data2/monk/2d-osc-shear',\n",
       "  'origin': '/media/ian/Data2/monk/2d-esl'})"
      ]
     },
     "execution_count": 5,
     "metadata": {},
     "output_type": "execute_result"
    }
   ],
   "source": [
    "from monk import utils, workflow\n",
    "\n",
    "parent = pathlib.Path(os.getcwd()).parent / \"config.yaml\"\n",
    "config = workflow.get_config(parent.as_posix())\n",
    "parent, config"
   ]
  },
  {
   "cell_type": "code",
   "execution_count": 6,
   "metadata": {},
   "outputs": [
    {
     "data": {
      "text/plain": [
       "{'avail_seed': 18, 'dt': 0.005, 'step_unit': 200, 'equil_time': 100, 'min_periods': 20, 'dumps': 40, 'period_times': [30.0, 100.0, 300.0, 1000.0], 'max_shears': [0.01, 0.02, 0.03, 0.05, 0.08, 0.12], '_status': {}}"
      ]
     },
     "execution_count": 6,
     "metadata": {},
     "output_type": "execute_result"
    }
   ],
   "source": [
    "project: signac.Project = signac.get_project(root=config['root'])\n",
    "project.doc"
   ]
  },
  {
   "cell_type": "code",
   "execution_count": 7,
   "metadata": {},
   "outputs": [],
   "source": [
    "@dataclass(frozen=True, eq=True)\n",
    "class Statepoint:\n",
    "    max_shear: float\n",
    "    period: float\n",
    "    temp: float\n",
    "    prep: str"
   ]
  },
  {
   "cell_type": "code",
   "execution_count": 8,
   "metadata": {},
   "outputs": [
    {
     "name": "stdout",
     "output_type": "stream",
     "text": [
      "634e14bc75836df75158fb15f379d8bb\n",
      "Statepoint(max_shear=0.05, period=1000.0, temp=0.019836, prep='HTL')\n"
     ]
    },
    {
     "name": "stderr",
     "output_type": "stream",
     "text": [
      "  0%|          | 0/4 [00:00<?, ?it/s]"
     ]
    },
    {
     "name": "stderr",
     "output_type": "stream",
     "text": [
      "100%|██████████| 4/4 [00:01<00:00,  3.02it/s]\n"
     ]
    },
    {
     "name": "stdout",
     "output_type": "stream",
     "text": [
      "Statepoint(max_shear=0.05, period=1000.0, temp=0.0019836, prep='HTL')\n"
     ]
    },
    {
     "name": "stderr",
     "output_type": "stream",
     "text": [
      "100%|██████████| 4/4 [00:01<00:00,  3.02it/s]\n"
     ]
    },
    {
     "name": "stdout",
     "output_type": "stream",
     "text": [
      "7ec2f6aca035e69077eab24383a21cb6\n",
      "Statepoint(max_shear=0.05, period=1000.0, temp=0.019836, prep='ESL')\n"
     ]
    },
    {
     "name": "stderr",
     "output_type": "stream",
     "text": [
      "100%|██████████| 4/4 [00:01<00:00,  3.23it/s]\n"
     ]
    },
    {
     "name": "stdout",
     "output_type": "stream",
     "text": [
      "Statepoint(max_shear=0.05, period=1000.0, temp=0.0019836, prep='ESL')\n"
     ]
    },
    {
     "name": "stderr",
     "output_type": "stream",
     "text": [
      "100%|██████████| 4/4 [00:01<00:00,  3.15it/s]\n"
     ]
    },
    {
     "name": "stdout",
     "output_type": "stream",
     "text": [
      "cfa1e4c0007fd65d020f809715a6f0b4\n",
      "Statepoint(max_shear=0.05, period=1000.0, temp=0.019836, prep='HTL')\n"
     ]
    },
    {
     "name": "stderr",
     "output_type": "stream",
     "text": [
      "100%|██████████| 4/4 [00:01<00:00,  3.13it/s]\n"
     ]
    },
    {
     "name": "stdout",
     "output_type": "stream",
     "text": [
      "Statepoint(max_shear=0.05, period=1000.0, temp=0.0019836, prep='HTL')\n"
     ]
    },
    {
     "name": "stderr",
     "output_type": "stream",
     "text": [
      "100%|██████████| 4/4 [00:01<00:00,  3.13it/s]\n"
     ]
    },
    {
     "name": "stdout",
     "output_type": "stream",
     "text": [
      "ecce68c50e28a33684826f28780bf6e9\n",
      "Statepoint(max_shear=0.05, period=1000.0, temp=0.019836, prep='HTL')\n"
     ]
    },
    {
     "name": "stderr",
     "output_type": "stream",
     "text": [
      "100%|██████████| 4/4 [00:01<00:00,  2.98it/s]\n"
     ]
    },
    {
     "name": "stdout",
     "output_type": "stream",
     "text": [
      "Statepoint(max_shear=0.05, period=1000.0, temp=0.0019836, prep='HTL')\n"
     ]
    },
    {
     "name": "stderr",
     "output_type": "stream",
     "text": [
      "100%|██████████| 4/4 [00:01<00:00,  3.01it/s]\n"
     ]
    },
    {
     "name": "stdout",
     "output_type": "stream",
     "text": [
      "1d0fe2ba44a6f635f5504dcbcee0ebc9\n",
      "Statepoint(max_shear=0.05, period=1000.0, temp=0.019836, prep='ESL')\n"
     ]
    },
    {
     "name": "stderr",
     "output_type": "stream",
     "text": [
      "100%|██████████| 4/4 [00:01<00:00,  3.15it/s]\n"
     ]
    },
    {
     "name": "stdout",
     "output_type": "stream",
     "text": [
      "Statepoint(max_shear=0.05, period=1000.0, temp=0.0019836, prep='ESL')\n"
     ]
    },
    {
     "name": "stderr",
     "output_type": "stream",
     "text": [
      "100%|██████████| 4/4 [00:01<00:00,  3.12it/s]\n"
     ]
    },
    {
     "name": "stdout",
     "output_type": "stream",
     "text": [
      "1083a2a09eec2c6cf215ebc7a9706cac\n",
      "Statepoint(max_shear=0.05, period=1000.0, temp=0.019836, prep='HTL')\n"
     ]
    },
    {
     "name": "stderr",
     "output_type": "stream",
     "text": [
      "100%|██████████| 4/4 [00:01<00:00,  3.36it/s]\n"
     ]
    },
    {
     "name": "stdout",
     "output_type": "stream",
     "text": [
      "Statepoint(max_shear=0.05, period=1000.0, temp=0.0019836, prep='HTL')\n"
     ]
    },
    {
     "name": "stderr",
     "output_type": "stream",
     "text": [
      "100%|██████████| 4/4 [00:01<00:00,  3.27it/s]\n"
     ]
    },
    {
     "name": "stdout",
     "output_type": "stream",
     "text": [
      "09d3dccc56f1fa9330b57901cd232ab7\n",
      "Statepoint(max_shear=0.05, period=1000.0, temp=0.019836, prep='ESL')\n"
     ]
    },
    {
     "name": "stderr",
     "output_type": "stream",
     "text": [
      "100%|██████████| 4/4 [00:01<00:00,  2.80it/s]\n"
     ]
    },
    {
     "name": "stdout",
     "output_type": "stream",
     "text": [
      "Statepoint(max_shear=0.05, period=1000.0, temp=0.0019836, prep='ESL')\n"
     ]
    },
    {
     "name": "stderr",
     "output_type": "stream",
     "text": [
      "100%|██████████| 4/4 [00:01<00:00,  2.78it/s]\n"
     ]
    },
    {
     "name": "stdout",
     "output_type": "stream",
     "text": [
      "6976a7c10ada4159010403f8027f3ea5\n",
      "Statepoint(max_shear=0.05, period=1000.0, temp=0.019836, prep='HTL')\n"
     ]
    },
    {
     "name": "stderr",
     "output_type": "stream",
     "text": [
      "100%|██████████| 4/4 [00:01<00:00,  2.57it/s]\n"
     ]
    },
    {
     "name": "stdout",
     "output_type": "stream",
     "text": [
      "Statepoint(max_shear=0.05, period=1000.0, temp=0.0019836, prep='HTL')\n"
     ]
    },
    {
     "name": "stderr",
     "output_type": "stream",
     "text": [
      "100%|██████████| 4/4 [00:01<00:00,  2.73it/s]\n"
     ]
    },
    {
     "name": "stdout",
     "output_type": "stream",
     "text": [
      "9158e73b2e4c9fd1a565e1e5d1bc3af5\n",
      "Statepoint(max_shear=0.05, period=1000.0, temp=0.019836, prep='HTL')\n"
     ]
    },
    {
     "name": "stderr",
     "output_type": "stream",
     "text": [
      "100%|██████████| 4/4 [00:01<00:00,  3.24it/s]\n"
     ]
    },
    {
     "name": "stdout",
     "output_type": "stream",
     "text": [
      "Statepoint(max_shear=0.05, period=1000.0, temp=0.0019836, prep='HTL')\n"
     ]
    },
    {
     "name": "stderr",
     "output_type": "stream",
     "text": [
      "100%|██████████| 4/4 [00:01<00:00,  3.17it/s]\n"
     ]
    },
    {
     "name": "stdout",
     "output_type": "stream",
     "text": [
      "c6d7afd0de62bfa16d05da47815227eb\n",
      "Statepoint(max_shear=0.05, period=1000.0, temp=0.019836, prep='ESL')\n"
     ]
    },
    {
     "name": "stderr",
     "output_type": "stream",
     "text": [
      "100%|██████████| 4/4 [00:01<00:00,  3.15it/s]\n"
     ]
    },
    {
     "name": "stdout",
     "output_type": "stream",
     "text": [
      "Statepoint(max_shear=0.05, period=1000.0, temp=0.0019836, prep='ESL')\n"
     ]
    },
    {
     "name": "stderr",
     "output_type": "stream",
     "text": [
      "100%|██████████| 4/4 [00:01<00:00,  3.06it/s]\n"
     ]
    },
    {
     "name": "stdout",
     "output_type": "stream",
     "text": [
      "bf92a185d043ce3ef666e05e427c7e76\n",
      "Statepoint(max_shear=0.05, period=1000.0, temp=0.019836, prep='ESL')\n"
     ]
    },
    {
     "name": "stderr",
     "output_type": "stream",
     "text": [
      "100%|██████████| 4/4 [00:01<00:00,  3.13it/s]\n"
     ]
    },
    {
     "name": "stdout",
     "output_type": "stream",
     "text": [
      "Statepoint(max_shear=0.05, period=1000.0, temp=0.0019836, prep='ESL')\n"
     ]
    },
    {
     "name": "stderr",
     "output_type": "stream",
     "text": [
      "100%|██████████| 4/4 [00:01<00:00,  3.11it/s]\n"
     ]
    },
    {
     "name": "stdout",
     "output_type": "stream",
     "text": [
      "a8f2c249ed85533b56b0729b7ab96d18\n",
      "Statepoint(max_shear=0.05, period=1000.0, temp=0.019836, prep='ESL')\n"
     ]
    },
    {
     "name": "stderr",
     "output_type": "stream",
     "text": [
      "100%|██████████| 4/4 [00:01<00:00,  2.78it/s]\n"
     ]
    },
    {
     "name": "stdout",
     "output_type": "stream",
     "text": [
      "Statepoint(max_shear=0.05, period=1000.0, temp=0.0019836, prep='ESL')\n"
     ]
    },
    {
     "name": "stderr",
     "output_type": "stream",
     "text": [
      "100%|██████████| 4/4 [00:01<00:00,  2.18it/s]\n"
     ]
    }
   ],
   "source": [
    "# get d2min distribution\n",
    "\n",
    "# rev_quant = defaultdict(list)\n",
    "\n",
    "for job in project:\n",
    "    print(job)\n",
    "    prep = job.sp[\"prep\"]\n",
    "    # if prep != \"HTL\":\n",
    "    #     continue\n",
    "\n",
    "    expers = sorted(glob.glob(job.fn(\"aqs_therm_experiments/*/*/traj-fire_period-*.gsd\")))\n",
    "\n",
    "    for exper in expers:\n",
    "        max_shear = utils.extract_between(exper, \"max-shear-\", \"/\")\n",
    "        period = utils.extract_between(exper, \"period-\", \".gsd\")\n",
    "        temp = utils.extract_between(exper, \"temp-\", \"/\")\n",
    "        sp = Statepoint(max_shear=float(max_shear), period=float(period), temp=float(temp), prep=prep)\n",
    "        out_path = f\"aqs_therm_experiments/max-shear-{max_shear}/temp-{temp}/msd-strob_period-{period}.parquet\"\n",
    "        \n",
    "        if float(period) != 1000:\n",
    "            continue\n",
    "\n",
    "        # if job.isfile(out_path):\n",
    "        #     continue\n",
    "\n",
    "        print(sp)\n",
    "\n",
    "        traj = gsd.hoomd.open(exper)\n",
    "\n",
    "        frame_is = []\n",
    "        frame_js = []\n",
    "        ids = []\n",
    "        msds = []\n",
    "        ave_msds = []\n",
    "        comp_start = lambda i: -1 + i*40\n",
    "        for i in tqdm(range(1, 80, 20)):\n",
    "            snap = traj[-1 + i*40]\n",
    "            tags = np.arange(len(snap.particles.position))\n",
    "\n",
    "            init_pos = snap.particles.position\n",
    "            images = np.zeros_like(init_pos, dtype=np.int32)\n",
    "            last_pos = init_pos.copy()\n",
    "            freud_box = freud.box.Box.from_box(snap.configuration.box)\n",
    "            center = init_pos.mean(axis=0)\n",
    "\n",
    "            for j in range(i + 1, 80):\n",
    "                \n",
    "                frame_is.append(-1 + i*40)\n",
    "                frame_js.append(-1 + j*40)\n",
    "\n",
    "                snap_later = traj[-1 + j*40]\n",
    "\n",
    "                box = snap.configuration.box[:]\n",
    "                box_later = snap_later.configuration.box[:]\n",
    "                ids.append(tags)\n",
    "\n",
    "                # compute msd\n",
    "                pos = snap_later.particles.position\n",
    "                images -=  freud_box.get_images(pos - last_pos)\n",
    "                last_pos = pos\n",
    "                new_pos = freud_box.unwrap(pos, images)\n",
    "                new_pos -= new_pos.mean(axis=0)\n",
    "                msd = np.sum(np.square(new_pos - init_pos + center), axis=-1)\n",
    "                ave_msds.append(np.mean(msd))\n",
    "                msds.append(msd)\n",
    "        \n",
    "        dataset = pl.DataFrame({\"frame_i\": frame_is, \"frame_j\": frame_js, \"id\": ids, \"msd\": msds, \"ave_msd\": ave_msds})\n",
    "        dataset.write_parquet(job.fn(out_path), use_pyarrow=True)\n",
    "        msds = np.array(msds)\n",
    "    #     break\n",
    "    # break"
   ]
  },
  {
   "cell_type": "code",
   "execution_count": 10,
   "metadata": {},
   "outputs": [
    {
     "name": "stdout",
     "output_type": "stream",
     "text": [
      "634e14bc75836df75158fb15f379d8bb\n",
      "7ec2f6aca035e69077eab24383a21cb6\n",
      "cfa1e4c0007fd65d020f809715a6f0b4\n",
      "ecce68c50e28a33684826f28780bf6e9\n",
      "1d0fe2ba44a6f635f5504dcbcee0ebc9\n",
      "1083a2a09eec2c6cf215ebc7a9706cac\n",
      "09d3dccc56f1fa9330b57901cd232ab7\n",
      "6976a7c10ada4159010403f8027f3ea5\n",
      "9158e73b2e4c9fd1a565e1e5d1bc3af5\n",
      "c6d7afd0de62bfa16d05da47815227eb\n",
      "bf92a185d043ce3ef666e05e427c7e76\n",
      "a8f2c249ed85533b56b0729b7ab96d18\n"
     ]
    }
   ],
   "source": [
    "output = defaultdict(list)\n",
    "\n",
    "for job in project:\n",
    "    print(job)\n",
    "    prep = job.sp[\"prep\"]\n",
    "\n",
    "    expers = sorted(glob.glob(job.fn(\"aqs_therm_experiments/*/*/traj-fire_period-*.gsd\")))\n",
    "\n",
    "    for exper in expers:\n",
    "        max_shear = utils.extract_between(exper, \"max-shear-\", \"/\")\n",
    "        period = utils.extract_between(exper, \"period-\", \".gsd\")\n",
    "        temp = utils.extract_between(exper, \"temp-\", \"/\")\n",
    "        sp = Statepoint(max_shear=float(max_shear), period=float(period), temp=float(temp), prep=prep)\n",
    "        out_path = f\"aqs_therm_experiments/max-shear-{max_shear}/temp-{temp}/msd-strob_period-{period}.parquet\"\n",
    "\n",
    "        if job.isfile(out_path):\n",
    "            dataset = pl.read_parquet(job.fn(out_path))\n",
    "            output[sp].append(dataset)"
   ]
  },
  {
   "cell_type": "code",
   "execution_count": 44,
   "metadata": {},
   "outputs": [
    {
     "name": "stdout",
     "output_type": "stream",
     "text": [
      "Statepoint(max_shear=0.01, period=1000.0, temp=0.019836, prep='HTL')\n",
      "Statepoint(max_shear=0.01, period=1000.0, temp=0.0019836, prep='HTL')\n",
      "Statepoint(max_shear=0.02, period=1000.0, temp=0.019836, prep='HTL')\n",
      "Statepoint(max_shear=0.02, period=1000.0, temp=0.0019836, prep='HTL')\n",
      "Statepoint(max_shear=0.03, period=1000.0, temp=0.019836, prep='HTL')\n",
      "Statepoint(max_shear=0.03, period=1000.0, temp=0.0019836, prep='HTL')\n",
      "Statepoint(max_shear=0.05, period=1000.0, temp=0.019836, prep='HTL')\n",
      "Statepoint(max_shear=0.05, period=1000.0, temp=0.0019836, prep='HTL')\n",
      "Statepoint(max_shear=0.08, period=1000.0, temp=0.019836, prep='HTL')\n",
      "Statepoint(max_shear=0.08, period=1000.0, temp=0.0019836, prep='HTL')\n",
      "Statepoint(max_shear=0.12, period=1000.0, temp=0.019836, prep='HTL')\n",
      "Statepoint(max_shear=0.12, period=1000.0, temp=0.0019836, prep='HTL')\n",
      "Statepoint(max_shear=0.01, period=1000.0, temp=0.019836, prep='ESL')\n",
      "Statepoint(max_shear=0.01, period=1000.0, temp=0.0019836, prep='ESL')\n",
      "Statepoint(max_shear=0.02, period=1000.0, temp=0.019836, prep='ESL')\n",
      "Statepoint(max_shear=0.02, period=1000.0, temp=0.0019836, prep='ESL')\n",
      "Statepoint(max_shear=0.03, period=1000.0, temp=0.019836, prep='ESL')\n",
      "Statepoint(max_shear=0.03, period=1000.0, temp=0.0019836, prep='ESL')\n",
      "Statepoint(max_shear=0.05, period=1000.0, temp=0.019836, prep='ESL')\n",
      "Statepoint(max_shear=0.05, period=1000.0, temp=0.0019836, prep='ESL')\n",
      "Statepoint(max_shear=0.08, period=1000.0, temp=0.019836, prep='ESL')\n",
      "Statepoint(max_shear=0.08, period=1000.0, temp=0.0019836, prep='ESL')\n",
      "Statepoint(max_shear=0.12, period=1000.0, temp=0.019836, prep='ESL')\n",
      "Statepoint(max_shear=0.12, period=1000.0, temp=0.0019836, prep='ESL')\n"
     ]
    },
    {
     "data": {
      "text/plain": [
       "<matplotlib.legend.Legend at 0x7f0739b40100>"
      ]
     },
     "execution_count": 44,
     "metadata": {},
     "output_type": "execute_result"
    },
    {
     "data": {
      "image/png": "[encoded data removed]",
      "text/plain": [
       "<Figure size 432x288 with 1 Axes>"
      ]
     },
     "metadata": {
      "image/png": {
       "height": 267,
       "width": 397
      },
      "needs_background": "light"
     },
     "output_type": "display_data"
    }
   ],
   "source": [
    "for key, data in output.items():\n",
    "    pair = key.prep\n",
    "    print(key)\n",
    "    if key.temp < 5e-3 or key.max_shear != 0.05:\n",
    "        continue\n",
    "    if pair == \"ESL\":\n",
    "        ls = \"-\"\n",
    "    else:\n",
    "        ls = \":\"\n",
    "    tw1 = []\n",
    "    tw2 = []\n",
    "    tw3 = []\n",
    "    tw4 = []\n",
    "    for d in data:\n",
    "        tw1.append(d[:78][\"ave_msd\"].to_numpy())\n",
    "        tw2.append(d[78: 78+79-21][\"ave_msd\"].to_numpy())\n",
    "        tw3.append(d[136: 136+79-41][\"ave_msd\"].to_numpy())\n",
    "        tw4.append(d[174: 174+79-41][\"ave_msd\"].to_numpy())\n",
    "    tw1 = np.mean(tw1, axis=0)\n",
    "    tw2 = np.mean(tw2, axis=0)\n",
    "    tw3 = np.mean(tw3, axis=0)\n",
    "    tw4 = np.mean(tw4, axis=0)\n",
    "    plt.plot(tw1, label=f\"{pair}\", ls=ls, color=\"black\")\n",
    "    plt.plot(tw2, ls=ls, color=\"red\")\n",
    "    plt.plot(tw3, ls=ls, color=\"green\")\n",
    "    plt.plot(tw4, ls=ls, color=\"blue\")\n",
    "plt.ylabel(\"MSD\", size=\"x-large\")\n",
    "plt.xlabel(\"Frame\", size=\"x-large\")\n",
    "plt.yscale('log')\n",
    "plt.xscale('log')\n",
    "plt.legend(title=\"prep\")\n",
    "# plt.ylim(0, 0.05)"
   ]
  },
  {
   "cell_type": "code",
   "execution_count": 110,
   "metadata": {},
   "outputs": [],
   "source": [
    "htl_dataset = dataset"
   ]
  },
  {
   "cell_type": "code",
   "execution_count": 108,
   "metadata": {},
   "outputs": [],
   "source": [
    "esl_dataset = dataset"
   ]
  },
  {
   "cell_type": "code",
   "execution_count": 102,
   "metadata": {},
   "outputs": [
    {
     "data": {
      "text/html": [
       "<div><style>\n",
       ".dataframe > thead > tr > th,\n",
       ".dataframe > tbody > tr > td {\n",
       "  text-align: right;\n",
       "  white-space: pre-wrap;\n",
       "}\n",
       "</style>\n",
       "<small>shape: (5, 5)</small><table border=\"1\" class=\"dataframe\"><thead><tr><th>frame_i</th><th>frame_j</th><th>id</th><th>msd</th><th>ave_msd</th></tr><tr><td>i64</td><td>i64</td><td>list[i64]</td><td>list[f32]</td><td>f32</td></tr></thead><tbody><tr><td>39</td><td>79</td><td>[0, 1, … 32767]</td><td>[0.176803, 0.348364, … 0.164253]</td><td>0.368779</td></tr><tr><td>39</td><td>119</td><td>[0, 1, … 32767]</td><td>[0.830507, 2.919159, … 0.850515]</td><td>0.660435</td></tr><tr><td>39</td><td>159</td><td>[0, 1, … 32767]</td><td>[1.460129, 3.245783, … 4.204572]</td><td>1.035998</td></tr><tr><td>39</td><td>199</td><td>[0, 1, … 32767]</td><td>[1.767935, 4.78026, … 2.064315]</td><td>1.066434</td></tr><tr><td>39</td><td>239</td><td>[0, 1, … 32767]</td><td>[0.419333, 11.014839, … 1.018142]</td><td>1.421013</td></tr></tbody></table></div>"
      ],
      "text/plain": [
       "shape: (5, 5)\n",
       "┌─────────┬─────────┬─────────────────┬───────────────────────────────────┬──────────┐\n",
       "│ frame_i ┆ frame_j ┆ id              ┆ msd                               ┆ ave_msd  │\n",
       "│ ---     ┆ ---     ┆ ---             ┆ ---                               ┆ ---      │\n",
       "│ i64     ┆ i64     ┆ list[i64]       ┆ list[f32]                         ┆ f32      │\n",
       "╞═════════╪═════════╪═════════════════╪═══════════════════════════════════╪══════════╡\n",
       "│ 39      ┆ 79      ┆ [0, 1, … 32767] ┆ [0.176803, 0.348364, … 0.164253]  ┆ 0.368779 │\n",
       "│ 39      ┆ 119     ┆ [0, 1, … 32767] ┆ [0.830507, 2.919159, … 0.850515]  ┆ 0.660435 │\n",
       "│ 39      ┆ 159     ┆ [0, 1, … 32767] ┆ [1.460129, 3.245783, … 4.204572]  ┆ 1.035998 │\n",
       "│ 39      ┆ 199     ┆ [0, 1, … 32767] ┆ [1.767935, 4.78026, … 2.064315]   ┆ 1.066434 │\n",
       "│ 39      ┆ 239     ┆ [0, 1, … 32767] ┆ [0.419333, 11.014839, … 1.018142… ┆ 1.421013 │\n",
       "└─────────┴─────────┴─────────────────┴───────────────────────────────────┴──────────┘"
      ]
     },
     "execution_count": 102,
     "metadata": {},
     "output_type": "execute_result"
    }
   ],
   "source": [
    "dataset.head()"
   ]
  },
  {
   "cell_type": "code",
   "execution_count": 82,
   "metadata": {},
   "outputs": [
    {
     "data": {
      "text/plain": [
       "(192, 32768)"
      ]
     },
     "execution_count": 82,
     "metadata": {},
     "output_type": "execute_result"
    }
   ],
   "source": [
    "msds.shape"
   ]
  },
  {
   "cell_type": "code",
   "execution_count": 135,
   "metadata": {},
   "outputs": [
    {
     "data": {
      "text/plain": [
       "<matplotlib.legend.Legend at 0x7efd300ec100>"
      ]
     },
     "execution_count": 135,
     "metadata": {},
     "output_type": "execute_result"
    },
    {
     "data": {
      "image/png": "[encoded data removed]",
      "text/plain": [
       "<Figure size 432x288 with 1 Axes>"
      ]
     },
     "metadata": {
      "image/png": {
       "height": 266,
       "width": 393
      },
      "needs_background": "light"
     },
     "output_type": "display_data"
    }
   ],
   "source": [
    "# cmap = cm.viridis\n",
    "plt.plot(esl_dataset[:78][\"ave_msd\"].to_numpy(), color=\"k\", label=\"ESL\")\n",
    "plt.plot(esl_dataset[78: 78+79-21][\"ave_msd\"].to_numpy(), color=\"k\")\n",
    "plt.plot(esl_dataset[136: 136+79-41][\"ave_msd\"].to_numpy(), color=\"k\")\n",
    "plt.plot(esl_dataset[174: 174+79-41][\"ave_msd\"].to_numpy(), color=\"k\")\n",
    "plt.plot(htl_dataset[:78][\"ave_msd\"].to_numpy(), color=\"k\", linestyle=\":\", label=\"HTL\")\n",
    "plt.plot(htl_dataset[78: 78+79-21][\"ave_msd\"].to_numpy(), color=\"k\", linestyle=\":\")\n",
    "plt.plot(htl_dataset[136: 136+79-41][\"ave_msd\"].to_numpy(), color=\"k\", linestyle=\":\")\n",
    "plt.plot(htl_dataset[174: 174+79-41][\"ave_msd\"].to_numpy(), color=\"k\", linestyle=\":\")\n",
    "# plt.ylim(0, 2)\n",
    "plt.ylabel(\"MSD\", size=\"x-large\")\n",
    "plt.xlabel(\"Frame\", size=\"x-large\")\n",
    "plt.legend(title=\"prep\")"
   ]
  },
  {
   "cell_type": "code",
   "execution_count": 128,
   "metadata": {},
   "outputs": [
    {
     "data": {
      "text/plain": [
       "174"
      ]
     },
     "execution_count": 128,
     "metadata": {},
     "output_type": "execute_result"
    }
   ],
   "source": [
    "136+79-41"
   ]
  },
  {
   "cell_type": "code",
   "execution_count": 101,
   "metadata": {},
   "outputs": [
    {
     "ename": "ColumnNotFoundError",
     "evalue": "msd_ave",
     "output_type": "error",
     "traceback": [
      "\u001b[0;31m---------------------------------------------------------------------------\u001b[0m",
      "\u001b[0;31mColumnNotFoundError\u001b[0m                       Traceback (most recent call last)",
      "\u001b[1;32m/home/ian/Projects/work/monk/workflows/2d-osc-shear/notebooks/111723-msd-aqs.ipynb Cell 11\u001b[0m line \u001b[0;36m<cell line: 1>\u001b[0;34m()\u001b[0m\n\u001b[0;32m----> <a href='vscode-notebook-cell://ssh-remote%2Bdeskpop/home/ian/Projects/work/monk/workflows/2d-osc-shear/notebooks/111723-msd-aqs.ipynb#X14sdnNjb2RlLXJlbW90ZQ%3D%3D?line=0'>1</a>\u001b[0m esl_dataset[\u001b[39m\"\u001b[39;49m\u001b[39mmsd_ave\u001b[39;49m\u001b[39m\"\u001b[39;49m]\u001b[39m.\u001b[39mto_numpy()\u001b[39m.\u001b[39mshape\n",
      "File \u001b[0;32m~/Projects/work/monk/.venv/lib/python3.10/site-packages/polars/dataframe/frame.py:1674\u001b[0m, in \u001b[0;36mDataFrame.__getitem__\u001b[0;34m(self, item)\u001b[0m\n\u001b[1;32m   1671\u001b[0m \u001b[39m# select single column\u001b[39;00m\n\u001b[1;32m   1672\u001b[0m \u001b[39m# df[\"foo\"]\u001b[39;00m\n\u001b[1;32m   1673\u001b[0m \u001b[39mif\u001b[39;00m \u001b[39misinstance\u001b[39m(item, \u001b[39mstr\u001b[39m):\n\u001b[0;32m-> 1674\u001b[0m     \u001b[39mreturn\u001b[39;00m \u001b[39mself\u001b[39;49m\u001b[39m.\u001b[39;49mget_column(item)\n\u001b[1;32m   1676\u001b[0m \u001b[39m# df[idx]\u001b[39;00m\n\u001b[1;32m   1677\u001b[0m \u001b[39mif\u001b[39;00m \u001b[39misinstance\u001b[39m(item, \u001b[39mint\u001b[39m):\n",
      "File \u001b[0;32m~/Projects/work/monk/.venv/lib/python3.10/site-packages/polars/dataframe/frame.py:6695\u001b[0m, in \u001b[0;36mDataFrame.get_column\u001b[0;34m(self, name)\u001b[0m\n\u001b[1;32m   6665\u001b[0m \u001b[39mdef\u001b[39;00m \u001b[39mget_column\u001b[39m(\u001b[39mself\u001b[39m, name: \u001b[39mstr\u001b[39m) \u001b[39m-\u001b[39m\u001b[39m>\u001b[39m Series:\n\u001b[1;32m   6666\u001b[0m     \u001b[39m\"\"\"\u001b[39;00m\n\u001b[1;32m   6667\u001b[0m \u001b[39m    Get a single column by name.\u001b[39;00m\n\u001b[1;32m   6668\u001b[0m \n\u001b[0;32m   (...)\u001b[0m\n\u001b[1;32m   6693\u001b[0m \n\u001b[1;32m   6694\u001b[0m \u001b[39m    \"\"\"\u001b[39;00m\n\u001b[0;32m-> 6695\u001b[0m     \u001b[39mreturn\u001b[39;00m wrap_s(\u001b[39mself\u001b[39;49m\u001b[39m.\u001b[39;49m_df\u001b[39m.\u001b[39;49mget_column(name))\n",
      "\u001b[0;31mColumnNotFoundError\u001b[0m: msd_ave"
     ]
    }
   ],
   "source": [
    "esl_dataset[\"msd_ave\"]"
   ]
  },
  {
   "cell_type": "code",
   "execution_count": null,
   "metadata": {},
   "outputs": [],
   "source": [
    "\n",
    "for job in project:\n",
    "    print(job)\n",
    "    prep = job.sp[\"prep\"]\n",
    "    # if prep != \"HTL\":\n",
    "    #     continue\n",
    "\n",
    "    expers = sorted(glob.glob(job.fn(\"aqs_therm_experiments/*/*/traj-fire_period-*.gsd\")))\n",
    "\n",
    "    for exper in expers:\n",
    "        max_shear = utils.extract_between(exper, \"max-shear-\", \"/\")\n",
    "        period = utils.extract_between(exper, \"period-\", \".gsd\")\n",
    "        temp = utils.extract_between(exper, \"temp-\", \"/\")\n",
    "        sp = Statepoint(max_shear=float(max_shear), period=float(period), temp=float(temp), prep=prep)\n",
    "        out_path = f\"aqs_therm_experiments/max-shear-{max_shear}/temp-{temp}/msd-strob_period-{period}.parquet\"\n",
    "        \n",
    "        if float(period) != 1000.0:\n",
    "            continue"
   ]
  }
 ],
 "metadata": {
  "kernelspec": {
   "display_name": "Python 3",
   "language": "python",
   "name": "python3"
  },
  "language_info": {
   "codemirror_mode": {
    "name": "ipython",
    "version": 3
   },
   "file_extension": ".py",
   "mimetype": "text/x-python",
   "name": "python",
   "nbconvert_exporter": "python",
   "pygments_lexer": "ipython3",
   "version": "3.10.6"
  },
  "orig_nbformat": 4
 },
 "nbformat": 4,
 "nbformat_minor": 2
}
