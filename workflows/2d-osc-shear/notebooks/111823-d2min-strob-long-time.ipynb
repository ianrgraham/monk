{
 "cells": [
  {
   "cell_type": "code",
   "execution_count": 1,
   "metadata": {},
   "outputs": [],
   "source": [
    "import numpy as np\n",
    "import polars as pl\n",
    "import pandas as pd\n",
    "import matplotlib.pyplot as plt\n",
    "import matplotlib as mpl\n",
    "from matplotlib import cm, colors\n",
    "from tqdm import tqdm\n",
    "\n",
    "import glob\n",
    "import gc\n",
    "import warnings\n",
    "import copy\n",
    "import pathlib\n",
    "import pickle\n",
    "\n",
    "import os\n",
    "\n",
    "from scipy import stats\n",
    "import signac\n",
    "import freud\n",
    "import gsd.hoomd\n",
    "import hoomd\n",
    "import schmeud\n",
    "import schmeud._schmeud as schmeud_rs\n",
    "\n",
    "from dataclasses import dataclass\n",
    "from collections import defaultdict"
   ]
  },
  {
   "cell_type": "code",
   "execution_count": 2,
   "metadata": {},
   "outputs": [
    {
     "data": {
      "text/plain": [
       "(PosixPath('/home/ian/Projects/work/monk/workflows/2d-osc-shear/config.yaml'),\n",
       " {'root': '/media/ian/Data2/monk/2d-osc-shear',\n",
       "  'origin': '/media/ian/Data2/monk/2d-esl'})"
      ]
     },
     "execution_count": 2,
     "metadata": {},
     "output_type": "execute_result"
    }
   ],
   "source": [
    "from monk import nb, prep, pair, render, utils, workflow, grid\n",
    "\n",
    "parent = pathlib.Path(os.getcwd()).parent / \"config.yaml\"\n",
    "config = workflow.get_config(parent.as_posix())\n",
    "parent, config"
   ]
  },
  {
   "cell_type": "code",
   "execution_count": 3,
   "metadata": {},
   "outputs": [
    {
     "data": {
      "text/plain": [
       "{'avail_seed': 18, 'dt': 0.005, 'step_unit': 200, 'equil_time': 100, 'min_periods': 20, 'dumps': 40, 'period_times': [30.0, 100.0, 300.0, 1000.0], 'max_shears': [0.01, 0.02, 0.03, 0.05, 0.08, 0.12], '_status': {}}"
      ]
     },
     "execution_count": 3,
     "metadata": {},
     "output_type": "execute_result"
    }
   ],
   "source": [
    "project: signac.Project = signac.init_project(name=\"2d-osc-shear\", root=config['root'])\n",
    "project.doc"
   ]
  },
  {
   "cell_type": "code",
   "execution_count": 11,
   "metadata": {},
   "outputs": [],
   "source": [
    "@dataclass(frozen=True, eq=True)\n",
    "class Statepoint:\n",
    "    max_shear: float\n",
    "    period: float\n",
    "    temp: float\n",
    "    prep: str"
   ]
  },
  {
   "cell_type": "code",
   "execution_count": 6,
   "metadata": {},
   "outputs": [
    {
     "name": "stdout",
     "output_type": "stream",
     "text": [
      "634e14bc75836df75158fb15f379d8bb\n"
     ]
    },
    {
     "name": "stderr",
     "output_type": "stream",
     "text": [
      "100%|██████████| 4/4 [00:21<00:00,  5.44s/it]\n",
      "100%|██████████| 4/4 [00:21<00:00,  5.43s/it]\n",
      "100%|██████████| 4/4 [00:21<00:00,  5.43s/it]\n",
      "100%|██████████| 4/4 [00:21<00:00,  5.41s/it]\n",
      "100%|██████████| 4/4 [00:21<00:00,  5.43s/it]\n",
      "100%|██████████| 4/4 [00:21<00:00,  5.41s/it]\n",
      "100%|██████████| 4/4 [00:21<00:00,  5.42s/it]\n",
      "100%|██████████| 4/4 [00:21<00:00,  5.44s/it]\n",
      "100%|██████████| 4/4 [00:21<00:00,  5.44s/it]\n",
      "100%|██████████| 4/4 [00:21<00:00,  5.40s/it]\n",
      "100%|██████████| 4/4 [00:21<00:00,  5.44s/it]\n",
      "100%|██████████| 4/4 [00:21<00:00,  5.45s/it]\n"
     ]
    },
    {
     "name": "stdout",
     "output_type": "stream",
     "text": [
      "7ec2f6aca035e69077eab24383a21cb6\n"
     ]
    },
    {
     "name": "stderr",
     "output_type": "stream",
     "text": [
      "100%|██████████| 4/4 [00:22<00:00,  5.65s/it]\n",
      "100%|██████████| 4/4 [00:22<00:00,  5.66s/it]\n",
      "100%|██████████| 4/4 [00:22<00:00,  5.62s/it]\n",
      "100%|██████████| 4/4 [00:22<00:00,  5.62s/it]\n",
      "100%|██████████| 4/4 [00:22<00:00,  5.62s/it]\n",
      "100%|██████████| 4/4 [00:22<00:00,  5.61s/it]\n",
      "100%|██████████| 4/4 [00:22<00:00,  5.62s/it]\n",
      "100%|██████████| 4/4 [00:22<00:00,  5.60s/it]\n",
      "100%|██████████| 4/4 [00:22<00:00,  5.62s/it]\n",
      "100%|██████████| 4/4 [00:22<00:00,  5.59s/it]\n",
      "100%|██████████| 4/4 [00:22<00:00,  5.61s/it]\n",
      "100%|██████████| 4/4 [00:22<00:00,  5.61s/it]\n"
     ]
    },
    {
     "name": "stdout",
     "output_type": "stream",
     "text": [
      "cfa1e4c0007fd65d020f809715a6f0b4\n"
     ]
    },
    {
     "name": "stderr",
     "output_type": "stream",
     "text": [
      "100%|██████████| 4/4 [00:21<00:00,  5.42s/it]\n",
      "100%|██████████| 4/4 [00:21<00:00,  5.43s/it]\n",
      "100%|██████████| 4/4 [00:21<00:00,  5.42s/it]\n",
      "100%|██████████| 4/4 [00:21<00:00,  5.44s/it]\n",
      "100%|██████████| 4/4 [00:21<00:00,  5.42s/it]\n",
      "100%|██████████| 4/4 [00:21<00:00,  5.40s/it]\n",
      "100%|██████████| 4/4 [00:21<00:00,  5.42s/it]\n",
      "100%|██████████| 4/4 [00:21<00:00,  5.40s/it]\n",
      "100%|██████████| 4/4 [00:21<00:00,  5.42s/it]\n",
      "100%|██████████| 4/4 [00:21<00:00,  5.43s/it]\n",
      "100%|██████████| 4/4 [00:21<00:00,  5.44s/it]\n",
      "100%|██████████| 4/4 [00:21<00:00,  5.43s/it]\n"
     ]
    },
    {
     "name": "stdout",
     "output_type": "stream",
     "text": [
      "ecce68c50e28a33684826f28780bf6e9\n"
     ]
    },
    {
     "name": "stderr",
     "output_type": "stream",
     "text": [
      "100%|██████████| 4/4 [00:21<00:00,  5.42s/it]\n",
      "100%|██████████| 4/4 [00:21<00:00,  5.41s/it]\n",
      "100%|██████████| 4/4 [00:21<00:00,  5.43s/it]\n",
      "100%|██████████| 4/4 [00:21<00:00,  5.43s/it]\n",
      "100%|██████████| 4/4 [00:21<00:00,  5.43s/it]\n",
      "100%|██████████| 4/4 [00:21<00:00,  5.41s/it]\n",
      "100%|██████████| 4/4 [00:21<00:00,  5.42s/it]\n",
      "100%|██████████| 4/4 [00:21<00:00,  5.43s/it]\n",
      "100%|██████████| 4/4 [00:21<00:00,  5.43s/it]\n",
      "100%|██████████| 4/4 [00:21<00:00,  5.42s/it]\n",
      "100%|██████████| 4/4 [00:21<00:00,  5.44s/it]\n",
      "100%|██████████| 4/4 [00:21<00:00,  5.42s/it]\n"
     ]
    },
    {
     "name": "stdout",
     "output_type": "stream",
     "text": [
      "1d0fe2ba44a6f635f5504dcbcee0ebc9\n"
     ]
    },
    {
     "name": "stderr",
     "output_type": "stream",
     "text": [
      "100%|██████████| 4/4 [00:22<00:00,  5.60s/it]\n",
      "100%|██████████| 4/4 [00:22<00:00,  5.61s/it]\n",
      "100%|██████████| 4/4 [00:22<00:00,  5.61s/it]\n",
      "100%|██████████| 4/4 [00:22<00:00,  5.57s/it]\n",
      "100%|██████████| 4/4 [00:22<00:00,  5.60s/it]\n",
      "100%|██████████| 4/4 [00:22<00:00,  5.59s/it]\n",
      "100%|██████████| 4/4 [00:22<00:00,  5.59s/it]\n",
      "100%|██████████| 4/4 [00:22<00:00,  5.59s/it]\n",
      "100%|██████████| 4/4 [00:22<00:00,  5.63s/it]\n",
      "100%|██████████| 4/4 [00:22<00:00,  5.74s/it]\n",
      "100%|██████████| 4/4 [00:22<00:00,  5.65s/it]\n",
      "100%|██████████| 4/4 [00:22<00:00,  5.61s/it]\n"
     ]
    },
    {
     "name": "stdout",
     "output_type": "stream",
     "text": [
      "1083a2a09eec2c6cf215ebc7a9706cac\n"
     ]
    },
    {
     "name": "stderr",
     "output_type": "stream",
     "text": [
      "100%|██████████| 4/4 [00:21<00:00,  5.43s/it]\n",
      "100%|██████████| 4/4 [00:21<00:00,  5.43s/it]\n",
      "100%|██████████| 4/4 [00:21<00:00,  5.49s/it]\n",
      "100%|██████████| 4/4 [00:21<00:00,  5.43s/it]\n",
      "100%|██████████| 4/4 [00:21<00:00,  5.43s/it]\n",
      "100%|██████████| 4/4 [00:21<00:00,  5.44s/it]\n",
      "100%|██████████| 4/4 [00:22<00:00,  5.51s/it]\n",
      "100%|██████████| 4/4 [00:21<00:00,  5.43s/it]\n",
      "100%|██████████| 4/4 [00:21<00:00,  5.45s/it]\n",
      "100%|██████████| 4/4 [00:21<00:00,  5.43s/it]\n",
      "100%|██████████| 4/4 [00:21<00:00,  5.46s/it]\n",
      "100%|██████████| 4/4 [00:21<00:00,  5.44s/it]\n"
     ]
    },
    {
     "name": "stdout",
     "output_type": "stream",
     "text": [
      "09d3dccc56f1fa9330b57901cd232ab7\n"
     ]
    },
    {
     "name": "stderr",
     "output_type": "stream",
     "text": [
      "100%|██████████| 4/4 [00:22<00:00,  5.62s/it]\n",
      "100%|██████████| 4/4 [00:22<00:00,  5.66s/it]\n",
      "100%|██████████| 4/4 [00:22<00:00,  5.63s/it]\n",
      "100%|██████████| 4/4 [00:22<00:00,  5.63s/it]\n",
      "100%|██████████| 4/4 [00:22<00:00,  5.59s/it]\n",
      "100%|██████████| 4/4 [00:22<00:00,  5.59s/it]\n",
      "100%|██████████| 4/4 [00:22<00:00,  5.64s/it]\n",
      "100%|██████████| 4/4 [00:22<00:00,  5.61s/it]\n",
      "100%|██████████| 4/4 [00:22<00:00,  5.62s/it]\n",
      "100%|██████████| 4/4 [00:22<00:00,  5.60s/it]\n",
      "100%|██████████| 4/4 [00:22<00:00,  5.66s/it]\n",
      "100%|██████████| 4/4 [00:22<00:00,  5.64s/it]\n"
     ]
    },
    {
     "name": "stdout",
     "output_type": "stream",
     "text": [
      "6976a7c10ada4159010403f8027f3ea5\n"
     ]
    },
    {
     "name": "stderr",
     "output_type": "stream",
     "text": [
      "100%|██████████| 4/4 [00:21<00:00,  5.44s/it]\n",
      "100%|██████████| 4/4 [00:21<00:00,  5.42s/it]\n",
      "100%|██████████| 4/4 [00:21<00:00,  5.43s/it]\n",
      "100%|██████████| 4/4 [00:21<00:00,  5.41s/it]\n",
      "100%|██████████| 4/4 [00:21<00:00,  5.43s/it]\n",
      "100%|██████████| 4/4 [00:21<00:00,  5.41s/it]\n",
      "100%|██████████| 4/4 [00:21<00:00,  5.40s/it]\n",
      "100%|██████████| 4/4 [00:21<00:00,  5.42s/it]\n",
      "100%|██████████| 4/4 [00:21<00:00,  5.42s/it]\n",
      "100%|██████████| 4/4 [00:21<00:00,  5.43s/it]\n",
      "100%|██████████| 4/4 [00:21<00:00,  5.43s/it]\n",
      "100%|██████████| 4/4 [00:21<00:00,  5.43s/it]\n"
     ]
    },
    {
     "name": "stdout",
     "output_type": "stream",
     "text": [
      "9158e73b2e4c9fd1a565e1e5d1bc3af5\n"
     ]
    },
    {
     "name": "stderr",
     "output_type": "stream",
     "text": [
      "100%|██████████| 4/4 [00:21<00:00,  5.42s/it]\n",
      "100%|██████████| 4/4 [00:21<00:00,  5.44s/it]\n",
      "100%|██████████| 4/4 [00:21<00:00,  5.46s/it]\n",
      "100%|██████████| 4/4 [00:21<00:00,  5.43s/it]\n",
      "100%|██████████| 4/4 [00:21<00:00,  5.43s/it]\n",
      "100%|██████████| 4/4 [00:21<00:00,  5.46s/it]\n",
      "100%|██████████| 4/4 [00:22<00:00,  5.51s/it]\n",
      "100%|██████████| 4/4 [00:22<00:00,  5.51s/it]\n",
      "100%|██████████| 4/4 [00:21<00:00,  5.47s/it]\n",
      "100%|██████████| 4/4 [00:22<00:00,  5.52s/it]\n",
      "100%|██████████| 4/4 [00:21<00:00,  5.48s/it]\n",
      "100%|██████████| 4/4 [00:22<00:00,  5.51s/it]\n"
     ]
    },
    {
     "name": "stdout",
     "output_type": "stream",
     "text": [
      "c6d7afd0de62bfa16d05da47815227eb\n"
     ]
    },
    {
     "name": "stderr",
     "output_type": "stream",
     "text": [
      "100%|██████████| 4/4 [00:22<00:00,  5.69s/it]\n",
      "100%|██████████| 4/4 [00:22<00:00,  5.74s/it]\n",
      "100%|██████████| 4/4 [00:22<00:00,  5.74s/it]\n",
      "100%|██████████| 4/4 [00:22<00:00,  5.73s/it]\n",
      "100%|██████████| 4/4 [00:22<00:00,  5.70s/it]\n",
      "100%|██████████| 4/4 [00:22<00:00,  5.67s/it]\n",
      "100%|██████████| 4/4 [00:22<00:00,  5.72s/it]\n",
      "100%|██████████| 4/4 [00:22<00:00,  5.73s/it]\n",
      "100%|██████████| 4/4 [00:22<00:00,  5.70s/it]\n",
      "100%|██████████| 4/4 [00:22<00:00,  5.70s/it]\n",
      "100%|██████████| 4/4 [00:22<00:00,  5.71s/it]\n",
      "100%|██████████| 4/4 [00:22<00:00,  5.73s/it]\n"
     ]
    },
    {
     "name": "stdout",
     "output_type": "stream",
     "text": [
      "bf92a185d043ce3ef666e05e427c7e76\n"
     ]
    },
    {
     "name": "stderr",
     "output_type": "stream",
     "text": [
      "100%|██████████| 4/4 [00:22<00:00,  5.72s/it]\n",
      "100%|██████████| 4/4 [00:22<00:00,  5.70s/it]\n",
      "100%|██████████| 4/4 [00:22<00:00,  5.75s/it]\n",
      "100%|██████████| 4/4 [00:22<00:00,  5.71s/it]\n",
      "100%|██████████| 4/4 [00:22<00:00,  5.71s/it]\n",
      "100%|██████████| 4/4 [00:23<00:00,  5.75s/it]\n",
      "100%|██████████| 4/4 [00:22<00:00,  5.71s/it]\n",
      "100%|██████████| 4/4 [00:22<00:00,  5.71s/it]\n",
      "100%|██████████| 4/4 [00:22<00:00,  5.70s/it]\n",
      "100%|██████████| 4/4 [00:22<00:00,  5.67s/it]\n",
      "100%|██████████| 4/4 [00:22<00:00,  5.66s/it]\n",
      "100%|██████████| 4/4 [00:22<00:00,  5.69s/it]\n"
     ]
    },
    {
     "name": "stdout",
     "output_type": "stream",
     "text": [
      "a8f2c249ed85533b56b0729b7ab96d18\n"
     ]
    },
    {
     "name": "stderr",
     "output_type": "stream",
     "text": [
      "100%|██████████| 4/4 [00:22<00:00,  5.67s/it]\n",
      "100%|██████████| 4/4 [00:22<00:00,  5.70s/it]\n",
      "100%|██████████| 4/4 [00:22<00:00,  5.68s/it]\n",
      "100%|██████████| 4/4 [00:22<00:00,  5.66s/it]\n",
      "100%|██████████| 4/4 [00:22<00:00,  5.67s/it]\n",
      "100%|██████████| 4/4 [00:22<00:00,  5.66s/it]\n",
      "100%|██████████| 4/4 [00:22<00:00,  5.66s/it]\n",
      "100%|██████████| 4/4 [00:22<00:00,  5.67s/it]\n",
      "100%|██████████| 4/4 [00:22<00:00,  5.65s/it]\n",
      "100%|██████████| 4/4 [00:22<00:00,  5.69s/it]\n",
      "100%|██████████| 4/4 [00:22<00:00,  5.67s/it]\n",
      "100%|██████████| 4/4 [00:22<00:00,  5.64s/it]\n"
     ]
    }
   ],
   "source": [
    "# get d2min distribution\n",
    "\n",
    "rev_quant = defaultdict(list)\n",
    "\n",
    "for job in project:\n",
    "    print(job)\n",
    "\n",
    "    expers = sorted(glob.glob(job.fn(\"aqs_therm_experiments/*/*/traj-fire_period-*.gsd\")))\n",
    "\n",
    "    for exper in expers:\n",
    "        max_shear = utils.extract_between(exper, \"max-shear-\", \"/\")\n",
    "        period = utils.extract_between(exper, \"period-\", \".gsd\")\n",
    "        temp = utils.extract_between(exper, \"temp-\", \"/\")\n",
    "        # sp = Statepoint(max_shear=float(max_shear), period=float(period), temp=float(temp))\n",
    "        out_path = f\"aqs_therm_experiments/max-shear-{max_shear}/temp-{temp}/d2min-strob_period-{period}.parquet\"\n",
    "        \n",
    "        if float(period) != 1000.0:\n",
    "            continue\n",
    "\n",
    "        if job.isfile(out_path):\n",
    "            continue\n",
    "\n",
    "        traj = gsd.hoomd.open(exper)\n",
    "\n",
    "        frame_is = []\n",
    "        frame_js = []\n",
    "        ids = []\n",
    "        d2mins = []\n",
    "        comp_start = lambda i: -1 + i*40\n",
    "        for i in tqdm(range(1, 80, 20)):\n",
    "            snap = traj[-1 + i*40]\n",
    "            tags = np.arange(len(snap.particles.position))\n",
    "            nlist_query = freud.locality.LinkCell.from_system(snap)\n",
    "            nlist = nlist_query.query(snap.particles.position, {'num_neighbors': 10}).toNeighborList()\n",
    "\n",
    "            for j in range(i + 1, 80):\n",
    "                \n",
    "                frame_is.append(-1 + i*40)\n",
    "                frame_js.append(-1 + j*40)\n",
    "\n",
    "                snap_later = traj[-1 + j*40]\n",
    "\n",
    "                box = snap.configuration.box[:]\n",
    "                box_later = snap_later.configuration.box[:]\n",
    "                ids.append(tags)\n",
    "\n",
    "                d2min = schmeud_rs.dynamics.d2min_frame(snap.particles.position[:, :2], snap_later.particles.position[:, :2], nlist.query_point_indices, nlist.point_indices, (box, box_later))\n",
    "                d2mins.append(d2min)\n",
    "\n",
    "        dataset = pl.DataFrame({\"frame_i\": frame_is, \"frame_j\": frame_js, \"id\": ids, \"d2min\": d2mins})\n",
    "        dataset.write_parquet(job.fn(out_path), use_pyarrow=True)\n",
    "    #     break\n",
    "    # break"
   ]
  },
  {
   "cell_type": "code",
   "execution_count": 12,
   "metadata": {},
   "outputs": [
    {
     "name": "stdout",
     "output_type": "stream",
     "text": [
      "634e14bc75836df75158fb15f379d8bb\n",
      "7ec2f6aca035e69077eab24383a21cb6\n",
      "cfa1e4c0007fd65d020f809715a6f0b4\n",
      "ecce68c50e28a33684826f28780bf6e9\n",
      "1d0fe2ba44a6f635f5504dcbcee0ebc9\n",
      "1083a2a09eec2c6cf215ebc7a9706cac\n",
      "09d3dccc56f1fa9330b57901cd232ab7\n",
      "6976a7c10ada4159010403f8027f3ea5\n",
      "9158e73b2e4c9fd1a565e1e5d1bc3af5\n",
      "c6d7afd0de62bfa16d05da47815227eb\n",
      "bf92a185d043ce3ef666e05e427c7e76\n",
      "a8f2c249ed85533b56b0729b7ab96d18\n"
     ]
    }
   ],
   "source": [
    "\n",
    "output = defaultdict(list)\n",
    "\n",
    "for job in project:\n",
    "    prep = job.sp[\"prep\"]\n",
    "    print(job)\n",
    "\n",
    "    expers = sorted(glob.glob(job.fn(\"aqs_therm_experiments/*/*/traj-fire_period-*.gsd\")))\n",
    "\n",
    "    for exper in expers:\n",
    "        max_shear = utils.extract_between(exper, \"max-shear-\", \"/\")\n",
    "        period = utils.extract_between(exper, \"period-\", \".gsd\")\n",
    "        temp = utils.extract_between(exper, \"temp-\", \"/\")\n",
    "        sp = Statepoint(max_shear=float(max_shear), period=float(period), temp=float(temp), prep=prep)\n",
    "        out_path = f\"aqs_therm_experiments/max-shear-{max_shear}/temp-{temp}/d2min-strob_period-{period}.parquet\"\n",
    "        \n",
    "        if float(period) != 1000.0:\n",
    "            continue\n",
    "\n",
    "        if job.isfile(out_path):\n",
    "            dataset = pd.read_parquet(job.fn(out_path))\n",
    "            output[sp].append(dataset)"
   ]
  },
  {
   "cell_type": "code",
   "execution_count": 6,
   "metadata": {},
   "outputs": [
    {
     "data": {
      "text/html": [
       "<div>\n",
       "<style scoped>\n",
       "    .dataframe tbody tr th:only-of-type {\n",
       "        vertical-align: middle;\n",
       "    }\n",
       "\n",
       "    .dataframe tbody tr th {\n",
       "        vertical-align: top;\n",
       "    }\n",
       "\n",
       "    .dataframe thead th {\n",
       "        text-align: right;\n",
       "    }\n",
       "</style>\n",
       "<table border=\"1\" class=\"dataframe\">\n",
       "  <thead>\n",
       "    <tr style=\"text-align: right;\">\n",
       "      <th></th>\n",
       "      <th>frame_i</th>\n",
       "      <th>frame_j</th>\n",
       "      <th>id</th>\n",
       "      <th>d2min</th>\n",
       "    </tr>\n",
       "  </thead>\n",
       "  <tbody>\n",
       "    <tr>\n",
       "      <th>0</th>\n",
       "      <td>39</td>\n",
       "      <td>79</td>\n",
       "      <td>[0, 1, 2, 3, 4, 5, 6, 7, 8, 9, 10, 11, 12, 13,...</td>\n",
       "      <td>[0.40274465, 2.5200634, 0.1769119, 0.06876777,...</td>\n",
       "    </tr>\n",
       "    <tr>\n",
       "      <th>1</th>\n",
       "      <td>39</td>\n",
       "      <td>119</td>\n",
       "      <td>[0, 1, 2, 3, 4, 5, 6, 7, 8, 9, 10, 11, 12, 13,...</td>\n",
       "      <td>[1.2123158, 3.8196294, 2.2461188, 0.95360756, ...</td>\n",
       "    </tr>\n",
       "    <tr>\n",
       "      <th>2</th>\n",
       "      <td>39</td>\n",
       "      <td>159</td>\n",
       "      <td>[0, 1, 2, 3, 4, 5, 6, 7, 8, 9, 10, 11, 12, 13,...</td>\n",
       "      <td>[1.155841, 10.958858, 2.7854385, 1.4048963, 0....</td>\n",
       "    </tr>\n",
       "    <tr>\n",
       "      <th>3</th>\n",
       "      <td>39</td>\n",
       "      <td>199</td>\n",
       "      <td>[0, 1, 2, 3, 4, 5, 6, 7, 8, 9, 10, 11, 12, 13,...</td>\n",
       "      <td>[1.0371444, 17.42505, 6.382313, 1.164974, 0.47...</td>\n",
       "    </tr>\n",
       "    <tr>\n",
       "      <th>4</th>\n",
       "      <td>39</td>\n",
       "      <td>239</td>\n",
       "      <td>[0, 1, 2, 3, 4, 5, 6, 7, 8, 9, 10, 11, 12, 13,...</td>\n",
       "      <td>[1.060524, 34.869007, 4.266469, 5.1217365, 0.4...</td>\n",
       "    </tr>\n",
       "  </tbody>\n",
       "</table>\n",
       "</div>"
      ],
      "text/plain": [
       "   frame_i  frame_j                                                 id  \\\n",
       "0       39       79  [0, 1, 2, 3, 4, 5, 6, 7, 8, 9, 10, 11, 12, 13,...   \n",
       "1       39      119  [0, 1, 2, 3, 4, 5, 6, 7, 8, 9, 10, 11, 12, 13,...   \n",
       "2       39      159  [0, 1, 2, 3, 4, 5, 6, 7, 8, 9, 10, 11, 12, 13,...   \n",
       "3       39      199  [0, 1, 2, 3, 4, 5, 6, 7, 8, 9, 10, 11, 12, 13,...   \n",
       "4       39      239  [0, 1, 2, 3, 4, 5, 6, 7, 8, 9, 10, 11, 12, 13,...   \n",
       "\n",
       "                                               d2min  \n",
       "0  [0.40274465, 2.5200634, 0.1769119, 0.06876777,...  \n",
       "1  [1.2123158, 3.8196294, 2.2461188, 0.95360756, ...  \n",
       "2  [1.155841, 10.958858, 2.7854385, 1.4048963, 0....  \n",
       "3  [1.0371444, 17.42505, 6.382313, 1.164974, 0.47...  \n",
       "4  [1.060524, 34.869007, 4.266469, 5.1217365, 0.4...  "
      ]
     },
     "execution_count": 6,
     "metadata": {},
     "output_type": "execute_result"
    }
   ],
   "source": [
    "dataset.head()"
   ]
  },
  {
   "cell_type": "code",
   "execution_count": 9,
   "metadata": {},
   "outputs": [
    {
     "name": "stdout",
     "output_type": "stream",
     "text": [
      "Statepoint(max_shear=0.01, period=1000.0, temp=0.019836)\n"
     ]
    },
    {
     "data": {
      "image/png": "[encoded data removed]",
      "text/plain": [
       "<Figure size 432x288 with 1 Axes>"
      ]
     },
     "metadata": {
      "image/png": {
       "height": 248,
       "width": 394
      },
      "needs_background": "light"
     },
     "output_type": "display_data"
    }
   ],
   "source": [
    "for sp, datasets in output.items():\n",
    "    print(sp)\n",
    "    dataset = pd.concat(datasets)\n",
    "    dataset = dataset[dataset[\"frame_i\"] == 39]\n",
    "    dataset = dataset[dataset[\"frame_j\"] == 79]\n",
    "    dataset = dataset.explode([\"id\", \"d2min\"])\n",
    "    plt.hist(dataset[\"d2min\"], bins=100)\n",
    "    break"
   ]
  },
  {
   "cell_type": "code",
   "execution_count": 10,
   "metadata": {},
   "outputs": [
    {
     "data": {
      "image/png": "[encoded data removed]",
      "text/plain": [
       "<Figure size 432x288 with 1 Axes>"
      ]
     },
     "metadata": {
      "image/png": {
       "height": 248,
       "width": 374
      },
      "needs_background": "light"
     },
     "output_type": "display_data"
    }
   ],
   "source": [
    "plt.hist(dataset[\"d2min\"], bins=100)\n",
    "plt.yscale('log')"
   ]
  },
  {
   "cell_type": "code",
   "execution_count": null,
   "metadata": {},
   "outputs": [],
   "source": []
  }
 ],
 "metadata": {
  "kernelspec": {
   "display_name": "Python 3",
   "language": "python",
   "name": "python3"
  },
  "language_info": {
   "codemirror_mode": {
    "name": "ipython",
    "version": 3
   },
   "file_extension": ".py",
   "mimetype": "text/x-python",
   "name": "python",
   "nbconvert_exporter": "python",
   "pygments_lexer": "ipython3",
   "version": "3.10.4"
  },
  "orig_nbformat": 4
 },
 "nbformat": 4,
 "nbformat_minor": 2
}
