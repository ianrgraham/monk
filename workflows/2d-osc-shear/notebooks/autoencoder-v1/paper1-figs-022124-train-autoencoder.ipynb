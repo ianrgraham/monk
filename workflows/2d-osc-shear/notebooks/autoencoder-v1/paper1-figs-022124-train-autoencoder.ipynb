{
 "cells": [
  {
   "cell_type": "code",
   "execution_count": 1,
   "metadata": {},
   "outputs": [],
   "source": [
    "import torch\n",
    "from torch import nn\n",
    "from sklearn.preprocessing import StandardScaler\n",
    "\n",
    "import numpy as np\n",
    "import polars as pl\n",
    "import gsd.hoomd\n",
    "import schmeud._schmeud as schmeud_rs\n",
    "from schmeud._schmeud import statics\n",
    "from schmeud import ml\n",
    "from tqdm import tqdm\n",
    "\n",
    "import glob\n",
    "import os\n",
    "import pathlib\n",
    "import pickle\n",
    "import signac\n",
    "import freud\n",
    "from numba import njit\n",
    "\n",
    "from dataclasses import dataclass\n",
    "from collections import defaultdict\n",
    "\n",
    "import matplotlib.pyplot as plt\n",
    "from scipy import stats"
   ]
  },
  {
   "cell_type": "code",
   "execution_count": 2,
   "metadata": {},
   "outputs": [
    {
     "name": "stderr",
     "output_type": "stream",
     "text": [
      "/home/ian/micromamba/envs/softness-autoencoder/lib/python3.11/site-packages/tqdm/auto.py:21: TqdmWarning: IProgress not found. Please update jupyter and ipywidgets. See https://ipywidgets.readthedocs.io/en/stable/user_install.html\n",
      "  from .autonotebook import tqdm as notebook_tqdm\n"
     ]
    }
   ],
   "source": [
    "from monk import workflow, utils"
   ]
  },
  {
   "cell_type": "code",
   "execution_count": 3,
   "metadata": {},
   "outputs": [
    {
     "data": {
      "text/plain": [
       "(PosixPath('/home/ian/Projects/work/monk/workflows/2d-osc-shear/config.yaml'),\n",
       " {'root': '/media/ian/Data2/monk/2d-osc-shear',\n",
       "  'origin': '/media/ian/Data2/monk/2d-esl'})"
      ]
     },
     "execution_count": 3,
     "metadata": {},
     "output_type": "execute_result"
    }
   ],
   "source": [
    "parent = pathlib.Path(os.getcwd()).parent / \"config.yaml\"\n",
    "config = workflow.get_config(parent.as_posix())\n",
    "parent, config"
   ]
  },
  {
   "cell_type": "code",
   "execution_count": 4,
   "metadata": {},
   "outputs": [
    {
     "data": {
      "text/plain": [
       "{'avail_seed': 18, 'dt': 0.005, 'step_unit': 200, 'equil_time': 100, 'min_periods': 20, 'dumps': 40, 'period_times': [30.0, 100.0, 300.0, 1000.0], 'max_shears': [0.01, 0.02, 0.03, 0.05, 0.08, 0.12, 0.04, 0.06, 0.07], '_status': {}}"
      ]
     },
     "execution_count": 4,
     "metadata": {},
     "output_type": "execute_result"
    }
   ],
   "source": [
    "project: signac.Project = signac.get_project(root=config['root'])\n",
    "project.doc"
   ]
  },
  {
   "cell_type": "code",
   "execution_count": 5,
   "metadata": {},
   "outputs": [
    {
     "name": "stderr",
     "output_type": "stream",
     "text": [
      "/home/ian/micromamba/envs/softness-autoencoder/lib/python3.11/site-packages/sklearn/base.py:376: InconsistentVersionWarning: Trying to unpickle estimator StandardScaler from version 1.1.2 when using version 1.4.1.post1. This might lead to breaking code or invalid results. Use at your own risk. For more info please refer to:\n",
      "https://scikit-learn.org/stable/model_persistence.html#security-maintainability-limitations\n",
      "  warnings.warn(\n",
      "/home/ian/micromamba/envs/softness-autoencoder/lib/python3.11/site-packages/sklearn/base.py:376: InconsistentVersionWarning: Trying to unpickle estimator LinearSVC from version 1.1.2 when using version 1.4.1.post1. This might lead to breaking code or invalid results. Use at your own risk. For more info please refer to:\n",
      "https://scikit-learn.org/stable/model_persistence.html#security-maintainability-limitations\n",
      "  warnings.warn(\n",
      "/home/ian/micromamba/envs/softness-autoencoder/lib/python3.11/site-packages/sklearn/base.py:376: InconsistentVersionWarning: Trying to unpickle estimator Pipeline from version 1.1.2 when using version 1.4.1.post1. This might lead to breaking code or invalid results. Use at your own risk. For more info please refer to:\n",
      "https://scikit-learn.org/stable/model_persistence.html#security-maintainability-limitations\n",
      "  warnings.warn(\n"
     ]
    }
   ],
   "source": [
    "pipe = None\n",
    "pipe0 = None\n",
    "pipe1 = None\n",
    "with open(\"svc.pkl\", \"rb\") as f:\n",
    "    pipe = pickle.load(f)\n",
    "\n",
    "with open(\"svc_type0.pkl\", \"rb\") as f:\n",
    "    pipe0 = pickle.load(f)\n",
    "\n",
    "with open(\"svc_type1.pkl\", \"rb\") as f:\n",
    "    pipe1 = pickle.load(f)"
   ]
  },
  {
   "cell_type": "code",
   "execution_count": 6,
   "metadata": {},
   "outputs": [],
   "source": [
    "@dataclass(frozen=True, eq=True)\n",
    "class Statepoint:\n",
    "    max_shear: float\n",
    "    period: float\n",
    "    temp: float\n",
    "    prep: str"
   ]
  },
  {
   "cell_type": "code",
   "execution_count": 7,
   "metadata": {},
   "outputs": [
    {
     "name": "stdout",
     "output_type": "stream",
     "text": [
      "634e14bc75836df75158fb15f379d8bb\n"
     ]
    },
    {
     "name": "stdout",
     "output_type": "stream",
     "text": [
      "7ec2f6aca035e69077eab24383a21cb6\n",
      "cfa1e4c0007fd65d020f809715a6f0b4\n",
      "ecce68c50e28a33684826f28780bf6e9\n",
      "1d0fe2ba44a6f635f5504dcbcee0ebc9\n",
      "1083a2a09eec2c6cf215ebc7a9706cac\n",
      "09d3dccc56f1fa9330b57901cd232ab7\n",
      "6976a7c10ada4159010403f8027f3ea5\n",
      "9158e73b2e4c9fd1a565e1e5d1bc3af5\n",
      "c6d7afd0de62bfa16d05da47815227eb\n",
      "bf92a185d043ce3ef666e05e427c7e76\n",
      "a8f2c249ed85533b56b0729b7ab96d18\n"
     ]
    }
   ],
   "source": [
    "\n",
    "for job in project:\n",
    "    print(job)\n",
    "    prep = job.sp[\"prep\"]\n",
    "    # if prep != \"ESL\":\n",
    "    #     continue\n",
    "    # print(prep)\n",
    "    \n",
    "    experiments = sorted(glob.glob(job.fn(\"longer_experiments/*/*/traj-fire_period-*.gsd\")))\n",
    "    if len(experiments) == 0:\n",
    "        continue\n",
    "    for exper in experiments:\n",
    "        max_shear = utils.extract_between(exper, \"max-shear-\", \"/\")\n",
    "        period = utils.extract_between(exper, \"period-\", \".gsd\")\n",
    "        temp = utils.extract_between(exper, \"temp-\", \"/\")\n",
    "        df_path = f\"longer_experiments/max-shear-{max_shear}/temp-{temp}/auto-encoder-dataset-v1_period-{period}.parquet\"\n",
    "        sp = Statepoint(max_shear=float(max_shear), period=float(period), temp=float(temp), prep=prep)\n",
    "        \n",
    "        if float(period) != 1000.0:\n",
    "            continue\n",
    "\n",
    "        if job.isfile(df_path):\n",
    "            # dataset = pl.read_parquet(job.fn(df_path))\n",
    "            # output[sp].append(dataset)\n",
    "            continue\n",
    "\n",
    "        traj = gsd.hoomd.open(exper)\n",
    "        # oexper = exper.replace(\"traj-fire\", \"traj\")\n",
    "        # otraj = gsd.hoomd.open(oexper)\n",
    "\n",
    "        # print(len(traj))\n",
    "        \n",
    "        # print(max_shear, period, temp)\n",
    "\n",
    "        # softness = []\n",
    "        # frames = []\n",
    "        # types = []\n",
    "        # sfs = []\n",
    "        start = 199\n",
    "        # end = 201\n",
    "        cycle_start_idx = lambda i: -1 + i*40\n",
    "        # for frame in tqdm(range(cycle_start_idx(start), cycle_start_idx(end),\n",
    "        # 40)):\n",
    "        frame = cycle_start_idx(start)\n",
    "\n",
    "\n",
    "        snap = traj[frame]\n",
    "\n",
    "        typeids = snap.particles.typeid\n",
    "        softb = np.zeros_like(typeids, dtype=np.float32)\n",
    "\n",
    "        query_indices0 = np.arange(snap.particles.N)[typeids == 0]\n",
    "        sfs0 = ml.compute_structure_functions_snap(snap, query_indices0)\n",
    "        soft0 = pipe0.decision_function(sfs0)\n",
    "\n",
    "        query_indices1 = np.arange(snap.particles.N)[typeids == 1]\n",
    "        sfs1 = ml.compute_structure_functions_snap(snap, query_indices1)\n",
    "        soft1 = pipe1.decision_function(sfs1)\n",
    "\n",
    "        softb[typeids == 0] = soft0\n",
    "        softb[typeids == 1] = soft1\n",
    "\n",
    "        # softness.append(softb)\n",
    "\n",
    "        all_sfs = np.zeros((snap.particles.N, sfs1.shape[1]), dtype=np.float32)\n",
    "\n",
    "        all_sfs[typeids == 0] = sfs0\n",
    "        all_sfs[typeids == 1] = sfs1\n",
    "\n",
    "        frames = np.ones_like(typeids, dtype=np.int32) * frame\n",
    "\n",
    "        strains = np.ones_like(typeids, dtype=np.float32) * float(max_shear)\n",
    "\n",
    "        snap_high = traj[10 + frame]\n",
    "        snap_later = traj[40 + frame]\n",
    "        snap_low = traj[30 + frame]\n",
    "\n",
    "        box = snap.configuration.box[:]\n",
    "        box_high = snap_high.configuration.box[:]\n",
    "        box_later = snap_later.configuration.box[:]\n",
    "        box_low = snap_low.configuration.box[:]\n",
    "\n",
    "        nlist_query = freud.locality.LinkCell.from_system(snap)\n",
    "        nlist = nlist_query.query(snap.particles.position, {'num_neighbors': 10}).toNeighborList()\n",
    "\n",
    "        d2min_irr = schmeud_rs.dynamics.d2min_frame(snap.particles.position[:, :2], snap_later.particles.position[:, :2], nlist.query_point_indices, nlist.point_indices, (box, box_later))\n",
    "        d2min_rev = schmeud_rs.dynamics.d2min_frame(snap_high.particles.position[:, :2], snap_low.particles.position[:, :2], nlist.query_point_indices, nlist.point_indices, (box_high, box_low))\n",
    "        # d2min_c = np.sqrt(np.square(d2min_rev) + np.square(d2min_irr)) * np.sign(d2min_rev - d2min_irr)\n",
    "\n",
    "        nlist_query = freud.locality.LinkCell.from_system(snap)\n",
    "        nlist = nlist_query.query(snap.particles.position, {'num_neighbors': 20}).toNeighborList()\n",
    "\n",
    "        d2min_irr_20 = schmeud_rs.dynamics.d2min_frame(snap.particles.position[:, :2], snap_later.particles.position[:, :2], nlist.query_point_indices, nlist.point_indices, (box, box_later))\n",
    "        d2min_rev_20 = schmeud_rs.dynamics.d2min_frame(snap_high.particles.position[:, :2], snap_low.particles.position[:, :2], nlist.query_point_indices, nlist.point_indices, (box_high, box_low))\n",
    "        # d2min_c = np.sqrt(np.square(d2min_rev) + np.square(d2min_irr)) * np.sign(d2min_rev - d2min_irr)\n",
    "\n",
    "        dataset = pl.DataFrame({\"frame\": frames, \"strain\": strains, \"id\": np.array(typeids), \"soft\": np.array(softb), \"sfs\": all_sfs, \"d2min_irr_10\": d2min_irr, \"d2min_rev_10\": d2min_rev, \"d2min_irr_20\": d2min_irr_20, \"d2min_rev_20\": d2min_rev_20})\n",
    "        # dataset = dataset.explode([\"id\", \"soft\"]).reset_index(drop=True)\n",
    "        dataset.write_parquet(job.fn(df_path), use_pyarrow=True)\n",
    "    #     break\n",
    "    # break\n"
   ]
  },
  {
   "cell_type": "code",
   "execution_count": 16,
   "metadata": {},
   "outputs": [
    {
     "data": {
      "text/html": [
       "<div><style>\n",
       ".dataframe > thead > tr,\n",
       ".dataframe > tbody > tr {\n",
       "  text-align: right;\n",
       "  white-space: pre-wrap;\n",
       "}\n",
       "</style>\n",
       "<small>shape: (5, 8)</small><table border=\"1\" class=\"dataframe\"><thead><tr><th>frame</th><th>id</th><th>soft</th><th>sfs</th><th>d2min_irr_10</th><th>d2min_rev_10</th><th>d2min_irr_20</th><th>d2min_rev_20</th></tr><tr><td>i32</td><td>u32</td><td>f32</td><td>list[f32]</td><td>f32</td><td>f32</td><td>f32</td><td>f32</td></tr></thead><tbody><tr><td>7959</td><td>1</td><td>-1.281613</td><td>[0.0, 0.0, … 1.981952]</td><td>0.000655</td><td>0.001333</td><td>0.001731</td><td>0.006502</td></tr><tr><td>7959</td><td>0</td><td>-0.483182</td><td>[0.0, 0.0, … 2.095605]</td><td>0.000421</td><td>0.662657</td><td>0.001498</td><td>1.502651</td></tr><tr><td>7959</td><td>1</td><td>0.4325</td><td>[0.0, 0.0, … 2.019023]</td><td>0.000051</td><td>1.503904</td><td>0.000521</td><td>3.202669</td></tr><tr><td>7959</td><td>0</td><td>0.201487</td><td>[0.0, 0.0, … 2.272655]</td><td>0.000528</td><td>3.263688</td><td>0.001211</td><td>6.785113</td></tr><tr><td>7959</td><td>0</td><td>0.532951</td><td>[0.0, 0.0, … 1.776584]</td><td>0.000428</td><td>0.592157</td><td>0.001209</td><td>1.378976</td></tr></tbody></table></div>"
      ],
      "text/plain": [
       "shape: (5, 8)\n",
       "┌───────┬─────┬───────────┬──────────────┬──────────────┬──────────────┬─────────────┬─────────────┐\n",
       "│ frame ┆ id  ┆ soft      ┆ sfs          ┆ d2min_irr_10 ┆ d2min_rev_10 ┆ d2min_irr_2 ┆ d2min_rev_2 │\n",
       "│ ---   ┆ --- ┆ ---       ┆ ---          ┆ ---          ┆ ---          ┆ 0           ┆ 0           │\n",
       "│ i32   ┆ u32 ┆ f32       ┆ list[f32]    ┆ f32          ┆ f32          ┆ ---         ┆ ---         │\n",
       "│       ┆     ┆           ┆              ┆              ┆              ┆ f32         ┆ f32         │\n",
       "╞═══════╪═════╪═══════════╪══════════════╪══════════════╪══════════════╪═════════════╪═════════════╡\n",
       "│ 7959  ┆ 1   ┆ -1.281613 ┆ [0.0, 0.0, … ┆ 0.000655     ┆ 0.001333     ┆ 0.001731    ┆ 0.006502    │\n",
       "│       ┆     ┆           ┆ 1.981952]    ┆              ┆              ┆             ┆             │\n",
       "│ 7959  ┆ 0   ┆ -0.483182 ┆ [0.0, 0.0, … ┆ 0.000421     ┆ 0.662657     ┆ 0.001498    ┆ 1.502651    │\n",
       "│       ┆     ┆           ┆ 2.095605]    ┆              ┆              ┆             ┆             │\n",
       "│ 7959  ┆ 1   ┆ 0.4325    ┆ [0.0, 0.0, … ┆ 0.000051     ┆ 1.503904     ┆ 0.000521    ┆ 3.202669    │\n",
       "│       ┆     ┆           ┆ 2.019023]    ┆              ┆              ┆             ┆             │\n",
       "│ 7959  ┆ 0   ┆ 0.201487  ┆ [0.0, 0.0, … ┆ 0.000528     ┆ 3.263688     ┆ 0.001211    ┆ 6.785113    │\n",
       "│       ┆     ┆           ┆ 2.272655]    ┆              ┆              ┆             ┆             │\n",
       "│ 7959  ┆ 0   ┆ 0.532951  ┆ [0.0, 0.0, … ┆ 0.000428     ┆ 0.592157     ┆ 0.001209    ┆ 1.378976    │\n",
       "│       ┆     ┆           ┆ 1.776584]    ┆              ┆              ┆             ┆             │\n",
       "└───────┴─────┴───────────┴──────────────┴──────────────┴──────────────┴─────────────┴─────────────┘"
      ]
     },
     "execution_count": 16,
     "metadata": {},
     "output_type": "execute_result"
    }
   ],
   "source": [
    "dataset.head()"
   ]
  },
  {
   "cell_type": "code",
   "execution_count": 34,
   "metadata": {},
   "outputs": [
    {
     "data": {
      "text/plain": [
       "32768"
      ]
     },
     "execution_count": 34,
     "metadata": {},
     "output_type": "execute_result"
    }
   ],
   "source": [
    "len(dataset)"
   ]
  },
  {
   "cell_type": "code",
   "execution_count": 19,
   "metadata": {},
   "outputs": [
    {
     "data": {
      "text/plain": [
       "Categorical(ordering=array([7959, 7959, 7959, ..., 7959, 7959, 7959], dtype=int32))"
      ]
     },
     "execution_count": 19,
     "metadata": {},
     "output_type": "execute_result"
    }
   ],
   "source": [
    "pl.Categorical(frames)"
   ]
  },
  {
   "cell_type": "code",
   "execution_count": 28,
   "metadata": {},
   "outputs": [
    {
     "data": {
      "image/png": "[encoded data removed]",
      "text/plain": [
       "<Figure size 640x480 with 1 Axes>"
      ]
     },
     "metadata": {},
     "output_type": "display_data"
    }
   ],
   "source": [
    "bins = np.geomspace(1e-6, 1e1, 100)\n",
    "plt.hist(dataset[\"d2min_irr_10\"], bins=bins)\n",
    "plt.xscale('log');"
   ]
  },
  {
   "cell_type": "code",
   "execution_count": 33,
   "metadata": {},
   "outputs": [
    {
     "data": {
      "text/plain": [
       "PearsonRResult(statistic=0.9647754435295226, pvalue=0.0)"
      ]
     },
     "execution_count": 33,
     "metadata": {},
     "output_type": "execute_result"
    },
    {
     "data": {
      "image/png": "[encoded data removed]",
      "text/plain": [
       "<Figure size 640x480 with 1 Axes>"
      ]
     },
     "metadata": {},
     "output_type": "display_data"
    }
   ],
   "source": [
    "plt.hist2d(dataset[\"d2min_irr_10\"], dataset[\"d2min_irr_20\"], bins=bins)\n",
    "plt.yscale('log')\n",
    "plt.xscale('log')\n",
    "stats.pearsonr(dataset[\"d2min_irr_10\"], dataset[\"d2min_irr_20\"])"
   ]
  },
  {
   "cell_type": "code",
   "execution_count": 32,
   "metadata": {},
   "outputs": [
    {
     "data": {
      "text/plain": [
       "PearsonRResult(statistic=0.9680449369688513, pvalue=0.0)"
      ]
     },
     "execution_count": 32,
     "metadata": {},
     "output_type": "execute_result"
    },
    {
     "data": {
      "image/png": "[encoded data removed]",
      "text/plain": [
       "<Figure size 640x480 with 1 Axes>"
      ]
     },
     "metadata": {},
     "output_type": "display_data"
    }
   ],
   "source": [
    "plt.hist2d(dataset[\"d2min_rev_10\"], dataset[\"d2min_rev_20\"], bins=bins)\n",
    "plt.yscale('log')\n",
    "plt.xscale('log')\n",
    "stats.pearsonr(dataset[\"d2min_rev_10\"], dataset[\"d2min_rev_20\"])"
   ]
  },
  {
   "cell_type": "code",
   "execution_count": null,
   "metadata": {},
   "outputs": [],
   "source": [
    "def get_pr(soft, prep):\n",
    "    if prep == \"HTL\":\n",
    "        fit = [0.14949216, 0.39594848]\n",
    "    elif prep == \"ESL\":\n",
    "        fit = [0.19945844, 0.42320983]\n",
    "    else:\n",
    "        raise ValueError(f\"Unknown prep {prep}\")\n",
    "    return fit[0] * soft + fit[1]"
   ]
  },
  {
   "cell_type": "code",
   "execution_count": 7,
   "metadata": {},
   "outputs": [
    {
     "name": "stdout",
     "output_type": "stream",
     "text": [
      "634e14bc75836df75158fb15f379d8bb\n",
      "7ec2f6aca035e69077eab24383a21cb6\n",
      "cfa1e4c0007fd65d020f809715a6f0b4\n",
      "ecce68c50e28a33684826f28780bf6e9\n",
      "1d0fe2ba44a6f635f5504dcbcee0ebc9\n",
      "1083a2a09eec2c6cf215ebc7a9706cac\n",
      "09d3dccc56f1fa9330b57901cd232ab7\n",
      "6976a7c10ada4159010403f8027f3ea5\n",
      "9158e73b2e4c9fd1a565e1e5d1bc3af5\n",
      "c6d7afd0de62bfa16d05da47815227eb\n",
      "bf92a185d043ce3ef666e05e427c7e76\n",
      "a8f2c249ed85533b56b0729b7ab96d18\n"
     ]
    }
   ],
   "source": [
    "# output = defaultdict(list)\n",
    "\n",
    "datasets = []\n",
    "\n",
    "for job in project:\n",
    "    print(job)\n",
    "    prep = job.sp[\"prep\"]\n",
    "    # if prep != \"ESL\":\n",
    "    #     continue\n",
    "    # print(prep)\n",
    "    \n",
    "    experiments = sorted(glob.glob(job.fn(\"longer_experiments/*/*/traj-fire_period-*.gsd\")))\n",
    "    if len(experiments) == 0:\n",
    "        continue\n",
    "    for exper in experiments:\n",
    "        max_shear = utils.extract_between(exper, \"max-shear-\", \"/\")\n",
    "        period = utils.extract_between(exper, \"period-\", \".gsd\")\n",
    "        temp = utils.extract_between(exper, \"temp-\", \"/\")\n",
    "        df_path = f\"longer_experiments/max-shear-{max_shear}/temp-{temp}/auto-encoder-dataset-v1_period-{period}.parquet\"\n",
    "        sp = Statepoint(max_shear=float(max_shear), period=float(period), temp=float(temp), prep=prep)\n",
    "        \n",
    "        if float(period) != 1000.0 or float(temp) != 0.019836 or float(max_shear) != 0.04:\n",
    "            continue\n",
    "\n",
    "        dataset = pl.read_parquet(job.fn(df_path))\n",
    "\n",
    "        \n",
    "\n",
    "        # output[sp].append(dataset)\n",
    "        datasets.append(dataset)\n",
    "\n",
    "dataset = pl.concat(datasets)"
   ]
  },
  {
   "cell_type": "code",
   "execution_count": 66,
   "metadata": {},
   "outputs": [
    {
     "data": {
      "text/html": [
       "<div><style>\n",
       ".dataframe > thead > tr,\n",
       ".dataframe > tbody > tr {\n",
       "  text-align: right;\n",
       "  white-space: pre-wrap;\n",
       "}\n",
       "</style>\n",
       "<small>shape: (5, 9)</small><table border=\"1\" class=\"dataframe\"><thead><tr><th>frame</th><th>strain</th><th>id</th><th>soft</th><th>sfs</th><th>d2min_irr_10</th><th>d2min_rev_10</th><th>d2min_irr_20</th><th>d2min_rev_20</th></tr><tr><td>i32</td><td>f32</td><td>u32</td><td>f32</td><td>list[f32]</td><td>f32</td><td>f32</td><td>f32</td><td>f32</td></tr></thead><tbody><tr><td>7959</td><td>0.04</td><td>1</td><td>-0.864295</td><td>[0.0, 0.0, … 2.144524]</td><td>0.000117</td><td>0.086112</td><td>0.000332</td><td>0.184264</td></tr><tr><td>7959</td><td>0.04</td><td>0</td><td>0.624044</td><td>[0.0, 0.0, … 1.546611]</td><td>0.000116</td><td>0.065206</td><td>0.000228</td><td>0.12339</td></tr><tr><td>7959</td><td>0.04</td><td>1</td><td>0.450813</td><td>[0.0, 0.0, … 0.156807]</td><td>0.000036</td><td>0.045519</td><td>0.000174</td><td>0.106589</td></tr><tr><td>7959</td><td>0.04</td><td>0</td><td>-0.10508</td><td>[0.0, 0.0, … 2.624017]</td><td>0.000245</td><td>0.040277</td><td>0.000524</td><td>0.097985</td></tr><tr><td>7959</td><td>0.04</td><td>0</td><td>0.8924</td><td>[0.0, 0.0, … 1.947483]</td><td>0.000077</td><td>0.018019</td><td>0.000195</td><td>0.058571</td></tr></tbody></table></div>"
      ],
      "text/plain": [
       "shape: (5, 9)\n",
       "┌───────┬────────┬─────┬───────────┬───┬──────────────┬──────────────┬──────────────┬──────────────┐\n",
       "│ frame ┆ strain ┆ id  ┆ soft      ┆ … ┆ d2min_irr_10 ┆ d2min_rev_10 ┆ d2min_irr_20 ┆ d2min_rev_20 │\n",
       "│ ---   ┆ ---    ┆ --- ┆ ---       ┆   ┆ ---          ┆ ---          ┆ ---          ┆ ---          │\n",
       "│ i32   ┆ f32    ┆ u32 ┆ f32       ┆   ┆ f32          ┆ f32          ┆ f32          ┆ f32          │\n",
       "╞═══════╪════════╪═════╪═══════════╪═══╪══════════════╪══════════════╪══════════════╪══════════════╡\n",
       "│ 7959  ┆ 0.04   ┆ 1   ┆ -0.864295 ┆ … ┆ 0.000117     ┆ 0.086112     ┆ 0.000332     ┆ 0.184264     │\n",
       "│ 7959  ┆ 0.04   ┆ 0   ┆ 0.624044  ┆ … ┆ 0.000116     ┆ 0.065206     ┆ 0.000228     ┆ 0.12339      │\n",
       "│ 7959  ┆ 0.04   ┆ 1   ┆ 0.450813  ┆ … ┆ 0.000036     ┆ 0.045519     ┆ 0.000174     ┆ 0.106589     │\n",
       "│ 7959  ┆ 0.04   ┆ 0   ┆ -0.10508  ┆ … ┆ 0.000245     ┆ 0.040277     ┆ 0.000524     ┆ 0.097985     │\n",
       "│ 7959  ┆ 0.04   ┆ 0   ┆ 0.8924    ┆ … ┆ 0.000077     ┆ 0.018019     ┆ 0.000195     ┆ 0.058571     │\n",
       "└───────┴────────┴─────┴───────────┴───┴──────────────┴──────────────┴──────────────┴──────────────┘"
      ]
     },
     "execution_count": 66,
     "metadata": {},
     "output_type": "execute_result"
    }
   ],
   "source": [
    "dataset.head()"
   ]
  },
  {
   "cell_type": "code",
   "execution_count": 8,
   "metadata": {},
   "outputs": [
    {
     "name": "stdout",
     "output_type": "stream",
     "text": [
      "Using cuda device\n"
     ]
    }
   ],
   "source": [
    "device = (\n",
    "    \"cuda\"\n",
    "    if torch.cuda.is_available()\n",
    "    else \"mps\"\n",
    "    if torch.backends.mps.is_available()\n",
    "    else \"cpu\"\n",
    ")\n",
    "print(f\"Using {device} device\")"
   ]
  },
  {
   "cell_type": "code",
   "execution_count": null,
   "metadata": {},
   "outputs": [],
   "source": []
  },
  {
   "cell_type": "code",
   "execution_count": 9,
   "metadata": {},
   "outputs": [],
   "source": [
    "class Encoder(nn.Module):\n",
    "    def __init__(self, num_input_channels: int, base_channel_size: int, latent_dim: int, act_fn: object = nn.ReLU):\n",
    "        super().__init__()\n",
    "        self.net = nn.Sequential(\n",
    "            nn.Linear(num_input_channels, base_channel_size),\n",
    "            act_fn(),\n",
    "            nn.Linear(base_channel_size, base_channel_size//2),\n",
    "            act_fn(),\n",
    "            nn.Linear(base_channel_size//2, latent_dim),\n",
    "        )\n",
    "\n",
    "    def forward(self, x):\n",
    "        return self.net(x)\n",
    "\n",
    "class Decoder(nn.Module):\n",
    "    def __init__(self, base_channel_size: int, latent_dim: int, act_fn: object = nn.ReLU):\n",
    "        super().__init__()\n",
    "        self.net = nn.Sequential(\n",
    "            nn.Linear(latent_dim, base_channel_size//2),\n",
    "            act_fn(),\n",
    "            nn.Linear(base_channel_size//2, base_channel_size),\n",
    "            act_fn(),\n",
    "            nn.Linear(base_channel_size, 1),\n",
    "            # nn.Sigmoid()\n",
    "            nn.Tanh()\n",
    "        )\n",
    "\n",
    "    def forward(self, x):\n",
    "        return self.net(x)\n",
    "\n",
    "\n",
    "class AutoEncoder(nn.Module):\n",
    "    def __init__(self, num_input_channels: int, base_channel_size: int, latent_dim: int, act_fn: object = nn.ReLU):\n",
    "        super().__init__()\n",
    "        self.encoder = Encoder(num_input_channels, base_channel_size, latent_dim, act_fn)\n",
    "        self.decoder = Decoder(base_channel_size, latent_dim, act_fn)\n",
    "\n",
    "    def forward(self, x):\n",
    "        x = self.encoder(x)\n",
    "        x = self.decoder(x)\n",
    "        return x"
   ]
  },
  {
   "cell_type": "code",
   "execution_count": 10,
   "metadata": {},
   "outputs": [
    {
     "data": {
      "text/html": [
       "<div><style>\n",
       ".dataframe > thead > tr,\n",
       ".dataframe > tbody > tr {\n",
       "  text-align: right;\n",
       "  white-space: pre-wrap;\n",
       "}\n",
       "</style>\n",
       "<small>shape: (5, 9)</small><table border=\"1\" class=\"dataframe\"><thead><tr><th>frame</th><th>strain</th><th>id</th><th>soft</th><th>sfs</th><th>d2min_irr_10</th><th>d2min_rev_10</th><th>d2min_irr_20</th><th>d2min_rev_20</th></tr><tr><td>i32</td><td>f32</td><td>u32</td><td>f32</td><td>list[f32]</td><td>f32</td><td>f32</td><td>f32</td><td>f32</td></tr></thead><tbody><tr><td>7959</td><td>0.04</td><td>1</td><td>-0.864295</td><td>[0.0, 0.0, … 2.144524]</td><td>0.000117</td><td>0.086112</td><td>0.000332</td><td>0.184264</td></tr><tr><td>7959</td><td>0.04</td><td>0</td><td>0.624044</td><td>[0.0, 0.0, … 1.546611]</td><td>0.000116</td><td>0.065206</td><td>0.000228</td><td>0.12339</td></tr><tr><td>7959</td><td>0.04</td><td>1</td><td>0.450813</td><td>[0.0, 0.0, … 0.156807]</td><td>0.000036</td><td>0.045519</td><td>0.000174</td><td>0.106589</td></tr><tr><td>7959</td><td>0.04</td><td>0</td><td>-0.10508</td><td>[0.0, 0.0, … 2.624017]</td><td>0.000245</td><td>0.040277</td><td>0.000524</td><td>0.097985</td></tr><tr><td>7959</td><td>0.04</td><td>0</td><td>0.8924</td><td>[0.0, 0.0, … 1.947483]</td><td>0.000077</td><td>0.018019</td><td>0.000195</td><td>0.058571</td></tr></tbody></table></div>"
      ],
      "text/plain": [
       "shape: (5, 9)\n",
       "┌───────┬────────┬─────┬───────────┬───┬──────────────┬──────────────┬──────────────┬──────────────┐\n",
       "│ frame ┆ strain ┆ id  ┆ soft      ┆ … ┆ d2min_irr_10 ┆ d2min_rev_10 ┆ d2min_irr_20 ┆ d2min_rev_20 │\n",
       "│ ---   ┆ ---    ┆ --- ┆ ---       ┆   ┆ ---          ┆ ---          ┆ ---          ┆ ---          │\n",
       "│ i32   ┆ f32    ┆ u32 ┆ f32       ┆   ┆ f32          ┆ f32          ┆ f32          ┆ f32          │\n",
       "╞═══════╪════════╪═════╪═══════════╪═══╪══════════════╪══════════════╪══════════════╪══════════════╡\n",
       "│ 7959  ┆ 0.04   ┆ 1   ┆ -0.864295 ┆ … ┆ 0.000117     ┆ 0.086112     ┆ 0.000332     ┆ 0.184264     │\n",
       "│ 7959  ┆ 0.04   ┆ 0   ┆ 0.624044  ┆ … ┆ 0.000116     ┆ 0.065206     ┆ 0.000228     ┆ 0.12339      │\n",
       "│ 7959  ┆ 0.04   ┆ 1   ┆ 0.450813  ┆ … ┆ 0.000036     ┆ 0.045519     ┆ 0.000174     ┆ 0.106589     │\n",
       "│ 7959  ┆ 0.04   ┆ 0   ┆ -0.10508  ┆ … ┆ 0.000245     ┆ 0.040277     ┆ 0.000524     ┆ 0.097985     │\n",
       "│ 7959  ┆ 0.04   ┆ 0   ┆ 0.8924    ┆ … ┆ 0.000077     ┆ 0.018019     ┆ 0.000195     ┆ 0.058571     │\n",
       "└───────┴────────┴─────┴───────────┴───┴──────────────┴──────────────┴──────────────┴──────────────┘"
      ]
     },
     "execution_count": 10,
     "metadata": {},
     "output_type": "execute_result"
    }
   ],
   "source": [
    "dataset.head()"
   ]
  },
  {
   "cell_type": "code",
   "execution_count": 11,
   "metadata": {},
   "outputs": [
    {
     "data": {
      "text/plain": [
       "(array([[0.04      , 0.        , 1.        , ..., 2.6094108 , 3.551997  ,\n",
       "         2.1445243 ],\n",
       "        [0.04      , 1.        , 0.        , ..., 2.2057965 , 1.415268  ,\n",
       "         1.5466106 ],\n",
       "        [0.04      , 0.        , 1.        , ..., 0.7181908 , 5.4099946 ,\n",
       "         0.15680748],\n",
       "        ...,\n",
       "        [0.04      , 0.        , 1.        , ..., 1.8364217 , 2.7463923 ,\n",
       "         0.2763454 ],\n",
       "        [0.04      , 1.        , 0.        , ..., 0.72691727, 2.7261293 ,\n",
       "         1.3275038 ],\n",
       "        [0.04      , 0.        , 1.        , ..., 3.578826  , 2.5345154 ,\n",
       "         3.0052066 ]], dtype=float32),\n",
       " array([-2.4521093, -2.7302067, -3.0896158, ..., -4.058494 , -3.2762916,\n",
       "        -2.5966783], dtype=float32))"
      ]
     },
     "execution_count": 11,
     "metadata": {},
     "output_type": "execute_result"
    }
   ],
   "source": [
    "# Y = (dataset[\"d2min_rev_10\"] > 0.08).to_numpy().astype(np.float32)\n",
    "Y = np.log(dataset[\"d2min_rev_10\"].to_numpy())\n",
    "\n",
    "data_len = len(Y)\n",
    "sf_len = dataset[0][\"sfs\"][0].shape[0]\n",
    "\n",
    "X = np.zeros((data_len, sf_len + 3), dtype=np.float32)\n",
    "X[:, 0] = dataset[\"strain\"]\n",
    "X[:, 1] = (dataset[\"id\"] == 0)\n",
    "X[:, 2] = (dataset[\"id\"] == 1)\n",
    "X[:, 3:] = np.vstack(dataset[\"sfs\"].to_numpy())\n",
    "\n",
    "X, Y"
   ]
  },
  {
   "cell_type": "code",
   "execution_count": 12,
   "metadata": {},
   "outputs": [],
   "source": [
    "\n",
    "# Normalizing Data\n",
    "scaler = StandardScaler()\n",
    "X_scaled = scaler.fit_transform(X)\n",
    "\n",
    "# Converting to PyTorch tensor\n",
    "X_tensor = torch.FloatTensor(X_scaled)\n",
    "\n",
    "scaler_y = StandardScaler()\n",
    "Y_scaled = scaler_y.fit_transform(Y.reshape(-1, 1))\n",
    "\n",
    "Y_tensor = torch.FloatTensor(Y_scaled)"
   ]
  },
  {
   "cell_type": "code",
   "execution_count": 13,
   "metadata": {},
   "outputs": [],
   "source": [
    "import torch.utils.data as data_utils\n",
    "\n",
    "dataset = data_utils.TensorDataset(X_tensor.to(device), Y_tensor.to(device))\n",
    "train_len = int(data_len*0.8)\n",
    "train, test = data_utils.random_split(dataset, [train_len, data_len - train_len])\n",
    "train_loader = data_utils.DataLoader(train, batch_size=128, shuffle=True)\n",
    "test_loader = data_utils.DataLoader(test, batch_size=data_len - train_len)"
   ]
  },
  {
   "cell_type": "code",
   "execution_count": 18,
   "metadata": {},
   "outputs": [],
   "source": [
    "# Setting random seed for reproducibility\n",
    "torch.manual_seed(42)\n",
    "\n",
    "input_size = X.shape[1]  # Number of input features\n",
    "encoding_dim = 2  # Desired number of output dimensions\n",
    "model = AutoEncoder(input_size, 256, encoding_dim).to(device)\n",
    "\n",
    "# Loss function and optimizer\n",
    "# loss_fn = nn.BCELoss()\n",
    "loss_fn = nn.MSELoss()\n",
    "optimizer = torch.optim.Adam(model.parameters(), lr=0.003)"
   ]
  },
  {
   "cell_type": "code",
   "execution_count": 19,
   "metadata": {},
   "outputs": [
    {
     "name": "stdout",
     "output_type": "stream",
     "text": [
      "Epoch [1/40], Loss: 0.8871\n",
      "Epoch [2/40], Loss: 0.8872\n"
     ]
    },
    {
     "name": "stdout",
     "output_type": "stream",
     "text": [
      "Epoch [3/40], Loss: 0.8747\n",
      "Epoch [4/40], Loss: 0.8705\n",
      "Epoch [5/40], Loss: 0.8757\n",
      "Epoch [6/40], Loss: 0.8684\n",
      "Epoch [7/40], Loss: 0.8652\n",
      "Epoch [8/40], Loss: 0.8624\n",
      "Epoch [9/40], Loss: 0.8687\n",
      "Epoch [10/40], Loss: 0.8659\n",
      "Epoch [11/40], Loss: 0.8637\n",
      "Epoch [12/40], Loss: 0.8606\n",
      "Epoch [13/40], Loss: 0.8718\n",
      "Epoch [14/40], Loss: 0.8623\n",
      "Epoch [15/40], Loss: 0.8632\n",
      "Epoch [16/40], Loss: 0.8610\n",
      "Epoch [17/40], Loss: 0.8678\n",
      "Epoch [18/40], Loss: 0.8622\n",
      "Epoch [19/40], Loss: 0.8649\n",
      "Epoch [20/40], Loss: 0.8641\n",
      "Epoch [21/40], Loss: 0.8638\n",
      "Epoch [22/40], Loss: 0.8683\n",
      "Epoch [23/40], Loss: 0.8634\n",
      "Epoch [24/40], Loss: 0.8652\n",
      "Epoch [25/40], Loss: 0.8663\n",
      "Epoch [26/40], Loss: 0.8662\n",
      "Epoch [27/40], Loss: 0.8663\n",
      "Epoch [28/40], Loss: 0.8656\n",
      "Epoch [29/40], Loss: 0.8714\n",
      "Epoch [30/40], Loss: 0.8724\n",
      "Epoch [31/40], Loss: 0.8678\n",
      "Epoch [32/40], Loss: 0.8680\n",
      "Epoch [33/40], Loss: 0.8690\n",
      "Epoch [34/40], Loss: 0.8750\n",
      "Epoch [35/40], Loss: 0.8709\n",
      "Epoch [36/40], Loss: 0.8789\n",
      "Epoch [37/40], Loss: 0.8695\n",
      "Epoch [38/40], Loss: 0.8718\n",
      "Epoch [39/40], Loss: 0.8721\n",
      "Epoch [40/40], Loss: 0.8728\n"
     ]
    }
   ],
   "source": [
    "\n",
    "\n",
    "# Training the autoencoder\n",
    "# num_epochs = 20\n",
    "# for epoch in range(num_epochs):\n",
    "#    # Forward pass\n",
    "#    outputs = model(X_tensor)\n",
    "#    loss = criterion(outputs, X_tensor)\n",
    "\n",
    "#    # Backward pass and optimization\n",
    "#    optimizer.zero_grad()\n",
    "#    loss.backward()\n",
    "#    optimizer.step()\n",
    "\n",
    "n_epochs = 40\n",
    "for epoch in range(n_epochs):\n",
    "   for X_batch, y_batch in train_loader:\n",
    "      y_pred = model(X_batch)\n",
    "      loss = loss_fn(y_pred, y_batch)\n",
    "      optimizer.zero_grad()\n",
    "      loss.backward()\n",
    "      optimizer.step()\n",
    "\n",
    "   for X_test, y_test in test_loader:\n",
    "      y_pred = model(X_test)\n",
    "      loss = loss_fn(y_pred, y_test)\n",
    "\n",
    "\n",
    "      # Loss for each epoch\n",
    "      print(f'Epoch [{epoch + 1}/{n_epochs}], Loss: {loss.item():.4f}')\n",
    "\n",
    "# Encoding the data using the trained autoencoder\n",
    "# encoded_data = model.encoder(X_tensor).detach().numpy()"
   ]
  },
  {
   "cell_type": "code",
   "execution_count": 15,
   "metadata": {},
   "outputs": [],
   "source": [
    "host_model = model.to(\"cpu\")"
   ]
  },
  {
   "cell_type": "code",
   "execution_count": 16,
   "metadata": {},
   "outputs": [
    {
     "data": {
      "text/plain": [
       "Encoder(\n",
       "  (net): Sequential(\n",
       "    (0): Linear(in_features=57, out_features=256, bias=True)\n",
       "    (1): ReLU()\n",
       "    (2): Linear(in_features=256, out_features=128, bias=True)\n",
       "    (3): ReLU()\n",
       "    (4): Linear(in_features=128, out_features=2, bias=True)\n",
       "  )\n",
       ")"
      ]
     },
     "execution_count": 16,
     "metadata": {},
     "output_type": "execute_result"
    }
   ],
   "source": [
    "\n",
    "\n",
    "host_model.encoder"
   ]
  },
  {
   "cell_type": "code",
   "execution_count": null,
   "metadata": {},
   "outputs": [],
   "source": []
  }
 ],
 "metadata": {
  "kernelspec": {
   "display_name": "Python 3",
   "language": "python",
   "name": "python3"
  },
  "language_info": {
   "codemirror_mode": {
    "name": "ipython",
    "version": 3
   },
   "file_extension": ".py",
   "mimetype": "text/x-python",
   "name": "python",
   "nbconvert_exporter": "python",
   "pygments_lexer": "ipython3",
   "version": "3.11.8"
  }
 },
 "nbformat": 4,
 "nbformat_minor": 2
}
