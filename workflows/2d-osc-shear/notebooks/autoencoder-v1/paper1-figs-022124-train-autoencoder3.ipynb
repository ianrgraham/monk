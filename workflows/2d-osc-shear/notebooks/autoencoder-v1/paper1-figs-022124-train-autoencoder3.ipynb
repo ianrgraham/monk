{
 "cells": [
  {
   "cell_type": "code",
   "execution_count": 1,
   "metadata": {},
   "outputs": [],
   "source": [
    "import torch\n",
    "from torch import nn\n",
    "from sklearn.preprocessing import StandardScaler\n",
    "from sklearn.utils import shuffle\n",
    "\n",
    "import numpy as np\n",
    "import polars as pl\n",
    "import gsd.hoomd\n",
    "import schmeud._schmeud as schmeud_rs\n",
    "from schmeud._schmeud import statics\n",
    "from schmeud import ml\n",
    "from tqdm import tqdm\n",
    "\n",
    "import glob\n",
    "import os\n",
    "import pathlib\n",
    "import pickle\n",
    "import signac\n",
    "import freud\n",
    "from numba import njit\n",
    "\n",
    "from dataclasses import dataclass\n",
    "from collections import defaultdict\n",
    "\n",
    "import matplotlib.pyplot as plt\n",
    "from scipy import stats"
   ]
  },
  {
   "cell_type": "code",
   "execution_count": 2,
   "metadata": {},
   "outputs": [
    {
     "name": "stderr",
     "output_type": "stream",
     "text": [
      "/home/ian/micromamba/envs/softness-autoencoder/lib/python3.11/site-packages/tqdm/auto.py:21: TqdmWarning: IProgress not found. Please update jupyter and ipywidgets. See https://ipywidgets.readthedocs.io/en/stable/user_install.html\n",
      "  from .autonotebook import tqdm as notebook_tqdm\n"
     ]
    }
   ],
   "source": [
    "from monk import workflow, utils"
   ]
  },
  {
   "cell_type": "code",
   "execution_count": 3,
   "metadata": {},
   "outputs": [
    {
     "data": {
      "text/plain": [
       "(PosixPath('/home/ian/Projects/work/monk/workflows/2d-osc-shear/config.yaml'),\n",
       " {'root': '/media/ian/Data2/monk/2d-osc-shear',\n",
       "  'origin': '/media/ian/Data2/monk/2d-esl'})"
      ]
     },
     "execution_count": 3,
     "metadata": {},
     "output_type": "execute_result"
    }
   ],
   "source": [
    "parent = pathlib.Path(os.getcwd()).parent / \"config.yaml\"\n",
    "config = workflow.get_config(parent.as_posix())\n",
    "parent, config"
   ]
  },
  {
   "cell_type": "code",
   "execution_count": 4,
   "metadata": {},
   "outputs": [
    {
     "data": {
      "text/plain": [
       "{'avail_seed': 18, 'dt': 0.005, 'step_unit': 200, 'equil_time': 100, 'min_periods': 20, 'dumps': 40, 'period_times': [30.0, 100.0, 300.0, 1000.0], 'max_shears': [0.01, 0.02, 0.03, 0.05, 0.08, 0.12, 0.04, 0.06, 0.07], '_status': {}}"
      ]
     },
     "execution_count": 4,
     "metadata": {},
     "output_type": "execute_result"
    }
   ],
   "source": [
    "project: signac.Project = signac.get_project(root=config['root'])\n",
    "project.doc"
   ]
  },
  {
   "cell_type": "code",
   "execution_count": 5,
   "metadata": {},
   "outputs": [
    {
     "name": "stderr",
     "output_type": "stream",
     "text": [
      "/home/ian/micromamba/envs/softness-autoencoder/lib/python3.11/site-packages/sklearn/base.py:376: InconsistentVersionWarning: Trying to unpickle estimator StandardScaler from version 1.1.2 when using version 1.4.1.post1. This might lead to breaking code or invalid results. Use at your own risk. For more info please refer to:\n",
      "https://scikit-learn.org/stable/model_persistence.html#security-maintainability-limitations\n",
      "  warnings.warn(\n",
      "/home/ian/micromamba/envs/softness-autoencoder/lib/python3.11/site-packages/sklearn/base.py:376: InconsistentVersionWarning: Trying to unpickle estimator LinearSVC from version 1.1.2 when using version 1.4.1.post1. This might lead to breaking code or invalid results. Use at your own risk. For more info please refer to:\n",
      "https://scikit-learn.org/stable/model_persistence.html#security-maintainability-limitations\n",
      "  warnings.warn(\n",
      "/home/ian/micromamba/envs/softness-autoencoder/lib/python3.11/site-packages/sklearn/base.py:376: InconsistentVersionWarning: Trying to unpickle estimator Pipeline from version 1.1.2 when using version 1.4.1.post1. This might lead to breaking code or invalid results. Use at your own risk. For more info please refer to:\n",
      "https://scikit-learn.org/stable/model_persistence.html#security-maintainability-limitations\n",
      "  warnings.warn(\n"
     ]
    }
   ],
   "source": [
    "pipe = None\n",
    "pipe0 = None\n",
    "pipe1 = None\n",
    "with open(\"svc.pkl\", \"rb\") as f:\n",
    "    pipe = pickle.load(f)\n",
    "\n",
    "with open(\"svc_type0.pkl\", \"rb\") as f:\n",
    "    pipe0 = pickle.load(f)\n",
    "\n",
    "with open(\"svc_type1.pkl\", \"rb\") as f:\n",
    "    pipe1 = pickle.load(f)"
   ]
  },
  {
   "cell_type": "code",
   "execution_count": 6,
   "metadata": {},
   "outputs": [],
   "source": [
    "@dataclass(frozen=True, eq=True)\n",
    "class Statepoint:\n",
    "    max_shear: float\n",
    "    period: float\n",
    "    temp: float\n",
    "    prep: str"
   ]
  },
  {
   "cell_type": "code",
   "execution_count": 36,
   "metadata": {},
   "outputs": [],
   "source": [
    "@njit\n",
    "def get_local_softness(softness, segments, num_neighbors, point_indices, distances, r_max, bins):\n",
    "    ns = np.zeros((len(softness), bins), dtype=np.float32)\n",
    "    vs = np.zeros((len(softness), bins), dtype=np.float32)\n",
    "    qs = np.zeros((len(softness), bins), dtype=np.float32)\n",
    "    os = np.zeros((len(softness), bins), dtype=np.float32)\n",
    "    ss = np.zeros((len(softness), bins), dtype=np.float32)\n",
    "\n",
    "\n",
    "    idx = 0\n",
    "    for seg, nn in zip(segments, num_neighbors):\n",
    "        points = point_indices[seg:seg+nn]\n",
    "        dists = distances[seg:seg+nn]\n",
    "        for p, d in zip(points, dists):\n",
    "            if d < r_max:\n",
    "                bin_index = int(d / r_max * bins)\n",
    "                ns[idx, bin_index] += 1\n",
    "                vs[idx, bin_index] += softness[p]\n",
    "                qs[idx, bin_index] += softness[p] * softness[p]\n",
    "        idx += 1\n",
    "\n",
    "    for idx in range(len(ns)):\n",
    "        for jdx in range(1, bins):\n",
    "            ns[idx, jdx] += ns[idx, jdx - 1]\n",
    "            vs[idx, jdx] += vs[idx, jdx - 1]\n",
    "            qs[idx, jdx] += qs[idx, jdx - 1]\n",
    "            if ns[idx, jdx] > 1:\n",
    "                os[idx, jdx] = vs[idx, jdx] / ns[idx, jdx]\n",
    "                ss[idx, jdx] = (qs[idx, jdx] - os[idx, jdx]) / (ns[idx, jdx] - 1)\n",
    "            \n",
    "    \n",
    "    return os, ss\n"
   ]
  },
  {
   "cell_type": "code",
   "execution_count": 52,
   "metadata": {},
   "outputs": [
    {
     "name": "stdout",
     "output_type": "stream",
     "text": [
      "634e14bc75836df75158fb15f379d8bb\n"
     ]
    },
    {
     "name": "stdout",
     "output_type": "stream",
     "text": [
      "7ec2f6aca035e69077eab24383a21cb6\n",
      "cfa1e4c0007fd65d020f809715a6f0b4\n",
      "ecce68c50e28a33684826f28780bf6e9\n",
      "1d0fe2ba44a6f635f5504dcbcee0ebc9\n",
      "1083a2a09eec2c6cf215ebc7a9706cac\n",
      "09d3dccc56f1fa9330b57901cd232ab7\n",
      "6976a7c10ada4159010403f8027f3ea5\n",
      "9158e73b2e4c9fd1a565e1e5d1bc3af5\n",
      "c6d7afd0de62bfa16d05da47815227eb\n",
      "bf92a185d043ce3ef666e05e427c7e76\n",
      "a8f2c249ed85533b56b0729b7ab96d18\n"
     ]
    }
   ],
   "source": [
    "\n",
    "for job in project:\n",
    "    print(job)\n",
    "    prep = job.sp[\"prep\"]\n",
    "    # if prep != \"ESL\":\n",
    "    #     continue\n",
    "    # print(prep)\n",
    "    \n",
    "    experiments = sorted(glob.glob(job.fn(\"longer_experiments/*/*/traj-fire_period-*.gsd\")))\n",
    "    if len(experiments) == 0:\n",
    "        continue\n",
    "    for exper in experiments:\n",
    "        max_shear = utils.extract_between(exper, \"max-shear-\", \"/\")\n",
    "        period = utils.extract_between(exper, \"period-\", \".gsd\")\n",
    "        temp = utils.extract_between(exper, \"temp-\", \"/\")\n",
    "        df_path = f\"longer_experiments/max-shear-{max_shear}/temp-{temp}/auto-encoder-dataset-v3_period-{period}.parquet\"\n",
    "        sp = Statepoint(max_shear=float(max_shear), period=float(period), temp=float(temp), prep=prep)\n",
    "        \n",
    "        if float(period) != 1000.0 or float(temp) != 0.019836 or float(max_shear) != 0.04:\n",
    "            continue\n",
    "\n",
    "        # if job.isfile(df_path):\n",
    "        #     # dataset = pl.read_parquet(job.fn(df_path))\n",
    "        #     # output[sp].append(dataset)\n",
    "        #     continue\n",
    "\n",
    "        traj = gsd.hoomd.open(exper)\n",
    "        # oexper = exper.replace(\"traj-fire\", \"traj\")\n",
    "        # otraj = gsd.hoomd.open(oexper)\n",
    "\n",
    "        # print(len(traj))\n",
    "        \n",
    "        # print(max_shear, period, temp)\n",
    "\n",
    "        # softness = []\n",
    "        # frames = []\n",
    "        # types = []\n",
    "        # sfs = []\n",
    "        start = 199\n",
    "        # end = 201\n",
    "        cycle_start_idx = lambda i: -1 + i*40\n",
    "        # for frame in tqdm(range(cycle_start_idx(start), cycle_start_idx(end),\n",
    "        # 40)):\n",
    "        frame = cycle_start_idx(start)\n",
    "\n",
    "        snap = traj[frame]\n",
    "\n",
    "        typeids = snap.particles.typeid\n",
    "        softb = np.zeros_like(typeids, dtype=np.float32)\n",
    "\n",
    "        query_indices0 = np.arange(snap.particles.N)[typeids == 0]\n",
    "        sfs0 = ml.compute_structure_functions_snap(snap, query_indices0)\n",
    "        soft0 = pipe0.decision_function(sfs0)\n",
    "\n",
    "        query_indices1 = np.arange(snap.particles.N)[typeids == 1]\n",
    "        sfs1 = ml.compute_structure_functions_snap(snap, query_indices1)\n",
    "        soft1 = pipe1.decision_function(sfs1)\n",
    "\n",
    "        softb[typeids == 0] = soft0\n",
    "        softb[typeids == 1] = soft1\n",
    "\n",
    "        # softness.append(softb)\n",
    "\n",
    "        all_sfs = np.zeros((snap.particles.N, sfs1.shape[1]), dtype=np.float32)\n",
    "\n",
    "        all_sfs[typeids == 0] = sfs0\n",
    "        all_sfs[typeids == 1] = sfs1\n",
    "\n",
    "        # get softness within r_max\n",
    "        nlist_query = freud.locality.LinkCell.from_system(snap)\n",
    "        nlist = nlist_query.query(snap.particles.position, {'exclude_ii': True, \"r_max\": 20.0}).toNeighborList()\n",
    "\n",
    "        # neighbor_softs = softb[nlist.point_indices]\n",
    "        local_soft, local_var = get_local_softness(softb, nlist.segments, nlist.neighbor_counts, nlist.point_indices, nlist.distances, 20.0, 20)\n",
    "        \n",
    "\n",
    "        frames = np.ones_like(typeids, dtype=np.int32) * frame\n",
    "\n",
    "        strains = np.ones_like(typeids, dtype=np.float32) * float(max_shear)\n",
    "\n",
    "        snap_high = traj[10 + frame]\n",
    "        snap_later = traj[40 + frame]\n",
    "        snap_low = traj[30 + frame]\n",
    "\n",
    "        box = snap.configuration.box[:]\n",
    "        box_high = snap_high.configuration.box[:]\n",
    "        box_later = snap_later.configuration.box[:]\n",
    "        box_low = snap_low.configuration.box[:]\n",
    "\n",
    "        nlist_query = freud.locality.LinkCell.from_system(snap)\n",
    "        nlist = nlist_query.query(snap.particles.position, {'num_neighbors': 10}).toNeighborList()\n",
    "\n",
    "        d2min_irr = schmeud_rs.dynamics.d2min_frame(snap.particles.position[:, :2], snap_later.particles.position[:, :2], nlist.query_point_indices, nlist.point_indices, (box, box_later))\n",
    "        d2min_rev = schmeud_rs.dynamics.d2min_frame(snap_high.particles.position[:, :2], snap_low.particles.position[:, :2], nlist.query_point_indices, nlist.point_indices, (box_high, box_low))\n",
    "        # d2min_c = np.sqrt(np.square(d2min_rev) + np.square(d2min_irr)) * np.sign(d2min_rev - d2min_irr)\n",
    "\n",
    "        nlist_query = freud.locality.LinkCell.from_system(snap)\n",
    "        nlist = nlist_query.query(snap.particles.position, {'num_neighbors': 20}).toNeighborList()\n",
    "\n",
    "        d2min_irr_20 = schmeud_rs.dynamics.d2min_frame(snap.particles.position[:, :2], snap_later.particles.position[:, :2], nlist.query_point_indices, nlist.point_indices, (box, box_later))\n",
    "        d2min_rev_20 = schmeud_rs.dynamics.d2min_frame(snap_high.particles.position[:, :2], snap_low.particles.position[:, :2], nlist.query_point_indices, nlist.point_indices, (box_high, box_low))\n",
    "        # d2min_c = np.sqrt(np.square(d2min_rev) + np.square(d2min_irr)) * np.sign(d2min_rev - d2min_irr)\n",
    "\n",
    "        dataset = pl.DataFrame({\"frame\": frames, \"strain\": strains, \"id\": np.array(typeids), \"soft\": np.array(softb), \"sfs\": all_sfs, \"local_soft\": local_soft, \"local_var\": local_var, \"d2min_irr_10\": d2min_irr, \"d2min_rev_10\": d2min_rev, \"d2min_irr_20\": d2min_irr_20, \"d2min_rev_20\": d2min_rev_20})\n",
    "        # dataset = dataset.explode([\"id\", \"soft\"]).reset_index(drop=True)\n",
    "        dataset.write_parquet(job.fn(df_path), use_pyarrow=True)\n",
    "    #     break\n",
    "    # break\n"
   ]
  },
  {
   "cell_type": "code",
   "execution_count": 53,
   "metadata": {},
   "outputs": [],
   "source": [
    "def get_pr(soft, prep):\n",
    "    if prep == \"HTL\":\n",
    "        fit = [0.14949216, 0.39594848]\n",
    "    elif prep == \"ESL\":\n",
    "        fit = [0.19945844, 0.42320983]\n",
    "    else:\n",
    "        raise ValueError(f\"Unknown prep {prep}\")\n",
    "    return fit[0] * soft + fit[1]"
   ]
  },
  {
   "cell_type": "code",
   "execution_count": 54,
   "metadata": {},
   "outputs": [
    {
     "name": "stdout",
     "output_type": "stream",
     "text": [
      "634e14bc75836df75158fb15f379d8bb\n",
      "7ec2f6aca035e69077eab24383a21cb6\n",
      "cfa1e4c0007fd65d020f809715a6f0b4\n",
      "ecce68c50e28a33684826f28780bf6e9\n",
      "1d0fe2ba44a6f635f5504dcbcee0ebc9\n",
      "1083a2a09eec2c6cf215ebc7a9706cac\n",
      "09d3dccc56f1fa9330b57901cd232ab7\n",
      "6976a7c10ada4159010403f8027f3ea5\n",
      "9158e73b2e4c9fd1a565e1e5d1bc3af5\n",
      "c6d7afd0de62bfa16d05da47815227eb\n",
      "bf92a185d043ce3ef666e05e427c7e76\n",
      "a8f2c249ed85533b56b0729b7ab96d18\n"
     ]
    },
    {
     "name": "stderr",
     "output_type": "stream",
     "text": [
      "sys:1: CategoricalRemappingWarning: Local categoricals have different encodings, expensive re-encoding is done to perform this merge operation. Consider using a StringCache or an Enum type if the categories are known in advance\n"
     ]
    }
   ],
   "source": [
    "# output = defaultdict(list)\n",
    "x = np.linspace(-1.0, 1.0, 11)\n",
    "x2 = (x[1:] + x[:-1]) / 2\n",
    "l = [f\"{x:.2f}\" for x in x2]\n",
    "l.insert(0, \"-inf\")\n",
    "l.append(\"inf\")\n",
    "\n",
    "datasets = []\n",
    "\n",
    "for job in project:\n",
    "    print(job)\n",
    "    prep = job.sp[\"prep\"]\n",
    "    # if prep != \"ESL\":\n",
    "    #     continue\n",
    "    # print(prep)\n",
    "    \n",
    "    experiments = sorted(glob.glob(job.fn(\"longer_experiments/*/*/traj-fire_period-*.gsd\")))\n",
    "    if len(experiments) == 0:\n",
    "        continue\n",
    "    for exper in experiments:\n",
    "        max_shear = utils.extract_between(exper, \"max-shear-\", \"/\")\n",
    "        period = utils.extract_between(exper, \"period-\", \".gsd\")\n",
    "        temp = utils.extract_between(exper, \"temp-\", \"/\")\n",
    "        df_path = f\"longer_experiments/max-shear-{max_shear}/temp-{temp}/auto-encoder-dataset-v3_period-{period}.parquet\"\n",
    "        sp = Statepoint(max_shear=float(max_shear), period=float(period), temp=float(temp), prep=prep)\n",
    "        \n",
    "        if float(period) != 1000.0 or float(temp) != 0.019836 or float(max_shear) != 0.04:\n",
    "            continue\n",
    "\n",
    "        dataset = pl.read_parquet(job.fn(df_path))\n",
    "\n",
    "        cuts = dataset[\"soft\"].cut(x, labels=l)\n",
    "\n",
    "        sf_len = dataset[0][\"sfs\"][0].shape[0]\n",
    "        X = np.zeros((len(dataset), sf_len + 3 + 20 + 20 + 1), dtype=np.float32)\n",
    "        X[:, 0] = dataset[\"strain\"]\n",
    "        X[:, 1] = (dataset[\"id\"] == 0)\n",
    "        X[:, 2] = (dataset[\"id\"] == 1)\n",
    "        X[:, 3:-41] = np.vstack(dataset[\"sfs\"].to_numpy())\n",
    "        X[:, -41:-21] = np.vstack(dataset[\"local_soft\"].to_numpy())\n",
    "        X[:, -21:-1] = np.vstack(dataset[\"local_var\"].to_numpy())\n",
    "        X[:, -1] = dataset[\"soft\"]\n",
    "\n",
    "        dataset = dataset.with_columns(\n",
    "            sfs = X,\n",
    "            pr = pl.col(\"soft\").map_batches(lambda x: get_pr(x, prep)),\n",
    "            prep = pl.lit(prep),\n",
    "            cuts = cuts\n",
    "        )\n",
    "\n",
    "        # output[sp].append(dataset)\n",
    "        datasets.append(dataset)\n",
    "\n",
    "dataset = pl.concat(datasets)"
   ]
  },
  {
   "cell_type": "code",
   "execution_count": 55,
   "metadata": {},
   "outputs": [],
   "source": [
    "torch.cuda.empty_cache()"
   ]
  },
  {
   "cell_type": "code",
   "execution_count": 56,
   "metadata": {},
   "outputs": [
    {
     "name": "stdout",
     "output_type": "stream",
     "text": [
      "Using cuda device\n"
     ]
    }
   ],
   "source": [
    "device = (\n",
    "    \"cuda\"\n",
    "    if torch.cuda.is_available()\n",
    "    else \"mps\"\n",
    "    if torch.backends.mps.is_available()\n",
    "    else \"cpu\"\n",
    ")\n",
    "print(f\"Using {device} device\")"
   ]
  },
  {
   "cell_type": "code",
   "execution_count": 57,
   "metadata": {},
   "outputs": [
    {
     "data": {
      "text/html": [
       "<div><style>\n",
       ".dataframe > thead > tr,\n",
       ".dataframe > tbody > tr {\n",
       "  text-align: right;\n",
       "  white-space: pre-wrap;\n",
       "}\n",
       "</style>\n",
       "<small>shape: (5, 14)</small><table border=\"1\" class=\"dataframe\"><thead><tr><th>frame</th><th>strain</th><th>id</th><th>soft</th><th>sfs</th><th>local_soft</th><th>local_var</th><th>d2min_irr_10</th><th>d2min_rev_10</th><th>d2min_irr_20</th><th>d2min_rev_20</th><th>pr</th><th>prep</th><th>cuts</th></tr><tr><td>i32</td><td>f32</td><td>u32</td><td>f32</td><td>list[f32]</td><td>list[f32]</td><td>list[f32]</td><td>f32</td><td>f32</td><td>f32</td><td>f32</td><td>f32</td><td>str</td><td>cat</td></tr></thead><tbody><tr><td>7959</td><td>0.04</td><td>1</td><td>-0.864295</td><td>[0.04, 0.0, … -0.864295]</td><td>[0.0, -0.947694, … -0.143865]</td><td>[0.0, 1.141069, … 0.448082]</td><td>0.000117</td><td>0.086112</td><td>0.000332</td><td>0.184264</td><td>0.266743</td><td>&quot;HTL&quot;</td><td>&quot;-0.90&quot;</td></tr><tr><td>7959</td><td>0.04</td><td>0</td><td>0.624044</td><td>[0.04, 1.0, … 0.624044]</td><td>[0.0, 0.404167, … -0.124267]</td><td>[0.0, 0.489021, … 0.461801]</td><td>0.000116</td><td>0.065206</td><td>0.000228</td><td>0.12339</td><td>0.489238</td><td>&quot;HTL&quot;</td><td>&quot;0.70&quot;</td></tr><tr><td>7959</td><td>0.04</td><td>1</td><td>0.450813</td><td>[0.04, 0.0, … 0.450813]</td><td>[0.0, 0.633517, … -0.131101]</td><td>[0.0, 0.814579, … 0.466416]</td><td>0.000036</td><td>0.045519</td><td>0.000174</td><td>0.106589</td><td>0.463341</td><td>&quot;HTL&quot;</td><td>&quot;0.50&quot;</td></tr><tr><td>7959</td><td>0.04</td><td>0</td><td>-0.10508</td><td>[0.04, 1.0, … -0.10508]</td><td>[0.0, -0.076897, … -0.148466]</td><td>[0.0, 0.29595, … 0.470416]</td><td>0.000245</td><td>0.040277</td><td>0.000524</td><td>0.097985</td><td>0.38024</td><td>&quot;HTL&quot;</td><td>&quot;-0.10&quot;</td></tr><tr><td>7959</td><td>0.04</td><td>0</td><td>0.8924</td><td>[0.04, 1.0, … 0.8924]</td><td>[0.0, 0.805054, … -0.091292]</td><td>[0.0, 1.120098, … 0.458881]</td><td>0.000077</td><td>0.018019</td><td>0.000195</td><td>0.058571</td><td>0.529355</td><td>&quot;HTL&quot;</td><td>&quot;0.90&quot;</td></tr></tbody></table></div>"
      ],
      "text/plain": [
       "shape: (5, 14)\n",
       "┌───────┬────────┬─────┬───────────┬───┬──────────────┬──────────┬──────┬───────┐\n",
       "│ frame ┆ strain ┆ id  ┆ soft      ┆ … ┆ d2min_rev_20 ┆ pr       ┆ prep ┆ cuts  │\n",
       "│ ---   ┆ ---    ┆ --- ┆ ---       ┆   ┆ ---          ┆ ---      ┆ ---  ┆ ---   │\n",
       "│ i32   ┆ f32    ┆ u32 ┆ f32       ┆   ┆ f32          ┆ f32      ┆ str  ┆ cat   │\n",
       "╞═══════╪════════╪═════╪═══════════╪═══╪══════════════╪══════════╪══════╪═══════╡\n",
       "│ 7959  ┆ 0.04   ┆ 1   ┆ -0.864295 ┆ … ┆ 0.184264     ┆ 0.266743 ┆ HTL  ┆ -0.90 │\n",
       "│ 7959  ┆ 0.04   ┆ 0   ┆ 0.624044  ┆ … ┆ 0.12339      ┆ 0.489238 ┆ HTL  ┆ 0.70  │\n",
       "│ 7959  ┆ 0.04   ┆ 1   ┆ 0.450813  ┆ … ┆ 0.106589     ┆ 0.463341 ┆ HTL  ┆ 0.50  │\n",
       "│ 7959  ┆ 0.04   ┆ 0   ┆ -0.10508  ┆ … ┆ 0.097985     ┆ 0.38024  ┆ HTL  ┆ -0.10 │\n",
       "│ 7959  ┆ 0.04   ┆ 0   ┆ 0.8924    ┆ … ┆ 0.058571     ┆ 0.529355 ┆ HTL  ┆ 0.90  │\n",
       "└───────┴────────┴─────┴───────────┴───┴──────────────┴──────────┴──────┴───────┘"
      ]
     },
     "execution_count": 57,
     "metadata": {},
     "output_type": "execute_result"
    }
   ],
   "source": [
    "dataset.head()"
   ]
  },
  {
   "cell_type": "code",
   "execution_count": 58,
   "metadata": {},
   "outputs": [],
   "source": [
    "class Encoder(nn.Module):\n",
    "    def __init__(self, num_input_channels: int, base_channel_size: int, latent_dim: int, act_fn: object = nn.ReLU):\n",
    "        super().__init__()\n",
    "        self.net = nn.Sequential(\n",
    "            nn.Linear(num_input_channels, base_channel_size),\n",
    "            act_fn(),\n",
    "            nn.Linear(base_channel_size, base_channel_size//2),\n",
    "            act_fn(),\n",
    "            nn.Linear(base_channel_size//2, latent_dim),\n",
    "        )\n",
    "\n",
    "    def forward(self, x):\n",
    "        return self.net(x)\n",
    "\n",
    "class Decoder(nn.Module):\n",
    "    def __init__(self, base_channel_size: int, latent_dim: int, act_fn: object = nn.ReLU):\n",
    "        super().__init__()\n",
    "        self.net = nn.Sequential(\n",
    "            nn.Linear(latent_dim + 1, base_channel_size//2),\n",
    "            act_fn(),\n",
    "            nn.Linear(base_channel_size//2, base_channel_size),\n",
    "            act_fn(),\n",
    "            nn.Linear(base_channel_size, 1),\n",
    "            # nn.Sigmoid()\n",
    "            # nn.Tanh()\n",
    "        )\n",
    "\n",
    "    def forward(self, x):\n",
    "        return self.net(x)\n",
    "\n",
    "\n",
    "class AutoEncoder(nn.Module):\n",
    "    def __init__(self, num_input_channels: int, base_channel_size: int, latent_dim: int, act_fn: object = nn.ReLU):\n",
    "        super().__init__()\n",
    "        self.encoder = Encoder(num_input_channels, base_channel_size, latent_dim, act_fn)\n",
    "        self.decoder = Decoder(base_channel_size, latent_dim, act_fn)\n",
    "\n",
    "    def forward(self, x):\n",
    "        soft = x[:, -1].view(-1, 1)\n",
    "        x = self.encoder(x[:,:-1])\n",
    "        x = self.decoder(torch.cat((x, soft), 1))\n",
    "        return x"
   ]
  },
  {
   "cell_type": "code",
   "execution_count": 59,
   "metadata": {},
   "outputs": [
    {
     "data": {
      "image/png": "[encoded data removed]",
      "text/plain": [
       "<Figure size 640x480 with 1 Axes>"
      ]
     },
     "metadata": {},
     "output_type": "display_data"
    }
   ],
   "source": [
    "plt.hist(dataset[\"pr\"], bins=50);"
   ]
  },
  {
   "cell_type": "code",
   "execution_count": 60,
   "metadata": {},
   "outputs": [
    {
     "data": {
      "text/plain": [
       "(array([[ 0.04      ,  0.        ,  1.        , ...,  0.4470356 ,\n",
       "          0.4480816 , -0.86429465],\n",
       "        [ 0.04      ,  1.        ,  0.        , ...,  0.46440434,\n",
       "          0.46180105,  0.6240445 ],\n",
       "        [ 0.04      ,  0.        ,  1.        , ...,  0.46892542,\n",
       "          0.46641603,  0.45081285],\n",
       "        ...,\n",
       "        [ 0.04      ,  0.        ,  1.        , ...,  0.2867089 ,\n",
       "          0.28987318, -0.86067826],\n",
       "        [ 0.04      ,  1.        ,  0.        , ...,  0.32133996,\n",
       "          0.33290285,  0.0054784 ],\n",
       "        [ 0.04      ,  0.        ,  1.        , ...,  0.29740855,\n",
       "          0.2980057 , -0.1053692 ]], dtype=float32),\n",
       " array([0.26674318, 0.48923823, 0.46334144, ..., 0.25154027, 0.42430252,\n",
       "        0.40219304], dtype=float32))"
      ]
     },
     "execution_count": 60,
     "metadata": {},
     "output_type": "execute_result"
    }
   ],
   "source": [
    "# Y = (dataset[\"d2min_rev_10\"] > 0.08).to_numpy().astype(np.float32)\n",
    "# Y = np.log(dataset[\"d2min_rev_10\"].to_numpy())\n",
    "Y = dataset[\"pr\"].to_numpy()\n",
    "\n",
    "data_len = len(Y)\n",
    "sf_len = dataset[0][\"sfs\"][0].shape[0]\n",
    "\n",
    "X = np.zeros((data_len, sf_len), dtype=np.float32)\n",
    "X[:, :] = np.vstack(dataset[\"sfs\"].to_numpy())\n",
    "# X[:, 0] = dataset[\"strain\"]\n",
    "# X[:, 1] = (dataset[\"id\"] == 0)\n",
    "# X[:, 2] = (dataset[\"id\"] == 1)\n",
    "# X[:, 3] = (dataset[\"prep\"] == \"ESL\")\n",
    "# X[:, 4] = (dataset[\"prep\"] == \"HTL\")\n",
    "# X[:, 5:-1] = np.vstack(dataset[\"sfs\"].to_numpy())\n",
    "# X[:, -1] = dataset[\"soft\"]\n",
    "\n",
    "X, Y"
   ]
  },
  {
   "cell_type": "code",
   "execution_count": 61,
   "metadata": {},
   "outputs": [],
   "source": [
    "\n",
    "# Normalizing Data\n",
    "scaler = StandardScaler()\n",
    "X_scaled = scaler.fit_transform(X)\n",
    "\n",
    "scaler_y = StandardScaler()\n",
    "Y_scaled = scaler_y.fit_transform(Y.reshape(-1, 1))\n",
    "\n",
    "X_scaled, Y_scaled = shuffle(X_scaled, Y_scaled)\n",
    "\n",
    "# Converting to PyTorch tensor\n",
    "X_tensor = torch.FloatTensor(X_scaled)\n",
    "Y_tensor = torch.FloatTensor(Y_scaled)"
   ]
  },
  {
   "cell_type": "code",
   "execution_count": 62,
   "metadata": {},
   "outputs": [],
   "source": [
    "import torch.utils.data as data_utils\n",
    "\n",
    "torch_dataset = data_utils.TensorDataset(X_tensor.to(device), Y_tensor.to(device))\n",
    "train_len = int(data_len*0.5)\n",
    "train, test = data_utils.random_split(torch_dataset, [train_len, data_len - train_len])\n",
    "train_loader = data_utils.DataLoader(train, batch_size=128, shuffle=True)\n",
    "test_loader = data_utils.DataLoader(test, batch_size=data_len - train_len)"
   ]
  },
  {
   "cell_type": "code",
   "execution_count": 67,
   "metadata": {},
   "outputs": [],
   "source": [
    "# Setting random seed for reproducibility\n",
    "torch.manual_seed(42)\n",
    "\n",
    "input_size = X.shape[1]  # Number of input features\n",
    "encoding_dim = 2  # Desired number of output dimensions\n",
    "model = AutoEncoder(input_size - 1, 512, encoding_dim).to(device)\n",
    "\n",
    "# Loss function and optimizer\n",
    "# loss_fn = nn.BCELoss()\n",
    "loss_fn = nn.MSELoss()\n",
    "optimizer = torch.optim.Adam(model.parameters(), lr=0.003)"
   ]
  },
  {
   "cell_type": "code",
   "execution_count": 68,
   "metadata": {},
   "outputs": [
    {
     "name": "stdout",
     "output_type": "stream",
     "text": [
      "Epoch [1/10], Loss: 0.0105\n",
      "Epoch [2/10], Loss: 0.0095\n",
      "Epoch [3/10], Loss: 0.0098\n",
      "Epoch [4/10], Loss: 0.0102\n",
      "Epoch [5/10], Loss: 0.0098\n",
      "Epoch [6/10], Loss: 0.0093\n",
      "Epoch [7/10], Loss: 0.0090\n",
      "Epoch [8/10], Loss: 0.0088\n",
      "Epoch [9/10], Loss: 0.0095\n",
      "Epoch [10/10], Loss: 0.0085\n"
     ]
    }
   ],
   "source": [
    "\n",
    "\n",
    "# Training the autoencoder\n",
    "# num_epochs = 20\n",
    "# for epoch in range(num_epochs):\n",
    "#    # Forward pass\n",
    "#    outputs = model(X_tensor)\n",
    "#    loss = criterion(outputs, X_tensor)\n",
    "\n",
    "#    # Backward pass and optimization\n",
    "#    optimizer.zero_grad()\n",
    "#    loss.backward()\n",
    "#    optimizer.step()\n",
    "\n",
    "n_epochs = 10\n",
    "for epoch in range(n_epochs):\n",
    "   for X_batch, y_batch in train_loader:\n",
    "      y_pred = model(X_batch)\n",
    "      loss = loss_fn(y_pred, y_batch)\n",
    "      optimizer.zero_grad()\n",
    "      loss.backward()\n",
    "      optimizer.step()\n",
    "\n",
    "   for X_test, y_test in test_loader:\n",
    "      y_pred = model(X_test)\n",
    "      loss = loss_fn(y_pred, y_test)\n",
    "\n",
    "\n",
    "      # Loss for each epoch\n",
    "      print(f'Epoch [{epoch + 1}/{n_epochs}], Loss: {loss.item():.4f}')\n",
    "\n",
    "# Encoding the data using the trained autoencoder\n",
    "# encoded_data = model.encoder(X_tensor).detach().numpy()"
   ]
  },
  {
   "cell_type": "markdown",
   "metadata": {},
   "source": [
    "host_model = model.to(\"cpu\")\n",
    "host_model.encoder(dataset[0][\"sfs\"][0][:-1])"
   ]
  },
  {
   "cell_type": "code",
   "execution_count": 69,
   "metadata": {},
   "outputs": [
    {
     "data": {
      "text/plain": [
       "[<matplotlib.lines.Line2D at 0x70c1a1a7ed90>]"
      ]
     },
     "execution_count": 69,
     "metadata": {},
     "output_type": "execute_result"
    },
    {
     "data": {
      "image/png": "[encoded data removed]",
      "text/plain": [
       "<Figure size 640x480 with 1 Axes>"
      ]
     },
     "metadata": {},
     "output_type": "display_data"
    }
   ],
   "source": [
    "plt.hist2d(y_test.cpu().detach().numpy()[:,0], y_pred.cpu().detach().numpy()[:,0], bins=100);\n",
    "plt.plot([-3, 5], [-3, 5], 'r--')"
   ]
  },
  {
   "cell_type": "code",
   "execution_count": 70,
   "metadata": {},
   "outputs": [
    {
     "data": {
      "image/png": "[encoded data removed]",
      "text/plain": [
       "<Figure size 640x480 with 1 Axes>"
      ]
     },
     "metadata": {},
     "output_type": "display_data"
    }
   ],
   "source": [
    "plt.hist2d(y_test.cpu().detach().numpy()[:,0], y_pred.cpu().detach().numpy()[:,0], bins=100);"
   ]
  },
  {
   "cell_type": "code",
   "execution_count": 83,
   "metadata": {},
   "outputs": [
    {
     "data": {
      "text/plain": [
       "PearsonRResult(statistic=0.9883990317308475, pvalue=0.0)"
      ]
     },
     "execution_count": 83,
     "metadata": {},
     "output_type": "execute_result"
    }
   ],
   "source": [
    "stats.pearsonr(y_test.cpu().detach().numpy()[:,0], y_pred.cpu().detach().numpy()[:,0])"
   ]
  },
  {
   "cell_type": "code",
   "execution_count": null,
   "metadata": {},
   "outputs": [],
   "source": []
  }
 ],
 "metadata": {
  "kernelspec": {
   "display_name": "Python 3",
   "language": "python",
   "name": "python3"
  },
  "language_info": {
   "codemirror_mode": {
    "name": "ipython",
    "version": 3
   },
   "file_extension": ".py",
   "mimetype": "text/x-python",
   "name": "python",
   "nbconvert_exporter": "python",
   "pygments_lexer": "ipython3",
   "version": "3.11.8"
  }
 },
 "nbformat": 4,
 "nbformat_minor": 2
}
