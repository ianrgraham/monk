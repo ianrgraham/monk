{
 "cells": [
  {
   "cell_type": "code",
   "execution_count": 1,
   "metadata": {},
   "outputs": [],
   "source": [
    "import torch\n",
    "from torch import nn\n",
    "from sklearn.preprocessing import StandardScaler\n",
    "from sklearn.utils import shuffle\n",
    "\n",
    "import numpy as np\n",
    "import polars as pl\n",
    "import gsd.hoomd\n",
    "import schmeud._schmeud as schmeud_rs\n",
    "from schmeud._schmeud import statics\n",
    "from schmeud import ml\n",
    "from tqdm import tqdm\n",
    "\n",
    "import glob\n",
    "import os\n",
    "import pathlib\n",
    "import pickle\n",
    "import signac\n",
    "import freud\n",
    "from numba import njit\n",
    "\n",
    "from dataclasses import dataclass\n",
    "from collections import defaultdict\n",
    "\n",
    "import matplotlib.pyplot as plt\n",
    "from scipy import stats\n",
    "# import hoomd"
   ]
  },
  {
   "cell_type": "code",
   "execution_count": 2,
   "metadata": {},
   "outputs": [
    {
     "name": "stderr",
     "output_type": "stream",
     "text": [
      "/home/ian/micromamba/envs/softness-autoencoder/lib/python3.11/site-packages/tqdm/auto.py:21: TqdmWarning: IProgress not found. Please update jupyter and ipywidgets. See https://ipywidgets.readthedocs.io/en/stable/user_install.html\n",
      "  from .autonotebook import tqdm as notebook_tqdm\n"
     ]
    }
   ],
   "source": [
    "from monk import workflow, utils"
   ]
  },
  {
   "cell_type": "code",
   "execution_count": 3,
   "metadata": {},
   "outputs": [
    {
     "data": {
      "text/plain": [
       "(PosixPath('/home/ian/Projects/work/monk/workflows/2d-osc-shear/config.yaml'),\n",
       " {'root': '/media/ian/Data2/monk/2d-osc-shear',\n",
       "  'origin': '/media/ian/Data2/monk/2d-esl'})"
      ]
     },
     "execution_count": 3,
     "metadata": {},
     "output_type": "execute_result"
    }
   ],
   "source": [
    "parent = pathlib.Path(os.getcwd()).parent / \"config.yaml\"\n",
    "config = workflow.get_config(parent.as_posix())\n",
    "parent, config"
   ]
  },
  {
   "cell_type": "code",
   "execution_count": 4,
   "metadata": {},
   "outputs": [
    {
     "data": {
      "text/plain": [
       "{'avail_seed': 18, 'dt': 0.005, 'step_unit': 200, 'equil_time': 100, 'min_periods': 20, 'dumps': 40, 'period_times': [30.0, 100.0, 300.0, 1000.0], 'max_shears': [0.01, 0.02, 0.03, 0.05, 0.08, 0.12, 0.04, 0.06, 0.07], '_status': {}}"
      ]
     },
     "execution_count": 4,
     "metadata": {},
     "output_type": "execute_result"
    }
   ],
   "source": [
    "project: signac.Project = signac.get_project(root=config['root'])\n",
    "project.doc"
   ]
  },
  {
   "cell_type": "code",
   "execution_count": 5,
   "metadata": {},
   "outputs": [
    {
     "name": "stderr",
     "output_type": "stream",
     "text": [
      "/home/ian/micromamba/envs/softness-autoencoder/lib/python3.11/site-packages/sklearn/base.py:376: InconsistentVersionWarning: Trying to unpickle estimator StandardScaler from version 1.1.2 when using version 1.4.1.post1. This might lead to breaking code or invalid results. Use at your own risk. For more info please refer to:\n",
      "https://scikit-learn.org/stable/model_persistence.html#security-maintainability-limitations\n",
      "  warnings.warn(\n",
      "/home/ian/micromamba/envs/softness-autoencoder/lib/python3.11/site-packages/sklearn/base.py:376: InconsistentVersionWarning: Trying to unpickle estimator LinearSVC from version 1.1.2 when using version 1.4.1.post1. This might lead to breaking code or invalid results. Use at your own risk. For more info please refer to:\n",
      "https://scikit-learn.org/stable/model_persistence.html#security-maintainability-limitations\n",
      "  warnings.warn(\n",
      "/home/ian/micromamba/envs/softness-autoencoder/lib/python3.11/site-packages/sklearn/base.py:376: InconsistentVersionWarning: Trying to unpickle estimator Pipeline from version 1.1.2 when using version 1.4.1.post1. This might lead to breaking code or invalid results. Use at your own risk. For more info please refer to:\n",
      "https://scikit-learn.org/stable/model_persistence.html#security-maintainability-limitations\n",
      "  warnings.warn(\n"
     ]
    }
   ],
   "source": [
    "pipe = None\n",
    "pipe0 = None\n",
    "pipe1 = None\n",
    "with open(\"svc.pkl\", \"rb\") as f:\n",
    "    pipe = pickle.load(f)\n",
    "\n",
    "with open(\"svc_type0.pkl\", \"rb\") as f:\n",
    "    pipe0 = pickle.load(f)\n",
    "\n",
    "with open(\"svc_type1.pkl\", \"rb\") as f:\n",
    "    pipe1 = pickle.load(f)"
   ]
  },
  {
   "cell_type": "code",
   "execution_count": 6,
   "metadata": {},
   "outputs": [],
   "source": [
    "@dataclass(frozen=True, eq=True)\n",
    "class Statepoint:\n",
    "    max_shear: float\n",
    "    period: float\n",
    "    temp: float\n",
    "    prep: str"
   ]
  },
  {
   "cell_type": "code",
   "execution_count": 7,
   "metadata": {},
   "outputs": [],
   "source": [
    "def get_pr(soft, prep):\n",
    "    if prep == \"HTL\":\n",
    "        fit = [0.14949216, 0.39594848]\n",
    "    elif prep == \"ESL\":\n",
    "        fit = [0.19945844, 0.42320983]\n",
    "    else:\n",
    "        raise ValueError(f\"Unknown prep {prep}\")\n",
    "    return fit[0] * soft + fit[1]"
   ]
  },
  {
   "cell_type": "code",
   "execution_count": 8,
   "metadata": {},
   "outputs": [
    {
     "name": "stdout",
     "output_type": "stream",
     "text": [
      "634e14bc75836df75158fb15f379d8bb\n",
      "7ec2f6aca035e69077eab24383a21cb6\n",
      "cfa1e4c0007fd65d020f809715a6f0b4\n",
      "ecce68c50e28a33684826f28780bf6e9\n",
      "1d0fe2ba44a6f635f5504dcbcee0ebc9\n",
      "1083a2a09eec2c6cf215ebc7a9706cac\n",
      "09d3dccc56f1fa9330b57901cd232ab7\n",
      "6976a7c10ada4159010403f8027f3ea5\n",
      "9158e73b2e4c9fd1a565e1e5d1bc3af5\n",
      "c6d7afd0de62bfa16d05da47815227eb\n",
      "bf92a185d043ce3ef666e05e427c7e76\n",
      "a8f2c249ed85533b56b0729b7ab96d18\n"
     ]
    },
    {
     "name": "stderr",
     "output_type": "stream",
     "text": [
      "sys:1: CategoricalRemappingWarning: Local categoricals have different encodings, expensive re-encoding is done to perform this merge operation. Consider using a StringCache or an Enum type if the categories are known in advance\n"
     ]
    }
   ],
   "source": [
    "# output = defaultdict(list)\n",
    "x = np.linspace(-1.0, 1.0, 11)\n",
    "x2 = (x[1:] + x[:-1]) / 2\n",
    "l = [f\"{x:.2f}\" for x in x2]\n",
    "l.insert(0, \"-inf\")\n",
    "l.append(\"inf\")\n",
    "\n",
    "datasets = []\n",
    "\n",
    "for job in project:\n",
    "    print(job)\n",
    "    prep = job.sp[\"prep\"]\n",
    "    # if prep != \"ESL\":\n",
    "    #     continue\n",
    "    # print(prep)\n",
    "    \n",
    "    experiments = sorted(glob.glob(job.fn(\"longer_experiments/*/*/traj-fire_period-*.gsd\")))\n",
    "    if len(experiments) == 0:\n",
    "        continue\n",
    "    for exper in experiments:\n",
    "        max_shear = utils.extract_between(exper, \"max-shear-\", \"/\")\n",
    "        period = utils.extract_between(exper, \"period-\", \".gsd\")\n",
    "        temp = utils.extract_between(exper, \"temp-\", \"/\")\n",
    "        df_path = f\"longer_experiments/max-shear-{max_shear}/temp-{temp}/auto-encoder-dataset-v4_period-{period}.parquet\"\n",
    "        sp = Statepoint(max_shear=float(max_shear), period=float(period), temp=float(temp), prep=prep)\n",
    "        \n",
    "        if float(period) != 1000.0 or float(temp) != 0.019836 or float(max_shear) != 0.04:\n",
    "            continue\n",
    "\n",
    "        dataset = pl.read_parquet(job.fn(df_path))\n",
    "\n",
    "        cuts = dataset[\"soft\"].cut(x, labels=l)\n",
    "\n",
    "        # sf_len = dataset[0][\"sfs\"][0].shape[0]\n",
    "        # X = np.zeros((len(dataset), sf_len + 10 + 12), dtype=np.float32)\n",
    "        # X[:, 0] = dataset[\"strain\"]\n",
    "        # X[:, 1] = (dataset[\"id\"] == 0)\n",
    "        # X[:, 2] = (dataset[\"id\"] == 1)\n",
    "        # X[:, 3:6] = np.vstack(dataset[\"xy\"].to_numpy())\n",
    "        # X[:, 6:9] = np.vstack(dataset[\"xx\"].to_numpy())\n",
    "        # X[:, 9:12] = np.vstack(dataset[\"yy\"].to_numpy())\n",
    "        # X[:, 13] = (dataset[\"soft\"].mean())\n",
    "        # X[:, 14] = (dataset[\"soft\"].std())\n",
    "        # X[:, 15:-7] = np.vstack(dataset[\"sfs\"].to_numpy())\n",
    "        # X[:, -7:-1] = np.vstack(dataset[\"local_soft\"].to_numpy())\n",
    "        # X[:, -1] = dataset[\"soft\"]\n",
    "\n",
    "        soft_len = dataset[0][\"local_soft\"][0].shape[0]\n",
    "        X = np.zeros((len(dataset), soft_len + 1), dtype=np.float32)\n",
    "        X[:, :-1] = np.vstack(dataset[\"local_soft\"].to_numpy())\n",
    "        X[:, -1] = dataset[\"soft\"]\n",
    "\n",
    "        dataset = dataset.with_columns(\n",
    "            sfs = X,\n",
    "            pr = pl.col(\"soft\").map_batches(lambda x: get_pr(x, prep)),\n",
    "            prep = pl.lit(prep),\n",
    "            cuts = cuts\n",
    "        )\n",
    "\n",
    "        # output[sp].append(dataset)\n",
    "        datasets.append(dataset)\n",
    "\n",
    "dataset = pl.concat(datasets)"
   ]
  },
  {
   "cell_type": "code",
   "execution_count": 9,
   "metadata": {},
   "outputs": [
    {
     "data": {
      "text/plain": [
       "-0.19127468777041065"
      ]
     },
     "execution_count": 9,
     "metadata": {},
     "output_type": "execute_result"
    }
   ],
   "source": [
    "dataset[\"soft\"].mean()"
   ]
  },
  {
   "cell_type": "code",
   "execution_count": 10,
   "metadata": {},
   "outputs": [
    {
     "name": "stdout",
     "output_type": "stream",
     "text": [
      "Using cuda device\n"
     ]
    }
   ],
   "source": [
    "device = (\n",
    "    \"cuda\"\n",
    "    if torch.cuda.is_available()\n",
    "    else \"mps\"\n",
    "    if torch.backends.mps.is_available()\n",
    "    else \"cpu\"\n",
    ")\n",
    "print(f\"Using {device} device\")"
   ]
  },
  {
   "cell_type": "code",
   "execution_count": 11,
   "metadata": {},
   "outputs": [
    {
     "data": {
      "text/html": [
       "<div><style>\n",
       ".dataframe > thead > tr,\n",
       ".dataframe > tbody > tr {\n",
       "  text-align: right;\n",
       "  white-space: pre-wrap;\n",
       "}\n",
       "</style>\n",
       "<small>shape: (5, 16)</small><table border=\"1\" class=\"dataframe\"><thead><tr><th>frame</th><th>strain</th><th>id</th><th>soft</th><th>sfs</th><th>local_soft</th><th>xx</th><th>yy</th><th>xy</th><th>d2min_irr_10</th><th>d2min_rev_10</th><th>d2min_irr_20</th><th>d2min_rev_20</th><th>pr</th><th>prep</th><th>cuts</th></tr><tr><td>i32</td><td>f32</td><td>u32</td><td>f32</td><td>list[f32]</td><td>list[f32]</td><td>list[f64]</td><td>list[f64]</td><td>list[f64]</td><td>f32</td><td>f32</td><td>f32</td><td>f32</td><td>f32</td><td>str</td><td>cat</td></tr></thead><tbody><tr><td>7959</td><td>0.04</td><td>1</td><td>-0.864295</td><td>[-1.107918, -0.894286, … -0.864295]</td><td>[-1.107918, -0.894286, … -0.110971]</td><td>[2.048928, 2.237399, 2.416862]</td><td>[2.047171, 2.030886, 2.134572]</td><td>[-1.366724, -1.396127, -1.408527]</td><td>0.000117</td><td>0.086112</td><td>0.000332</td><td>0.184264</td><td>0.266743</td><td>&quot;HTL&quot;</td><td>&quot;-0.90&quot;</td></tr><tr><td>7959</td><td>0.04</td><td>0</td><td>0.624044</td><td>[0.466251, 0.387235, … 0.624044]</td><td>[0.466251, 0.387235, … -0.094038]</td><td>[-0.193394, -0.32373, -0.550024]</td><td>[1.788257, 1.704397, 1.548505]</td><td>[2.997839, 2.894223, 2.702929]</td><td>0.000116</td><td>0.065206</td><td>0.000228</td><td>0.12339</td><td>0.489238</td><td>&quot;HTL&quot;</td><td>&quot;0.70&quot;</td></tr><tr><td>7959</td><td>0.04</td><td>1</td><td>0.450813</td><td>[0.678534, 0.617148, … 0.450813]</td><td>[0.678534, 0.617148, … -0.113642]</td><td>[-0.699455, -0.732526, -0.749147]</td><td>[1.619719, 1.665801, 1.812247]</td><td>[-0.755693, -0.744573, -0.732704]</td><td>0.000036</td><td>0.045519</td><td>0.000174</td><td>0.106589</td><td>0.463341</td><td>&quot;HTL&quot;</td><td>&quot;0.50&quot;</td></tr><tr><td>7959</td><td>0.04</td><td>0</td><td>-0.10508</td><td>[0.445787, -0.114231, … -0.10508]</td><td>[0.445787, -0.114231, … -0.139084]</td><td>[-0.616682, -0.561337, -0.550323]</td><td>[-1.132367, -1.10511, -1.045421]</td><td>[-1.518712, -1.663485, -1.877652]</td><td>0.000245</td><td>0.040277</td><td>0.000524</td><td>0.097985</td><td>0.38024</td><td>&quot;HTL&quot;</td><td>&quot;-0.10&quot;</td></tr><tr><td>7959</td><td>0.04</td><td>0</td><td>0.8924</td><td>[1.487257, 0.736833, … 0.8924]</td><td>[1.487257, 0.736833, … -0.178819]</td><td>[0.137908, 0.195747, 0.374334]</td><td>[-3.096803, -3.048461, -3.07191]</td><td>[0.690919, 0.623638, 0.488649]</td><td>0.000077</td><td>0.018019</td><td>0.000195</td><td>0.058571</td><td>0.529355</td><td>&quot;HTL&quot;</td><td>&quot;0.90&quot;</td></tr></tbody></table></div>"
      ],
      "text/plain": [
       "shape: (5, 16)\n",
       "┌───────┬────────┬─────┬───────────┬───┬──────────────┬──────────┬──────┬───────┐\n",
       "│ frame ┆ strain ┆ id  ┆ soft      ┆ … ┆ d2min_rev_20 ┆ pr       ┆ prep ┆ cuts  │\n",
       "│ ---   ┆ ---    ┆ --- ┆ ---       ┆   ┆ ---          ┆ ---      ┆ ---  ┆ ---   │\n",
       "│ i32   ┆ f32    ┆ u32 ┆ f32       ┆   ┆ f32          ┆ f32      ┆ str  ┆ cat   │\n",
       "╞═══════╪════════╪═════╪═══════════╪═══╪══════════════╪══════════╪══════╪═══════╡\n",
       "│ 7959  ┆ 0.04   ┆ 1   ┆ -0.864295 ┆ … ┆ 0.184264     ┆ 0.266743 ┆ HTL  ┆ -0.90 │\n",
       "│ 7959  ┆ 0.04   ┆ 0   ┆ 0.624044  ┆ … ┆ 0.12339      ┆ 0.489238 ┆ HTL  ┆ 0.70  │\n",
       "│ 7959  ┆ 0.04   ┆ 1   ┆ 0.450813  ┆ … ┆ 0.106589     ┆ 0.463341 ┆ HTL  ┆ 0.50  │\n",
       "│ 7959  ┆ 0.04   ┆ 0   ┆ -0.10508  ┆ … ┆ 0.097985     ┆ 0.38024  ┆ HTL  ┆ -0.10 │\n",
       "│ 7959  ┆ 0.04   ┆ 0   ┆ 0.8924    ┆ … ┆ 0.058571     ┆ 0.529355 ┆ HTL  ┆ 0.90  │\n",
       "└───────┴────────┴─────┴───────────┴───┴──────────────┴──────────┴──────┴───────┘"
      ]
     },
     "execution_count": 11,
     "metadata": {},
     "output_type": "execute_result"
    }
   ],
   "source": [
    "dataset.head()"
   ]
  },
  {
   "cell_type": "code",
   "execution_count": 32,
   "metadata": {},
   "outputs": [],
   "source": [
    "class Encoder(nn.Module):\n",
    "    def __init__(self, num_input_channels: int, base_channel_size: int, latent_dim: int, act_fn: object = nn.ReLU):\n",
    "        super().__init__()\n",
    "        self.net = nn.Sequential(\n",
    "            nn.Linear(num_input_channels, base_channel_size),\n",
    "            act_fn(),\n",
    "            nn.Linear(base_channel_size, base_channel_size//2),\n",
    "            act_fn(),\n",
    "            nn.Linear(base_channel_size//2, latent_dim),\n",
    "        )\n",
    "\n",
    "    def forward(self, x):\n",
    "        return self.net(x)\n",
    "\n",
    "class Decoder(nn.Module):\n",
    "    def __init__(self, base_channel_size: int, latent_dim: int, act_fn: object = nn.ReLU):\n",
    "        super().__init__()\n",
    "        self.net = nn.Sequential(\n",
    "            nn.Linear(latent_dim + 1, base_channel_size//2),\n",
    "            act_fn(),\n",
    "            nn.Linear(base_channel_size//2, base_channel_size),\n",
    "            act_fn(),\n",
    "            nn.Linear(base_channel_size, 1),\n",
    "            # nn.Sigmoid()\n",
    "            # nn.Tanh()\n",
    "        )\n",
    "\n",
    "    def forward(self, x):\n",
    "        return self.net(x)\n",
    "\n",
    "\n",
    "class AutoEncoder(nn.Module):\n",
    "    def __init__(self, num_input_channels: int, base_channel_size: int, latent_dim: int, act_fn: object = nn.ReLU):\n",
    "        super().__init__()\n",
    "        self.num_input_channels = num_input_channels\n",
    "        self.encoder = Encoder(num_input_channels, base_channel_size, latent_dim, act_fn)\n",
    "        self.decoder = Decoder(base_channel_size, latent_dim, act_fn)\n",
    "\n",
    "    def forward(self, x):\n",
    "        soft = x[:, -1].view(-1, 1)\n",
    "        x = self.encoder(x[:, :self.num_input_channels])\n",
    "        x = self.decoder(torch.cat((x, soft), 1))\n",
    "        return x"
   ]
  },
  {
   "cell_type": "code",
   "execution_count": 33,
   "metadata": {},
   "outputs": [
    {
     "data": {
      "image/png": "[encoded data removed]",
      "text/plain": [
       "<Figure size 640x480 with 1 Axes>"
      ]
     },
     "metadata": {},
     "output_type": "display_data"
    }
   ],
   "source": [
    "plt.hist(dataset[\"pr\"], bins=50);"
   ]
  },
  {
   "cell_type": "code",
   "execution_count": 34,
   "metadata": {},
   "outputs": [
    {
     "data": {
      "text/plain": [
       "(array([[-1.107918  , -0.89428586, -0.51279366, ..., -0.15470392,\n",
       "         -0.11097123, -0.86429465],\n",
       "        [ 0.46625054,  0.38723546,  0.43080336, ..., -0.13633235,\n",
       "         -0.09403837,  0.6240445 ],\n",
       "        [ 0.67853445,  0.6171476 ,  0.4407372 , ..., -0.13178013,\n",
       "         -0.11364177,  0.45081285],\n",
       "        ...,\n",
       "        [-0.13168363, -0.1385024 , -0.21823561, ..., -0.2260388 ,\n",
       "         -0.2452051 , -0.86067826],\n",
       "        [-0.23722409, -0.13983689, -0.15769361, ..., -0.25287127,\n",
       "         -0.23524266,  0.0054784 ],\n",
       "        [ 0.09118807,  0.13289233, -0.07547852, ..., -0.27505198,\n",
       "         -0.29927158, -0.1053692 ]], dtype=float32),\n",
       " array([0.26674318, 0.48923823, 0.46334144, ..., 0.25154027, 0.42430252,\n",
       "        0.40219304], dtype=float32))"
      ]
     },
     "execution_count": 34,
     "metadata": {},
     "output_type": "execute_result"
    }
   ],
   "source": [
    "# Y = (dataset[\"d2min_rev_10\"] > 0.08).to_numpy().astype(np.float32)\n",
    "# Y = np.log(dataset[\"d2min_rev_10\"].to_numpy())\n",
    "Y = dataset[\"pr\"].to_numpy()\n",
    "\n",
    "data_len = len(Y)\n",
    "sf_len = dataset[0][\"sfs\"][0].shape[0]\n",
    "\n",
    "X = np.zeros((data_len, sf_len), dtype=np.float32)\n",
    "X[:, :] = np.vstack(dataset[\"sfs\"].to_numpy())\n",
    "# X[:, 0] = dataset[\"strain\"]\n",
    "# X[:, 1] = (dataset[\"id\"] == 0)\n",
    "# X[:, 2] = (dataset[\"id\"] == 1)\n",
    "# X[:, 3] = (dataset[\"prep\"] == \"ESL\")\n",
    "# X[:, 4] = (dataset[\"prep\"] == \"HTL\")\n",
    "# X[:, 5:-1] = np.vstack(dataset[\"sfs\"].to_numpy())\n",
    "# X[:, -1] = dataset[\"soft\"]\n",
    "\n",
    "X, Y"
   ]
  },
  {
   "cell_type": "code",
   "execution_count": 35,
   "metadata": {},
   "outputs": [],
   "source": [
    "\n",
    "# Normalizing Data\n",
    "scaler = StandardScaler()\n",
    "X_scaled = scaler.fit_transform(X)\n",
    "\n",
    "scaler_y = StandardScaler()\n",
    "Y_scaled = scaler_y.fit_transform(Y.reshape(-1, 1))\n",
    "\n",
    "X_scaled, Y_scaled = shuffle(X_scaled, Y_scaled)\n",
    "\n",
    "# Converting to PyTorch tensor\n",
    "X_tensor = torch.FloatTensor(X_scaled)\n",
    "Y_tensor = torch.FloatTensor(Y_scaled)"
   ]
  },
  {
   "cell_type": "code",
   "execution_count": 36,
   "metadata": {},
   "outputs": [],
   "source": [
    "import torch.utils.data as data_utils\n",
    "\n",
    "torch_dataset = data_utils.TensorDataset(X_tensor.to(device), Y_tensor.to(device))\n",
    "train_len = int(data_len*0.5)\n",
    "train, test = data_utils.random_split(torch_dataset, [train_len, data_len - train_len])\n",
    "train_loader = data_utils.DataLoader(train, batch_size=128, shuffle=True)\n",
    "test_loader = data_utils.DataLoader(test, batch_size=data_len - train_len)"
   ]
  },
  {
   "cell_type": "code",
   "execution_count": 28,
   "metadata": {},
   "outputs": [],
   "source": [
    "# Setting random seed for reproducibility\n",
    "torch.manual_seed(12)\n",
    "\n",
    "input_size = X.shape[1]  # Number of input features\n",
    "encoding_dim = 1  # Desired number of output dimensions\n",
    "model = AutoEncoder(input_size - 1, 512, encoding_dim).to(device)\n",
    "\n",
    "# Loss function and optimizer\n",
    "# loss_fn = nn.BCELoss()\n",
    "loss_fn = nn.MSELoss()\n",
    "optimizer = torch.optim.Adam(model.parameters(), lr=0.003)"
   ]
  },
  {
   "cell_type": "code",
   "execution_count": 29,
   "metadata": {},
   "outputs": [
    {
     "name": "stdout",
     "output_type": "stream",
     "text": [
      "Epoch [1/10], Loss: 0.0116\n",
      "Epoch [2/10], Loss: 0.0109\n",
      "Epoch [3/10], Loss: 0.0090\n",
      "Epoch [4/10], Loss: 0.0085\n",
      "Epoch [5/10], Loss: 0.0086\n",
      "Epoch [6/10], Loss: 0.0093\n",
      "Epoch [7/10], Loss: 0.0085\n",
      "Epoch [8/10], Loss: 0.0084\n",
      "Epoch [9/10], Loss: 0.0082\n",
      "Epoch [10/10], Loss: 0.0084\n"
     ]
    }
   ],
   "source": [
    "\n",
    "\n",
    "# Training the autoencoder\n",
    "# num_epochs = 20\n",
    "# for epoch in range(num_epochs):\n",
    "#    # Forward pass\n",
    "#    outputs = model(X_tensor)\n",
    "#    loss = criterion(outputs, X_tensor)\n",
    "\n",
    "#    # Backward pass and optimization\n",
    "#    optimizer.zero_grad()\n",
    "#    loss.backward()\n",
    "#    optimizer.step()\n",
    "\n",
    "n_epochs = 10\n",
    "for epoch in range(n_epochs):\n",
    "   for X_batch, y_batch in train_loader:\n",
    "      y_pred = model(X_batch)\n",
    "      loss = loss_fn(y_pred, y_batch)\n",
    "      optimizer.zero_grad()\n",
    "      loss.backward()\n",
    "      optimizer.step()\n",
    "\n",
    "   for X_test, y_test in test_loader:\n",
    "      y_pred = model(X_test)\n",
    "      loss = loss_fn(y_pred, y_test)\n",
    "\n",
    "\n",
    "      # Loss for each epoch\n",
    "      print(f'Epoch [{epoch + 1}/{n_epochs}], Loss: {loss.item():.4f}')\n",
    "\n",
    "# Encoding the data using the trained autoencoder\n",
    "# encoded_data = model.encoder(X_tensor).detach().numpy()"
   ]
  },
  {
   "cell_type": "markdown",
   "metadata": {},
   "source": [
    "host_model = model.to(\"cpu\")\n",
    "host_model.encoder(dataset[0][\"sfs\"][0][:-1])"
   ]
  },
  {
   "cell_type": "code",
   "execution_count": 30,
   "metadata": {},
   "outputs": [
    {
     "data": {
      "text/plain": [
       "[<matplotlib.lines.Line2D at 0x76bcc0225a50>]"
      ]
     },
     "execution_count": 30,
     "metadata": {},
     "output_type": "execute_result"
    },
    {
     "data": {
      "image/png": "[encoded data removed]",
      "text/plain": [
       "<Figure size 640x480 with 1 Axes>"
      ]
     },
     "metadata": {},
     "output_type": "display_data"
    }
   ],
   "source": [
    "plt.hist2d(y_test.cpu().detach().numpy()[:,0], y_pred.cpu().detach().numpy()[:,0], bins=100);\n",
    "plt.plot([-3, 5], [-3, 5], 'r--')"
   ]
  },
  {
   "cell_type": "code",
   "execution_count": 31,
   "metadata": {},
   "outputs": [
    {
     "data": {
      "text/plain": [
       "Text(0.5, 1.0, 'System softness (mean, std) included')"
      ]
     },
     "execution_count": 31,
     "metadata": {},
     "output_type": "execute_result"
    },
    {
     "data": {
      "image/png": "[encoded data removed]",
      "text/plain": [
       "<Figure size 640x480 with 1 Axes>"
      ]
     },
     "metadata": {},
     "output_type": "display_data"
    }
   ],
   "source": [
    "plt.hist2d(y_test.cpu().detach().numpy()[:,0], y_pred.cpu().detach().numpy()[:,0], bins=100);\n",
    "plt.xlabel(r\"True $P_R$\", size=\"xx-large\")\n",
    "plt.ylabel(r\"Predicted $P_R$\", size=\"xx-large\")\n",
    "plt.title(r\"System softness (mean, std) included\", size=\"xx-large\")"
   ]
  },
  {
   "cell_type": "code",
   "execution_count": 48,
   "metadata": {},
   "outputs": [
    {
     "data": {
      "text/plain": [
       "PearsonRResult(statistic=0.99996393378023, pvalue=0.0)"
      ]
     },
     "execution_count": 48,
     "metadata": {},
     "output_type": "execute_result"
    }
   ],
   "source": [
    "stats.pearsonr(y_test.cpu().detach().numpy()[:,0], y_pred.cpu().detach().numpy()[:,0])"
   ]
  },
  {
   "cell_type": "code",
   "execution_count": 38,
   "metadata": {},
   "outputs": [
    {
     "name": "stdout",
     "output_type": "stream",
     "text": [
      "Epoch [1/10], Loss: 0.0304\n",
      "Epoch [2/10], Loss: 0.0278\n",
      "Epoch [3/10], Loss: 0.0277\n",
      "Epoch [4/10], Loss: 0.0283\n",
      "Epoch [5/10], Loss: 0.0289\n",
      "Epoch [6/10], Loss: 0.0312\n",
      "Epoch [7/10], Loss: 0.0283\n",
      "Epoch [8/10], Loss: 0.0276\n",
      "Epoch [9/10], Loss: 0.0285\n",
      "Epoch [10/10], Loss: 0.0278\n",
      "Epoch [1/10], Loss: 0.0321\n",
      "Epoch [2/10], Loss: 0.0329\n",
      "Epoch [3/10], Loss: 0.0279\n",
      "Epoch [4/10], Loss: 0.0287\n",
      "Epoch [5/10], Loss: 0.0273\n",
      "Epoch [6/10], Loss: 0.0274\n",
      "Epoch [7/10], Loss: 0.0285\n",
      "Epoch [8/10], Loss: 0.0272\n",
      "Epoch [9/10], Loss: 0.0274\n",
      "Epoch [10/10], Loss: 0.0274\n",
      "Epoch [1/10], Loss: 0.0283\n",
      "Epoch [2/10], Loss: 0.0274\n",
      "Epoch [3/10], Loss: 0.0282\n",
      "Epoch [4/10], Loss: 0.0274\n",
      "Epoch [5/10], Loss: 0.0273\n",
      "Epoch [6/10], Loss: 0.0271\n",
      "Epoch [7/10], Loss: 0.0299\n",
      "Epoch [8/10], Loss: 0.0278\n",
      "Epoch [9/10], Loss: 0.0274\n",
      "Epoch [10/10], Loss: 0.0274\n",
      "Epoch [1/10], Loss: 0.0308\n",
      "Epoch [2/10], Loss: 0.0275\n",
      "Epoch [3/10], Loss: 0.0273\n",
      "Epoch [4/10], Loss: 0.0268\n",
      "Epoch [5/10], Loss: 0.0268\n",
      "Epoch [6/10], Loss: 0.0272\n",
      "Epoch [7/10], Loss: 0.0276\n",
      "Epoch [8/10], Loss: 0.0271\n",
      "Epoch [9/10], Loss: 0.0271\n",
      "Epoch [10/10], Loss: 0.0273\n",
      "Epoch [1/10], Loss: 0.0270\n",
      "Epoch [2/10], Loss: 0.0282\n",
      "Epoch [3/10], Loss: 0.0266\n",
      "Epoch [4/10], Loss: 0.0270\n",
      "Epoch [5/10], Loss: 0.0274\n",
      "Epoch [6/10], Loss: 0.0271\n",
      "Epoch [7/10], Loss: 0.0269\n",
      "Epoch [8/10], Loss: 0.0265\n",
      "Epoch [9/10], Loss: 0.0271\n",
      "Epoch [10/10], Loss: 0.0281\n",
      "Epoch [1/10], Loss: 0.0302\n",
      "Epoch [2/10], Loss: 0.0279\n",
      "Epoch [3/10], Loss: 0.0262\n",
      "Epoch [4/10], Loss: 0.0267\n",
      "Epoch [5/10], Loss: 0.0266\n",
      "Epoch [6/10], Loss: 0.0266\n",
      "Epoch [7/10], Loss: 0.0264\n",
      "Epoch [8/10], Loss: 0.0288\n",
      "Epoch [9/10], Loss: 0.0264\n",
      "Epoch [10/10], Loss: 0.0267\n",
      "Epoch [1/10], Loss: 0.0267\n",
      "Epoch [2/10], Loss: 0.0260\n",
      "Epoch [3/10], Loss: 0.0282\n",
      "Epoch [4/10], Loss: 0.0260\n",
      "Epoch [5/10], Loss: 0.0276\n",
      "Epoch [6/10], Loss: 0.0260\n",
      "Epoch [7/10], Loss: 0.0277\n",
      "Epoch [8/10], Loss: 0.0260\n",
      "Epoch [9/10], Loss: 0.0258\n",
      "Epoch [10/10], Loss: 0.0263\n",
      "Epoch [1/10], Loss: 0.0260\n",
      "Epoch [2/10], Loss: 0.0274\n",
      "Epoch [3/10], Loss: 0.0271\n",
      "Epoch [4/10], Loss: 0.0260\n",
      "Epoch [5/10], Loss: 0.0259\n",
      "Epoch [6/10], Loss: 0.0270\n",
      "Epoch [7/10], Loss: 0.0254\n",
      "Epoch [8/10], Loss: 0.0261\n",
      "Epoch [9/10], Loss: 0.0252\n",
      "Epoch [10/10], Loss: 0.0271\n",
      "Epoch [1/10], Loss: 0.0253\n",
      "Epoch [2/10], Loss: 0.0261\n",
      "Epoch [3/10], Loss: 0.0265\n",
      "Epoch [4/10], Loss: 0.0250\n",
      "Epoch [5/10], Loss: 0.0256\n",
      "Epoch [6/10], Loss: 0.0250\n",
      "Epoch [7/10], Loss: 0.0268\n",
      "Epoch [8/10], Loss: 0.0249\n",
      "Epoch [9/10], Loss: 0.0256\n",
      "Epoch [10/10], Loss: 0.0255\n",
      "Epoch [1/10], Loss: 0.0259\n",
      "Epoch [2/10], Loss: 0.0252\n",
      "Epoch [3/10], Loss: 0.0247\n",
      "Epoch [4/10], Loss: 0.0248\n",
      "Epoch [5/10], Loss: 0.0255\n",
      "Epoch [6/10], Loss: 0.0251\n",
      "Epoch [7/10], Loss: 0.0245\n",
      "Epoch [8/10], Loss: 0.0243\n",
      "Epoch [9/10], Loss: 0.0251\n",
      "Epoch [10/10], Loss: 0.0247\n",
      "Epoch [1/10], Loss: 0.0244\n",
      "Epoch [2/10], Loss: 0.0264\n",
      "Epoch [3/10], Loss: 0.0242\n",
      "Epoch [4/10], Loss: 0.0244\n",
      "Epoch [5/10], Loss: 0.0262\n",
      "Epoch [6/10], Loss: 0.0249\n",
      "Epoch [7/10], Loss: 0.0247\n",
      "Epoch [8/10], Loss: 0.0248\n",
      "Epoch [9/10], Loss: 0.0240\n",
      "Epoch [10/10], Loss: 0.0252\n",
      "Epoch [1/10], Loss: 0.0243\n",
      "Epoch [2/10], Loss: 0.0237\n",
      "Epoch [3/10], Loss: 0.0259\n",
      "Epoch [4/10], Loss: 0.0242\n",
      "Epoch [5/10], Loss: 0.0237\n",
      "Epoch [6/10], Loss: 0.0235\n",
      "Epoch [7/10], Loss: 0.0239\n",
      "Epoch [8/10], Loss: 0.0247\n",
      "Epoch [9/10], Loss: 0.0236\n",
      "Epoch [10/10], Loss: 0.0241\n",
      "Epoch [1/10], Loss: 0.0241\n",
      "Epoch [2/10], Loss: 0.0238\n",
      "Epoch [3/10], Loss: 0.0256\n",
      "Epoch [4/10], Loss: 0.0233\n",
      "Epoch [5/10], Loss: 0.0245\n",
      "Epoch [6/10], Loss: 0.0230\n",
      "Epoch [7/10], Loss: 0.0235\n",
      "Epoch [8/10], Loss: 0.0237\n",
      "Epoch [9/10], Loss: 0.0239\n",
      "Epoch [10/10], Loss: 0.0235\n",
      "Epoch [1/10], Loss: 0.0232\n",
      "Epoch [2/10], Loss: 0.0233\n",
      "Epoch [3/10], Loss: 0.0230\n",
      "Epoch [4/10], Loss: 0.0241\n",
      "Epoch [5/10], Loss: 0.0236\n",
      "Epoch [6/10], Loss: 0.0229\n",
      "Epoch [7/10], Loss: 0.0225\n",
      "Epoch [8/10], Loss: 0.0227\n",
      "Epoch [9/10], Loss: 0.0241\n",
      "Epoch [10/10], Loss: 0.0233\n",
      "Epoch [1/10], Loss: 0.0229\n",
      "Epoch [2/10], Loss: 0.0277\n",
      "Epoch [3/10], Loss: 0.0223\n",
      "Epoch [4/10], Loss: 0.0236\n",
      "Epoch [5/10], Loss: 0.0222\n",
      "Epoch [6/10], Loss: 0.0249\n",
      "Epoch [7/10], Loss: 0.0226\n",
      "Epoch [8/10], Loss: 0.0222\n",
      "Epoch [9/10], Loss: 0.0224\n",
      "Epoch [10/10], Loss: 0.0240\n",
      "Epoch [1/10], Loss: 0.0252\n",
      "Epoch [2/10], Loss: 0.0232\n",
      "Epoch [3/10], Loss: 0.0229\n",
      "Epoch [4/10], Loss: 0.0221\n",
      "Epoch [5/10], Loss: 0.0229\n",
      "Epoch [6/10], Loss: 0.0221\n",
      "Epoch [7/10], Loss: 0.0221\n",
      "Epoch [8/10], Loss: 0.0220\n",
      "Epoch [9/10], Loss: 0.0214\n",
      "Epoch [10/10], Loss: 0.0221\n",
      "Epoch [1/10], Loss: 0.0221\n",
      "Epoch [2/10], Loss: 0.0276\n",
      "Epoch [3/10], Loss: 0.0216\n",
      "Epoch [4/10], Loss: 0.0214\n",
      "Epoch [5/10], Loss: 0.0214\n",
      "Epoch [6/10], Loss: 0.0212\n",
      "Epoch [7/10], Loss: 0.0221\n",
      "Epoch [8/10], Loss: 0.0213\n",
      "Epoch [9/10], Loss: 0.0218\n",
      "Epoch [10/10], Loss: 0.0210\n",
      "Epoch [1/10], Loss: 0.0211\n",
      "Epoch [2/10], Loss: 0.0209\n",
      "Epoch [3/10], Loss: 0.0219\n",
      "Epoch [4/10], Loss: 0.0211\n",
      "Epoch [5/10], Loss: 0.0214\n",
      "Epoch [6/10], Loss: 0.0208\n",
      "Epoch [7/10], Loss: 0.0219\n",
      "Epoch [8/10], Loss: 0.0210\n",
      "Epoch [9/10], Loss: 0.0216\n",
      "Epoch [10/10], Loss: 0.0225\n",
      "Epoch [1/10], Loss: 0.0205\n",
      "Epoch [2/10], Loss: 0.0207\n",
      "Epoch [3/10], Loss: 0.0206\n",
      "Epoch [4/10], Loss: 0.0211\n",
      "Epoch [5/10], Loss: 0.0213\n",
      "Epoch [6/10], Loss: 0.0219\n",
      "Epoch [7/10], Loss: 0.0204\n",
      "Epoch [8/10], Loss: 0.0204\n",
      "Epoch [9/10], Loss: 0.0202\n",
      "Epoch [10/10], Loss: 0.0207\n",
      "Epoch [1/10], Loss: 0.0211\n",
      "Epoch [2/10], Loss: 0.0203\n",
      "Epoch [3/10], Loss: 0.0217\n",
      "Epoch [4/10], Loss: 0.0196\n",
      "Epoch [5/10], Loss: 0.0202\n",
      "Epoch [6/10], Loss: 0.0194\n",
      "Epoch [7/10], Loss: 0.0209\n",
      "Epoch [8/10], Loss: 0.0199\n",
      "Epoch [9/10], Loss: 0.0197\n",
      "Epoch [10/10], Loss: 0.0194\n",
      "Epoch [1/10], Loss: 0.0215\n",
      "Epoch [2/10], Loss: 0.0207\n",
      "Epoch [3/10], Loss: 0.0194\n",
      "Epoch [4/10], Loss: 0.0200\n",
      "Epoch [5/10], Loss: 0.0199\n",
      "Epoch [6/10], Loss: 0.0211\n",
      "Epoch [7/10], Loss: 0.0188\n",
      "Epoch [8/10], Loss: 0.0187\n",
      "Epoch [9/10], Loss: 0.0202\n",
      "Epoch [10/10], Loss: 0.0190\n",
      "Epoch [1/10], Loss: 0.0209\n",
      "Epoch [2/10], Loss: 0.0224\n",
      "Epoch [3/10], Loss: 0.0188\n",
      "Epoch [4/10], Loss: 0.0192\n",
      "Epoch [5/10], Loss: 0.0187\n",
      "Epoch [6/10], Loss: 0.0186\n",
      "Epoch [7/10], Loss: 0.0195\n",
      "Epoch [8/10], Loss: 0.0187\n",
      "Epoch [9/10], Loss: 0.0183\n",
      "Epoch [10/10], Loss: 0.0183\n",
      "Epoch [1/10], Loss: 0.0205\n",
      "Epoch [2/10], Loss: 0.0186\n",
      "Epoch [3/10], Loss: 0.0187\n",
      "Epoch [4/10], Loss: 0.0186\n",
      "Epoch [5/10], Loss: 0.0181\n",
      "Epoch [6/10], Loss: 0.0181\n",
      "Epoch [7/10], Loss: 0.0178\n",
      "Epoch [8/10], Loss: 0.0177\n",
      "Epoch [9/10], Loss: 0.0176\n",
      "Epoch [10/10], Loss: 0.0175\n",
      "Epoch [1/10], Loss: 0.0188\n",
      "Epoch [2/10], Loss: 0.0178\n",
      "Epoch [3/10], Loss: 0.0176\n",
      "Epoch [4/10], Loss: 0.0175\n",
      "Epoch [5/10], Loss: 0.0173\n",
      "Epoch [6/10], Loss: 0.0171\n",
      "Epoch [7/10], Loss: 0.0172\n",
      "Epoch [8/10], Loss: 0.0182\n",
      "Epoch [9/10], Loss: 0.0172\n",
      "Epoch [10/10], Loss: 0.0172\n",
      "Epoch [1/10], Loss: 0.0175\n",
      "Epoch [2/10], Loss: 0.0173\n",
      "Epoch [3/10], Loss: 0.0171\n",
      "Epoch [4/10], Loss: 0.0172\n",
      "Epoch [5/10], Loss: 0.0169\n",
      "Epoch [6/10], Loss: 0.0182\n",
      "Epoch [7/10], Loss: 0.0166\n",
      "Epoch [8/10], Loss: 0.0175\n",
      "Epoch [9/10], Loss: 0.0174\n",
      "Epoch [10/10], Loss: 0.0166\n",
      "Epoch [1/10], Loss: 0.0170\n",
      "Epoch [2/10], Loss: 0.0203\n",
      "Epoch [3/10], Loss: 0.0165\n",
      "Epoch [4/10], Loss: 0.0165\n",
      "Epoch [5/10], Loss: 0.0164\n",
      "Epoch [6/10], Loss: 0.0161\n",
      "Epoch [7/10], Loss: 0.0166\n",
      "Epoch [8/10], Loss: 0.0160\n",
      "Epoch [9/10], Loss: 0.0156\n",
      "Epoch [10/10], Loss: 0.0156\n",
      "Epoch [1/10], Loss: 0.0171\n",
      "Epoch [2/10], Loss: 0.0161\n",
      "Epoch [3/10], Loss: 0.0168\n",
      "Epoch [4/10], Loss: 0.0158\n",
      "Epoch [5/10], Loss: 0.0158\n",
      "Epoch [6/10], Loss: 0.0157\n",
      "Epoch [7/10], Loss: 0.0154\n",
      "Epoch [8/10], Loss: 0.0159\n",
      "Epoch [9/10], Loss: 0.0153\n",
      "Epoch [10/10], Loss: 0.0152\n",
      "Epoch [1/10], Loss: 0.0188\n",
      "Epoch [2/10], Loss: 0.0169\n",
      "Epoch [3/10], Loss: 0.0154\n",
      "Epoch [4/10], Loss: 0.0158\n",
      "Epoch [5/10], Loss: 0.0171\n",
      "Epoch [6/10], Loss: 0.0152\n",
      "Epoch [7/10], Loss: 0.0157\n",
      "Epoch [8/10], Loss: 0.0153\n",
      "Epoch [9/10], Loss: 0.0152\n",
      "Epoch [10/10], Loss: 0.0144\n",
      "Epoch [1/10], Loss: 0.0151\n",
      "Epoch [2/10], Loss: 0.0158\n",
      "Epoch [3/10], Loss: 0.0150\n",
      "Epoch [4/10], Loss: 0.0152\n",
      "Epoch [5/10], Loss: 0.0175\n",
      "Epoch [6/10], Loss: 0.0144\n",
      "Epoch [7/10], Loss: 0.0146\n",
      "Epoch [8/10], Loss: 0.0142\n",
      "Epoch [9/10], Loss: 0.0141\n",
      "Epoch [10/10], Loss: 0.0154\n",
      "Epoch [1/10], Loss: 0.0178\n",
      "Epoch [2/10], Loss: 0.0161\n",
      "Epoch [3/10], Loss: 0.0145\n",
      "Epoch [4/10], Loss: 0.0151\n",
      "Epoch [5/10], Loss: 0.0148\n",
      "Epoch [6/10], Loss: 0.0155\n",
      "Epoch [7/10], Loss: 0.0142\n",
      "Epoch [8/10], Loss: 0.0139\n",
      "Epoch [9/10], Loss: 0.0138\n",
      "Epoch [10/10], Loss: 0.0149\n",
      "Epoch [1/10], Loss: 0.0174\n",
      "Epoch [2/10], Loss: 0.0152\n",
      "Epoch [3/10], Loss: 0.0146\n",
      "Epoch [4/10], Loss: 0.0139\n",
      "Epoch [5/10], Loss: 0.0136\n",
      "Epoch [6/10], Loss: 0.0134\n",
      "Epoch [7/10], Loss: 0.0146\n",
      "Epoch [8/10], Loss: 0.0132\n",
      "Epoch [9/10], Loss: 0.0132\n",
      "Epoch [10/10], Loss: 0.0132\n",
      "Epoch [1/10], Loss: 0.0155\n",
      "Epoch [2/10], Loss: 0.0137\n",
      "Epoch [3/10], Loss: 0.0129\n",
      "Epoch [4/10], Loss: 0.0130\n",
      "Epoch [5/10], Loss: 0.0132\n",
      "Epoch [6/10], Loss: 0.0126\n",
      "Epoch [7/10], Loss: 0.0127\n",
      "Epoch [8/10], Loss: 0.0126\n",
      "Epoch [9/10], Loss: 0.0125\n",
      "Epoch [10/10], Loss: 0.0127\n",
      "Epoch [1/10], Loss: 0.0148\n",
      "Epoch [2/10], Loss: 0.0130\n",
      "Epoch [3/10], Loss: 0.0133\n",
      "Epoch [4/10], Loss: 0.0124\n",
      "Epoch [5/10], Loss: 0.0128\n",
      "Epoch [6/10], Loss: 0.0124\n",
      "Epoch [7/10], Loss: 0.0121\n",
      "Epoch [8/10], Loss: 0.0122\n",
      "Epoch [9/10], Loss: 0.0124\n",
      "Epoch [10/10], Loss: 0.0120\n",
      "Epoch [1/10], Loss: 0.0160\n",
      "Epoch [2/10], Loss: 0.0127\n",
      "Epoch [3/10], Loss: 0.0122\n",
      "Epoch [4/10], Loss: 0.0118\n",
      "Epoch [5/10], Loss: 0.0122\n",
      "Epoch [6/10], Loss: 0.0116\n",
      "Epoch [7/10], Loss: 0.0115\n",
      "Epoch [8/10], Loss: 0.0113\n",
      "Epoch [9/10], Loss: 0.0119\n",
      "Epoch [10/10], Loss: 0.0119\n",
      "Epoch [1/10], Loss: 0.0122\n",
      "Epoch [2/10], Loss: 0.0165\n",
      "Epoch [3/10], Loss: 0.0115\n",
      "Epoch [4/10], Loss: 0.0112\n",
      "Epoch [5/10], Loss: 0.0124\n",
      "Epoch [6/10], Loss: 0.0112\n",
      "Epoch [7/10], Loss: 0.0113\n",
      "Epoch [8/10], Loss: 0.0110\n",
      "Epoch [9/10], Loss: 0.0107\n",
      "Epoch [10/10], Loss: 0.0106\n",
      "Epoch [1/10], Loss: 0.0117\n",
      "Epoch [2/10], Loss: 0.0111\n",
      "Epoch [3/10], Loss: 0.0109\n",
      "Epoch [4/10], Loss: 0.0111\n",
      "Epoch [5/10], Loss: 0.0109\n",
      "Epoch [6/10], Loss: 0.0104\n",
      "Epoch [7/10], Loss: 0.0106\n",
      "Epoch [8/10], Loss: 0.0106\n",
      "Epoch [9/10], Loss: 0.0109\n",
      "Epoch [10/10], Loss: 0.0102\n",
      "Epoch [1/10], Loss: 0.0121\n",
      "Epoch [2/10], Loss: 0.0108\n",
      "Epoch [3/10], Loss: 0.0111\n",
      "Epoch [4/10], Loss: 0.0105\n",
      "Epoch [5/10], Loss: 0.0109\n",
      "Epoch [6/10], Loss: 0.0107\n",
      "Epoch [7/10], Loss: 0.0098\n",
      "Epoch [8/10], Loss: 0.0105\n",
      "Epoch [9/10], Loss: 0.0107\n",
      "Epoch [10/10], Loss: 0.0100\n",
      "Epoch [1/10], Loss: 0.0117\n",
      "Epoch [2/10], Loss: 0.0134\n",
      "Epoch [3/10], Loss: 0.0107\n",
      "Epoch [4/10], Loss: 0.0109\n",
      "Epoch [5/10], Loss: 0.0099\n",
      "Epoch [6/10], Loss: 0.0097\n",
      "Epoch [7/10], Loss: 0.0094\n",
      "Epoch [8/10], Loss: 0.0094\n",
      "Epoch [9/10], Loss: 0.0090\n",
      "Epoch [10/10], Loss: 0.0097\n",
      "Epoch [1/10], Loss: 0.0102\n",
      "Epoch [2/10], Loss: 0.0104\n",
      "Epoch [3/10], Loss: 0.0107\n",
      "Epoch [4/10], Loss: 0.0098\n",
      "Epoch [5/10], Loss: 0.0092\n",
      "Epoch [6/10], Loss: 0.0095\n",
      "Epoch [7/10], Loss: 0.0102\n",
      "Epoch [8/10], Loss: 0.0089\n",
      "Epoch [9/10], Loss: 0.0089\n",
      "Epoch [10/10], Loss: 0.0087\n"
     ]
    }
   ],
   "source": [
    "# Setting random seed for reproducibility\n",
    "torch.manual_seed(12)\n",
    "\n",
    "outputs = []\n",
    "\n",
    "for input_size in range(1, 40):\n",
    "    torch.cuda.empty_cache()\n",
    "    # input_size = X.shape[1]  # Number of input features\n",
    "    encoding_dim = 1  # Desired number of output dimensions\n",
    "    model = AutoEncoder(input_size, 512, encoding_dim).to(device)\n",
    "\n",
    "    # Loss function and optimizer\n",
    "    # loss_fn = nn.BCELoss()\n",
    "    loss_fn = nn.MSELoss()\n",
    "    optimizer = torch.optim.Adam(model.parameters(), lr=0.003)\n",
    "\n",
    "    n_epochs = 10\n",
    "    for epoch in range(n_epochs):\n",
    "        for X_batch, y_batch in train_loader:\n",
    "            y_pred = model(X_batch)\n",
    "            loss = loss_fn(y_pred, y_batch)\n",
    "            optimizer.zero_grad()\n",
    "            loss.backward()\n",
    "            optimizer.step()\n",
    "\n",
    "        for X_test, y_test in test_loader:\n",
    "            y_pred = model(X_test)\n",
    "            loss = loss_fn(y_pred, y_test)\n",
    "\n",
    "\n",
    "            # Loss for each epoch\n",
    "            print(f'Epoch [{epoch + 1}/{n_epochs}], Loss: {loss.item():.4f}')\n",
    "    \n",
    "    outputs.append(loss.item())\n",
    "\n",
    "    \n"
   ]
  },
  {
   "cell_type": "code",
   "execution_count": 40,
   "metadata": {},
   "outputs": [],
   "source": [
    "np.save(\"encoder-mse-loss.npy\", outputs)"
   ]
  },
  {
   "cell_type": "code",
   "execution_count": 44,
   "metadata": {},
   "outputs": [
    {
     "data": {
      "text/plain": [
       "(0.0, 0.03)"
      ]
     },
     "execution_count": 44,
     "metadata": {},
     "output_type": "execute_result"
    },
    {
     "data": {
      "image/png": "[encoded data removed]",
      "text/plain": [
       "<Figure size 640x480 with 1 Axes>"
      ]
     },
     "metadata": {},
     "output_type": "display_data"
    }
   ],
   "source": [
    "plt.plot(outputs, color=\"black\")\n",
    "plt.ylabel(\"MSE\", size=\"xx-large\")\n",
    "plt.xlabel(r\"$r_{cut}$\", size=\"xx-large\")\n",
    "plt.ylim(0, 0.03)"
   ]
  },
  {
   "cell_type": "code",
   "execution_count": null,
   "metadata": {},
   "outputs": [],
   "source": []
  }
 ],
 "metadata": {
  "kernelspec": {
   "display_name": "Python 3",
   "language": "python",
   "name": "python3"
  },
  "language_info": {
   "codemirror_mode": {
    "name": "ipython",
    "version": 3
   },
   "file_extension": ".py",
   "mimetype": "text/x-python",
   "name": "python",
   "nbconvert_exporter": "python",
   "pygments_lexer": "ipython3",
   "version": "3.11.8"
  }
 },
 "nbformat": 4,
 "nbformat_minor": 2
}
