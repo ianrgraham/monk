{
 "cells": [
  {
   "cell_type": "code",
   "execution_count": 1,
   "metadata": {},
   "outputs": [],
   "source": [
    "import torch\n",
    "from torch import nn\n",
    "from sklearn.preprocessing import StandardScaler\n",
    "from sklearn.utils import shuffle\n",
    "\n",
    "import numpy as np\n",
    "import polars as pl\n",
    "import gsd.hoomd\n",
    "import schmeud._schmeud as schmeud_rs\n",
    "from schmeud._schmeud import statics\n",
    "from schmeud import ml\n",
    "from tqdm import tqdm\n",
    "\n",
    "import glob\n",
    "import os\n",
    "import pathlib\n",
    "import pickle\n",
    "import signac\n",
    "import freud\n",
    "from numba import njit\n",
    "\n",
    "from dataclasses import dataclass\n",
    "from collections import defaultdict\n",
    "\n",
    "import matplotlib.pyplot as plt\n",
    "from scipy import stats\n",
    "# import hoomd"
   ]
  },
  {
   "cell_type": "code",
   "execution_count": 2,
   "metadata": {},
   "outputs": [
    {
     "name": "stderr",
     "output_type": "stream",
     "text": [
      "/home/ian/micromamba/envs/softness-autoencoder/lib/python3.11/site-packages/tqdm/auto.py:21: TqdmWarning: IProgress not found. Please update jupyter and ipywidgets. See https://ipywidgets.readthedocs.io/en/stable/user_install.html\n",
      "  from .autonotebook import tqdm as notebook_tqdm\n"
     ]
    }
   ],
   "source": [
    "from monk import workflow, utils"
   ]
  },
  {
   "cell_type": "code",
   "execution_count": 3,
   "metadata": {},
   "outputs": [
    {
     "data": {
      "text/plain": [
       "(PosixPath('/home/ian/Projects/work/monk/workflows/2d-osc-shear/config.yaml'),\n",
       " {'root': '/media/ian/Data2/monk/2d-osc-shear',\n",
       "  'origin': '/media/ian/Data2/monk/2d-esl'})"
      ]
     },
     "execution_count": 3,
     "metadata": {},
     "output_type": "execute_result"
    }
   ],
   "source": [
    "parent = pathlib.Path(os.getcwd()).parent / \"config.yaml\"\n",
    "config = workflow.get_config(parent.as_posix())\n",
    "parent, config"
   ]
  },
  {
   "cell_type": "code",
   "execution_count": 4,
   "metadata": {},
   "outputs": [
    {
     "data": {
      "text/plain": [
       "{'avail_seed': 18, 'dt': 0.005, 'step_unit': 200, 'equil_time': 100, 'min_periods': 20, 'dumps': 40, 'period_times': [30.0, 100.0, 300.0, 1000.0], 'max_shears': [0.01, 0.02, 0.03, 0.05, 0.08, 0.12, 0.04, 0.06, 0.07], '_status': {}}"
      ]
     },
     "execution_count": 4,
     "metadata": {},
     "output_type": "execute_result"
    }
   ],
   "source": [
    "project: signac.Project = signac.get_project(root=config['root'])\n",
    "project.doc"
   ]
  },
  {
   "cell_type": "code",
   "execution_count": 5,
   "metadata": {},
   "outputs": [
    {
     "name": "stderr",
     "output_type": "stream",
     "text": [
      "/home/ian/micromamba/envs/softness-autoencoder/lib/python3.11/site-packages/sklearn/base.py:376: InconsistentVersionWarning: Trying to unpickle estimator StandardScaler from version 1.1.2 when using version 1.4.1.post1. This might lead to breaking code or invalid results. Use at your own risk. For more info please refer to:\n",
      "https://scikit-learn.org/stable/model_persistence.html#security-maintainability-limitations\n",
      "  warnings.warn(\n",
      "/home/ian/micromamba/envs/softness-autoencoder/lib/python3.11/site-packages/sklearn/base.py:376: InconsistentVersionWarning: Trying to unpickle estimator LinearSVC from version 1.1.2 when using version 1.4.1.post1. This might lead to breaking code or invalid results. Use at your own risk. For more info please refer to:\n",
      "https://scikit-learn.org/stable/model_persistence.html#security-maintainability-limitations\n",
      "  warnings.warn(\n",
      "/home/ian/micromamba/envs/softness-autoencoder/lib/python3.11/site-packages/sklearn/base.py:376: InconsistentVersionWarning: Trying to unpickle estimator Pipeline from version 1.1.2 when using version 1.4.1.post1. This might lead to breaking code or invalid results. Use at your own risk. For more info please refer to:\n",
      "https://scikit-learn.org/stable/model_persistence.html#security-maintainability-limitations\n",
      "  warnings.warn(\n"
     ]
    }
   ],
   "source": [
    "pipe = None\n",
    "pipe0 = None\n",
    "pipe1 = None\n",
    "with open(\"svc.pkl\", \"rb\") as f:\n",
    "    pipe = pickle.load(f)\n",
    "\n",
    "with open(\"svc_type0.pkl\", \"rb\") as f:\n",
    "    pipe0 = pickle.load(f)\n",
    "\n",
    "with open(\"svc_type1.pkl\", \"rb\") as f:\n",
    "    pipe1 = pickle.load(f)"
   ]
  },
  {
   "cell_type": "code",
   "execution_count": 6,
   "metadata": {},
   "outputs": [],
   "source": [
    "@dataclass(frozen=True, eq=True)\n",
    "class Statepoint:\n",
    "    max_shear: float\n",
    "    period: float\n",
    "    temp: float\n",
    "    prep: str"
   ]
  },
  {
   "cell_type": "code",
   "execution_count": 7,
   "metadata": {},
   "outputs": [],
   "source": [
    "def get_pr(soft, prep):\n",
    "    if prep == \"HTL\":\n",
    "        fit = [0.14949216, 0.39594848]\n",
    "    elif prep == \"ESL\":\n",
    "        fit = [0.19945844, 0.42320983]\n",
    "    else:\n",
    "        raise ValueError(f\"Unknown prep {prep}\")\n",
    "    return fit[0] * soft + fit[1]"
   ]
  },
  {
   "cell_type": "code",
   "execution_count": 67,
   "metadata": {},
   "outputs": [
    {
     "name": "stdout",
     "output_type": "stream",
     "text": [
      "a8f2c249ed85533b56b0729b7ab96d18\n"
     ]
    }
   ],
   "source": [
    "# output = defaultdict(list)\n",
    "x = np.linspace(-1.0, 1.0, 11)\n",
    "x2 = (x[1:] + x[:-1]) / 2\n",
    "l = [f\"{x:.2f}\" for x in x2]\n",
    "l.insert(0, \"-inf\")\n",
    "l.append(\"inf\")\n",
    "\n",
    "datasets = []\n",
    "\n",
    "for job in [project.open_job(id=\"a8f2c249ed85533b56b0729b7ab96d18\")]:\n",
    "    print(job)\n",
    "    prep = job.sp[\"prep\"]\n",
    "    # if prep != \"ESL\":\n",
    "    #     continue\n",
    "    # print(prep)\n",
    "    \n",
    "    experiments = sorted(glob.glob(job.fn(\"longer_experiments/*/*/traj-fire_period-*.gsd\")))\n",
    "    if len(experiments) == 0:\n",
    "        continue\n",
    "    for exper in experiments:\n",
    "        max_shear = utils.extract_between(exper, \"max-shear-\", \"/\")\n",
    "        period = utils.extract_between(exper, \"period-\", \".gsd\")\n",
    "        temp = utils.extract_between(exper, \"temp-\", \"/\")\n",
    "        df_path = f\"longer_experiments/max-shear-{max_shear}/temp-{temp}/auto-encoder-dataset-yieldstress_period-{period}.parquet\"\n",
    "        sp = Statepoint(max_shear=float(max_shear), period=float(period), temp=float(temp), prep=prep)\n",
    "        \n",
    "        if float(period) != 1000.0 or float(temp) != 0.019836 or float(max_shear) != 0.04:\n",
    "            continue\n",
    "\n",
    "        dataset = pl.read_parquet(job.fn(df_path))\n",
    "\n",
    "        cuts = dataset[\"soft\"].cut(x, labels=l)\n",
    "\n",
    "        sf_len = dataset[0][\"sfs\"][0].shape[0]\n",
    "        X = np.zeros((len(dataset), sf_len + 3 + 1 + 1), dtype=np.float32)\n",
    "        X[:, 0] = dataset[\"strain\"]\n",
    "        X[:, 1] = (dataset[\"id\"] == 0)\n",
    "        X[:, 2] = (dataset[\"id\"] == 1)\n",
    "        # X[:, 3:6] = np.vstack(dataset[\"xy\"].to_numpy())\n",
    "        # X[:, 6:9] = np.vstack(dataset[\"xx\"].to_numpy())\n",
    "        # X[:, 9:12] = np.vstack(dataset[\"yy\"].to_numpy())\n",
    "        # X[:, 13] = (dataset[\"soft\"].mean())\n",
    "        # X[:, 14] = (dataset[\"soft\"].std())\n",
    "        X[:, 3:-2] = np.vstack(dataset[\"sfs\"].to_numpy())\n",
    "        X[:, -2] = (prep == \"ESL\")\n",
    "        # X[:, -7:-1] = np.vstack(dataset[\"local_soft\"].to_numpy())\n",
    "        X[:, -1] = dataset[\"soft\"]\n",
    "\n",
    "        # soft_len = dataset[0][\"local_soft\"][0].shape[0]\n",
    "        # X = np.zeros((len(dataset), soft_len + 1), dtype=np.float32)\n",
    "        # X[:, :-1] = np.vstack(dataset[\"local_soft\"].to_numpy())\n",
    "        # X[:, -1] = dataset[\"soft\"]\n",
    "\n",
    "        dataset = dataset.with_columns(\n",
    "            sfs = X,\n",
    "            # pr = pl.col(\"soft\").map_batches(lambda x: get_pr(x, prep)),\n",
    "            # prep = pl.lit(prep),\n",
    "            # cuts = cuts\n",
    "        )\n",
    "\n",
    "        # output[sp].append(dataset)\n",
    "        datasets.append(dataset)\n",
    "\n",
    "esl_dataset = pl.concat(datasets)"
   ]
  },
  {
   "cell_type": "code",
   "execution_count": 68,
   "metadata": {},
   "outputs": [
    {
     "name": "stdout",
     "output_type": "stream",
     "text": [
      "ecce68c50e28a33684826f28780bf6e9\n"
     ]
    }
   ],
   "source": [
    "# output = defaultdict(list)\n",
    "x = np.linspace(-1.0, 1.0, 11)\n",
    "x2 = (x[1:] + x[:-1]) / 2\n",
    "l = [f\"{x:.2f}\" for x in x2]\n",
    "l.insert(0, \"-inf\")\n",
    "l.append(\"inf\")\n",
    "\n",
    "datasets = []\n",
    "\n",
    "for job in [project.open_job(id=\"ecce68c50e28a33684826f28780bf6e9\")]:\n",
    "    print(job)\n",
    "    prep = job.sp[\"prep\"]\n",
    "    # if prep != \"ESL\":\n",
    "    #     continue\n",
    "    # print(prep)\n",
    "    \n",
    "    experiments = sorted(glob.glob(job.fn(\"longer_experiments/*/*/traj-fire_period-*.gsd\")))\n",
    "    if len(experiments) == 0:\n",
    "        continue\n",
    "    for exper in experiments:\n",
    "        max_shear = utils.extract_between(exper, \"max-shear-\", \"/\")\n",
    "        period = utils.extract_between(exper, \"period-\", \".gsd\")\n",
    "        temp = utils.extract_between(exper, \"temp-\", \"/\")\n",
    "        df_path = f\"longer_experiments/max-shear-{max_shear}/temp-{temp}/auto-encoder-dataset-yieldstress_period-{period}.parquet\"\n",
    "        sp = Statepoint(max_shear=float(max_shear), period=float(period), temp=float(temp), prep=prep)\n",
    "        \n",
    "        if float(period) != 1000.0 or float(temp) != 0.019836 or float(max_shear) != 0.04:\n",
    "            continue\n",
    "\n",
    "        dataset = pl.read_parquet(job.fn(df_path))\n",
    "\n",
    "        cuts = dataset[\"soft\"].cut(x, labels=l)\n",
    "\n",
    "        sf_len = dataset[0][\"sfs\"][0].shape[0]\n",
    "        X = np.zeros((len(dataset), sf_len + 3 + 1 + 1), dtype=np.float32)\n",
    "        X[:, 0] = dataset[\"strain\"]\n",
    "        X[:, 1] = (dataset[\"id\"] == 0)\n",
    "        X[:, 2] = (dataset[\"id\"] == 1)\n",
    "        # X[:, 3:6] = np.vstack(dataset[\"xy\"].to_numpy())\n",
    "        # X[:, 6:9] = np.vstack(dataset[\"xx\"].to_numpy())\n",
    "        # X[:, 9:12] = np.vstack(dataset[\"yy\"].to_numpy())\n",
    "        # X[:, 13] = (dataset[\"soft\"].mean())\n",
    "        # X[:, 14] = (dataset[\"soft\"].std())\n",
    "        X[:, 3:-2] = np.vstack(dataset[\"sfs\"].to_numpy())\n",
    "        X[:, -2] = (prep == \"ESL\")\n",
    "        # X[:, -7:-1] = np.vstack(dataset[\"local_soft\"].to_numpy())\n",
    "        X[:, -1] = dataset[\"soft\"]\n",
    "\n",
    "        # soft_len = dataset[0][\"local_soft\"][0].shape[0]\n",
    "        # X = np.zeros((len(dataset), soft_len + 1), dtype=np.float32)\n",
    "        # X[:, :-1] = np.vstack(dataset[\"local_soft\"].to_numpy())\n",
    "        # X[:, -1] = dataset[\"soft\"]\n",
    "\n",
    "        dataset = dataset.with_columns(\n",
    "            sfs = X,\n",
    "            # pr = pl.col(\"soft\").map_batches(lambda x: get_pr(x, prep)),\n",
    "            # prep = pl.lit(prep),\n",
    "            # cuts = cuts\n",
    "        )\n",
    "\n",
    "        # output[sp].append(dataset)\n",
    "        datasets.append(dataset)\n",
    "\n",
    "htl_dataset = pl.concat(datasets)"
   ]
  },
  {
   "cell_type": "code",
   "execution_count": 69,
   "metadata": {},
   "outputs": [
    {
     "name": "stdout",
     "output_type": "stream",
     "text": [
      "Using cuda device\n"
     ]
    }
   ],
   "source": [
    "device = (\n",
    "    \"cuda\"\n",
    "    if torch.cuda.is_available()\n",
    "    else \"mps\"\n",
    "    if torch.backends.mps.is_available()\n",
    "    else \"cpu\"\n",
    ")\n",
    "print(f\"Using {device} device\")\n",
    "\n",
    "device = 'cpu'"
   ]
  },
  {
   "cell_type": "code",
   "execution_count": 70,
   "metadata": {},
   "outputs": [
    {
     "data": {
      "text/html": [
       "<div><style>\n",
       ".dataframe > thead > tr,\n",
       ".dataframe > tbody > tr {\n",
       "  text-align: right;\n",
       "  white-space: pre-wrap;\n",
       "}\n",
       "</style>\n",
       "<small>shape: (5, 5)</small><table border=\"1\" class=\"dataframe\"><thead><tr><th>frame</th><th>strain</th><th>id</th><th>soft</th><th>sfs</th></tr><tr><td>i32</td><td>f32</td><td>u32</td><td>f32</td><td>list[f32]</td></tr></thead><tbody><tr><td>7999</td><td>0.04</td><td>1</td><td>-0.216464</td><td>[0.04, 0.0, … -0.216464]</td></tr><tr><td>7999</td><td>0.04</td><td>0</td><td>1.137346</td><td>[0.04, 1.0, … 1.137346]</td></tr><tr><td>7999</td><td>0.04</td><td>0</td><td>0.330652</td><td>[0.04, 1.0, … 0.330652]</td></tr><tr><td>7999</td><td>0.04</td><td>1</td><td>-0.055136</td><td>[0.04, 0.0, … -0.055136]</td></tr><tr><td>7999</td><td>0.04</td><td>0</td><td>-0.227072</td><td>[0.04, 1.0, … -0.227072]</td></tr></tbody></table></div>"
      ],
      "text/plain": [
       "shape: (5, 5)\n",
       "┌───────┬────────┬─────┬───────────┬──────────────────────────┐\n",
       "│ frame ┆ strain ┆ id  ┆ soft      ┆ sfs                      │\n",
       "│ ---   ┆ ---    ┆ --- ┆ ---       ┆ ---                      │\n",
       "│ i32   ┆ f32    ┆ u32 ┆ f32       ┆ list[f32]                │\n",
       "╞═══════╪════════╪═════╪═══════════╪══════════════════════════╡\n",
       "│ 7999  ┆ 0.04   ┆ 1   ┆ -0.216464 ┆ [0.04, 0.0, … -0.216464] │\n",
       "│ 7999  ┆ 0.04   ┆ 0   ┆ 1.137346  ┆ [0.04, 1.0, … 1.137346]  │\n",
       "│ 7999  ┆ 0.04   ┆ 0   ┆ 0.330652  ┆ [0.04, 1.0, … 0.330652]  │\n",
       "│ 7999  ┆ 0.04   ┆ 1   ┆ -0.055136 ┆ [0.04, 0.0, … -0.055136] │\n",
       "│ 7999  ┆ 0.04   ┆ 0   ┆ -0.227072 ┆ [0.04, 1.0, … -0.227072] │\n",
       "└───────┴────────┴─────┴───────────┴──────────────────────────┘"
      ]
     },
     "execution_count": 70,
     "metadata": {},
     "output_type": "execute_result"
    }
   ],
   "source": [
    "dataset.head()"
   ]
  },
  {
   "cell_type": "code",
   "execution_count": 71,
   "metadata": {},
   "outputs": [],
   "source": [
    "class Encoder(nn.Module):\n",
    "    def __init__(self, num_input_channels: int, base_channel_size: int, latent_dim: int, act_fn: object = nn.ReLU):\n",
    "        super().__init__()\n",
    "        self.net = nn.Sequential(\n",
    "            nn.Linear(num_input_channels, base_channel_size),\n",
    "            act_fn(),\n",
    "            nn.Linear(base_channel_size, base_channel_size),\n",
    "            act_fn(),\n",
    "            nn.Linear(base_channel_size, base_channel_size//2),\n",
    "            act_fn(),\n",
    "            nn.Linear(base_channel_size//2, base_channel_size//2),\n",
    "            act_fn(),\n",
    "            nn.Linear(base_channel_size//2, base_channel_size//2),\n",
    "            act_fn(),\n",
    "            nn.Linear(base_channel_size//2, latent_dim),\n",
    "        )\n",
    "\n",
    "    def forward(self, x):\n",
    "        return self.net(x)\n",
    "\n",
    "class Decoder(nn.Module):\n",
    "    def __init__(self, base_channel_size: int, latent_dim: int, act_fn: object = nn.ReLU):\n",
    "        super().__init__()\n",
    "        self.net = nn.Sequential(\n",
    "            nn.Linear(latent_dim + 2, base_channel_size),\n",
    "            act_fn(),\n",
    "            nn.Linear(base_channel_size, base_channel_size),\n",
    "            act_fn(),\n",
    "            nn.Linear(base_channel_size, base_channel_size),\n",
    "            act_fn(),\n",
    "            nn.Linear(base_channel_size, base_channel_size),\n",
    "            act_fn(),\n",
    "            nn.Linear(base_channel_size, base_channel_size),\n",
    "            act_fn(),\n",
    "            nn.Linear(base_channel_size, 1),\n",
    "            nn.Sigmoid()\n",
    "            # nn.Tanh()\n",
    "        )\n",
    "\n",
    "    def forward(self, x):\n",
    "        return self.net(x)\n",
    "\n",
    "\n",
    "class AutoEncoder(nn.Module):\n",
    "    def __init__(self, num_input_channels: int, base_channel_size: int, latent_dim: int, act_fn: object = nn.ReLU):\n",
    "        super().__init__()\n",
    "        self.num_input_channels = num_input_channels\n",
    "        self.encoder = Encoder(num_input_channels, base_channel_size, latent_dim, act_fn)\n",
    "        self.decoder = Decoder(base_channel_size, latent_dim, act_fn)\n",
    "\n",
    "    def forward(self, x):\n",
    "        soft = x[:, -1].view(-1, 1)\n",
    "        y = x[:, 0].view(-1, 1)\n",
    "        z = self.encoder(x[:, 1: 1 + self.num_input_channels])\n",
    "        o = self.decoder(torch.cat((y, z, soft), 1))\n",
    "        return o\n",
    "    \n",
    "    def encode(self, x):\n",
    "        soft = x[:, -1].view(-1, 1)\n",
    "        y = x[:, 0].view(-1, 1)\n",
    "        z = self.encoder(x[:, 1: 1 + self.num_input_channels])\n",
    "        return torch.cat((z, soft), 1)"
   ]
  },
  {
   "cell_type": "code",
   "execution_count": 88,
   "metadata": {},
   "outputs": [
    {
     "data": {
      "text/plain": [
       "(array([[ 0.04      ,  1.        ,  0.        , ...,  0.26299247,\n",
       "          1.        , -0.49922734],\n",
       "        [ 0.04      ,  1.        ,  0.        , ...,  1.7951186 ,\n",
       "          1.        ,  0.8167877 ],\n",
       "        [ 0.04      ,  1.        ,  0.        , ...,  5.293931  ,\n",
       "          1.        ,  0.62885255],\n",
       "        ...,\n",
       "        [ 0.04      ,  0.        ,  1.        , ...,  0.2964789 ,\n",
       "          1.        , -0.8768886 ],\n",
       "        [ 0.04      ,  1.        ,  0.        , ...,  1.347369  ,\n",
       "          1.        ,  0.01675172],\n",
       "        [ 0.04      ,  0.        ,  1.        , ...,  2.9410026 ,\n",
       "          1.        , -0.13685314]], dtype=float32),\n",
       " array([[ 0.04      ,  0.        ,  1.        , ...,  1.7199786 ,\n",
       "          0.        , -0.21646401],\n",
       "        [ 0.04      ,  1.        ,  0.        , ...,  3.1636333 ,\n",
       "          0.        ,  1.137346  ],\n",
       "        [ 0.04      ,  1.        ,  0.        , ...,  0.4502731 ,\n",
       "          0.        ,  0.33065194],\n",
       "        ...,\n",
       "        [ 0.04      ,  0.        ,  1.        , ...,  1.584588  ,\n",
       "          0.        , -0.4180425 ],\n",
       "        [ 0.04      ,  0.        ,  1.        , ...,  3.2158704 ,\n",
       "          0.        , -0.55696726],\n",
       "        [ 0.04      ,  1.        ,  0.        , ...,  2.9673245 ,\n",
       "          0.        , -0.61338   ]], dtype=float32))"
      ]
     },
     "execution_count": 88,
     "metadata": {},
     "output_type": "execute_result"
    }
   ],
   "source": [
    "# Y = (dataset[\"d2min_rev_10\"] > 0.08).to_numpy().astype(np.float32)\n",
    "# # Y = np.log(dataset[\"d2min_rev_10\"].to_numpy())\n",
    "# # Y = dataset[\"pr\"].to_numpy()\n",
    "\n",
    "# data_len = len(Y)\n",
    "sf_len = esl_dataset[0][\"sfs\"][0].shape[0]\n",
    "\n",
    "data_len = len(esl_dataset[\"sfs\"])\n",
    "X = np.zeros((data_len, sf_len), dtype=np.float32)\n",
    "X[:, :] = np.vstack(esl_dataset[\"sfs\"].to_numpy())\n",
    "\n",
    "X_htl = np.zeros((len(htl_dataset), sf_len), dtype=np.float32)\n",
    "X_htl[:, :] = np.vstack(htl_dataset[\"sfs\"].to_numpy())\n",
    "# X[:, 0] = dataset[\"strain\"]\n",
    "# X[:, 1] = (dataset[\"id\"] == 0)\n",
    "# X[:, 2] = (dataset[\"id\"] == 1)\n",
    "# X[:, 3] = (dataset[\"prep\"] == \"ESL\")\n",
    "# X[:, 4] = (dataset[\"prep\"] == \"HTL\")\n",
    "# X[:, 5:-1] = np.vstack(dataset[\"sfs\"].to_numpy())\n",
    "# X[:, -1] = dataset[\"soft\"]\n",
    "\n",
    "X, X_htl"
   ]
  },
  {
   "cell_type": "code",
   "execution_count": 89,
   "metadata": {},
   "outputs": [],
   "source": [
    "\n",
    "# Normalizing Data\n",
    "with open(\"scaler-v8.pkl\", \"rb\") as f:\n",
    "    scaler = pickle.load(f)\n",
    "X_scaled = scaler.transform(X)\n",
    "X_htl_scaled = scaler.transform(X_htl)\n",
    "\n",
    "# scaler_y = StandardScaler()\n",
    "# Y_scaled = Y.reshape(-1, 1)\n",
    "\n",
    "# X_scaled, Y_scaled = shuffle(X_scaled, Y_scaled)\n",
    "\n",
    "# Converting to PyTorch tensor\n",
    "X_tensor = torch.FloatTensor(X_scaled)\n",
    "X_htl_tensor = torch.FloatTensor(X_htl_scaled)\n",
    "# Y_tensor = torch.FloatTensor(Y_scaled)"
   ]
  },
  {
   "cell_type": "code",
   "execution_count": 90,
   "metadata": {},
   "outputs": [],
   "source": [
    "if model is not None:\n",
    "    del model\n",
    "    torch.cuda.empty_cache()"
   ]
  },
  {
   "cell_type": "code",
   "execution_count": 91,
   "metadata": {},
   "outputs": [],
   "source": [
    "# Setting random seed for reproducibility\n",
    "torch.manual_seed(12)\n",
    "\n",
    "input_size = X.shape[1]  # Number of input features\n",
    "encoding_dim = 1  # Desired number of output dimensions\n",
    "# model = AutoEncoder(input_size - 3, 512, encoding_dim).to(device)\n"
   ]
  },
  {
   "cell_type": "code",
   "execution_count": 92,
   "metadata": {},
   "outputs": [],
   "source": [
    "# model.eval()"
   ]
  },
  {
   "cell_type": "markdown",
   "metadata": {},
   "source": [
    "host_model = model.to(\"cpu\")\n",
    "host_model.encoder(dataset[0][\"sfs\"][0][:-1])"
   ]
  },
  {
   "cell_type": "code",
   "execution_count": 93,
   "metadata": {},
   "outputs": [],
   "source": [
    "LOAD_PATH = \"autoencoder8-final.pth\""
   ]
  },
  {
   "cell_type": "code",
   "execution_count": 94,
   "metadata": {},
   "outputs": [
    {
     "data": {
      "text/plain": [
       "AutoEncoder(\n",
       "  (encoder): Encoder(\n",
       "    (net): Sequential(\n",
       "      (0): Linear(in_features=56, out_features=256, bias=True)\n",
       "      (1): ReLU()\n",
       "      (2): Linear(in_features=256, out_features=256, bias=True)\n",
       "      (3): ReLU()\n",
       "      (4): Linear(in_features=256, out_features=128, bias=True)\n",
       "      (5): ReLU()\n",
       "      (6): Linear(in_features=128, out_features=128, bias=True)\n",
       "      (7): ReLU()\n",
       "      (8): Linear(in_features=128, out_features=128, bias=True)\n",
       "      (9): ReLU()\n",
       "      (10): Linear(in_features=128, out_features=1, bias=True)\n",
       "    )\n",
       "  )\n",
       "  (decoder): Decoder(\n",
       "    (net): Sequential(\n",
       "      (0): Linear(in_features=3, out_features=256, bias=True)\n",
       "      (1): ReLU()\n",
       "      (2): Linear(in_features=256, out_features=256, bias=True)\n",
       "      (3): ReLU()\n",
       "      (4): Linear(in_features=256, out_features=256, bias=True)\n",
       "      (5): ReLU()\n",
       "      (6): Linear(in_features=256, out_features=256, bias=True)\n",
       "      (7): ReLU()\n",
       "      (8): Linear(in_features=256, out_features=256, bias=True)\n",
       "      (9): ReLU()\n",
       "      (10): Linear(in_features=256, out_features=1, bias=True)\n",
       "      (11): Sigmoid()\n",
       "    )\n",
       "  )\n",
       ")"
      ]
     },
     "execution_count": 94,
     "metadata": {},
     "output_type": "execute_result"
    }
   ],
   "source": [
    "model = AutoEncoder(input_size - 3, 256, encoding_dim)\n",
    "model.load_state_dict(torch.load(LOAD_PATH))\n",
    "model #.to(device)\n",
    "model.eval()"
   ]
  },
  {
   "cell_type": "code",
   "execution_count": 95,
   "metadata": {},
   "outputs": [],
   "source": [
    "mid = model.encode(X_tensor).cpu().detach().numpy()\n",
    "out = model(X_tensor).cpu().detach().numpy()\n",
    "\n",
    "mid_htl = model.encode(X_htl_tensor).cpu().detach().numpy()\n",
    "out_htl = model(X_htl_tensor).cpu().detach().numpy()"
   ]
  },
  {
   "cell_type": "code",
   "execution_count": 100,
   "metadata": {},
   "outputs": [
    {
     "data": {
      "text/plain": [
       "array([[ 1.1472626 , -0.5649902 ],\n",
       "       [ 0.5080203 ,  1.6695238 ],\n",
       "       [ 0.40312007,  1.3504212 ],\n",
       "       ...,\n",
       "       [ 0.64361286, -1.2062362 ],\n",
       "       [-1.2860947 ,  0.311111  ],\n",
       "       [ 0.62218285,  0.05029925]], dtype=float32)"
      ]
     },
     "execution_count": 100,
     "metadata": {},
     "output_type": "execute_result"
    }
   ],
   "source": [
    "mid"
   ]
  },
  {
   "cell_type": "code",
   "execution_count": 96,
   "metadata": {},
   "outputs": [
    {
     "data": {
      "text/html": [
       "<div><style>\n",
       ".dataframe > thead > tr,\n",
       ".dataframe > tbody > tr {\n",
       "  text-align: right;\n",
       "  white-space: pre-wrap;\n",
       "}\n",
       "</style>\n",
       "<small>shape: (32_768,)</small><table border=\"1\" class=\"dataframe\"><thead><tr><th>sfs</th></tr><tr><td>list[f32]</td></tr></thead><tbody><tr><td>[0.04, 1.0, … -0.499227]</td></tr><tr><td>[0.04, 1.0, … 0.816788]</td></tr><tr><td>[0.04, 1.0, … 0.628853]</td></tr><tr><td>[0.04, 0.0, … 0.166194]</td></tr><tr><td>[0.04, 0.0, … -0.351567]</td></tr><tr><td>[0.04, 0.0, … -0.935419]</td></tr><tr><td>[0.04, 0.0, … -1.210075]</td></tr><tr><td>[0.04, 1.0, … -0.21633]</td></tr><tr><td>[0.04, 1.0, … -0.271183]</td></tr><tr><td>[0.04, 0.0, … 0.218953]</td></tr><tr><td>[0.04, 1.0, … -0.19682]</td></tr><tr><td>[0.04, 0.0, … -1.10705]</td></tr><tr><td>&hellip;</td></tr><tr><td>[0.04, 0.0, … -0.412806]</td></tr><tr><td>[0.04, 1.0, … 0.653768]</td></tr><tr><td>[0.04, 0.0, … -0.057373]</td></tr><tr><td>[0.04, 1.0, … -0.150483]</td></tr><tr><td>[0.04, 0.0, … 0.063642]</td></tr><tr><td>[0.04, 1.0, … -0.525149]</td></tr><tr><td>[0.04, 1.0, … 0.211975]</td></tr><tr><td>[0.04, 0.0, … -0.232486]</td></tr><tr><td>[0.04, 0.0, … -0.230793]</td></tr><tr><td>[0.04, 0.0, … -0.876889]</td></tr><tr><td>[0.04, 1.0, … 0.016752]</td></tr><tr><td>[0.04, 0.0, … -0.136853]</td></tr></tbody></table></div>"
      ],
      "text/plain": [
       "shape: (32_768,)\n",
       "Series: 'sfs' [list[f32]]\n",
       "[\n",
       "\t[0.04, 1.0, … -0.499227]\n",
       "\t[0.04, 1.0, … 0.816788]\n",
       "\t[0.04, 1.0, … 0.628853]\n",
       "\t[0.04, 0.0, … 0.166194]\n",
       "\t[0.04, 0.0, … -0.351567]\n",
       "\t[0.04, 0.0, … -0.935419]\n",
       "\t[0.04, 0.0, … -1.210075]\n",
       "\t[0.04, 1.0, … -0.21633]\n",
       "\t[0.04, 1.0, … -0.271183]\n",
       "\t[0.04, 0.0, … 0.218953]\n",
       "\t[0.04, 1.0, … -0.19682]\n",
       "\t[0.04, 0.0, … -1.10705]\n",
       "\t…\n",
       "\t[0.04, 0.0, … -0.025131]\n",
       "\t[0.04, 0.0, … -0.412806]\n",
       "\t[0.04, 1.0, … 0.653768]\n",
       "\t[0.04, 0.0, … -0.057373]\n",
       "\t[0.04, 1.0, … -0.150483]\n",
       "\t[0.04, 0.0, … 0.063642]\n",
       "\t[0.04, 1.0, … -0.525149]\n",
       "\t[0.04, 1.0, … 0.211975]\n",
       "\t[0.04, 0.0, … -0.232486]\n",
       "\t[0.04, 0.0, … -0.230793]\n",
       "\t[0.04, 0.0, … -0.876889]\n",
       "\t[0.04, 1.0, … 0.016752]\n",
       "\t[0.04, 0.0, … -0.136853]\n",
       "]"
      ]
     },
     "execution_count": 96,
     "metadata": {},
     "output_type": "execute_result"
    }
   ],
   "source": [
    "esl_dataset[\"sfs\"]"
   ]
  },
  {
   "cell_type": "code",
   "execution_count": 97,
   "metadata": {},
   "outputs": [],
   "source": [
    "np.savez(\"yieldstress-data.npz\", mid=mid, out=out, mid_htl=mid_htl, out_htl=out_htl)"
   ]
  },
  {
   "cell_type": "code",
   "execution_count": 98,
   "metadata": {},
   "outputs": [
    {
     "data": {
      "text/html": [
       "<div><style>\n",
       ".dataframe > thead > tr,\n",
       ".dataframe > tbody > tr {\n",
       "  text-align: right;\n",
       "  white-space: pre-wrap;\n",
       "}\n",
       "</style>\n",
       "<small>shape: (32_768, 5)</small><table border=\"1\" class=\"dataframe\"><thead><tr><th>frame</th><th>strain</th><th>id</th><th>soft</th><th>sfs</th></tr><tr><td>i32</td><td>f32</td><td>u32</td><td>f32</td><td>list[f32]</td></tr></thead><tbody><tr><td>7999</td><td>0.04</td><td>1</td><td>-0.216464</td><td>[0.04, 0.0, … -0.216464]</td></tr><tr><td>7999</td><td>0.04</td><td>0</td><td>1.137346</td><td>[0.04, 1.0, … 1.137346]</td></tr><tr><td>7999</td><td>0.04</td><td>0</td><td>0.330652</td><td>[0.04, 1.0, … 0.330652]</td></tr><tr><td>7999</td><td>0.04</td><td>1</td><td>-0.055136</td><td>[0.04, 0.0, … -0.055136]</td></tr><tr><td>7999</td><td>0.04</td><td>0</td><td>-0.227072</td><td>[0.04, 1.0, … -0.227072]</td></tr><tr><td>7999</td><td>0.04</td><td>1</td><td>-0.284574</td><td>[0.04, 0.0, … -0.284574]</td></tr><tr><td>7999</td><td>0.04</td><td>0</td><td>-0.597902</td><td>[0.04, 1.0, … -0.597902]</td></tr><tr><td>7999</td><td>0.04</td><td>0</td><td>-0.66942</td><td>[0.04, 1.0, … -0.66942]</td></tr><tr><td>7999</td><td>0.04</td><td>1</td><td>-1.072123</td><td>[0.04, 0.0, … -1.072123]</td></tr><tr><td>7999</td><td>0.04</td><td>1</td><td>-0.653534</td><td>[0.04, 0.0, … -0.653534]</td></tr><tr><td>7999</td><td>0.04</td><td>0</td><td>0.000715</td><td>[0.04, 1.0, … 0.000715]</td></tr><tr><td>7999</td><td>0.04</td><td>0</td><td>-0.400238</td><td>[0.04, 1.0, … -0.400238]</td></tr><tr><td>&hellip;</td><td>&hellip;</td><td>&hellip;</td><td>&hellip;</td><td>&hellip;</td></tr><tr><td>7999</td><td>0.04</td><td>0</td><td>-0.20315</td><td>[0.04, 1.0, … -0.20315]</td></tr><tr><td>7999</td><td>0.04</td><td>0</td><td>0.185281</td><td>[0.04, 1.0, … 0.185281]</td></tr><tr><td>7999</td><td>0.04</td><td>0</td><td>1.183719</td><td>[0.04, 1.0, … 1.183719]</td></tr><tr><td>7999</td><td>0.04</td><td>0</td><td>-0.334772</td><td>[0.04, 1.0, … -0.334772]</td></tr><tr><td>7999</td><td>0.04</td><td>0</td><td>-0.636258</td><td>[0.04, 1.0, … -0.636258]</td></tr><tr><td>7999</td><td>0.04</td><td>0</td><td>-0.493484</td><td>[0.04, 1.0, … -0.493484]</td></tr><tr><td>7999</td><td>0.04</td><td>0</td><td>-0.842476</td><td>[0.04, 1.0, … -0.842476]</td></tr><tr><td>7999</td><td>0.04</td><td>1</td><td>-0.179671</td><td>[0.04, 0.0, … -0.179671]</td></tr><tr><td>7999</td><td>0.04</td><td>1</td><td>-0.628786</td><td>[0.04, 0.0, … -0.628786]</td></tr><tr><td>7999</td><td>0.04</td><td>1</td><td>-0.418043</td><td>[0.04, 0.0, … -0.418043]</td></tr><tr><td>7999</td><td>0.04</td><td>1</td><td>-0.556967</td><td>[0.04, 0.0, … -0.556967]</td></tr><tr><td>7999</td><td>0.04</td><td>0</td><td>-0.61338</td><td>[0.04, 1.0, … -0.61338]</td></tr></tbody></table></div>"
      ],
      "text/plain": [
       "shape: (32_768, 5)\n",
       "┌───────┬────────┬─────┬───────────┬──────────────────────────┐\n",
       "│ frame ┆ strain ┆ id  ┆ soft      ┆ sfs                      │\n",
       "│ ---   ┆ ---    ┆ --- ┆ ---       ┆ ---                      │\n",
       "│ i32   ┆ f32    ┆ u32 ┆ f32       ┆ list[f32]                │\n",
       "╞═══════╪════════╪═════╪═══════════╪══════════════════════════╡\n",
       "│ 7999  ┆ 0.04   ┆ 1   ┆ -0.216464 ┆ [0.04, 0.0, … -0.216464] │\n",
       "│ 7999  ┆ 0.04   ┆ 0   ┆ 1.137346  ┆ [0.04, 1.0, … 1.137346]  │\n",
       "│ 7999  ┆ 0.04   ┆ 0   ┆ 0.330652  ┆ [0.04, 1.0, … 0.330652]  │\n",
       "│ 7999  ┆ 0.04   ┆ 1   ┆ -0.055136 ┆ [0.04, 0.0, … -0.055136] │\n",
       "│ 7999  ┆ 0.04   ┆ 0   ┆ -0.227072 ┆ [0.04, 1.0, … -0.227072] │\n",
       "│ …     ┆ …      ┆ …   ┆ …         ┆ …                        │\n",
       "│ 7999  ┆ 0.04   ┆ 1   ┆ -0.179671 ┆ [0.04, 0.0, … -0.179671] │\n",
       "│ 7999  ┆ 0.04   ┆ 1   ┆ -0.628786 ┆ [0.04, 0.0, … -0.628786] │\n",
       "│ 7999  ┆ 0.04   ┆ 1   ┆ -0.418043 ┆ [0.04, 0.0, … -0.418043] │\n",
       "│ 7999  ┆ 0.04   ┆ 1   ┆ -0.556967 ┆ [0.04, 0.0, … -0.556967] │\n",
       "│ 7999  ┆ 0.04   ┆ 0   ┆ -0.61338  ┆ [0.04, 1.0, … -0.61338]  │\n",
       "└───────┴────────┴─────┴───────────┴──────────────────────────┘"
      ]
     },
     "execution_count": 98,
     "metadata": {},
     "output_type": "execute_result"
    }
   ],
   "source": [
    "htl_dataset"
   ]
  },
  {
   "cell_type": "code",
   "execution_count": 99,
   "metadata": {},
   "outputs": [
    {
     "data": {
      "text/html": [
       "<div><style>\n",
       ".dataframe > thead > tr,\n",
       ".dataframe > tbody > tr {\n",
       "  text-align: right;\n",
       "  white-space: pre-wrap;\n",
       "}\n",
       "</style>\n",
       "<small>shape: (32_768, 5)</small><table border=\"1\" class=\"dataframe\"><thead><tr><th>frame</th><th>strain</th><th>id</th><th>soft</th><th>sfs</th></tr><tr><td>i32</td><td>f32</td><td>u32</td><td>f32</td><td>list[f32]</td></tr></thead><tbody><tr><td>7999</td><td>0.04</td><td>0</td><td>-0.499227</td><td>[0.04, 1.0, … -0.499227]</td></tr><tr><td>7999</td><td>0.04</td><td>0</td><td>0.816788</td><td>[0.04, 1.0, … 0.816788]</td></tr><tr><td>7999</td><td>0.04</td><td>0</td><td>0.628853</td><td>[0.04, 1.0, … 0.628853]</td></tr><tr><td>7999</td><td>0.04</td><td>1</td><td>0.166194</td><td>[0.04, 0.0, … 0.166194]</td></tr><tr><td>7999</td><td>0.04</td><td>1</td><td>-0.351567</td><td>[0.04, 0.0, … -0.351567]</td></tr><tr><td>7999</td><td>0.04</td><td>1</td><td>-0.935419</td><td>[0.04, 0.0, … -0.935419]</td></tr><tr><td>7999</td><td>0.04</td><td>1</td><td>-1.210075</td><td>[0.04, 0.0, … -1.210075]</td></tr><tr><td>7999</td><td>0.04</td><td>0</td><td>-0.21633</td><td>[0.04, 1.0, … -0.21633]</td></tr><tr><td>7999</td><td>0.04</td><td>0</td><td>-0.271183</td><td>[0.04, 1.0, … -0.271183]</td></tr><tr><td>7999</td><td>0.04</td><td>1</td><td>0.218953</td><td>[0.04, 0.0, … 0.218953]</td></tr><tr><td>7999</td><td>0.04</td><td>0</td><td>-0.19682</td><td>[0.04, 1.0, … -0.19682]</td></tr><tr><td>7999</td><td>0.04</td><td>1</td><td>-1.10705</td><td>[0.04, 0.0, … -1.10705]</td></tr><tr><td>&hellip;</td><td>&hellip;</td><td>&hellip;</td><td>&hellip;</td><td>&hellip;</td></tr><tr><td>7999</td><td>0.04</td><td>1</td><td>-0.412806</td><td>[0.04, 0.0, … -0.412806]</td></tr><tr><td>7999</td><td>0.04</td><td>0</td><td>0.653768</td><td>[0.04, 1.0, … 0.653768]</td></tr><tr><td>7999</td><td>0.04</td><td>1</td><td>-0.057373</td><td>[0.04, 0.0, … -0.057373]</td></tr><tr><td>7999</td><td>0.04</td><td>0</td><td>-0.150483</td><td>[0.04, 1.0, … -0.150483]</td></tr><tr><td>7999</td><td>0.04</td><td>1</td><td>0.063642</td><td>[0.04, 0.0, … 0.063642]</td></tr><tr><td>7999</td><td>0.04</td><td>0</td><td>-0.525149</td><td>[0.04, 1.0, … -0.525149]</td></tr><tr><td>7999</td><td>0.04</td><td>0</td><td>0.211975</td><td>[0.04, 1.0, … 0.211975]</td></tr><tr><td>7999</td><td>0.04</td><td>1</td><td>-0.232486</td><td>[0.04, 0.0, … -0.232486]</td></tr><tr><td>7999</td><td>0.04</td><td>1</td><td>-0.230793</td><td>[0.04, 0.0, … -0.230793]</td></tr><tr><td>7999</td><td>0.04</td><td>1</td><td>-0.876889</td><td>[0.04, 0.0, … -0.876889]</td></tr><tr><td>7999</td><td>0.04</td><td>0</td><td>0.016752</td><td>[0.04, 1.0, … 0.016752]</td></tr><tr><td>7999</td><td>0.04</td><td>1</td><td>-0.136853</td><td>[0.04, 0.0, … -0.136853]</td></tr></tbody></table></div>"
      ],
      "text/plain": [
       "shape: (32_768, 5)\n",
       "┌───────┬────────┬─────┬───────────┬──────────────────────────┐\n",
       "│ frame ┆ strain ┆ id  ┆ soft      ┆ sfs                      │\n",
       "│ ---   ┆ ---    ┆ --- ┆ ---       ┆ ---                      │\n",
       "│ i32   ┆ f32    ┆ u32 ┆ f32       ┆ list[f32]                │\n",
       "╞═══════╪════════╪═════╪═══════════╪══════════════════════════╡\n",
       "│ 7999  ┆ 0.04   ┆ 0   ┆ -0.499227 ┆ [0.04, 1.0, … -0.499227] │\n",
       "│ 7999  ┆ 0.04   ┆ 0   ┆ 0.816788  ┆ [0.04, 1.0, … 0.816788]  │\n",
       "│ 7999  ┆ 0.04   ┆ 0   ┆ 0.628853  ┆ [0.04, 1.0, … 0.628853]  │\n",
       "│ 7999  ┆ 0.04   ┆ 1   ┆ 0.166194  ┆ [0.04, 0.0, … 0.166194]  │\n",
       "│ 7999  ┆ 0.04   ┆ 1   ┆ -0.351567 ┆ [0.04, 0.0, … -0.351567] │\n",
       "│ …     ┆ …      ┆ …   ┆ …         ┆ …                        │\n",
       "│ 7999  ┆ 0.04   ┆ 1   ┆ -0.232486 ┆ [0.04, 0.0, … -0.232486] │\n",
       "│ 7999  ┆ 0.04   ┆ 1   ┆ -0.230793 ┆ [0.04, 0.0, … -0.230793] │\n",
       "│ 7999  ┆ 0.04   ┆ 1   ┆ -0.876889 ┆ [0.04, 0.0, … -0.876889] │\n",
       "│ 7999  ┆ 0.04   ┆ 0   ┆ 0.016752  ┆ [0.04, 1.0, … 0.016752]  │\n",
       "│ 7999  ┆ 0.04   ┆ 1   ┆ -0.136853 ┆ [0.04, 0.0, … -0.136853] │\n",
       "└───────┴────────┴─────┴───────────┴──────────────────────────┘"
      ]
     },
     "execution_count": 99,
     "metadata": {},
     "output_type": "execute_result"
    }
   ],
   "source": [
    "esl_dataset"
   ]
  },
  {
   "cell_type": "code",
   "execution_count": null,
   "metadata": {},
   "outputs": [],
   "source": []
  }
 ],
 "metadata": {
  "kernelspec": {
   "display_name": "Python 3",
   "language": "python",
   "name": "python3"
  },
  "language_info": {
   "codemirror_mode": {
    "name": "ipython",
    "version": 3
   },
   "file_extension": ".py",
   "mimetype": "text/x-python",
   "name": "python",
   "nbconvert_exporter": "python",
   "pygments_lexer": "ipython3",
   "version": "3.11.8"
  }
 },
 "nbformat": 4,
 "nbformat_minor": 2
}
