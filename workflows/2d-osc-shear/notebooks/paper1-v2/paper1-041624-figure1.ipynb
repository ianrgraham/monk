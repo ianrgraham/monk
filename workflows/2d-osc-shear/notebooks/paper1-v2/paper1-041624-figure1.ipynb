{
 "cells": [
  {
   "cell_type": "markdown",
   "metadata": {},
   "source": [
    "# Figure 1\n",
    "\n",
    "For the first figure, just doing characterization of the simulations.\n",
    "\n",
    "* An image of $D^2_{min}$ would be nice\n",
    "* Maybe plot of MSD"
   ]
  },
  {
   "cell_type": "markdown",
   "metadata": {},
   "source": []
  }
 ],
 "metadata": {
  "language_info": {
   "name": "python"
  }
 },
 "nbformat": 4,
 "nbformat_minor": 2
}
