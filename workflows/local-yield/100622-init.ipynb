{
 "cells": [
  {
   "cell_type": "markdown",
   "metadata": {},
   "source": [
    "# Imports and get project"
   ]
  },
  {
   "cell_type": "code",
   "execution_count": 2,
   "metadata": {},
   "outputs": [],
   "source": [
    "import numpy as np\n",
    "import pandas as pd\n",
    "import matplotlib.pyplot as plt\n",
    "import matplotlib as mpl\n",
    "from matplotlib import cm, colors\n",
    "import glob\n",
    "\n",
    "from numba import njit, vectorize, float32\n",
    "\n",
    "from typing import Callable, Optional, Union\n",
    "\n",
    "import hoomd\n",
    "import gsd.hoomd\n",
    "import freud\n",
    "\n",
    "import sys\n",
    "import time\n",
    "import pickle\n",
    "import gc\n",
    "import warnings\n",
    "import copy\n",
    "import pathlib\n",
    "\n",
    "import os\n",
    "import sys\n",
    "\n",
    "import signac\n",
    "\n",
    "from dataclasses import dataclass\n",
    "from dataclasses_json import dataclass_json"
   ]
  },
  {
   "cell_type": "code",
   "execution_count": 3,
   "metadata": {},
   "outputs": [],
   "source": [
    "from monk import nb, prep, pair, render, utils, workflow, grid\n",
    "\n",
    "config = workflow.get_config()"
   ]
  },
  {
   "cell_type": "code",
   "execution_count": 4,
   "metadata": {},
   "outputs": [],
   "source": [
    "project: signac.Project = signac.init_project(name=\"local-yield\", root=config['root'])"
   ]
  },
  {
   "cell_type": "markdown",
   "metadata": {},
   "source": [
    "# Initialize statepoints"
   ]
  },
  {
   "cell_type": "code",
   "execution_count": 17,
   "metadata": {},
   "outputs": [],
   "source": [
    "project.doc[\"avail_seed\"] = 0"
   ]
  },
  {
   "cell_type": "code",
   "execution_count": 18,
   "metadata": {},
   "outputs": [],
   "source": [
    "N = 2**15  # 32758\n",
    "phis = [1.1, 1.15, 1.2, 1.25, 1.3, 1.35, 1.4]\n",
    "\n",
    "i = 0\n",
    "for replica in range(10):\n",
    "    for phi in phis:\n",
    "        sp = {\"N\": N, \"replica\": replica, \"phi\": phi}\n",
    "        job = project.open_job(sp)\n",
    "        if \"init\" not in job.doc:\n",
    "            job.init()\n",
    "            job.doc[\"init\"] = True\n",
    "            job.doc[\"seed\"] = project.doc[\"avail_seed\"]\n",
    "            project.doc[\"avail_seed\"] += 1"
   ]
  },
  {
   "cell_type": "code",
   "execution_count": 19,
   "metadata": {},
   "outputs": [
    {
     "name": "stdout",
     "output_type": "stream",
     "text": [
      "{'N': 32768, 'replica': 3, 'phi': 1.35} {'init': True, 'seed': 26}\n",
      "{'N': 32768, 'replica': 5, 'phi': 1.35} {'init': True, 'seed': 40}\n",
      "{'N': 32768, 'replica': 3, 'phi': 1.15} {'init': True, 'seed': 22}\n",
      "{'N': 32768, 'replica': 2, 'phi': 1.1} {'init': True, 'seed': 14}\n",
      "{'N': 32768, 'replica': 1, 'phi': 1.35} {'init': True, 'seed': 12}\n",
      "{'N': 32768, 'replica': 3, 'phi': 1.4} {'init': True, 'seed': 27}\n",
      "{'N': 32768, 'replica': 4, 'phi': 1.4} {'init': True, 'seed': 34}\n",
      "{'N': 32768, 'replica': 6, 'phi': 1.35} {'init': True, 'seed': 47}\n",
      "{'N': 32768, 'replica': 2, 'phi': 1.15} {'init': True, 'seed': 15}\n",
      "{'N': 32768, 'replica': 6, 'phi': 1.25} {'init': True, 'seed': 45}\n",
      "{'N': 32768, 'replica': 5, 'phi': 1.15} {'init': True, 'seed': 36}\n",
      "{'N': 32768, 'replica': 5, 'phi': 1.2} {'init': True, 'seed': 37}\n",
      "{'N': 32768, 'replica': 9, 'phi': 1.2} {'init': True, 'seed': 65}\n",
      "{'N': 32768, 'replica': 1, 'phi': 1.25} {'init': True, 'seed': 10}\n",
      "{'N': 32768, 'replica': 7, 'phi': 1.35} {'init': True, 'seed': 54}\n",
      "{'N': 32768, 'replica': 2, 'phi': 1.25} {'init': True, 'seed': 17}\n",
      "{'N': 32768, 'replica': 8, 'phi': 1.3} {'init': True, 'seed': 60}\n",
      "{'N': 32768, 'replica': 4, 'phi': 1.1} {'init': True, 'seed': 28}\n",
      "{'N': 32768, 'replica': 9, 'phi': 1.1} {'init': True, 'seed': 63}\n",
      "{'N': 32768, 'replica': 7, 'phi': 1.3} {'init': True, 'seed': 53}\n",
      "{'N': 32768, 'replica': 0, 'phi': 1.4} {'init': True, 'seed': 6}\n",
      "{'N': 32768, 'replica': 9, 'phi': 1.35} {'init': True, 'seed': 68}\n",
      "{'N': 32768, 'replica': 3, 'phi': 1.25} {'init': True, 'seed': 24}\n",
      "{'N': 32768, 'replica': 3, 'phi': 1.3} {'init': True, 'seed': 25}\n",
      "{'N': 32768, 'replica': 3, 'phi': 1.2} {'init': True, 'seed': 23}\n",
      "{'N': 32768, 'replica': 2, 'phi': 1.3} {'init': True, 'seed': 18}\n",
      "{'N': 32768, 'replica': 6, 'phi': 1.15} {'init': True, 'seed': 43}\n",
      "{'N': 32768, 'replica': 7, 'phi': 1.15} {'init': True, 'seed': 50}\n",
      "{'N': 32768, 'replica': 4, 'phi': 1.3} {'init': True, 'seed': 32}\n",
      "{'N': 32768, 'replica': 4, 'phi': 1.35} {'init': True, 'seed': 33}\n",
      "{'N': 32768, 'replica': 5, 'phi': 1.1} {'init': True, 'seed': 35}\n",
      "{'N': 32768, 'replica': 5, 'phi': 1.4} {'init': True, 'seed': 41}\n",
      "{'N': 32768, 'replica': 8, 'phi': 1.2} {'init': True, 'seed': 58}\n",
      "{'N': 32768, 'replica': 2, 'phi': 1.35} {'init': True, 'seed': 19}\n",
      "{'N': 32768, 'replica': 5, 'phi': 1.25} {'init': True, 'seed': 38}\n",
      "{'N': 32768, 'replica': 1, 'phi': 1.3} {'init': True, 'seed': 11}\n",
      "{'N': 32768, 'replica': 1, 'phi': 1.4} {'init': True, 'seed': 13}\n",
      "{'N': 32768, 'replica': 7, 'phi': 1.2} {'init': True, 'seed': 51}\n",
      "{'N': 32768, 'replica': 0, 'phi': 1.15} {'init': True, 'seed': 1}\n",
      "{'N': 32768, 'replica': 7, 'phi': 1.25} {'init': True, 'seed': 52}\n",
      "{'N': 32768, 'replica': 3, 'phi': 1.1} {'init': True, 'seed': 21}\n",
      "{'N': 32768, 'replica': 8, 'phi': 1.35} {'init': True, 'seed': 61}\n",
      "{'N': 32768, 'replica': 4, 'phi': 1.15} {'init': True, 'seed': 29}\n",
      "{'N': 32768, 'replica': 0, 'phi': 1.1} {'init': True, 'seed': 0}\n",
      "{'N': 32768, 'replica': 4, 'phi': 1.2} {'init': True, 'seed': 30}\n",
      "{'N': 32768, 'replica': 7, 'phi': 1.4} {'init': True, 'seed': 55}\n",
      "{'N': 32768, 'replica': 0, 'phi': 1.2} {'init': True, 'seed': 2}\n",
      "{'N': 32768, 'replica': 6, 'phi': 1.3} {'init': True, 'seed': 46}\n",
      "{'N': 32768, 'replica': 1, 'phi': 1.15} {'init': True, 'seed': 8}\n",
      "{'N': 32768, 'replica': 8, 'phi': 1.1} {'init': True, 'seed': 56}\n",
      "{'N': 32768, 'replica': 9, 'phi': 1.25} {'init': True, 'seed': 66}\n",
      "{'N': 32768, 'replica': 9, 'phi': 1.4} {'init': True, 'seed': 69}\n",
      "{'N': 32768, 'replica': 2, 'phi': 1.4} {'init': True, 'seed': 20}\n",
      "{'N': 32768, 'replica': 6, 'phi': 1.4} {'init': True, 'seed': 48}\n",
      "{'N': 32768, 'replica': 2, 'phi': 1.2} {'init': True, 'seed': 16}\n",
      "{'N': 32768, 'replica': 6, 'phi': 1.1} {'init': True, 'seed': 42}\n",
      "{'N': 32768, 'replica': 6, 'phi': 1.2} {'init': True, 'seed': 44}\n",
      "{'N': 32768, 'replica': 8, 'phi': 1.4} {'init': True, 'seed': 62}\n",
      "{'N': 32768, 'replica': 5, 'phi': 1.3} {'init': True, 'seed': 39}\n",
      "{'N': 32768, 'replica': 0, 'phi': 1.3} {'init': True, 'seed': 4}\n",
      "{'N': 32768, 'replica': 1, 'phi': 1.1} {'init': True, 'seed': 7}\n",
      "{'N': 32768, 'replica': 8, 'phi': 1.15} {'init': True, 'seed': 57}\n",
      "{'N': 32768, 'replica': 0, 'phi': 1.25} {'init': True, 'seed': 3}\n",
      "{'N': 32768, 'replica': 9, 'phi': 1.3} {'init': True, 'seed': 67}\n",
      "{'N': 32768, 'replica': 8, 'phi': 1.25} {'init': True, 'seed': 59}\n",
      "{'N': 32768, 'replica': 4, 'phi': 1.25} {'init': True, 'seed': 31}\n",
      "{'N': 32768, 'replica': 0, 'phi': 1.35} {'init': True, 'seed': 5}\n",
      "{'N': 32768, 'replica': 7, 'phi': 1.1} {'init': True, 'seed': 49}\n",
      "{'N': 32768, 'replica': 1, 'phi': 1.2} {'init': True, 'seed': 9}\n",
      "{'N': 32768, 'replica': 9, 'phi': 1.15} {'init': True, 'seed': 64}\n"
     ]
    }
   ],
   "source": [
    "for job in project:\n",
    "    print(job.sp, job.doc)"
   ]
  },
  {
   "cell_type": "markdown",
   "metadata": {},
   "source": [
    "# Generate initial simulation states and quench to inherent structure"
   ]
  },
  {
   "cell_type": "code",
   "execution_count": 20,
   "metadata": {},
   "outputs": [],
   "source": [
    "# for job in project:\n",
    "#     if \"seed\" not in job.doc:\n",
    "#         job.doc[\"seed\"] = project.doc[\"avail_seed\"]\n",
    "#         project.doc[\"avail_seed\"] += 1"
   ]
  },
  {
   "cell_type": "code",
   "execution_count": 21,
   "metadata": {},
   "outputs": [
    {
     "name": "stdout",
     "output_type": "stream",
     "text": [
      "0 {'N': 32768, 'replica': 3, 'phi': 1.35}\n",
      "1 {'N': 32768, 'replica': 5, 'phi': 1.35}\n",
      "2 {'N': 32768, 'replica': 3, 'phi': 1.15}\n",
      "3 {'N': 32768, 'replica': 2, 'phi': 1.1}\n",
      "4 {'N': 32768, 'replica': 1, 'phi': 1.35}\n",
      "5 {'N': 32768, 'replica': 3, 'phi': 1.4}\n",
      "6 {'N': 32768, 'replica': 4, 'phi': 1.4}\n",
      "7 {'N': 32768, 'replica': 6, 'phi': 1.35}\n",
      "8 {'N': 32768, 'replica': 2, 'phi': 1.15}\n",
      "9 {'N': 32768, 'replica': 6, 'phi': 1.25}\n",
      "10 {'N': 32768, 'replica': 5, 'phi': 1.15}\n",
      "11 {'N': 32768, 'replica': 5, 'phi': 1.2}\n",
      "12 {'N': 32768, 'replica': 9, 'phi': 1.2}\n",
      "13 {'N': 32768, 'replica': 1, 'phi': 1.25}\n",
      "14 {'N': 32768, 'replica': 7, 'phi': 1.35}\n",
      "15 {'N': 32768, 'replica': 2, 'phi': 1.25}\n",
      "16 {'N': 32768, 'replica': 8, 'phi': 1.3}\n",
      "17 {'N': 32768, 'replica': 4, 'phi': 1.1}\n",
      "18 {'N': 32768, 'replica': 9, 'phi': 1.1}\n",
      "19 {'N': 32768, 'replica': 7, 'phi': 1.3}\n",
      "20 {'N': 32768, 'replica': 0, 'phi': 1.4}\n",
      "21 {'N': 32768, 'replica': 9, 'phi': 1.35}\n",
      "22 {'N': 32768, 'replica': 3, 'phi': 1.25}\n",
      "23 {'N': 32768, 'replica': 3, 'phi': 1.3}\n",
      "24 {'N': 32768, 'replica': 3, 'phi': 1.2}\n",
      "25 {'N': 32768, 'replica': 2, 'phi': 1.3}\n",
      "26 {'N': 32768, 'replica': 6, 'phi': 1.15}\n",
      "27 {'N': 32768, 'replica': 7, 'phi': 1.15}\n",
      "28 {'N': 32768, 'replica': 4, 'phi': 1.3}\n",
      "29 {'N': 32768, 'replica': 4, 'phi': 1.35}\n",
      "30 {'N': 32768, 'replica': 5, 'phi': 1.1}\n",
      "31 {'N': 32768, 'replica': 5, 'phi': 1.4}\n",
      "32 {'N': 32768, 'replica': 8, 'phi': 1.2}\n",
      "33 {'N': 32768, 'replica': 2, 'phi': 1.35}\n",
      "34 {'N': 32768, 'replica': 5, 'phi': 1.25}\n",
      "35 {'N': 32768, 'replica': 1, 'phi': 1.3}\n",
      "36 {'N': 32768, 'replica': 1, 'phi': 1.4}\n",
      "37 {'N': 32768, 'replica': 7, 'phi': 1.2}\n",
      "38 {'N': 32768, 'replica': 0, 'phi': 1.15}\n",
      "39 {'N': 32768, 'replica': 7, 'phi': 1.25}\n",
      "40 {'N': 32768, 'replica': 3, 'phi': 1.1}\n",
      "41 {'N': 32768, 'replica': 8, 'phi': 1.35}\n",
      "42 {'N': 32768, 'replica': 4, 'phi': 1.15}\n",
      "43 {'N': 32768, 'replica': 0, 'phi': 1.1}\n",
      "44 {'N': 32768, 'replica': 4, 'phi': 1.2}\n",
      "45 {'N': 32768, 'replica': 7, 'phi': 1.4}\n",
      "46 {'N': 32768, 'replica': 0, 'phi': 1.2}\n",
      "47 {'N': 32768, 'replica': 6, 'phi': 1.3}\n",
      "48 {'N': 32768, 'replica': 1, 'phi': 1.15}\n",
      "49 {'N': 32768, 'replica': 8, 'phi': 1.1}\n",
      "50 {'N': 32768, 'replica': 9, 'phi': 1.25}\n",
      "51 {'N': 32768, 'replica': 9, 'phi': 1.4}\n",
      "52 {'N': 32768, 'replica': 2, 'phi': 1.4}\n",
      "53 {'N': 32768, 'replica': 6, 'phi': 1.4}\n",
      "54 {'N': 32768, 'replica': 2, 'phi': 1.2}\n",
      "55 {'N': 32768, 'replica': 6, 'phi': 1.1}\n",
      "56 {'N': 32768, 'replica': 6, 'phi': 1.2}\n",
      "57 {'N': 32768, 'replica': 8, 'phi': 1.4}\n",
      "58 {'N': 32768, 'replica': 5, 'phi': 1.3}\n",
      "59 {'N': 32768, 'replica': 0, 'phi': 1.3}\n",
      "60 {'N': 32768, 'replica': 1, 'phi': 1.1}\n",
      "61 {'N': 32768, 'replica': 8, 'phi': 1.15}\n",
      "62 {'N': 32768, 'replica': 0, 'phi': 1.25}\n",
      "63 {'N': 32768, 'replica': 9, 'phi': 1.3}\n",
      "64 {'N': 32768, 'replica': 8, 'phi': 1.25}\n",
      "65 {'N': 32768, 'replica': 4, 'phi': 1.25}\n",
      "66 {'N': 32768, 'replica': 0, 'phi': 1.35}\n",
      "67 {'N': 32768, 'replica': 7, 'phi': 1.1}\n",
      "68 {'N': 32768, 'replica': 1, 'phi': 1.2}\n",
      "69 {'N': 32768, 'replica': 9, 'phi': 1.15}\n"
     ]
    }
   ],
   "source": [
    "for idx, job in enumerate(project):\n",
    "    print(idx, job.sp)\n",
    "    sp = job.sp\n",
    "    doc = job.doc\n",
    "\n",
    "    # if \"quenched\" in doc:\n",
    "    #     continue\n",
    "\n",
    "    sim = prep.quick_sim(sp[\"N\"], sp[\"phi\"], hoomd.device.GPU(), dim=2, ratios=[50, 50], diams=[14/12, 10/12], seed=doc[\"seed\"])\n",
    "\n",
    "    integrator = hoomd.md.Integrator(1e-2)\n",
    "    tree = hoomd.md.nlist.Tree(0.3)\n",
    "    hertz = pair.bi_hertz(tree)\n",
    "    nvt = hoomd.md.methods.NVT(filter=hoomd.filter.All(), kT=10.0, tau=1.0)\n",
    "    integrator.forces = [hertz]\n",
    "    integrator.methods = [nvt]\n",
    "    sim.operations.integrator = integrator\n",
    "\n",
    "    sim.run(10_000)\n",
    "\n",
    "    sim.operations.integrator = None\n",
    "    del integrator, hertz, nvt, tree\n",
    "\n",
    "    hoomd.write.GSD.write(sim.state, job.fn(\"init.gsd\"))\n",
    "\n",
    "    fire = hoomd.md.minimize.FIRE(1e-2, 1e-3, 1.0, 1e-3)\n",
    "    tree = hoomd.md.nlist.Tree(0.3)\n",
    "    hertz = pair.bi_hertz(tree)\n",
    "    nve = hoomd.md.methods.NVE(filter=hoomd.filter.All())\n",
    "    fire.forces = [hertz]\n",
    "    fire.methods = [nve]\n",
    "    sim.operations.integrator = fire\n",
    "    while not fire.converged:\n",
    "        sim.run(10_000)\n",
    "\n",
    "    hoomd.write.GSD.write(sim.state, job.fn(\"quenched.gsd\"))\n",
    "    doc[\"quenched\"] = True"
   ]
  },
  {
   "cell_type": "code",
   "execution_count": 5,
   "metadata": {},
   "outputs": [
    {
     "name": "stdout",
     "output_type": "stream",
     "text": [
      "done\n"
     ]
    }
   ],
   "source": [
    "for idx, job in enumerate(project):\n",
    "    \n",
    "    sp = job.sp\n",
    "    doc = job.doc\n",
    "\n",
    "    if \"quenched-more\" in doc:\n",
    "        continue\n",
    "    print(idx, job.sp)\n",
    "\n",
    "    sim = hoomd.Simulation(hoomd.device.GPU(), seed=doc[\"seed\"])\n",
    "    sim.create_state_from_gsd(job.fn(\"quenched.gsd\"))\n",
    "\n",
    "    fire = hoomd.md.minimize.FIRE(1e-2, 1e-4, 1.0, 1e-4)\n",
    "    tree = hoomd.md.nlist.Tree(0.3)\n",
    "    hertz = pair.bi_hertz(tree)\n",
    "    nve = hoomd.md.methods.NVE(filter=hoomd.filter.All())\n",
    "    fire.forces = [hertz]\n",
    "    fire.methods = [nve]\n",
    "    sim.operations.integrator = fire\n",
    "    jdx = 0\n",
    "    while not fire.converged:\n",
    "        print(jdx)\n",
    "        sim.run(10_000)\n",
    "        jdx += 1\n",
    "\n",
    "    hoomd.write.GSD.write(sim.state, job.fn(\"quenched-more.gsd\"))\n",
    "    doc[\"quenched-more\"] = True\n",
    "print(\"done\")"
   ]
  },
  {
   "cell_type": "code",
   "execution_count": null,
   "metadata": {},
   "outputs": [],
   "source": []
  }
 ],
 "metadata": {
  "kernelspec": {
   "display_name": "Python 3.10.6 (conda)",
   "language": "python",
   "name": "python3"
  },
  "language_info": {
   "codemirror_mode": {
    "name": "ipython",
    "version": 3
   },
   "file_extension": ".py",
   "mimetype": "text/x-python",
   "name": "python",
   "nbconvert_exporter": "python",
   "pygments_lexer": "ipython3",
   "version": "3.10.6"
  },
  "orig_nbformat": 4,
  "vscode": {
   "interpreter": {
    "hash": "5d2d6202c98dd52c77e426321e986dfb3f328c6f811129e82382e6b49419afe0"
   }
  }
 },
 "nbformat": 4,
 "nbformat_minor": 2
}
