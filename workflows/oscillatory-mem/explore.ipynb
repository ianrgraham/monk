{
 "cells": [
  {
   "cell_type": "code",
   "execution_count": 11,
   "metadata": {},
   "outputs": [],
   "source": [
    "from schmeud import qlm\n",
    "import gsd.hoomd\n",
    "import numpy as np\n",
    "\n",
    "import signac\n",
    "from monk import pair, prep, methods, workflow\n",
    "\n",
    "import glob\n",
    "\n",
    "config = workflow.get_config()"
   ]
  },
  {
   "cell_type": "code",
   "execution_count": 4,
   "metadata": {},
   "outputs": [],
   "source": [
    "project = signac.get_project(root=config['root'])"
   ]
  },
  {
   "cell_type": "code",
   "execution_count": 5,
   "metadata": {},
   "outputs": [],
   "source": [
    "pair = qlm.BidispHertz()\n",
    "qlm_comp = qlm.QLM(pair)"
   ]
  },
  {
   "cell_type": "code",
   "execution_count": 10,
   "metadata": {},
   "outputs": [],
   "source": [
    "for job in project:\n",
    "    traj = gsd.hoomd.open(job.fn('traj.gsd'))\n",
    "    init_snap = traj[0]\n",
    "    # final_snap = traj[-1]\n",
    "    eig_vals, eig_vecs = qlm_comp.compute(init_snap, k=20, filter=True, sigma=0)\n",
    "    proj_vecs = [np.linalg.norm(vec, axis=-1) for vec in eig_vecs]\n",
    "    data = np.zeros((20, 20), dtype=np.float32)\n",
    "    for i in range(len(proj_vecs)):\n",
    "        for j in range(i, len(proj_vecs)):\n",
    "            \n",
    "    \n",
    "    break"
   ]
  },
  {
   "cell_type": "code",
   "execution_count": 9,
   "metadata": {},
   "outputs": [
    {
     "data": {
      "text/plain": [
       "array([-3.40694757e-12, -8.30735222e-17,  3.23111220e-16,  2.34994079e-02,\n",
       "        2.77693015e-02])"
      ]
     },
     "execution_count": 9,
     "metadata": {},
     "output_type": "execute_result"
    }
   ],
   "source": [
    "eig_vals[:5]"
   ]
  },
  {
   "cell_type": "code",
   "execution_count": 4,
   "metadata": {},
   "outputs": [
    {
     "data": {
      "text/plain": [
       "['/media/ian/Data2/monk/oscillatory-mem/workspace/f7d05e1131aae68409d7285ed92de770/signac_job_document.json',\n",
       " '/media/ian/Data2/monk/oscillatory-mem/workspace/f7d05e1131aae68409d7285ed92de770/traj.gsd',\n",
       " '/media/ian/Data2/monk/oscillatory-mem/workspace/f7d05e1131aae68409d7285ed92de770/quench.gsd',\n",
       " '/media/ian/Data2/monk/oscillatory-mem/workspace/f7d05e1131aae68409d7285ed92de770/signac_statepoint.json',\n",
       " '/media/ian/Data2/monk/oscillatory-mem/workspace/f7d05e1131aae68409d7285ed92de770/init.gsd']"
      ]
     },
     "execution_count": 4,
     "metadata": {},
     "output_type": "execute_result"
    }
   ],
   "source": [
    "glob.glob(job.fn(\"*\"))"
   ]
  },
  {
   "cell_type": "code",
   "execution_count": null,
   "metadata": {},
   "outputs": [],
   "source": []
  }
 ],
 "metadata": {
  "kernelspec": {
   "display_name": "Python 3.8.12",
   "language": "python",
   "name": "python3"
  },
  "language_info": {
   "codemirror_mode": {
    "name": "ipython",
    "version": 3
   },
   "file_extension": ".py",
   "mimetype": "text/x-python",
   "name": "python",
   "nbconvert_exporter": "python",
   "pygments_lexer": "ipython3",
   "version": "3.10.5"
  },
  "orig_nbformat": 4,
  "vscode": {
   "interpreter": {
    "hash": "5d2d6202c98dd52c77e426321e986dfb3f328c6f811129e82382e6b49419afe0"
   }
  }
 },
 "nbformat": 4,
 "nbformat_minor": 2
}
