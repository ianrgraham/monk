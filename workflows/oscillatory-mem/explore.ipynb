{
 "cells": [
  {
   "cell_type": "code",
   "execution_count": 8,
   "metadata": {},
   "outputs": [],
   "source": [
    "import signac\n",
    "from monk import pair, prep, methods, workflow\n",
    "\n",
    "import glob\n",
    "\n",
    "config = workflow.get_config()"
   ]
  },
  {
   "cell_type": "code",
   "execution_count": 4,
   "metadata": {},
   "outputs": [],
   "source": [
    "project = signac.get_project(root=config['root'])"
   ]
  },
  {
   "cell_type": "code",
   "execution_count": 5,
   "metadata": {},
   "outputs": [],
   "source": [
    "for job in project:\n",
    "    break"
   ]
  },
  {
   "cell_type": "code",
   "execution_count": 9,
   "metadata": {},
   "outputs": [
    {
     "data": {
      "text/plain": [
       "['/media/ian/Data2/monk/oscillatory-mem/workspace/f7d05e1131aae68409d7285ed92de770/signac_job_document.json',\n",
       " '/media/ian/Data2/monk/oscillatory-mem/workspace/f7d05e1131aae68409d7285ed92de770/traj.gsd',\n",
       " '/media/ian/Data2/monk/oscillatory-mem/workspace/f7d05e1131aae68409d7285ed92de770/quench.gsd',\n",
       " '/media/ian/Data2/monk/oscillatory-mem/workspace/f7d05e1131aae68409d7285ed92de770/signac_statepoint.json',\n",
       " '/media/ian/Data2/monk/oscillatory-mem/workspace/f7d05e1131aae68409d7285ed92de770/init.gsd']"
      ]
     },
     "execution_count": 9,
     "metadata": {},
     "output_type": "execute_result"
    }
   ],
   "source": [
    "glob.glob(job.fn(\"*\"))"
   ]
  },
  {
   "cell_type": "code",
   "execution_count": null,
   "metadata": {},
   "outputs": [],
   "source": []
  }
 ],
 "metadata": {
  "kernelspec": {
   "display_name": "Python 3.8.12",
   "language": "python",
   "name": "python3"
  },
  "language_info": {
   "codemirror_mode": {
    "name": "ipython",
    "version": 3
   },
   "file_extension": ".py",
   "mimetype": "text/x-python",
   "name": "python",
   "nbconvert_exporter": "python",
   "pygments_lexer": "ipython3",
   "version": "3.10.4"
  },
  "orig_nbformat": 4,
  "vscode": {
   "interpreter": {
    "hash": "5d2d6202c98dd52c77e426321e986dfb3f328c6f811129e82382e6b49419afe0"
   }
  }
 },
 "nbformat": 4,
 "nbformat_minor": 2
}
