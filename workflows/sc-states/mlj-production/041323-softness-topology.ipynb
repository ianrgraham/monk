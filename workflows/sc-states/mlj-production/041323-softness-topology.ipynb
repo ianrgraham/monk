{
 "cells": [
  {
   "cell_type": "code",
   "execution_count": 2,
   "metadata": {},
   "outputs": [],
   "source": [
    "import numpy as np\n",
    "import pandas as pd\n",
    "import matplotlib.pyplot as plt\n",
    "import matplotlib as mpl\n",
    "import seaborn as sns\n",
    "from matplotlib import colors, cm\n",
    "import glob\n",
    "from datetime import datetime, timedelta\n",
    "\n",
    "from numba import njit, vectorize, float32\n",
    "\n",
    "from typing import Callable, Optional, Union, List\n",
    "\n",
    "import hoomd\n",
    "import gsd.hoomd\n",
    "import freud\n",
    "import schmeud\n",
    "from schmeud._schmeud import dynamics as schmeud_dynamics\n",
    "\n",
    "import sys\n",
    "import time\n",
    "import pickle\n",
    "import gc\n",
    "import warnings\n",
    "import copy\n",
    "import pathlib\n",
    "from collections import defaultdict\n",
    "\n",
    "import os\n",
    "import sys\n",
    "\n",
    "import signac\n",
    "\n",
    "from dataclasses import dataclass\n",
    "from dataclasses_json import dataclass_json\n",
    "\n",
    "import fresnel\n",
    "import PIL.Image\n",
    "mpl.rcParams[\"figure.dpi\"] = 150\n",
    "mpl.rcParams[\"axes.labelsize\"] = \"xx-large\"\n",
    "from monk import nb, prep, pair, render, utils, workflow, grid\n",
    "\n",
    "config = workflow.get_config()\n",
    "project: signac.Project = signac.get_project(root=config['root'])\n",
    "project.doc\n",
    "\n",
    "import gudhi"
   ]
  },
  {
   "cell_type": "code",
   "execution_count": 4,
   "metadata": {},
   "outputs": [
    {
     "name": "stdout",
     "output_type": "stream",
     "text": [
      "0.0 3\n"
     ]
    }
   ],
   "source": [
    "for delta, jobs_iter in project.find_jobs({\"delta\": 0.0}, {\"_CRYSTAL\": {\"$exists\": False}}).groupby(\"delta\"):\n",
    "    for job in jobs_iter:\n",
    "        for run_dir in sorted(glob.glob(job.fn(\"short_runs/temp-*\"))):\n",
    "            run_dir = pathlib.Path(run_dir)\n",
    "            # get softness df\n",
    "            softness_df = pd.read_parquet(run_dir / \"struct-descr.parquet\")\n",
    "            # get traj\n",
    "            traj = gsd.hoomd.open(run_dir / \"traj.gsd\")"
   ]
  },
  {
   "cell_type": "code",
   "execution_count": null,
   "metadata": {},
   "outputs": [],
   "source": [
    "gudhi.CubicalComplex."
   ]
  }
 ],
 "metadata": {
  "kernelspec": {
   "display_name": "Python 3",
   "language": "python",
   "name": "python3"
  },
  "language_info": {
   "codemirror_mode": {
    "name": "ipython",
    "version": 3
   },
   "file_extension": ".py",
   "mimetype": "text/x-python",
   "name": "python",
   "nbconvert_exporter": "python",
   "pygments_lexer": "ipython3",
   "version": "3.10.6"
  },
  "orig_nbformat": 4
 },
 "nbformat": 4,
 "nbformat_minor": 2
}
