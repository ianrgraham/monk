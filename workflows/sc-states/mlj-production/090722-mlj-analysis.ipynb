{
 "cells": [
  {
   "cell_type": "code",
   "execution_count": 63,
   "metadata": {},
   "outputs": [],
   "source": [
    "import numpy as np\n",
    "import pandas as pd\n",
    "import matplotlib.pyplot as plt\n",
    "import matplotlib as mpl\n",
    "from matplotlib import cm, colors\n",
    "import glob\n",
    "\n",
    "from numba import njit, vectorize, float32\n",
    "\n",
    "from typing import Callable, Optional, Union, List\n",
    "\n",
    "import hoomd\n",
    "import gsd.hoomd\n",
    "import freud\n",
    "import schmeud\n",
    "from schmeud._schmeud import dynamics as schmeud_dynamics\n",
    "\n",
    "import sys\n",
    "import time\n",
    "import pickle\n",
    "import gc\n",
    "import warnings\n",
    "import copy\n",
    "import pathlib\n",
    "\n",
    "import os\n",
    "import sys\n",
    "\n",
    "import signac\n",
    "\n",
    "from dataclasses import dataclass\n",
    "from dataclasses_json import dataclass_json"
   ]
  },
  {
   "cell_type": "code",
   "execution_count": 2,
   "metadata": {},
   "outputs": [
    {
     "name": "stderr",
     "output_type": "stream",
     "text": [
      "/home/ian/Projects/work/monk/.venv/lib/python3.10/site-packages/tqdm/auto.py:22: TqdmWarning: IProgress not found. Please update jupyter and ipywidgets. See https://ipywidgets.readthedocs.io/en/stable/user_install.html\n",
      "  from .autonotebook import tqdm as notebook_tqdm\n"
     ]
    }
   ],
   "source": [
    "from monk import nb, prep, pair, render, utils, workflow, grid\n",
    "\n",
    "config = workflow.get_config()"
   ]
  },
  {
   "cell_type": "code",
   "execution_count": 3,
   "metadata": {},
   "outputs": [
    {
     "data": {
      "text/plain": [
       "{'ref_sim_temps': [0.41, 0.43, 0.45, 0.47, 0.49, 0.51, 0.53, 0.55, 0.58, 0.61, 0.64, 0.67, 0.7, 0.75, 0.8, 0.9, 1.0, 1.2, 1.4, 1.6, 1.8, 2.0], 'avail_seed': 18, 'alpha_iters': 40, 'dt': 0.001, 'usteps': 1000, '_status': {}}"
      ]
     },
     "execution_count": 3,
     "metadata": {},
     "output_type": "execute_result"
    }
   ],
   "source": [
    "project: signac.Project = signac.get_project(root=config['root'])\n",
    "project.doc"
   ]
  },
  {
   "cell_type": "code",
   "execution_count": 66,
   "metadata": {},
   "outputs": [],
   "source": [
    "def compute_unwrapped_pos_from_deltas(traj):\n",
    "    ref_snap = traj[0]\n",
    "    ref_pos = ref_snap.particles.position.copy()\n",
    "    box = freud.box.Box.from_box(ref_snap.configuration.box)\n",
    "    pos_shape = ref_pos.shape\n",
    "    pos = np.zeros((len(traj), *pos_shape), dtype=np.float32)\n",
    "    pos[0] = ref_pos\n",
    "    for i, snap in enumerate(traj[1:]):\n",
    "        next_pos = snap.particles.position.copy()\n",
    "        pos[i+1] = box.wrap(next_pos - ref_pos) + pos[i]\n",
    "        ref_pos = next_pos\n",
    "\n",
    "    return pos\n",
    "\n",
    "def extract_relative_timesteps(traj):\n",
    "    \n",
    "    tsteps = np.zeros(len(traj))\n",
    "    tstep0 = traj[0].log['Simulation/timestep'][0]\n",
    "    for i in range(len(traj)):\n",
    "        tsteps[i] = traj[i].log['Simulation/timestep'][0] - tstep0\n",
    "\n",
    "    return tsteps\n",
    "\n",
    "\n",
    "def sisf(pos, k=7.14):\n",
    "\n",
    "    term = k*np.linalg.norm(pos - pos[0], axis=-1)\n",
    "    with warnings.catch_warnings():\n",
    "        warnings.simplefilter(\"ignore\")\n",
    "        return np.mean(np.nan_to_num(np.sin(term)/term, nan=1.0), axis=1)\n"
   ]
  },
  {
   "cell_type": "markdown",
   "metadata": {},
   "source": [
    "# Figure 1 - Characterization of systems we analyze"
   ]
  },
  {
   "cell_type": "markdown",
   "metadata": {},
   "source": [
    "## Compute MSD for systems, A particles, and B particles"
   ]
  },
  {
   "cell_type": "code",
   "execution_count": 67,
   "metadata": {},
   "outputs": [
    {
     "name": "stdout",
     "output_type": "stream",
     "text": [
      "Delta: 0.0\n",
      "Temp: 2.00\n",
      "Temp: 0.45\n",
      "Temp: 0.67\n",
      "Temp: 0.75\n",
      "Temp: 0.80\n",
      "Temp: 0.58\n",
      "Temp: 1.40\n",
      "Temp: 0.55\n",
      "Temp: 1.80\n",
      "Temp: 0.53\n",
      "Temp: 0.61\n",
      "Temp: 1.00\n",
      "Temp: 0.90\n",
      "Temp: 0.49\n",
      "Temp: 1.20\n",
      "Temp: 0.70\n",
      "Temp: 1.60\n",
      "Temp: 0.47\n",
      "Temp: 0.51\n",
      "Temp: 0.64\n",
      "Delta: 0.1\n",
      "Temp: 0.67\n",
      "Temp: 0.80\n",
      "Temp: 2.26\n",
      "Temp: 0.94\n",
      "Temp: 0.56\n",
      "Temp: 0.73\n",
      "Temp: 0.61\n",
      "Temp: 1.00\n",
      "Temp: 1.51\n",
      "Temp: 0.69\n",
      "Temp: 0.88\n",
      "Temp: 2.51\n",
      "Temp: 2.01\n",
      "Temp: 1.13\n",
      "Temp: 1.76\n",
      "Temp: 0.59\n",
      "Temp: 1.25\n",
      "Temp: 0.64\n",
      "Temp: 0.77\n",
      "Temp: 0.84\n",
      "Delta: 0.2\n",
      "Temp: 1.46\n",
      "Temp: 2.60\n",
      "Temp: 0.76\n",
      "Temp: 0.80\n",
      "Temp: 1.95\n",
      "Temp: 0.83\n",
      "Temp: 0.94\n",
      "Temp: 0.89\n",
      "Temp: 1.04\n",
      "Temp: 0.73\n",
      "Temp: 1.63\n",
      "Temp: 1.14\n",
      "Temp: 2.28\n",
      "Temp: 0.99\n",
      "Temp: 1.09\n",
      "Temp: 0.86\n",
      "Temp: 1.30\n",
      "Temp: 2.93\n",
      "Temp: 1.22\n",
      "Temp: 3.25\n",
      "Delta: 0.3\n",
      "Temp: 1.98\n",
      "Temp: 1.47\n",
      "Temp: 1.34\n",
      "Temp: 1.54\n",
      "Temp: 3.51\n",
      "Temp: 1.41\n",
      "Temp: 2.64\n",
      "Temp: 2.20\n",
      "Temp: 1.65\n",
      "Temp: 1.03\n",
      "Temp: 3.08\n",
      "Temp: 0.99\n",
      "Temp: 3.95\n",
      "Temp: 1.27\n",
      "Temp: 1.08\n",
      "Temp: 1.12\n",
      "Temp: 1.21\n",
      "Temp: 4.39\n",
      "Temp: 1.76\n",
      "Temp: 1.16\n",
      "Delta: 0.4\n",
      "Temp: 1.92\n",
      "Temp: 5.03\n",
      "Temp: 1.82\n",
      "Temp: 4.40\n",
      "Temp: 3.77\n",
      "Temp: 1.42\n",
      "Temp: 1.54\n",
      "Temp: 6.29\n",
      "Temp: 2.36\n",
      "Temp: 5.66\n",
      "Temp: 2.20\n",
      "Temp: 1.73\n",
      "Temp: 2.11\n",
      "Temp: 2.83\n",
      "Temp: 1.48\n",
      "Temp: 2.01\n",
      "Temp: 1.60\n",
      "Temp: 2.52\n",
      "Temp: 1.67\n",
      "Temp: 3.15\n"
     ]
    }
   ],
   "source": [
    "\n",
    "\n",
    "for delta, jobs_iter in project.find_jobs(None, {\"_CRYSTAL\": {\"$exists\": False}}).groupby(\"delta\"):\n",
    "\n",
    "    print(\"Delta:\", delta)\n",
    "\n",
    "    os.makedirs(project.fn(f\"dynamics/delta-{delta}\"), exist_ok=True)\n",
    "\n",
    "    jobs: List[signac.Project.Job] = list(jobs_iter)\n",
    "\n",
    "    job0 = jobs[0]\n",
    "\n",
    "    msd = freud.msd.MSD(mode=\"direct\")\n",
    "\n",
    "    temps = [utils.extract_between(run, \"/temp-\", \"/traj.gsd\") for run in glob.glob(job0.fn(\"runs/*/traj.gsd\"))]\n",
    "    for temp in temps:\n",
    "        print(\"Temp:\", temp)\n",
    "\n",
    "        out_file = project.fn(f\"dynamics/delta-{delta}/msd-sisf_temp-{temp}.npz\")\n",
    "        if os.path.exists(out_file):\n",
    "            continue\n",
    "\n",
    "        acc_msd = []\n",
    "        acc_sisf = []\n",
    "\n",
    "        acc_msd_A = []\n",
    "        acc_sisf_A = []\n",
    "\n",
    "        acc_msd_B = []\n",
    "        acc_sisf_B = []\n",
    "\n",
    "        for job in jobs:\n",
    "\n",
    "            assert isinstance(job, signac.Project.Job)\n",
    "\n",
    "            run = sorted(glob.glob(job.fn(f\"runs/temp-{temp}/traj.gsd\")))[0]\n",
    "            traj = gsd.hoomd.open(run)[-2000:]  # these runs have 4000 data points\n",
    "            # later half will have relaxed at least a couple tau alpha\n",
    "\n",
    "            pos = compute_unwrapped_pos_from_deltas(traj)\n",
    "\n",
    "            time = extract_relative_timesteps(traj)*project.doc[\"dt\"]\n",
    "\n",
    "            typeid = traj[0].particles.typeid\n",
    "            A_mask = typeid == 0\n",
    "            B_mask = typeid == 1\n",
    "\n",
    "            msd.compute(pos)\n",
    "            acc_msd.append(msd.msd)\n",
    "            acc_sisf.append(sisf(pos))\n",
    "\n",
    "            msd.compute(pos[:, A_mask])\n",
    "            acc_msd_A.append(msd.msd)\n",
    "            acc_sisf_A.append(sisf(pos[:, A_mask]))\n",
    "\n",
    "            msd.compute(pos[:, B_mask])\n",
    "            acc_msd_B.append(msd.msd)\n",
    "            acc_sisf_B.append(sisf(pos[:, B_mask]))\n",
    "\n",
    "        sys_msd = np.mean(acc_msd, axis=0)\n",
    "        sys_sisf = np.mean(acc_sisf, axis=0)\n",
    "\n",
    "        sys_msd_A = np.mean(acc_msd_A, axis=0)\n",
    "        sys_sisf_A = np.mean(acc_sisf_A, axis=0)\n",
    "\n",
    "        sys_msd_B = np.mean(acc_msd_A, axis=0)\n",
    "        sys_sisf_B = np.mean(acc_sisf_A, axis=0)\n",
    "\n",
    "        np.savez(out_file,\n",
    "                 msd=sys_msd,\n",
    "                 sisf=sys_sisf,\n",
    "                 msd_A=sys_msd_A,\n",
    "                 sisf_A=sys_sisf_A,\n",
    "                 msd_B=sys_msd_B,\n",
    "                 sisf_B=sys_sisf_B)\n"
   ]
  },
  {
   "cell_type": "code",
   "execution_count": 61,
   "metadata": {},
   "outputs": [
    {
     "data": {
      "text/plain": [
       "'/media/ian/Data2/monk/mlj-production/workspace/1fd668d1992cea34bb8de5b9cf4bc990/runs/temp-0.45/traj.gsd'"
      ]
     },
     "execution_count": 61,
     "metadata": {},
     "output_type": "execute_result"
    }
   ],
   "source": [
    "run"
   ]
  },
  {
   "cell_type": "code",
   "execution_count": 55,
   "metadata": {},
   "outputs": [
    {
     "data": {
      "text/plain": [
       "<matplotlib.collections.LineCollection at 0x7f1aa15b59f0>"
      ]
     },
     "execution_count": 55,
     "metadata": {},
     "output_type": "execute_result"
    },
    {
     "data": {
      "image/png": "[encoded data removed]",
      "text/plain": [
       "<Figure size 432x288 with 1 Axes>"
      ]
     },
     "metadata": {
      "image/png": {
       "height": 249,
       "width": 379
      },
      "needs_background": "light"
     },
     "output_type": "display_data"
    }
   ],
   "source": [
    "plt.plot(time, msd.msd)\n",
    "plt.yscale('log')\n",
    "plt.xscale('log')\n",
    "plt.vlines(time[len(time)//2], *plt.ylim())"
   ]
  },
  {
   "cell_type": "code",
   "execution_count": 46,
   "metadata": {},
   "outputs": [
    {
     "data": {
      "text/plain": [
       "2000"
      ]
     },
     "execution_count": 46,
     "metadata": {},
     "output_type": "execute_result"
    }
   ],
   "source": [
    "len(pos)"
   ]
  },
  {
   "cell_type": "code",
   "execution_count": 54,
   "metadata": {},
   "outputs": [
    {
     "data": {
      "image/png": "[encoded data removed]",
      "text/plain": [
       "<Figure size 432x288 with 1 Axes>"
      ]
     },
     "metadata": {
      "image/png": {
       "height": 249,
       "width": 372
      },
      "needs_background": "light"
     },
     "output_type": "display_data"
    }
   ],
   "source": [
    "plt.plot(time, sys_sisf)\n",
    "plt.xscale('log')"
   ]
  },
  {
   "cell_type": "code",
   "execution_count": null,
   "metadata": {},
   "outputs": [],
   "source": []
  }
 ],
 "metadata": {
  "kernelspec": {
   "display_name": "Python 3.10.5",
   "language": "python",
   "name": "python3"
  },
  "language_info": {
   "codemirror_mode": {
    "name": "ipython",
    "version": 3
   },
   "file_extension": ".py",
   "mimetype": "text/x-python",
   "name": "python",
   "nbconvert_exporter": "python",
   "pygments_lexer": "ipython3",
   "version": "3.10.6"
  },
  "orig_nbformat": 4,
  "vscode": {
   "interpreter": {
    "hash": "5d2d6202c98dd52c77e426321e986dfb3f328c6f811129e82382e6b49419afe0"
   }
  }
 },
 "nbformat": 4,
 "nbformat_minor": 2
}
