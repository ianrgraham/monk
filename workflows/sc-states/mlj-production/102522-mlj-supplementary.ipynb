{
 "cells": [
  {
   "cell_type": "markdown",
   "metadata": {},
   "source": [
    "# Imports and project setup"
   ]
  },
  {
   "cell_type": "code",
   "execution_count": 1,
   "metadata": {},
   "outputs": [],
   "source": [
    "import numpy as np\n",
    "import pandas as pd\n",
    "import matplotlib.pyplot as plt\n",
    "import matplotlib as mpl\n",
    "import seaborn as sns\n",
    "from matplotlib import colors, cm\n",
    "import glob\n",
    "from datetime import datetime, timedelta\n",
    "\n",
    "from numba import njit, vectorize, float32\n",
    "\n",
    "from typing import Callable, Optional, Union, List\n",
    "\n",
    "import hoomd\n",
    "import gsd.hoomd\n",
    "import freud\n",
    "import schmeud\n",
    "from schmeud._schmeud import dynamics as schmeud_dynamics\n",
    "\n",
    "import sys\n",
    "import time\n",
    "import pickle\n",
    "import gc\n",
    "import warnings\n",
    "import copy\n",
    "import pathlib\n",
    "from collections import defaultdict\n",
    "\n",
    "import os\n",
    "import sys\n",
    "\n",
    "import signac\n",
    "\n",
    "from dataclasses import dataclass\n",
    "from dataclasses_json import dataclass_json\n",
    "\n",
    "import fresnel\n",
    "import PIL.Image"
   ]
  },
  {
   "cell_type": "code",
   "execution_count": 2,
   "metadata": {},
   "outputs": [],
   "source": [
    "mpl.rcParams[\"figure.dpi\"] = 150\n",
    "mpl.rcParams[\"axes.labelsize\"] = \"x-large\""
   ]
  },
  {
   "cell_type": "code",
   "execution_count": 3,
   "metadata": {},
   "outputs": [],
   "source": [
    "from monk import nb, prep, pair, render, utils, workflow, grid\n",
    "\n",
    "config = workflow.get_config()"
   ]
  },
  {
   "cell_type": "code",
   "execution_count": 4,
   "metadata": {},
   "outputs": [
    {
     "data": {
      "text/plain": [
       "{'ref_sim_temps': [0.41, 0.43, 0.45, 0.47, 0.49, 0.51, 0.53, 0.55, 0.58, 0.61, 0.64, 0.67, 0.7, 0.75, 0.8, 0.9, 1.0, 1.2, 1.4, 1.6, 1.8, 2.0], 'avail_seed': 18, 'alpha_iters': 40, 'dt': 0.001, 'usteps': 1000, '_status': {}}"
      ]
     },
     "execution_count": 4,
     "metadata": {},
     "output_type": "execute_result"
    }
   ],
   "source": [
    "project: signac.Project = signac.get_project(root=config['root'])\n",
    "project.doc"
   ]
  },
  {
   "cell_type": "markdown",
   "metadata": {},
   "source": [
    "# Table 1 - softness hyperplane info\n",
    "\n",
    "1. Accuracies "
   ]
  },
  {
   "cell_type": "code",
   "execution_count": 21,
   "metadata": {},
   "outputs": [
    {
     "name": "stdout",
     "output_type": "stream",
     "text": [
      "0.0\n",
      "0.47 0.7786640079760718\n",
      "0.1\n",
      "0.59 0.742735648476258\n",
      "0.2\n",
      "0.76 0.753109166282819\n",
      "0.3\n",
      "1.03 0.7167730702263494\n",
      "0.4\n",
      "1.48 0.7142297905656684\n"
     ]
    }
   ],
   "source": [
    "\n",
    "for delta, jobs_iter in project.find_jobs(None, {\"_CRYSTAL\": {\"$exists\": False}}).groupby(\"delta\"):\n",
    "\n",
    "    print(delta)\n",
    "\n",
    "    jobs = list(jobs_iter)\n",
    "\n",
    "    with open(project.fn(f\"softness_pipelines/delta-{delta:.1f}/pipe_ss-0_ts-10.pickle\"), \"rb\") as f:\n",
    "        pipeline = pickle.load(f)\n",
    "    pipe = pipeline[\"pipe\"]\n",
    "\n",
    "    temps = set()\n",
    "\n",
    "    job0 = jobs[0]\n",
    "    dfs = []\n",
    "    for job in jobs:\n",
    "        for file in sorted(glob.glob(job.fn(\"short_runs/temp-*/sfs.parquet\")))[1:2]:\n",
    "            temp = float(utils.extract_between(file, \"temp-\", \"/sfs.parquet\"))\n",
    "            # temps.add(temp)\n",
    "            df = pd.read_parquet(file)\n",
    "            df = df[df[\"type\"] == 0]\n",
    "            df[\"softness\"] = pipe.decision_function(list(df[\"sf\"]))\n",
    "            df[\"rearrang\"] = df[\"phop\"] > 0.2\n",
    "            df = df[df[\"rearrang\"] == True]\n",
    "            df[\"soft\"] = df[\"softness\"] > 0.0\n",
    "            dfs.append(df)\n",
    "\n",
    "            # mean_softs[temp].append(mean_softness)\n",
    "            # break\n",
    "        # break\n",
    "    # break\n",
    "    df = pd.concat(dfs)\n",
    "    print(temp, df[\"soft\"].mean())\n",
    "\n",
    "    "
   ]
  },
  {
   "cell_type": "code",
   "execution_count": 23,
   "metadata": {},
   "outputs": [
    {
     "data": {
      "text/plain": [
       "['/media/ian/Data2/monk/mlj-production/softness_pipelines/delta-0.4/pipe_ss-2_ts-12.pickle',\n",
       " '/media/ian/Data2/monk/mlj-production/softness_pipelines/delta-0.4/pipe_ss-1_ts-12.pickle',\n",
       " '/media/ian/Data2/monk/mlj-production/softness_pipelines/delta-0.4/pipe_ss-0_ts-11.pickle',\n",
       " '/media/ian/Data2/monk/mlj-production/softness_pipelines/delta-0.4/pipe_ss-2_ts-10.pickle',\n",
       " '/media/ian/Data2/monk/mlj-production/softness_pipelines/delta-0.4/pipe_ss-0_ts-12.pickle',\n",
       " '/media/ian/Data2/monk/mlj-production/softness_pipelines/delta-0.4/pipe_ss-1_ts-11.pickle',\n",
       " '/media/ian/Data2/monk/mlj-production/softness_pipelines/delta-0.4/pipe_ss-2_ts-11.pickle',\n",
       " '/media/ian/Data2/monk/mlj-production/softness_pipelines/delta-0.4/pipe_ss-1_ts-10.pickle',\n",
       " '/media/ian/Data2/monk/mlj-production/softness_pipelines/delta-0.4/pipe_ss-0_ts-10.pickle']"
      ]
     },
     "execution_count": 23,
     "metadata": {},
     "output_type": "execute_result"
    }
   ],
   "source": [
    "glob.glob(project.fn(f\"softness_pipelines/delta-{delta:.1f}/pipe_*.pickle\"))"
   ]
  },
  {
   "cell_type": "code",
   "execution_count": 24,
   "metadata": {},
   "outputs": [
    {
     "name": "stdout",
     "output_type": "stream",
     "text": [
      "0.0\n",
      "0.47 0.7796610169491526\n",
      "0.47 0.7836490528414756\n",
      "0.47 0.7756729810568295\n",
      "0.47 0.769690927218345\n",
      "0.47 0.773678963110668\n",
      "0.47 0.7796610169491526\n",
      "0.47 0.7716849451645065\n",
      "0.47 0.7746759720837487\n",
      "0.47 0.7786640079760718\n",
      "0.1\n",
      "0.59 0.7455705173635719\n",
      "0.59 0.7455705173635719\n",
      "0.59 0.742735648476258\n",
      "0.59 0.7476966690290574\n",
      "0.59 0.7377746279234585\n",
      "0.59 0.7512402551381998\n",
      "0.59 0.741318214032601\n",
      "0.59 0.744153082919915\n",
      "0.59 0.742735648476258\n",
      "0.2\n",
      "0.76 0.7549516351911562\n",
      "0.76 0.7498848456932289\n",
      "0.76 0.7521879318286504\n",
      "0.76 0.7526485490557346\n",
      "0.76 0.751727314601566\n",
      "0.76 0.7535697835099032\n",
      "0.76 0.7512666973744818\n",
      "0.76 0.751727314601566\n",
      "0.76 0.753109166282819\n",
      "0.3\n",
      "1.03 0.7089378990133488\n",
      "1.03 0.7106790481717934\n",
      "1.03 0.7159024956471272\n",
      "1.03 0.7127103888566454\n",
      "1.03 0.7190946024376088\n",
      "1.03 0.7179338363319792\n",
      "1.03 0.7153221125943122\n",
      "1.03 0.7138711549622752\n",
      "1.03 0.7167730702263494\n",
      "0.4\n",
      "1.48 0.7101193971422979\n",
      "1.48 0.7112937952632609\n",
      "1.48 0.712468193384224\n",
      "1.48 0.7116852613035819\n",
      "1.48 0.7138383245253475\n",
      "1.48 0.7138383245253475\n",
      "1.48 0.7089449990213349\n",
      "1.48 0.7093364650616559\n",
      "1.48 0.7142297905656684\n"
     ]
    }
   ],
   "source": [
    "\n",
    "for delta, jobs_iter in project.find_jobs(None, {\"_CRYSTAL\": {\"$exists\": False}}).groupby(\"delta\"):\n",
    "\n",
    "    print(delta)\n",
    "\n",
    "    jobs = list(jobs_iter)\n",
    "    for pipe_file in glob.glob(project.fn(f\"softness_pipelines/delta-{delta:.1f}/pipe_*.pickle\")):\n",
    "\n",
    "        with open(pipe_file, \"rb\") as f:\n",
    "            pipeline = pickle.load(f)\n",
    "        pipe = pipeline[\"pipe\"]\n",
    "\n",
    "        temps = set()\n",
    "\n",
    "        job0 = jobs[0]\n",
    "        dfs = []\n",
    "        for job in jobs:\n",
    "            for file in sorted(glob.glob(job.fn(\"short_runs/temp-*/sfs.parquet\")))[1:2]:\n",
    "                temp = float(utils.extract_between(file, \"temp-\", \"/sfs.parquet\"))\n",
    "                # temps.add(temp)\n",
    "                df = pd.read_parquet(file)\n",
    "                df = df[df[\"type\"] == 0]\n",
    "                df[\"softness\"] = pipe.decision_function(list(df[\"sf\"]))\n",
    "                df[\"rearrang\"] = df[\"phop\"] > 0.2\n",
    "                df = df[df[\"rearrang\"] == True]\n",
    "                df[\"soft\"] = df[\"softness\"] > 0.0\n",
    "                dfs.append(df)\n",
    "        df = pd.concat(dfs)\n",
    "        print(temp, df[\"soft\"].mean())\n",
    "\n",
    "    "
   ]
  },
  {
   "cell_type": "code",
   "execution_count": null,
   "metadata": {},
   "outputs": [],
   "source": []
  }
 ],
 "metadata": {
  "kernelspec": {
   "display_name": "Python 3.10.6 (conda)",
   "language": "python",
   "name": "python3"
  },
  "language_info": {
   "codemirror_mode": {
    "name": "ipython",
    "version": 3
   },
   "file_extension": ".py",
   "mimetype": "text/x-python",
   "name": "python",
   "nbconvert_exporter": "python",
   "pygments_lexer": "ipython3",
   "version": "3.10.6"
  },
  "orig_nbformat": 4,
  "vscode": {
   "interpreter": {
    "hash": "5d2d6202c98dd52c77e426321e986dfb3f328c6f811129e82382e6b49419afe0"
   }
  }
 },
 "nbformat": 4,
 "nbformat_minor": 2
}
